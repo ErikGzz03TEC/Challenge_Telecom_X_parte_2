{
 "cells": [
  {
   "cell_type": "markdown",
   "id": "91e4ab59",
   "metadata": {},
   "source": [
    "# Introducción "
   ]
  },
  {
   "cell_type": "markdown",
   "id": "014cd02c",
   "metadata": {},
   "source": [
    "La base de datos que se utilizará en este reto es la de Telecom X, que contiene información sobre clientes, suscripciones y servicios de telecomunicaciones. El objetivo es realizar un análisis exploratorio de los datos para identificar patrones y tendencias en el comportamiento de los clientes, así como para detectar las principales razones por las cuales los clientes deciden abandonar el servicio. \n",
    "\n",
    "Para ello, se utilizarán técnicas de limpieza y transformación de datos, así como herramientas de visualización y análisis estadístico. El análisis se centrará en aspectos como la distribución de los clientes por tipo de suscripción, el uso de servicios, la satisfacción del cliente y la retención de clientes.\n",
    "\n",
    "Al final tomando en consideración lo realizado en la parte de explocración de datos, se realizará un modelo de Machine Learning para predecir la probabilidad de que un cliente abandone el servicio.\n",
    "\n",
    "El propósito general de este reto es desarrollar un modelo de Machine Learning que permita predecir si un cliente abandonará el servicio de telecomunicaciones, basándose en las características de los clientes y sus patrones de uso."
   ]
  },
  {
   "cell_type": "markdown",
   "id": "80773cde",
   "metadata": {},
   "source": [
    "## Diccionario de variables\n",
    "- customerID: número de identificación único de cada cliente\n",
    "- Churn: si el cliente dejó o no la empresa\n",
    "- gender: género (masculino y femenino)\n",
    "- SeniorCitizen: información sobre si un cliente tiene o no una edad igual o mayor a 65 años\n",
    "- Partner: si el cliente tiene o no una pareja\n",
    "- Dependents: si el cliente tiene o no dependientes\n",
    "- tenure: meses de contrato del cliente\n",
    "- PhoneService: suscripción al servicio telefónico \n",
    "- MultipleLines: suscripción a más de una línea telefónica\n",
    "- InternetService: suscripción a un proveedor de internet (tipo)\n",
    "- OnlineSecurity: suscripción adicional de seguridad en línea\n",
    "- OnlineBackup: suscripción adicional de respaldo en línea\n",
    "- DeviceProtection: suscripción adicional de protección del dispositivo\n",
    "- TechSupport: suscripción adicional de soporte técnico, menor tiempo de espera\n",
    "- StreamingTV: suscripción de televisión por cable\n",
    "- StreamingMovies: suscripción de streaming de películas\n",
    "- Contract: tipo de contrato\n",
    "- PaperlessBilling: si el cliente prefiere recibir la factura en línea\n",
    "- PaymentMethod: forma de pago\n",
    "- Charges.Monthly: total de todos los servicios del cliente por mes\n",
    "- Charges.Total: total gastado por el cliente"
   ]
  },
  {
   "cell_type": "code",
   "execution_count": null,
   "id": "4508c2fc",
   "metadata": {},
   "outputs": [],
   "source": [
    "import pandas as pd \n",
    "import matplotlib.pyplot as plt \n",
    "import matplotlib.patches as mpatches\n",
    "import numpy as np \n",
    "import seaborn as sns \n",
    "import requests\n",
    "import json\n",
    "import plotly.express as px \n",
    "from sklearn.preprocessing import MinMaxScaler\n",
    "from sklearn.compose import make_column_transformer\n",
    "from sklearn.preprocessing import OneHotEncoder\n",
    "from sklearn.compose import ColumnTransformer\n",
    "from statsmodels.stats.outliers_influence import variance_inflation_factor\n",
    "from sklearn.model_selection import train_test_split\n",
    "from imblearn.over_sampling import SMOTE\n",
    "from sklearn.ensemble import RandomForestClassifier\n",
    "from sklearn.linear_model import LogisticRegression\n",
    "from sklearn.tree import DecisionTreeClassifier\n",
    "from sklearn.neighbors import KNeighborsClassifier\n",
    "from sklearn.dummy import DummyClassifier\n",
    "from sklearn.metrics import accuracy_score, precision_score,recall_score, f1_score, confusion_matrix, ConfusionMatrixDisplay, classification_report\n",
    "from imblearn.pipeline import Pipeline as imbpipline\n",
    "from sklearn.model_selection import StratifiedKFold, cross_val_predict, GridSearchCV\n",
    "import pickle\n"
   ]
  },
  {
   "cell_type": "markdown",
   "id": "492aaf99",
   "metadata": {},
   "source": [
    "# Lectura de datos"
   ]
  },
  {
   "cell_type": "code",
   "execution_count": 2,
   "id": "480d1a91",
   "metadata": {},
   "outputs": [],
   "source": [
    "df = pd.read_csv('Base_datos_tratada.csv')"
   ]
  },
  {
   "cell_type": "code",
   "execution_count": 3,
   "id": "c4c10126",
   "metadata": {},
   "outputs": [],
   "source": [
    "df.drop(columns= 'customerID', inplace=True)"
   ]
  },
  {
   "cell_type": "code",
   "execution_count": 4,
   "id": "db6cf435",
   "metadata": {},
   "outputs": [
    {
     "data": {
      "text/plain": [
       "Index(['Abandono', 'Genero', 'Es_mayor_de_edad', 'Pareja', 'Dependientes',\n",
       "       'Meses_contrato', 'Servicio_telefonico', 'Lineas_telefonicas_multiples',\n",
       "       'Tipo_servicio_internet', 'Seguridad_en_linea', 'Respaldo_en_linea',\n",
       "       'Proteccion_dispositivo', 'Soporte_tecnico', 'TV_en_streaming',\n",
       "       'Peliculas_en_streaming', 'Tipo_contrato', 'Factura_en_linea',\n",
       "       'Metodo_pago', 'Cargo_mensual', 'Cargos_totales', 'Cargos_diarios',\n",
       "       'Total_servicios'],\n",
       "      dtype='object')"
      ]
     },
     "execution_count": 4,
     "metadata": {},
     "output_type": "execute_result"
    }
   ],
   "source": [
    "df.columns = df.columns.str.strip()\n",
    "df.columns"
   ]
  },
  {
   "cell_type": "markdown",
   "id": "e6002b34",
   "metadata": {},
   "source": [
    "# Analisis Dirigido y de Correlación de las variables"
   ]
  },
  {
   "cell_type": "markdown",
   "id": "d66e6290",
   "metadata": {},
   "source": [
    "## Distribución de las variables numéricas"
   ]
  },
  {
   "cell_type": "code",
   "execution_count": 5,
   "id": "32982979",
   "metadata": {},
   "outputs": [],
   "source": [
    "def ancho_bin(df,columna):\n",
    "    q75,q25 = np.percentile(df[columna],[75,25])\n",
    "    iqr = q75-q25\n",
    "    ancho = 2*iqr*np.power(len(df[columna]),-1/3)\n",
    "    return ancho"
   ]
  },
  {
   "cell_type": "code",
   "execution_count": 6,
   "id": "a9796f18",
   "metadata": {},
   "outputs": [
    {
     "data": {
      "text/plain": [
       "Index(['Abandono', 'Genero', 'Es_mayor_de_edad', 'Pareja', 'Dependientes',\n",
       "       'Meses_contrato', 'Servicio_telefonico', 'Lineas_telefonicas_multiples',\n",
       "       'Tipo_servicio_internet', 'Seguridad_en_linea', 'Respaldo_en_linea',\n",
       "       'Proteccion_dispositivo', 'Soporte_tecnico', 'TV_en_streaming',\n",
       "       'Peliculas_en_streaming', 'Tipo_contrato', 'Factura_en_linea',\n",
       "       'Metodo_pago', 'Cargo_mensual', 'Cargos_totales', 'Cargos_diarios',\n",
       "       'Total_servicios'],\n",
       "      dtype='object')"
      ]
     },
     "execution_count": 6,
     "metadata": {},
     "output_type": "execute_result"
    }
   ],
   "source": [
    "df.columns"
   ]
  },
  {
   "cell_type": "code",
   "execution_count": 7,
   "id": "f07bf80a",
   "metadata": {},
   "outputs": [
    {
     "data": {
      "image/png": "[encoded data removed]",
      "text/plain": [
       "<Figure size 1600x1000 with 6 Axes>"
      ]
     },
     "metadata": {},
     "output_type": "display_data"
    }
   ],
   "source": [
    "fig, ax = plt.subplots(2,3, figsize = (16,10))\n",
    "fig.subplots_adjust(hspace= 0.5, wspace= 0.15)\n",
    "ax[0,0].boxplot(x = df['Cargo_mensual'])\n",
    "ax[0,0].set_title('Boxplot: Cargo mensual')\n",
    "\n",
    "ax[0,1].boxplot(x = df['Cargos_totales'])\n",
    "ax[0,1].set_title('Boxplot: Cargos totales')\n",
    "\n",
    "ax[0,2].boxplot(x = df['Cargos_diarios'])\n",
    "ax[0,2].set_title('Boxplot: Cargos diarios')\n",
    "\n",
    "\n",
    "\n",
    "sns.histplot(data=df, x='Cargo_mensual', kde=True, binwidth=ancho_bin(df, 'Cargo_mensual'), ax=ax[1, 0])\n",
    "ax[1,0].set_title('Diagrama de Densidad: Cargo Mensual')\n",
    "\n",
    "sns.histplot(data= df, x = 'Cargos_totales',kde= True, binwidth= ancho_bin(df,'Cargos_totales'), ax = ax[1,1])\n",
    "ax[1,1].set_title('Diagrama de Densidad: Cargos totales')\n",
    "\n",
    "sns.histplot(data= df, x = 'Cargos_diarios',kde= True, binwidth= ancho_bin(df,'Cargos_diarios'), ax = ax[1,2])\n",
    "ax[1,2].set_title('Diagrama de Densidad: Cargos diarios')\n",
    "\n",
    "\n",
    "plt.show()"
   ]
  },
  {
   "cell_type": "code",
   "execution_count": 8,
   "id": "f1b7b81c",
   "metadata": {},
   "outputs": [
    {
     "data": {
      "text/plain": [
       "Index(['Abandono', 'Genero', 'Es_mayor_de_edad', 'Pareja', 'Dependientes',\n",
       "       'Meses_contrato', 'Servicio_telefonico', 'Lineas_telefonicas_multiples',\n",
       "       'Tipo_servicio_internet', 'Seguridad_en_linea', 'Respaldo_en_linea',\n",
       "       'Proteccion_dispositivo', 'Soporte_tecnico', 'TV_en_streaming',\n",
       "       'Peliculas_en_streaming', 'Tipo_contrato', 'Factura_en_linea',\n",
       "       'Metodo_pago', 'Cargo_mensual', 'Cargos_totales', 'Cargos_diarios',\n",
       "       'Total_servicios'],\n",
       "      dtype='object')"
      ]
     },
     "execution_count": 8,
     "metadata": {},
     "output_type": "execute_result"
    }
   ],
   "source": [
    "df.columns"
   ]
  },
  {
   "cell_type": "code",
   "execution_count": 9,
   "id": "025bdc87",
   "metadata": {},
   "outputs": [
    {
     "data": {
      "image/png": "[encoded data removed]",
      "text/plain": [
       "<Figure size 1600x1000 with 4 Axes>"
      ]
     },
     "metadata": {},
     "output_type": "display_data"
    }
   ],
   "source": [
    "fig, ax = plt.subplots(2,2, figsize = (16,10))\n",
    "fig.subplots_adjust(hspace= 0.5, wspace= 0.15)\n",
    "\n",
    "\n",
    "ax[0,0].boxplot(x = df['Total_servicios'])\n",
    "ax[0,0].set_title('Boxplot: Total de servicios contratados')\n",
    "\n",
    "ax[0,1].boxplot(x = df['Meses_contrato'])\n",
    "ax[0,1].set_title('Boxplot: Meses de Contrato')\n",
    "\n",
    "\n",
    "sns.histplot(data=df, x='Total_servicios', kde=True, binwidth=ancho_bin(df, 'Total_servicios'), ax=ax[1, 0])\n",
    "ax[1,0].set_title('Diagrama de Densidad: Total de servicios contratados')\n",
    "\n",
    "sns.histplot(data= df, x = 'Meses_contrato',kde= True, binwidth= ancho_bin(df,'Meses_contrato'), ax = ax[1,1])\n",
    "ax[1,1].set_title('Diagrama de Densidad: Meses de Contrato')\n",
    "plt.show()"
   ]
  },
  {
   "cell_type": "code",
   "execution_count": 10,
   "id": "76c6c431",
   "metadata": {},
   "outputs": [
    {
     "data": {
      "text/plain": [
       "Index(['Abandono', 'Genero', 'Es_mayor_de_edad', 'Pareja', 'Dependientes',\n",
       "       'Meses_contrato', 'Servicio_telefonico', 'Lineas_telefonicas_multiples',\n",
       "       'Tipo_servicio_internet', 'Seguridad_en_linea', 'Respaldo_en_linea',\n",
       "       'Proteccion_dispositivo', 'Soporte_tecnico', 'TV_en_streaming',\n",
       "       'Peliculas_en_streaming', 'Tipo_contrato', 'Factura_en_linea',\n",
       "       'Metodo_pago', 'Cargo_mensual', 'Cargos_totales', 'Cargos_diarios',\n",
       "       'Total_servicios'],\n",
       "      dtype='object')"
      ]
     },
     "execution_count": 10,
     "metadata": {},
     "output_type": "execute_result"
    }
   ],
   "source": [
    "df.columns"
   ]
  },
  {
   "cell_type": "markdown",
   "id": "44eedc43",
   "metadata": {},
   "source": [
    "## Analisis de correlación"
   ]
  },
  {
   "cell_type": "code",
   "execution_count": 11,
   "id": "2aabd1ea",
   "metadata": {},
   "outputs": [
    {
     "data": {
      "image/png": "[encoded data removed]",
      "text/plain": [
       "<Figure size 1100x900 with 2 Axes>"
      ]
     },
     "metadata": {},
     "output_type": "display_data"
    }
   ],
   "source": [
    "df_num = df[['Meses_contrato','Cargo_mensual','Cargos_totales','Cargos_diarios','Total_servicios', 'Abandono']]\n",
    "\n",
    "# Calculate the correlation matrix\n",
    "corr = df_num.corr()\n",
    "\n",
    "mascara = np.zeros_like(corr, dtype=bool)\n",
    "mascara[np.triu_indices_from(mascara)] = True\n",
    "\n",
    "# Configurar la figura de matplotlib\n",
    "f, ax = plt.subplots(figsize=(11, 9))\n",
    "\n",
    "# Generar el mapa de calor (heatmap)\n",
    "cmap = sns.diverging_palette(220, 10, as_cmap=True)\n",
    "\n",
    "sns.heatmap(corr, mask=mascara, cmap=cmap, vmax=1, vmin=-1, center=0,\n",
    "            square=True, linewidths=.5, annot=True, cbar_kws={\"shrink\": .5})\n",
    "ax.set_title('Correlación de variables numéricas')\n",
    "\n",
    "\n",
    "\n",
    "\n",
    "# Mostrar el mapa de calor (heatmap)\n",
    "plt.show()"
   ]
  },
  {
   "cell_type": "code",
   "execution_count": 12,
   "id": "b966a5c1",
   "metadata": {},
   "outputs": [
    {
     "data": {
      "application/vnd.plotly.v1+json": {
       "config": {
        "plotlyServerURL": "https://plot.ly"
       },
       "data": [
        {
         "alignmentgroup": "True",
         "hovertemplate": "Abandono=0<br>Meses_contrato=%{x}<extra></extra>",
         "legendgroup": "0",
         "marker": {
          "color": "#636efa"
         },
         "name": "0",
         "notched": false,
         "offsetgroup": "0",
         "orientation": "h",
         "showlegend": true,
         "type": "box",
         "x": {
          "bdata": "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",
          "dtype": "i1"
         },
         "x0": " ",
         "xaxis": "x",
         "y0": " ",
         "yaxis": "y"
        },
        {
         "alignmentgroup": "True",
         "hovertemplate": "Abandono=1<br>Meses_contrato=%{x}<extra></extra>",
         "legendgroup": "1",
         "marker": {
          "color": "#EF553B"
         },
         "name": "1",
         "notched": false,
         "offsetgroup": "1",
         "orientation": "h",
         "showlegend": true,
         "type": "box",
         "x": {
          "bdata": "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",
          "dtype": "i1"
         },
         "x0": " ",
         "xaxis": "x",
         "y0": " ",
         "yaxis": "y"
        }
       ],
       "layout": {
        "boxmode": "group",
        "legend": {
         "title": {
          "text": "Abandono"
         },
         "tracegroupgap": 0
        },
        "template": {
         "data": {
          "bar": [
           {
            "error_x": {
             "color": "#2a3f5f"
            },
            "error_y": {
             "color": "#2a3f5f"
            },
            "marker": {
             "line": {
              "color": "#E5ECF6",
              "width": 0.5
             },
             "pattern": {
              "fillmode": "overlay",
              "size": 10,
              "solidity": 0.2
             }
            },
            "type": "bar"
           }
          ],
          "barpolar": [
           {
            "marker": {
             "line": {
              "color": "#E5ECF6",
              "width": 0.5
             },
             "pattern": {
              "fillmode": "overlay",
              "size": 10,
              "solidity": 0.2
             }
            },
            "type": "barpolar"
           }
          ],
          "carpet": [
           {
            "aaxis": {
             "endlinecolor": "#2a3f5f",
             "gridcolor": "white",
             "linecolor": "white",
             "minorgridcolor": "white",
             "startlinecolor": "#2a3f5f"
            },
            "baxis": {
             "endlinecolor": "#2a3f5f",
             "gridcolor": "white",
             "linecolor": "white",
             "minorgridcolor": "white",
             "startlinecolor": "#2a3f5f"
            },
            "type": "carpet"
           }
          ],
          "choropleth": [
           {
            "colorbar": {
             "outlinewidth": 0,
             "ticks": ""
            },
            "type": "choropleth"
           }
          ],
          "contour": [
           {
            "colorbar": {
             "outlinewidth": 0,
             "ticks": ""
            },
            "colorscale": [
             [
              0,
              "#0d0887"
             ],
             [
              0.1111111111111111,
              "#46039f"
             ],
             [
              0.2222222222222222,
              "#7201a8"
             ],
             [
              0.3333333333333333,
              "#9c179e"
             ],
             [
              0.4444444444444444,
              "#bd3786"
             ],
             [
              0.5555555555555556,
              "#d8576b"
             ],
             [
              0.6666666666666666,
              "#ed7953"
             ],
             [
              0.7777777777777778,
              "#fb9f3a"
             ],
             [
              0.8888888888888888,
              "#fdca26"
             ],
             [
              1,
              "#f0f921"
             ]
            ],
            "type": "contour"
           }
          ],
          "contourcarpet": [
           {
            "colorbar": {
             "outlinewidth": 0,
             "ticks": ""
            },
            "type": "contourcarpet"
           }
          ],
          "heatmap": [
           {
            "colorbar": {
             "outlinewidth": 0,
             "ticks": ""
            },
            "colorscale": [
             [
              0,
              "#0d0887"
             ],
             [
              0.1111111111111111,
              "#46039f"
             ],
             [
              0.2222222222222222,
              "#7201a8"
             ],
             [
              0.3333333333333333,
              "#9c179e"
             ],
             [
              0.4444444444444444,
              "#bd3786"
             ],
             [
              0.5555555555555556,
              "#d8576b"
             ],
             [
              0.6666666666666666,
              "#ed7953"
             ],
             [
              0.7777777777777778,
              "#fb9f3a"
             ],
             [
              0.8888888888888888,
              "#fdca26"
             ],
             [
              1,
              "#f0f921"
             ]
            ],
            "type": "heatmap"
           }
          ],
          "histogram": [
           {
            "marker": {
             "pattern": {
              "fillmode": "overlay",
              "size": 10,
              "solidity": 0.2
             }
            },
            "type": "histogram"
           }
          ],
          "histogram2d": [
           {
            "colorbar": {
             "outlinewidth": 0,
             "ticks": ""
            },
            "colorscale": [
             [
              0,
              "#0d0887"
             ],
             [
              0.1111111111111111,
              "#46039f"
             ],
             [
              0.2222222222222222,
              "#7201a8"
             ],
             [
              0.3333333333333333,
              "#9c179e"
             ],
             [
              0.4444444444444444,
              "#bd3786"
             ],
             [
              0.5555555555555556,
              "#d8576b"
             ],
             [
              0.6666666666666666,
              "#ed7953"
             ],
             [
              0.7777777777777778,
              "#fb9f3a"
             ],
             [
              0.8888888888888888,
              "#fdca26"
             ],
             [
              1,
              "#f0f921"
             ]
            ],
            "type": "histogram2d"
           }
          ],
          "histogram2dcontour": [
           {
            "colorbar": {
             "outlinewidth": 0,
             "ticks": ""
            },
            "colorscale": [
             [
              0,
              "#0d0887"
             ],
             [
              0.1111111111111111,
              "#46039f"
             ],
             [
              0.2222222222222222,
              "#7201a8"
             ],
             [
              0.3333333333333333,
              "#9c179e"
             ],
             [
              0.4444444444444444,
              "#bd3786"
             ],
             [
              0.5555555555555556,
              "#d8576b"
             ],
             [
              0.6666666666666666,
              "#ed7953"
             ],
             [
              0.7777777777777778,
              "#fb9f3a"
             ],
             [
              0.8888888888888888,
              "#fdca26"
             ],
             [
              1,
              "#f0f921"
             ]
            ],
            "type": "histogram2dcontour"
           }
          ],
          "mesh3d": [
           {
            "colorbar": {
             "outlinewidth": 0,
             "ticks": ""
            },
            "type": "mesh3d"
           }
          ],
          "parcoords": [
           {
            "line": {
             "colorbar": {
              "outlinewidth": 0,
              "ticks": ""
             }
            },
            "type": "parcoords"
           }
          ],
          "pie": [
           {
            "automargin": true,
            "type": "pie"
           }
          ],
          "scatter": [
           {
            "fillpattern": {
             "fillmode": "overlay",
             "size": 10,
             "solidity": 0.2
            },
            "type": "scatter"
           }
          ],
          "scatter3d": [
           {
            "line": {
             "colorbar": {
              "outlinewidth": 0,
              "ticks": ""
             }
            },
            "marker": {
             "colorbar": {
              "outlinewidth": 0,
              "ticks": ""
             }
            },
            "type": "scatter3d"
           }
          ],
          "scattercarpet": [
           {
            "marker": {
             "colorbar": {
              "outlinewidth": 0,
              "ticks": ""
             }
            },
            "type": "scattercarpet"
           }
          ],
          "scattergeo": [
           {
            "marker": {
             "colorbar": {
              "outlinewidth": 0,
              "ticks": ""
             }
            },
            "type": "scattergeo"
           }
          ],
          "scattergl": [
           {
            "marker": {
             "colorbar": {
              "outlinewidth": 0,
              "ticks": ""
             }
            },
            "type": "scattergl"
           }
          ],
          "scattermap": [
           {
            "marker": {
             "colorbar": {
              "outlinewidth": 0,
              "ticks": ""
             }
            },
            "type": "scattermap"
           }
          ],
          "scattermapbox": [
           {
            "marker": {
             "colorbar": {
              "outlinewidth": 0,
              "ticks": ""
             }
            },
            "type": "scattermapbox"
           }
          ],
          "scatterpolar": [
           {
            "marker": {
             "colorbar": {
              "outlinewidth": 0,
              "ticks": ""
             }
            },
            "type": "scatterpolar"
           }
          ],
          "scatterpolargl": [
           {
            "marker": {
             "colorbar": {
              "outlinewidth": 0,
              "ticks": ""
             }
            },
            "type": "scatterpolargl"
           }
          ],
          "scatterternary": [
           {
            "marker": {
             "colorbar": {
              "outlinewidth": 0,
              "ticks": ""
             }
            },
            "type": "scatterternary"
           }
          ],
          "surface": [
           {
            "colorbar": {
             "outlinewidth": 0,
             "ticks": ""
            },
            "colorscale": [
             [
              0,
              "#0d0887"
             ],
             [
              0.1111111111111111,
              "#46039f"
             ],
             [
              0.2222222222222222,
              "#7201a8"
             ],
             [
              0.3333333333333333,
              "#9c179e"
             ],
             [
              0.4444444444444444,
              "#bd3786"
             ],
             [
              0.5555555555555556,
              "#d8576b"
             ],
             [
              0.6666666666666666,
              "#ed7953"
             ],
             [
              0.7777777777777778,
              "#fb9f3a"
             ],
             [
              0.8888888888888888,
              "#fdca26"
             ],
             [
              1,
              "#f0f921"
             ]
            ],
            "type": "surface"
           }
          ],
          "table": [
           {
            "cells": {
             "fill": {
              "color": "#EBF0F8"
             },
             "line": {
              "color": "white"
             }
            },
            "header": {
             "fill": {
              "color": "#C8D4E3"
             },
             "line": {
              "color": "white"
             }
            },
            "type": "table"
           }
          ]
         },
         "layout": {
          "annotationdefaults": {
           "arrowcolor": "#2a3f5f",
           "arrowhead": 0,
           "arrowwidth": 1
          },
          "autotypenumbers": "strict",
          "coloraxis": {
           "colorbar": {
            "outlinewidth": 0,
            "ticks": ""
           }
          },
          "colorscale": {
           "diverging": [
            [
             0,
             "#8e0152"
            ],
            [
             0.1,
             "#c51b7d"
            ],
            [
             0.2,
             "#de77ae"
            ],
            [
             0.3,
             "#f1b6da"
            ],
            [
             0.4,
             "#fde0ef"
            ],
            [
             0.5,
             "#f7f7f7"
            ],
            [
             0.6,
             "#e6f5d0"
            ],
            [
             0.7,
             "#b8e186"
            ],
            [
             0.8,
             "#7fbc41"
            ],
            [
             0.9,
             "#4d9221"
            ],
            [
             1,
             "#276419"
            ]
           ],
           "sequential": [
            [
             0,
             "#0d0887"
            ],
            [
             0.1111111111111111,
             "#46039f"
            ],
            [
             0.2222222222222222,
             "#7201a8"
            ],
            [
             0.3333333333333333,
             "#9c179e"
            ],
            [
             0.4444444444444444,
             "#bd3786"
            ],
            [
             0.5555555555555556,
             "#d8576b"
            ],
            [
             0.6666666666666666,
             "#ed7953"
            ],
            [
             0.7777777777777778,
             "#fb9f3a"
            ],
            [
             0.8888888888888888,
             "#fdca26"
            ],
            [
             1,
             "#f0f921"
            ]
           ],
           "sequentialminus": [
            [
             0,
             "#0d0887"
            ],
            [
             0.1111111111111111,
             "#46039f"
            ],
            [
             0.2222222222222222,
             "#7201a8"
            ],
            [
             0.3333333333333333,
             "#9c179e"
            ],
            [
             0.4444444444444444,
             "#bd3786"
            ],
            [
             0.5555555555555556,
             "#d8576b"
            ],
            [
             0.6666666666666666,
             "#ed7953"
            ],
            [
             0.7777777777777778,
             "#fb9f3a"
            ],
            [
             0.8888888888888888,
             "#fdca26"
            ],
            [
             1,
             "#f0f921"
            ]
           ]
          },
          "colorway": [
           "#636efa",
           "#EF553B",
           "#00cc96",
           "#ab63fa",
           "#FFA15A",
           "#19d3f3",
           "#FF6692",
           "#B6E880",
           "#FF97FF",
           "#FECB52"
          ],
          "font": {
           "color": "#2a3f5f"
          },
          "geo": {
           "bgcolor": "white",
           "lakecolor": "white",
           "landcolor": "#E5ECF6",
           "showlakes": true,
           "showland": true,
           "subunitcolor": "white"
          },
          "hoverlabel": {
           "align": "left"
          },
          "hovermode": "closest",
          "mapbox": {
           "style": "light"
          },
          "paper_bgcolor": "white",
          "plot_bgcolor": "#E5ECF6",
          "polar": {
           "angularaxis": {
            "gridcolor": "white",
            "linecolor": "white",
            "ticks": ""
           },
           "bgcolor": "#E5ECF6",
           "radialaxis": {
            "gridcolor": "white",
            "linecolor": "white",
            "ticks": ""
           }
          },
          "scene": {
           "xaxis": {
            "backgroundcolor": "#E5ECF6",
            "gridcolor": "white",
            "gridwidth": 2,
            "linecolor": "white",
            "showbackground": true,
            "ticks": "",
            "zerolinecolor": "white"
           },
           "yaxis": {
            "backgroundcolor": "#E5ECF6",
            "gridcolor": "white",
            "gridwidth": 2,
            "linecolor": "white",
            "showbackground": true,
            "ticks": "",
            "zerolinecolor": "white"
           },
           "zaxis": {
            "backgroundcolor": "#E5ECF6",
            "gridcolor": "white",
            "gridwidth": 2,
            "linecolor": "white",
            "showbackground": true,
            "ticks": "",
            "zerolinecolor": "white"
           }
          },
          "shapedefaults": {
           "line": {
            "color": "#2a3f5f"
           }
          },
          "ternary": {
           "aaxis": {
            "gridcolor": "white",
            "linecolor": "white",
            "ticks": ""
           },
           "baxis": {
            "gridcolor": "white",
            "linecolor": "white",
            "ticks": ""
           },
           "bgcolor": "#E5ECF6",
           "caxis": {
            "gridcolor": "white",
            "linecolor": "white",
            "ticks": ""
           }
          },
          "title": {
           "x": 0.05
          },
          "xaxis": {
           "automargin": true,
           "gridcolor": "white",
           "linecolor": "white",
           "ticks": "",
           "title": {
            "standoff": 15
           },
           "zerolinecolor": "white",
           "zerolinewidth": 2
          },
          "yaxis": {
           "automargin": true,
           "gridcolor": "white",
           "linecolor": "white",
           "ticks": "",
           "title": {
            "standoff": 15
           },
           "zerolinecolor": "white",
           "zerolinewidth": 2
          }
         }
        },
        "title": {
         "text": " Distribución de los meses de contrato con la variable respuesta"
        },
        "xaxis": {
         "anchor": "y",
         "domain": [
          0,
          1
         ],
         "title": {
          "text": "Meses_contrato"
         }
        },
        "yaxis": {
         "anchor": "x",
         "domain": [
          0,
          1
         ]
        }
       }
      }
     },
     "metadata": {},
     "output_type": "display_data"
    }
   ],
   "source": [
    "df_contrato_abandono = df[['Meses_contrato', 'Abandono']]\n",
    "\n",
    "px.box(data_frame= df_contrato_abandono, x = 'Meses_contrato', color= 'Abandono', title= ' Distribución de los meses de contrato con la variable respuesta')"
   ]
  },
  {
   "cell_type": "code",
   "execution_count": 13,
   "id": "8563605c",
   "metadata": {},
   "outputs": [
    {
     "data": {
      "application/vnd.plotly.v1+json": {
       "config": {
        "plotlyServerURL": "https://plot.ly"
       },
       "data": [
        {
         "alignmentgroup": "True",
         "hovertemplate": "Abandono=0<br>Cargo_mensual=%{x}<extra></extra>",
         "legendgroup": "0",
         "marker": {
          "color": "#636efa"
         },
         "name": "0",
         "notched": false,
         "offsetgroup": "0",
         "orientation": "h",
         "showlegend": true,
         "type": "box",
         "x": {
          "bdata": "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",
          "dtype": "f8"
         },
         "x0": " ",
         "xaxis": "x",
         "y0": " ",
         "yaxis": "y"
        },
        {
         "alignmentgroup": "True",
         "hovertemplate": "Abandono=1<br>Cargo_mensual=%{x}<extra></extra>",
         "legendgroup": "1",
         "marker": {
          "color": "#EF553B"
         },
         "name": "1",
         "notched": false,
         "offsetgroup": "1",
         "orientation": "h",
         "showlegend": true,
         "type": "box",
         "x": {
          "bdata": "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",
          "dtype": "f8"
         },
         "x0": " ",
         "xaxis": "x",
         "y0": " ",
         "yaxis": "y"
        }
       ],
       "layout": {
        "boxmode": "group",
        "legend": {
         "title": {
          "text": "Abandono"
         },
         "tracegroupgap": 0
        },
        "template": {
         "data": {
          "bar": [
           {
            "error_x": {
             "color": "#2a3f5f"
            },
            "error_y": {
             "color": "#2a3f5f"
            },
            "marker": {
             "line": {
              "color": "#E5ECF6",
              "width": 0.5
             },
             "pattern": {
              "fillmode": "overlay",
              "size": 10,
              "solidity": 0.2
             }
            },
            "type": "bar"
           }
          ],
          "barpolar": [
           {
            "marker": {
             "line": {
              "color": "#E5ECF6",
              "width": 0.5
             },
             "pattern": {
              "fillmode": "overlay",
              "size": 10,
              "solidity": 0.2
             }
            },
            "type": "barpolar"
           }
          ],
          "carpet": [
           {
            "aaxis": {
             "endlinecolor": "#2a3f5f",
             "gridcolor": "white",
             "linecolor": "white",
             "minorgridcolor": "white",
             "startlinecolor": "#2a3f5f"
            },
            "baxis": {
             "endlinecolor": "#2a3f5f",
             "gridcolor": "white",
             "linecolor": "white",
             "minorgridcolor": "white",
             "startlinecolor": "#2a3f5f"
            },
            "type": "carpet"
           }
          ],
          "choropleth": [
           {
            "colorbar": {
             "outlinewidth": 0,
             "ticks": ""
            },
            "type": "choropleth"
           }
          ],
          "contour": [
           {
            "colorbar": {
             "outlinewidth": 0,
             "ticks": ""
            },
            "colorscale": [
             [
              0,
              "#0d0887"
             ],
             [
              0.1111111111111111,
              "#46039f"
             ],
             [
              0.2222222222222222,
              "#7201a8"
             ],
             [
              0.3333333333333333,
              "#9c179e"
             ],
             [
              0.4444444444444444,
              "#bd3786"
             ],
             [
              0.5555555555555556,
              "#d8576b"
             ],
             [
              0.6666666666666666,
              "#ed7953"
             ],
             [
              0.7777777777777778,
              "#fb9f3a"
             ],
             [
              0.8888888888888888,
              "#fdca26"
             ],
             [
              1,
              "#f0f921"
             ]
            ],
            "type": "contour"
           }
          ],
          "contourcarpet": [
           {
            "colorbar": {
             "outlinewidth": 0,
             "ticks": ""
            },
            "type": "contourcarpet"
           }
          ],
          "heatmap": [
           {
            "colorbar": {
             "outlinewidth": 0,
             "ticks": ""
            },
            "colorscale": [
             [
              0,
              "#0d0887"
             ],
             [
              0.1111111111111111,
              "#46039f"
             ],
             [
              0.2222222222222222,
              "#7201a8"
             ],
             [
              0.3333333333333333,
              "#9c179e"
             ],
             [
              0.4444444444444444,
              "#bd3786"
             ],
             [
              0.5555555555555556,
              "#d8576b"
             ],
             [
              0.6666666666666666,
              "#ed7953"
             ],
             [
              0.7777777777777778,
              "#fb9f3a"
             ],
             [
              0.8888888888888888,
              "#fdca26"
             ],
             [
              1,
              "#f0f921"
             ]
            ],
            "type": "heatmap"
           }
          ],
          "histogram": [
           {
            "marker": {
             "pattern": {
              "fillmode": "overlay",
              "size": 10,
              "solidity": 0.2
             }
            },
            "type": "histogram"
           }
          ],
          "histogram2d": [
           {
            "colorbar": {
             "outlinewidth": 0,
             "ticks": ""
            },
            "colorscale": [
             [
              0,
              "#0d0887"
             ],
             [
              0.1111111111111111,
              "#46039f"
             ],
             [
              0.2222222222222222,
              "#7201a8"
             ],
             [
              0.3333333333333333,
              "#9c179e"
             ],
             [
              0.4444444444444444,
              "#bd3786"
             ],
             [
              0.5555555555555556,
              "#d8576b"
             ],
             [
              0.6666666666666666,
              "#ed7953"
             ],
             [
              0.7777777777777778,
              "#fb9f3a"
             ],
             [
              0.8888888888888888,
              "#fdca26"
             ],
             [
              1,
              "#f0f921"
             ]
            ],
            "type": "histogram2d"
           }
          ],
          "histogram2dcontour": [
           {
            "colorbar": {
             "outlinewidth": 0,
             "ticks": ""
            },
            "colorscale": [
             [
              0,
              "#0d0887"
             ],
             [
              0.1111111111111111,
              "#46039f"
             ],
             [
              0.2222222222222222,
              "#7201a8"
             ],
             [
              0.3333333333333333,
              "#9c179e"
             ],
             [
              0.4444444444444444,
              "#bd3786"
             ],
             [
              0.5555555555555556,
              "#d8576b"
             ],
             [
              0.6666666666666666,
              "#ed7953"
             ],
             [
              0.7777777777777778,
              "#fb9f3a"
             ],
             [
              0.8888888888888888,
              "#fdca26"
             ],
             [
              1,
              "#f0f921"
             ]
            ],
            "type": "histogram2dcontour"
           }
          ],
          "mesh3d": [
           {
            "colorbar": {
             "outlinewidth": 0,
             "ticks": ""
            },
            "type": "mesh3d"
           }
          ],
          "parcoords": [
           {
            "line": {
             "colorbar": {
              "outlinewidth": 0,
              "ticks": ""
             }
            },
            "type": "parcoords"
           }
          ],
          "pie": [
           {
            "automargin": true,
            "type": "pie"
           }
          ],
          "scatter": [
           {
            "fillpattern": {
             "fillmode": "overlay",
             "size": 10,
             "solidity": 0.2
            },
            "type": "scatter"
           }
          ],
          "scatter3d": [
           {
            "line": {
             "colorbar": {
              "outlinewidth": 0,
              "ticks": ""
             }
            },
            "marker": {
             "colorbar": {
              "outlinewidth": 0,
              "ticks": ""
             }
            },
            "type": "scatter3d"
           }
          ],
          "scattercarpet": [
           {
            "marker": {
             "colorbar": {
              "outlinewidth": 0,
              "ticks": ""
             }
            },
            "type": "scattercarpet"
           }
          ],
          "scattergeo": [
           {
            "marker": {
             "colorbar": {
              "outlinewidth": 0,
              "ticks": ""
             }
            },
            "type": "scattergeo"
           }
          ],
          "scattergl": [
           {
            "marker": {
             "colorbar": {
              "outlinewidth": 0,
              "ticks": ""
             }
            },
            "type": "scattergl"
           }
          ],
          "scattermap": [
           {
            "marker": {
             "colorbar": {
              "outlinewidth": 0,
              "ticks": ""
             }
            },
            "type": "scattermap"
           }
          ],
          "scattermapbox": [
           {
            "marker": {
             "colorbar": {
              "outlinewidth": 0,
              "ticks": ""
             }
            },
            "type": "scattermapbox"
           }
          ],
          "scatterpolar": [
           {
            "marker": {
             "colorbar": {
              "outlinewidth": 0,
              "ticks": ""
             }
            },
            "type": "scatterpolar"
           }
          ],
          "scatterpolargl": [
           {
            "marker": {
             "colorbar": {
              "outlinewidth": 0,
              "ticks": ""
             }
            },
            "type": "scatterpolargl"
           }
          ],
          "scatterternary": [
           {
            "marker": {
             "colorbar": {
              "outlinewidth": 0,
              "ticks": ""
             }
            },
            "type": "scatterternary"
           }
          ],
          "surface": [
           {
            "colorbar": {
             "outlinewidth": 0,
             "ticks": ""
            },
            "colorscale": [
             [
              0,
              "#0d0887"
             ],
             [
              0.1111111111111111,
              "#46039f"
             ],
             [
              0.2222222222222222,
              "#7201a8"
             ],
             [
              0.3333333333333333,
              "#9c179e"
             ],
             [
              0.4444444444444444,
              "#bd3786"
             ],
             [
              0.5555555555555556,
              "#d8576b"
             ],
             [
              0.6666666666666666,
              "#ed7953"
             ],
             [
              0.7777777777777778,
              "#fb9f3a"
             ],
             [
              0.8888888888888888,
              "#fdca26"
             ],
             [
              1,
              "#f0f921"
             ]
            ],
            "type": "surface"
           }
          ],
          "table": [
           {
            "cells": {
             "fill": {
              "color": "#EBF0F8"
             },
             "line": {
              "color": "white"
             }
            },
            "header": {
             "fill": {
              "color": "#C8D4E3"
             },
             "line": {
              "color": "white"
             }
            },
            "type": "table"
           }
          ]
         },
         "layout": {
          "annotationdefaults": {
           "arrowcolor": "#2a3f5f",
           "arrowhead": 0,
           "arrowwidth": 1
          },
          "autotypenumbers": "strict",
          "coloraxis": {
           "colorbar": {
            "outlinewidth": 0,
            "ticks": ""
           }
          },
          "colorscale": {
           "diverging": [
            [
             0,
             "#8e0152"
            ],
            [
             0.1,
             "#c51b7d"
            ],
            [
             0.2,
             "#de77ae"
            ],
            [
             0.3,
             "#f1b6da"
            ],
            [
             0.4,
             "#fde0ef"
            ],
            [
             0.5,
             "#f7f7f7"
            ],
            [
             0.6,
             "#e6f5d0"
            ],
            [
             0.7,
             "#b8e186"
            ],
            [
             0.8,
             "#7fbc41"
            ],
            [
             0.9,
             "#4d9221"
            ],
            [
             1,
             "#276419"
            ]
           ],
           "sequential": [
            [
             0,
             "#0d0887"
            ],
            [
             0.1111111111111111,
             "#46039f"
            ],
            [
             0.2222222222222222,
             "#7201a8"
            ],
            [
             0.3333333333333333,
             "#9c179e"
            ],
            [
             0.4444444444444444,
             "#bd3786"
            ],
            [
             0.5555555555555556,
             "#d8576b"
            ],
            [
             0.6666666666666666,
             "#ed7953"
            ],
            [
             0.7777777777777778,
             "#fb9f3a"
            ],
            [
             0.8888888888888888,
             "#fdca26"
            ],
            [
             1,
             "#f0f921"
            ]
           ],
           "sequentialminus": [
            [
             0,
             "#0d0887"
            ],
            [
             0.1111111111111111,
             "#46039f"
            ],
            [
             0.2222222222222222,
             "#7201a8"
            ],
            [
             0.3333333333333333,
             "#9c179e"
            ],
            [
             0.4444444444444444,
             "#bd3786"
            ],
            [
             0.5555555555555556,
             "#d8576b"
            ],
            [
             0.6666666666666666,
             "#ed7953"
            ],
            [
             0.7777777777777778,
             "#fb9f3a"
            ],
            [
             0.8888888888888888,
             "#fdca26"
            ],
            [
             1,
             "#f0f921"
            ]
           ]
          },
          "colorway": [
           "#636efa",
           "#EF553B",
           "#00cc96",
           "#ab63fa",
           "#FFA15A",
           "#19d3f3",
           "#FF6692",
           "#B6E880",
           "#FF97FF",
           "#FECB52"
          ],
          "font": {
           "color": "#2a3f5f"
          },
          "geo": {
           "bgcolor": "white",
           "lakecolor": "white",
           "landcolor": "#E5ECF6",
           "showlakes": true,
           "showland": true,
           "subunitcolor": "white"
          },
          "hoverlabel": {
           "align": "left"
          },
          "hovermode": "closest",
          "mapbox": {
           "style": "light"
          },
          "paper_bgcolor": "white",
          "plot_bgcolor": "#E5ECF6",
          "polar": {
           "angularaxis": {
            "gridcolor": "white",
            "linecolor": "white",
            "ticks": ""
           },
           "bgcolor": "#E5ECF6",
           "radialaxis": {
            "gridcolor": "white",
            "linecolor": "white",
            "ticks": ""
           }
          },
          "scene": {
           "xaxis": {
            "backgroundcolor": "#E5ECF6",
            "gridcolor": "white",
            "gridwidth": 2,
            "linecolor": "white",
            "showbackground": true,
            "ticks": "",
            "zerolinecolor": "white"
           },
           "yaxis": {
            "backgroundcolor": "#E5ECF6",
            "gridcolor": "white",
            "gridwidth": 2,
            "linecolor": "white",
            "showbackground": true,
            "ticks": "",
            "zerolinecolor": "white"
           },
           "zaxis": {
            "backgroundcolor": "#E5ECF6",
            "gridcolor": "white",
            "gridwidth": 2,
            "linecolor": "white",
            "showbackground": true,
            "ticks": "",
            "zerolinecolor": "white"
           }
          },
          "shapedefaults": {
           "line": {
            "color": "#2a3f5f"
           }
          },
          "ternary": {
           "aaxis": {
            "gridcolor": "white",
            "linecolor": "white",
            "ticks": ""
           },
           "baxis": {
            "gridcolor": "white",
            "linecolor": "white",
            "ticks": ""
           },
           "bgcolor": "#E5ECF6",
           "caxis": {
            "gridcolor": "white",
            "linecolor": "white",
            "ticks": ""
           }
          },
          "title": {
           "x": 0.05
          },
          "xaxis": {
           "automargin": true,
           "gridcolor": "white",
           "linecolor": "white",
           "ticks": "",
           "title": {
            "standoff": 15
           },
           "zerolinecolor": "white",
           "zerolinewidth": 2
          },
          "yaxis": {
           "automargin": true,
           "gridcolor": "white",
           "linecolor": "white",
           "ticks": "",
           "title": {
            "standoff": 15
           },
           "zerolinecolor": "white",
           "zerolinewidth": 2
          }
         }
        },
        "title": {
         "text": "Distribución del cargo mensual con la variable respuesta"
        },
        "xaxis": {
         "anchor": "y",
         "domain": [
          0,
          1
         ],
         "title": {
          "text": "Cargo_mensual"
         }
        },
        "yaxis": {
         "anchor": "x",
         "domain": [
          0,
          1
         ]
        }
       }
      }
     },
     "metadata": {},
     "output_type": "display_data"
    }
   ],
   "source": [
    "df_cargo_mensual_abandono = df[['Cargo_mensual', 'Abandono']]\n",
    "\n",
    "px.box(data_frame= df_cargo_mensual_abandono, x = 'Cargo_mensual', color= 'Abandono', \n",
    "       title= 'Distribución del cargo mensual con la variable respuesta')"
   ]
  },
  {
   "cell_type": "code",
   "execution_count": 14,
   "id": "9b09cbba",
   "metadata": {},
   "outputs": [
    {
     "data": {
      "application/vnd.plotly.v1+json": {
       "config": {
        "plotlyServerURL": "https://plot.ly"
       },
       "data": [
        {
         "alignmentgroup": "True",
         "hovertemplate": "Abandono=0<br>Cargos_diarios=%{x}<extra></extra>",
         "legendgroup": "0",
         "marker": {
          "color": "#636efa"
         },
         "name": "0",
         "notched": false,
         "offsetgroup": "0",
         "orientation": "h",
         "showlegend": true,
         "type": "box",
         "x": {
          "bdata": "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",
          "dtype": "f8"
         },
         "x0": " ",
         "xaxis": "x",
         "y0": " ",
         "yaxis": "y"
        },
        {
         "alignmentgroup": "True",
         "hovertemplate": "Abandono=1<br>Cargos_diarios=%{x}<extra></extra>",
         "legendgroup": "1",
         "marker": {
          "color": "#EF553B"
         },
         "name": "1",
         "notched": false,
         "offsetgroup": "1",
         "orientation": "h",
         "showlegend": true,
         "type": "box",
         "x": {
          "bdata": "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",
          "dtype": "f8"
         },
         "x0": " ",
         "xaxis": "x",
         "y0": " ",
         "yaxis": "y"
        }
       ],
       "layout": {
        "boxmode": "group",
        "legend": {
         "title": {
          "text": "Abandono"
         },
         "tracegroupgap": 0
        },
        "template": {
         "data": {
          "bar": [
           {
            "error_x": {
             "color": "#2a3f5f"
            },
            "error_y": {
             "color": "#2a3f5f"
            },
            "marker": {
             "line": {
              "color": "#E5ECF6",
              "width": 0.5
             },
             "pattern": {
              "fillmode": "overlay",
              "size": 10,
              "solidity": 0.2
             }
            },
            "type": "bar"
           }
          ],
          "barpolar": [
           {
            "marker": {
             "line": {
              "color": "#E5ECF6",
              "width": 0.5
             },
             "pattern": {
              "fillmode": "overlay",
              "size": 10,
              "solidity": 0.2
             }
            },
            "type": "barpolar"
           }
          ],
          "carpet": [
           {
            "aaxis": {
             "endlinecolor": "#2a3f5f",
             "gridcolor": "white",
             "linecolor": "white",
             "minorgridcolor": "white",
             "startlinecolor": "#2a3f5f"
            },
            "baxis": {
             "endlinecolor": "#2a3f5f",
             "gridcolor": "white",
             "linecolor": "white",
             "minorgridcolor": "white",
             "startlinecolor": "#2a3f5f"
            },
            "type": "carpet"
           }
          ],
          "choropleth": [
           {
            "colorbar": {
             "outlinewidth": 0,
             "ticks": ""
            },
            "type": "choropleth"
           }
          ],
          "contour": [
           {
            "colorbar": {
             "outlinewidth": 0,
             "ticks": ""
            },
            "colorscale": [
             [
              0,
              "#0d0887"
             ],
             [
              0.1111111111111111,
              "#46039f"
             ],
             [
              0.2222222222222222,
              "#7201a8"
             ],
             [
              0.3333333333333333,
              "#9c179e"
             ],
             [
              0.4444444444444444,
              "#bd3786"
             ],
             [
              0.5555555555555556,
              "#d8576b"
             ],
             [
              0.6666666666666666,
              "#ed7953"
             ],
             [
              0.7777777777777778,
              "#fb9f3a"
             ],
             [
              0.8888888888888888,
              "#fdca26"
             ],
             [
              1,
              "#f0f921"
             ]
            ],
            "type": "contour"
           }
          ],
          "contourcarpet": [
           {
            "colorbar": {
             "outlinewidth": 0,
             "ticks": ""
            },
            "type": "contourcarpet"
           }
          ],
          "heatmap": [
           {
            "colorbar": {
             "outlinewidth": 0,
             "ticks": ""
            },
            "colorscale": [
             [
              0,
              "#0d0887"
             ],
             [
              0.1111111111111111,
              "#46039f"
             ],
             [
              0.2222222222222222,
              "#7201a8"
             ],
             [
              0.3333333333333333,
              "#9c179e"
             ],
             [
              0.4444444444444444,
              "#bd3786"
             ],
             [
              0.5555555555555556,
              "#d8576b"
             ],
             [
              0.6666666666666666,
              "#ed7953"
             ],
             [
              0.7777777777777778,
              "#fb9f3a"
             ],
             [
              0.8888888888888888,
              "#fdca26"
             ],
             [
              1,
              "#f0f921"
             ]
            ],
            "type": "heatmap"
           }
          ],
          "histogram": [
           {
            "marker": {
             "pattern": {
              "fillmode": "overlay",
              "size": 10,
              "solidity": 0.2
             }
            },
            "type": "histogram"
           }
          ],
          "histogram2d": [
           {
            "colorbar": {
             "outlinewidth": 0,
             "ticks": ""
            },
            "colorscale": [
             [
              0,
              "#0d0887"
             ],
             [
              0.1111111111111111,
              "#46039f"
             ],
             [
              0.2222222222222222,
              "#7201a8"
             ],
             [
              0.3333333333333333,
              "#9c179e"
             ],
             [
              0.4444444444444444,
              "#bd3786"
             ],
             [
              0.5555555555555556,
              "#d8576b"
             ],
             [
              0.6666666666666666,
              "#ed7953"
             ],
             [
              0.7777777777777778,
              "#fb9f3a"
             ],
             [
              0.8888888888888888,
              "#fdca26"
             ],
             [
              1,
              "#f0f921"
             ]
            ],
            "type": "histogram2d"
           }
          ],
          "histogram2dcontour": [
           {
            "colorbar": {
             "outlinewidth": 0,
             "ticks": ""
            },
            "colorscale": [
             [
              0,
              "#0d0887"
             ],
             [
              0.1111111111111111,
              "#46039f"
             ],
             [
              0.2222222222222222,
              "#7201a8"
             ],
             [
              0.3333333333333333,
              "#9c179e"
             ],
             [
              0.4444444444444444,
              "#bd3786"
             ],
             [
              0.5555555555555556,
              "#d8576b"
             ],
             [
              0.6666666666666666,
              "#ed7953"
             ],
             [
              0.7777777777777778,
              "#fb9f3a"
             ],
             [
              0.8888888888888888,
              "#fdca26"
             ],
             [
              1,
              "#f0f921"
             ]
            ],
            "type": "histogram2dcontour"
           }
          ],
          "mesh3d": [
           {
            "colorbar": {
             "outlinewidth": 0,
             "ticks": ""
            },
            "type": "mesh3d"
           }
          ],
          "parcoords": [
           {
            "line": {
             "colorbar": {
              "outlinewidth": 0,
              "ticks": ""
             }
            },
            "type": "parcoords"
           }
          ],
          "pie": [
           {
            "automargin": true,
            "type": "pie"
           }
          ],
          "scatter": [
           {
            "fillpattern": {
             "fillmode": "overlay",
             "size": 10,
             "solidity": 0.2
            },
            "type": "scatter"
           }
          ],
          "scatter3d": [
           {
            "line": {
             "colorbar": {
              "outlinewidth": 0,
              "ticks": ""
             }
            },
            "marker": {
             "colorbar": {
              "outlinewidth": 0,
              "ticks": ""
             }
            },
            "type": "scatter3d"
           }
          ],
          "scattercarpet": [
           {
            "marker": {
             "colorbar": {
              "outlinewidth": 0,
              "ticks": ""
             }
            },
            "type": "scattercarpet"
           }
          ],
          "scattergeo": [
           {
            "marker": {
             "colorbar": {
              "outlinewidth": 0,
              "ticks": ""
             }
            },
            "type": "scattergeo"
           }
          ],
          "scattergl": [
           {
            "marker": {
             "colorbar": {
              "outlinewidth": 0,
              "ticks": ""
             }
            },
            "type": "scattergl"
           }
          ],
          "scattermap": [
           {
            "marker": {
             "colorbar": {
              "outlinewidth": 0,
              "ticks": ""
             }
            },
            "type": "scattermap"
           }
          ],
          "scattermapbox": [
           {
            "marker": {
             "colorbar": {
              "outlinewidth": 0,
              "ticks": ""
             }
            },
            "type": "scattermapbox"
           }
          ],
          "scatterpolar": [
           {
            "marker": {
             "colorbar": {
              "outlinewidth": 0,
              "ticks": ""
             }
            },
            "type": "scatterpolar"
           }
          ],
          "scatterpolargl": [
           {
            "marker": {
             "colorbar": {
              "outlinewidth": 0,
              "ticks": ""
             }
            },
            "type": "scatterpolargl"
           }
          ],
          "scatterternary": [
           {
            "marker": {
             "colorbar": {
              "outlinewidth": 0,
              "ticks": ""
             }
            },
            "type": "scatterternary"
           }
          ],
          "surface": [
           {
            "colorbar": {
             "outlinewidth": 0,
             "ticks": ""
            },
            "colorscale": [
             [
              0,
              "#0d0887"
             ],
             [
              0.1111111111111111,
              "#46039f"
             ],
             [
              0.2222222222222222,
              "#7201a8"
             ],
             [
              0.3333333333333333,
              "#9c179e"
             ],
             [
              0.4444444444444444,
              "#bd3786"
             ],
             [
              0.5555555555555556,
              "#d8576b"
             ],
             [
              0.6666666666666666,
              "#ed7953"
             ],
             [
              0.7777777777777778,
              "#fb9f3a"
             ],
             [
              0.8888888888888888,
              "#fdca26"
             ],
             [
              1,
              "#f0f921"
             ]
            ],
            "type": "surface"
           }
          ],
          "table": [
           {
            "cells": {
             "fill": {
              "color": "#EBF0F8"
             },
             "line": {
              "color": "white"
             }
            },
            "header": {
             "fill": {
              "color": "#C8D4E3"
             },
             "line": {
              "color": "white"
             }
            },
            "type": "table"
           }
          ]
         },
         "layout": {
          "annotationdefaults": {
           "arrowcolor": "#2a3f5f",
           "arrowhead": 0,
           "arrowwidth": 1
          },
          "autotypenumbers": "strict",
          "coloraxis": {
           "colorbar": {
            "outlinewidth": 0,
            "ticks": ""
           }
          },
          "colorscale": {
           "diverging": [
            [
             0,
             "#8e0152"
            ],
            [
             0.1,
             "#c51b7d"
            ],
            [
             0.2,
             "#de77ae"
            ],
            [
             0.3,
             "#f1b6da"
            ],
            [
             0.4,
             "#fde0ef"
            ],
            [
             0.5,
             "#f7f7f7"
            ],
            [
             0.6,
             "#e6f5d0"
            ],
            [
             0.7,
             "#b8e186"
            ],
            [
             0.8,
             "#7fbc41"
            ],
            [
             0.9,
             "#4d9221"
            ],
            [
             1,
             "#276419"
            ]
           ],
           "sequential": [
            [
             0,
             "#0d0887"
            ],
            [
             0.1111111111111111,
             "#46039f"
            ],
            [
             0.2222222222222222,
             "#7201a8"
            ],
            [
             0.3333333333333333,
             "#9c179e"
            ],
            [
             0.4444444444444444,
             "#bd3786"
            ],
            [
             0.5555555555555556,
             "#d8576b"
            ],
            [
             0.6666666666666666,
             "#ed7953"
            ],
            [
             0.7777777777777778,
             "#fb9f3a"
            ],
            [
             0.8888888888888888,
             "#fdca26"
            ],
            [
             1,
             "#f0f921"
            ]
           ],
           "sequentialminus": [
            [
             0,
             "#0d0887"
            ],
            [
             0.1111111111111111,
             "#46039f"
            ],
            [
             0.2222222222222222,
             "#7201a8"
            ],
            [
             0.3333333333333333,
             "#9c179e"
            ],
            [
             0.4444444444444444,
             "#bd3786"
            ],
            [
             0.5555555555555556,
             "#d8576b"
            ],
            [
             0.6666666666666666,
             "#ed7953"
            ],
            [
             0.7777777777777778,
             "#fb9f3a"
            ],
            [
             0.8888888888888888,
             "#fdca26"
            ],
            [
             1,
             "#f0f921"
            ]
           ]
          },
          "colorway": [
           "#636efa",
           "#EF553B",
           "#00cc96",
           "#ab63fa",
           "#FFA15A",
           "#19d3f3",
           "#FF6692",
           "#B6E880",
           "#FF97FF",
           "#FECB52"
          ],
          "font": {
           "color": "#2a3f5f"
          },
          "geo": {
           "bgcolor": "white",
           "lakecolor": "white",
           "landcolor": "#E5ECF6",
           "showlakes": true,
           "showland": true,
           "subunitcolor": "white"
          },
          "hoverlabel": {
           "align": "left"
          },
          "hovermode": "closest",
          "mapbox": {
           "style": "light"
          },
          "paper_bgcolor": "white",
          "plot_bgcolor": "#E5ECF6",
          "polar": {
           "angularaxis": {
            "gridcolor": "white",
            "linecolor": "white",
            "ticks": ""
           },
           "bgcolor": "#E5ECF6",
           "radialaxis": {
            "gridcolor": "white",
            "linecolor": "white",
            "ticks": ""
           }
          },
          "scene": {
           "xaxis": {
            "backgroundcolor": "#E5ECF6",
            "gridcolor": "white",
            "gridwidth": 2,
            "linecolor": "white",
            "showbackground": true,
            "ticks": "",
            "zerolinecolor": "white"
           },
           "yaxis": {
            "backgroundcolor": "#E5ECF6",
            "gridcolor": "white",
            "gridwidth": 2,
            "linecolor": "white",
            "showbackground": true,
            "ticks": "",
            "zerolinecolor": "white"
           },
           "zaxis": {
            "backgroundcolor": "#E5ECF6",
            "gridcolor": "white",
            "gridwidth": 2,
            "linecolor": "white",
            "showbackground": true,
            "ticks": "",
            "zerolinecolor": "white"
           }
          },
          "shapedefaults": {
           "line": {
            "color": "#2a3f5f"
           }
          },
          "ternary": {
           "aaxis": {
            "gridcolor": "white",
            "linecolor": "white",
            "ticks": ""
           },
           "baxis": {
            "gridcolor": "white",
            "linecolor": "white",
            "ticks": ""
           },
           "bgcolor": "#E5ECF6",
           "caxis": {
            "gridcolor": "white",
            "linecolor": "white",
            "ticks": ""
           }
          },
          "title": {
           "x": 0.05
          },
          "xaxis": {
           "automargin": true,
           "gridcolor": "white",
           "linecolor": "white",
           "ticks": "",
           "title": {
            "standoff": 15
           },
           "zerolinecolor": "white",
           "zerolinewidth": 2
          },
          "yaxis": {
           "automargin": true,
           "gridcolor": "white",
           "linecolor": "white",
           "ticks": "",
           "title": {
            "standoff": 15
           },
           "zerolinecolor": "white",
           "zerolinewidth": 2
          }
         }
        },
        "title": {
         "text": "Distribución de los cargos diarios con la variable respuesta"
        },
        "xaxis": {
         "anchor": "y",
         "domain": [
          0,
          1
         ],
         "title": {
          "text": "Cargos_diarios"
         }
        },
        "yaxis": {
         "anchor": "x",
         "domain": [
          0,
          1
         ]
        }
       }
      }
     },
     "metadata": {},
     "output_type": "display_data"
    }
   ],
   "source": [
    "df_cargos_diarios_abandono = df[['Cargos_diarios', 'Abandono']]\n",
    "\n",
    "px.box(data_frame= df_cargos_diarios_abandono, x = 'Cargos_diarios', color= 'Abandono', \n",
    "       title= 'Distribución de los cargos diarios con la variable respuesta')"
   ]
  },
  {
   "cell_type": "code",
   "execution_count": 15,
   "id": "661737dd",
   "metadata": {},
   "outputs": [
    {
     "data": {
      "application/vnd.plotly.v1+json": {
       "config": {
        "plotlyServerURL": "https://plot.ly"
       },
       "data": [
        {
         "alignmentgroup": "True",
         "hovertemplate": "Abandono=0<br>Cargos_totales=%{x}<extra></extra>",
         "legendgroup": "0",
         "marker": {
          "color": "#636efa"
         },
         "name": "0",
         "notched": false,
         "offsetgroup": "0",
         "orientation": "h",
         "showlegend": true,
         "type": "box",
         "x": {
          "bdata": "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",
          "dtype": "f8"
         },
         "x0": " ",
         "xaxis": "x",
         "y0": " ",
         "yaxis": "y"
        },
        {
         "alignmentgroup": "True",
         "hovertemplate": "Abandono=1<br>Cargos_totales=%{x}<extra></extra>",
         "legendgroup": "1",
         "marker": {
          "color": "#EF553B"
         },
         "name": "1",
         "notched": false,
         "offsetgroup": "1",
         "orientation": "h",
         "showlegend": true,
         "type": "box",
         "x": {
          "bdata": "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",
          "dtype": "f8"
         },
         "x0": " ",
         "xaxis": "x",
         "y0": " ",
         "yaxis": "y"
        }
       ],
       "layout": {
        "boxmode": "group",
        "legend": {
         "title": {
          "text": "Abandono"
         },
         "tracegroupgap": 0
        },
        "template": {
         "data": {
          "bar": [
           {
            "error_x": {
             "color": "#2a3f5f"
            },
            "error_y": {
             "color": "#2a3f5f"
            },
            "marker": {
             "line": {
              "color": "#E5ECF6",
              "width": 0.5
             },
             "pattern": {
              "fillmode": "overlay",
              "size": 10,
              "solidity": 0.2
             }
            },
            "type": "bar"
           }
          ],
          "barpolar": [
           {
            "marker": {
             "line": {
              "color": "#E5ECF6",
              "width": 0.5
             },
             "pattern": {
              "fillmode": "overlay",
              "size": 10,
              "solidity": 0.2
             }
            },
            "type": "barpolar"
           }
          ],
          "carpet": [
           {
            "aaxis": {
             "endlinecolor": "#2a3f5f",
             "gridcolor": "white",
             "linecolor": "white",
             "minorgridcolor": "white",
             "startlinecolor": "#2a3f5f"
            },
            "baxis": {
             "endlinecolor": "#2a3f5f",
             "gridcolor": "white",
             "linecolor": "white",
             "minorgridcolor": "white",
             "startlinecolor": "#2a3f5f"
            },
            "type": "carpet"
           }
          ],
          "choropleth": [
           {
            "colorbar": {
             "outlinewidth": 0,
             "ticks": ""
            },
            "type": "choropleth"
           }
          ],
          "contour": [
           {
            "colorbar": {
             "outlinewidth": 0,
             "ticks": ""
            },
            "colorscale": [
             [
              0,
              "#0d0887"
             ],
             [
              0.1111111111111111,
              "#46039f"
             ],
             [
              0.2222222222222222,
              "#7201a8"
             ],
             [
              0.3333333333333333,
              "#9c179e"
             ],
             [
              0.4444444444444444,
              "#bd3786"
             ],
             [
              0.5555555555555556,
              "#d8576b"
             ],
             [
              0.6666666666666666,
              "#ed7953"
             ],
             [
              0.7777777777777778,
              "#fb9f3a"
             ],
             [
              0.8888888888888888,
              "#fdca26"
             ],
             [
              1,
              "#f0f921"
             ]
            ],
            "type": "contour"
           }
          ],
          "contourcarpet": [
           {
            "colorbar": {
             "outlinewidth": 0,
             "ticks": ""
            },
            "type": "contourcarpet"
           }
          ],
          "heatmap": [
           {
            "colorbar": {
             "outlinewidth": 0,
             "ticks": ""
            },
            "colorscale": [
             [
              0,
              "#0d0887"
             ],
             [
              0.1111111111111111,
              "#46039f"
             ],
             [
              0.2222222222222222,
              "#7201a8"
             ],
             [
              0.3333333333333333,
              "#9c179e"
             ],
             [
              0.4444444444444444,
              "#bd3786"
             ],
             [
              0.5555555555555556,
              "#d8576b"
             ],
             [
              0.6666666666666666,
              "#ed7953"
             ],
             [
              0.7777777777777778,
              "#fb9f3a"
             ],
             [
              0.8888888888888888,
              "#fdca26"
             ],
             [
              1,
              "#f0f921"
             ]
            ],
            "type": "heatmap"
           }
          ],
          "histogram": [
           {
            "marker": {
             "pattern": {
              "fillmode": "overlay",
              "size": 10,
              "solidity": 0.2
             }
            },
            "type": "histogram"
           }
          ],
          "histogram2d": [
           {
            "colorbar": {
             "outlinewidth": 0,
             "ticks": ""
            },
            "colorscale": [
             [
              0,
              "#0d0887"
             ],
             [
              0.1111111111111111,
              "#46039f"
             ],
             [
              0.2222222222222222,
              "#7201a8"
             ],
             [
              0.3333333333333333,
              "#9c179e"
             ],
             [
              0.4444444444444444,
              "#bd3786"
             ],
             [
              0.5555555555555556,
              "#d8576b"
             ],
             [
              0.6666666666666666,
              "#ed7953"
             ],
             [
              0.7777777777777778,
              "#fb9f3a"
             ],
             [
              0.8888888888888888,
              "#fdca26"
             ],
             [
              1,
              "#f0f921"
             ]
            ],
            "type": "histogram2d"
           }
          ],
          "histogram2dcontour": [
           {
            "colorbar": {
             "outlinewidth": 0,
             "ticks": ""
            },
            "colorscale": [
             [
              0,
              "#0d0887"
             ],
             [
              0.1111111111111111,
              "#46039f"
             ],
             [
              0.2222222222222222,
              "#7201a8"
             ],
             [
              0.3333333333333333,
              "#9c179e"
             ],
             [
              0.4444444444444444,
              "#bd3786"
             ],
             [
              0.5555555555555556,
              "#d8576b"
             ],
             [
              0.6666666666666666,
              "#ed7953"
             ],
             [
              0.7777777777777778,
              "#fb9f3a"
             ],
             [
              0.8888888888888888,
              "#fdca26"
             ],
             [
              1,
              "#f0f921"
             ]
            ],
            "type": "histogram2dcontour"
           }
          ],
          "mesh3d": [
           {
            "colorbar": {
             "outlinewidth": 0,
             "ticks": ""
            },
            "type": "mesh3d"
           }
          ],
          "parcoords": [
           {
            "line": {
             "colorbar": {
              "outlinewidth": 0,
              "ticks": ""
             }
            },
            "type": "parcoords"
           }
          ],
          "pie": [
           {
            "automargin": true,
            "type": "pie"
           }
          ],
          "scatter": [
           {
            "fillpattern": {
             "fillmode": "overlay",
             "size": 10,
             "solidity": 0.2
            },
            "type": "scatter"
           }
          ],
          "scatter3d": [
           {
            "line": {
             "colorbar": {
              "outlinewidth": 0,
              "ticks": ""
             }
            },
            "marker": {
             "colorbar": {
              "outlinewidth": 0,
              "ticks": ""
             }
            },
            "type": "scatter3d"
           }
          ],
          "scattercarpet": [
           {
            "marker": {
             "colorbar": {
              "outlinewidth": 0,
              "ticks": ""
             }
            },
            "type": "scattercarpet"
           }
          ],
          "scattergeo": [
           {
            "marker": {
             "colorbar": {
              "outlinewidth": 0,
              "ticks": ""
             }
            },
            "type": "scattergeo"
           }
          ],
          "scattergl": [
           {
            "marker": {
             "colorbar": {
              "outlinewidth": 0,
              "ticks": ""
             }
            },
            "type": "scattergl"
           }
          ],
          "scattermap": [
           {
            "marker": {
             "colorbar": {
              "outlinewidth": 0,
              "ticks": ""
             }
            },
            "type": "scattermap"
           }
          ],
          "scattermapbox": [
           {
            "marker": {
             "colorbar": {
              "outlinewidth": 0,
              "ticks": ""
             }
            },
            "type": "scattermapbox"
           }
          ],
          "scatterpolar": [
           {
            "marker": {
             "colorbar": {
              "outlinewidth": 0,
              "ticks": ""
             }
            },
            "type": "scatterpolar"
           }
          ],
          "scatterpolargl": [
           {
            "marker": {
             "colorbar": {
              "outlinewidth": 0,
              "ticks": ""
             }
            },
            "type": "scatterpolargl"
           }
          ],
          "scatterternary": [
           {
            "marker": {
             "colorbar": {
              "outlinewidth": 0,
              "ticks": ""
             }
            },
            "type": "scatterternary"
           }
          ],
          "surface": [
           {
            "colorbar": {
             "outlinewidth": 0,
             "ticks": ""
            },
            "colorscale": [
             [
              0,
              "#0d0887"
             ],
             [
              0.1111111111111111,
              "#46039f"
             ],
             [
              0.2222222222222222,
              "#7201a8"
             ],
             [
              0.3333333333333333,
              "#9c179e"
             ],
             [
              0.4444444444444444,
              "#bd3786"
             ],
             [
              0.5555555555555556,
              "#d8576b"
             ],
             [
              0.6666666666666666,
              "#ed7953"
             ],
             [
              0.7777777777777778,
              "#fb9f3a"
             ],
             [
              0.8888888888888888,
              "#fdca26"
             ],
             [
              1,
              "#f0f921"
             ]
            ],
            "type": "surface"
           }
          ],
          "table": [
           {
            "cells": {
             "fill": {
              "color": "#EBF0F8"
             },
             "line": {
              "color": "white"
             }
            },
            "header": {
             "fill": {
              "color": "#C8D4E3"
             },
             "line": {
              "color": "white"
             }
            },
            "type": "table"
           }
          ]
         },
         "layout": {
          "annotationdefaults": {
           "arrowcolor": "#2a3f5f",
           "arrowhead": 0,
           "arrowwidth": 1
          },
          "autotypenumbers": "strict",
          "coloraxis": {
           "colorbar": {
            "outlinewidth": 0,
            "ticks": ""
           }
          },
          "colorscale": {
           "diverging": [
            [
             0,
             "#8e0152"
            ],
            [
             0.1,
             "#c51b7d"
            ],
            [
             0.2,
             "#de77ae"
            ],
            [
             0.3,
             "#f1b6da"
            ],
            [
             0.4,
             "#fde0ef"
            ],
            [
             0.5,
             "#f7f7f7"
            ],
            [
             0.6,
             "#e6f5d0"
            ],
            [
             0.7,
             "#b8e186"
            ],
            [
             0.8,
             "#7fbc41"
            ],
            [
             0.9,
             "#4d9221"
            ],
            [
             1,
             "#276419"
            ]
           ],
           "sequential": [
            [
             0,
             "#0d0887"
            ],
            [
             0.1111111111111111,
             "#46039f"
            ],
            [
             0.2222222222222222,
             "#7201a8"
            ],
            [
             0.3333333333333333,
             "#9c179e"
            ],
            [
             0.4444444444444444,
             "#bd3786"
            ],
            [
             0.5555555555555556,
             "#d8576b"
            ],
            [
             0.6666666666666666,
             "#ed7953"
            ],
            [
             0.7777777777777778,
             "#fb9f3a"
            ],
            [
             0.8888888888888888,
             "#fdca26"
            ],
            [
             1,
             "#f0f921"
            ]
           ],
           "sequentialminus": [
            [
             0,
             "#0d0887"
            ],
            [
             0.1111111111111111,
             "#46039f"
            ],
            [
             0.2222222222222222,
             "#7201a8"
            ],
            [
             0.3333333333333333,
             "#9c179e"
            ],
            [
             0.4444444444444444,
             "#bd3786"
            ],
            [
             0.5555555555555556,
             "#d8576b"
            ],
            [
             0.6666666666666666,
             "#ed7953"
            ],
            [
             0.7777777777777778,
             "#fb9f3a"
            ],
            [
             0.8888888888888888,
             "#fdca26"
            ],
            [
             1,
             "#f0f921"
            ]
           ]
          },
          "colorway": [
           "#636efa",
           "#EF553B",
           "#00cc96",
           "#ab63fa",
           "#FFA15A",
           "#19d3f3",
           "#FF6692",
           "#B6E880",
           "#FF97FF",
           "#FECB52"
          ],
          "font": {
           "color": "#2a3f5f"
          },
          "geo": {
           "bgcolor": "white",
           "lakecolor": "white",
           "landcolor": "#E5ECF6",
           "showlakes": true,
           "showland": true,
           "subunitcolor": "white"
          },
          "hoverlabel": {
           "align": "left"
          },
          "hovermode": "closest",
          "mapbox": {
           "style": "light"
          },
          "paper_bgcolor": "white",
          "plot_bgcolor": "#E5ECF6",
          "polar": {
           "angularaxis": {
            "gridcolor": "white",
            "linecolor": "white",
            "ticks": ""
           },
           "bgcolor": "#E5ECF6",
           "radialaxis": {
            "gridcolor": "white",
            "linecolor": "white",
            "ticks": ""
           }
          },
          "scene": {
           "xaxis": {
            "backgroundcolor": "#E5ECF6",
            "gridcolor": "white",
            "gridwidth": 2,
            "linecolor": "white",
            "showbackground": true,
            "ticks": "",
            "zerolinecolor": "white"
           },
           "yaxis": {
            "backgroundcolor": "#E5ECF6",
            "gridcolor": "white",
            "gridwidth": 2,
            "linecolor": "white",
            "showbackground": true,
            "ticks": "",
            "zerolinecolor": "white"
           },
           "zaxis": {
            "backgroundcolor": "#E5ECF6",
            "gridcolor": "white",
            "gridwidth": 2,
            "linecolor": "white",
            "showbackground": true,
            "ticks": "",
            "zerolinecolor": "white"
           }
          },
          "shapedefaults": {
           "line": {
            "color": "#2a3f5f"
           }
          },
          "ternary": {
           "aaxis": {
            "gridcolor": "white",
            "linecolor": "white",
            "ticks": ""
           },
           "baxis": {
            "gridcolor": "white",
            "linecolor": "white",
            "ticks": ""
           },
           "bgcolor": "#E5ECF6",
           "caxis": {
            "gridcolor": "white",
            "linecolor": "white",
            "ticks": ""
           }
          },
          "title": {
           "x": 0.05
          },
          "xaxis": {
           "automargin": true,
           "gridcolor": "white",
           "linecolor": "white",
           "ticks": "",
           "title": {
            "standoff": 15
           },
           "zerolinecolor": "white",
           "zerolinewidth": 2
          },
          "yaxis": {
           "automargin": true,
           "gridcolor": "white",
           "linecolor": "white",
           "ticks": "",
           "title": {
            "standoff": 15
           },
           "zerolinecolor": "white",
           "zerolinewidth": 2
          }
         }
        },
        "title": {
         "text": "Distribución de los cargos totales con la variable respuesta"
        },
        "xaxis": {
         "anchor": "y",
         "domain": [
          0,
          1
         ],
         "title": {
          "text": "Cargos_totales"
         }
        },
        "yaxis": {
         "anchor": "x",
         "domain": [
          0,
          1
         ]
        }
       }
      }
     },
     "metadata": {},
     "output_type": "display_data"
    }
   ],
   "source": [
    "df_cargos_totales_abandono = df[['Cargos_totales', 'Abandono']]\n",
    "\n",
    "px.box(data_frame= df_cargos_totales_abandono, x = 'Cargos_totales', color= 'Abandono',\n",
    "       title= 'Distribución de los cargos totales con la variable respuesta')"
   ]
  },
  {
   "cell_type": "code",
   "execution_count": 16,
   "id": "0e833533",
   "metadata": {},
   "outputs": [
    {
     "data": {
      "application/vnd.plotly.v1+json": {
       "config": {
        "plotlyServerURL": "https://plot.ly"
       },
       "data": [
        {
         "alignmentgroup": "True",
         "hovertemplate": "Abandono=0<br>Total_servicios=%{x}<extra></extra>",
         "legendgroup": "0",
         "marker": {
          "color": "#636efa"
         },
         "name": "0",
         "notched": false,
         "offsetgroup": "0",
         "orientation": "h",
         "showlegend": true,
         "type": "box",
         "x": {
          "bdata": "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",
          "dtype": "i1"
         },
         "x0": " ",
         "xaxis": "x",
         "y0": " ",
         "yaxis": "y"
        },
        {
         "alignmentgroup": "True",
         "hovertemplate": "Abandono=1<br>Total_servicios=%{x}<extra></extra>",
         "legendgroup": "1",
         "marker": {
          "color": "#EF553B"
         },
         "name": "1",
         "notched": false,
         "offsetgroup": "1",
         "orientation": "h",
         "showlegend": true,
         "type": "box",
         "x": {
          "bdata": "AwYEBQEGAQIDBwUBBggIBAMGBQUEAQUCBAcEBAkCBwUEAwMEBQMDBAYDAQEHBQYFBgQDBgIDBgUCBgIEBwQHBgQIAgUFBAUDAgUHAwYGAgEBBAQFBgQGAgMEBQMCAgEEAgYEAwUFCAIGBAMGAwEEAQEFAwMCAwYFAwQGBwQHBgECBgUCBwQIBQQGAwYDAwYEBAMEAQgFAQUCBgMEAgQCBAMCBAYEBAYDBAQHBgEGAgcGBwQDAwYEBgMDBgUCBAYDAQEFAQMBAgECAgIBBAYCAgEDBgUHBAQCAgQIAwMFBAMEAwMBAwcEAQQGAwMFBgQEBQMEBwMCBgQBBAcBAgUFAQUDBwQDAgkCBQMBBgMEBgcGAQECBwUGBQYFBAkEBQYEBgEFBQgDBgIEAwYGAwIDAwUEBAUFBQMFAwMEAwYECAEGAgIDAwEGBQMCAgMHAgIDBgMEBwUFBAcFAwIEBAECAQQFAgMDAwgDAQYDAwYEAwYDBwQHBAYFAgQCAwQCAgUEAwYDAwQCAgUFBwQGBwUDBwQEBAQDAwIBBwMDBgcHAgYDAwkCBQEHBQEGBwQHBAcCBAYDAwMCCAgCBgQGAgYFBQUGBQIBAgMHAgMDBgMFBgICBgIBAgIDBgMCAwYFAgQEBAUDBgQIBQEBBAUGBQQDAgUFAwcEAwMGBQMDBQMDBgMCBAIIBAEFAgYFAgQEBAUDAwQFBQECBwkCBQUDBQYGAQMEBQMBBAIDAgYGAwUDAwQGBwYFBgQEBAIDBgQFBwMCBQMDAggCBQMHAwQFBAMEBgQDAQUFAgIGBQYIBAQGAwIFBAcDAgIEBAUHBQMCAwQDAwUFBwQIAwgEBQYEBgIFBwYFAgUEBwIIAwIGBAYDAgYBBgMEBQQCBAQDBggCAwUIBwYCAwUFBQQEBgQEAgQEAgIDBwUBAwQDAgIEBAYEAwICBAICBwcDBgIGBQECBAEHAwYEAwQHBQMCAwUIAgUEAggEAQYEAgIFBwcDAgMDBwYDBAUIAgYEBgYCBgMHBgYDAQMHBQMHAgQDBQMEAQQEBQUBBQQFBQQFAgEEAgMBBQMGAgQFBAgBAwMDBAQGBAYGAwcDBQIEAwcJAgQFBQEHBQcEAwcFAwIGBAMHAQUDBwEHAgMDAgQCBAYDAQQDBAIHBQUHAgMEAwMDBAcBAgIGBgIEBwMCBQMEAgMEAwMHBgQBAgMCBAUFBAICBAYDBQEGAQMEAgECBgYBCAYEBQcBBgIDAgQEBgQEBQYEBAUFBAMCBwICBAECAQEBBgEDBAUEBwMFAgUDAQUEAwYCBQMIAggCAgIBAwEHAwQEAgMIBQgCAwcCBwYCAQYDAQUFAgUDAgQDAgMEBwMEAggDBQEJAwIEBQcHBgMGBgQEBAUBBAQFBQQCAgUHBAcDAwYGBgUIBQMHAwcGBwEGBQEFBAMFBwEGAQUHBQYEAgICBAMFBQQGAwQBAgYBBAYBAQUGAgUBBQMEBAQBAQICBQQGBAMGBwIGAQQCBQYCAwMFAgQCBAYCBgQDAwQDAwUDBQcCAgQEBAUDBQMCBQUEBAMFBAIDBgYBBAUFAgQDBQcFBQYDAQQCAgECAQMCAgQFBAcEBgYEAwIEAgIHBQQFBgQHAwcDBQIEAQYFBAQFAwUDBAUDBQEDAwIIAwUHBQQHAgUCAwcFAwUCAwYEBQcGAgMHBQECBgQDBAUCBQEDCAMGAQQDAwgCBwcGAgcIBwMEBgQGAwMFBAMFBAUHBAEHBAEHBgcFBgMBBQcGAQUBBgMDBAUHAwUHAwMGAwMCAwUGAgMDBAIBBAQIAgMEBAEFBgYCBwYCBwQGAgcCBAcDBAMEBwIEAwcDAgcFBgUEBgMBBAYBBQQDBAIFAwQIBAYECAUFAwIGAwICBAMCAwMBBgUEBQUFBgQEBAMEBAMDBQUDAgUGBQcEAQUDAwMDAwQCAgIDAwMHAwQEAwQDAwQIAwMHBgICAgQCBQQHBAQDAwMFAwcCAwcDBwMEBgcEAQIDBwIEAQIBBAUBBQECBAQGAgcBBAIDBAUBBgUCBAIFBQEDAgQEBQcDBAICAQMEAgQFAwIBBgIDAwUDBwcEBQMHBgYFAwMDCQQDAgUFAwEBBwYDBQQBBwEEBQQFAwMDBgICBAMFBgQFBAQGAwQGAwQEAwUCAwYCBAMHAwUDCQQDBAUDBgUFBwUIBwYEBgQCAgcCAwQDAwMFBQIEBQMFBgMGBAIFAwUGAgUDBAcDBgMEAgQHBQcEBAcFAwYCBgIFBAQHAwMGBgQEBAQBBAMFAQMGBQUFCQIFAwUBCAcDCAQEAgQEAQYJBggGBAEEBQUDBQUHBQEDAgQDCAMFBgYDAwQDAwUDBgMDAQYIBAQFAwMDAgYHBQYFBQMGAgQDBAQCBAUFAwUDBgUCBQQCBQMDBQIIBgIFBgUHBAQFBAMGBwYHAwMGAwMFBwIEAgQDBgMGBAMHAgUDAwICBggDAwQDCAcDBAcDAwYDAwUBBgQGAwUDBAUEAgEE",
          "dtype": "i1"
         },
         "x0": " ",
         "xaxis": "x",
         "y0": " ",
         "yaxis": "y"
        }
       ],
       "layout": {
        "boxmode": "group",
        "legend": {
         "title": {
          "text": "Abandono"
         },
         "tracegroupgap": 0
        },
        "template": {
         "data": {
          "bar": [
           {
            "error_x": {
             "color": "#2a3f5f"
            },
            "error_y": {
             "color": "#2a3f5f"
            },
            "marker": {
             "line": {
              "color": "#E5ECF6",
              "width": 0.5
             },
             "pattern": {
              "fillmode": "overlay",
              "size": 10,
              "solidity": 0.2
             }
            },
            "type": "bar"
           }
          ],
          "barpolar": [
           {
            "marker": {
             "line": {
              "color": "#E5ECF6",
              "width": 0.5
             },
             "pattern": {
              "fillmode": "overlay",
              "size": 10,
              "solidity": 0.2
             }
            },
            "type": "barpolar"
           }
          ],
          "carpet": [
           {
            "aaxis": {
             "endlinecolor": "#2a3f5f",
             "gridcolor": "white",
             "linecolor": "white",
             "minorgridcolor": "white",
             "startlinecolor": "#2a3f5f"
            },
            "baxis": {
             "endlinecolor": "#2a3f5f",
             "gridcolor": "white",
             "linecolor": "white",
             "minorgridcolor": "white",
             "startlinecolor": "#2a3f5f"
            },
            "type": "carpet"
           }
          ],
          "choropleth": [
           {
            "colorbar": {
             "outlinewidth": 0,
             "ticks": ""
            },
            "type": "choropleth"
           }
          ],
          "contour": [
           {
            "colorbar": {
             "outlinewidth": 0,
             "ticks": ""
            },
            "colorscale": [
             [
              0,
              "#0d0887"
             ],
             [
              0.1111111111111111,
              "#46039f"
             ],
             [
              0.2222222222222222,
              "#7201a8"
             ],
             [
              0.3333333333333333,
              "#9c179e"
             ],
             [
              0.4444444444444444,
              "#bd3786"
             ],
             [
              0.5555555555555556,
              "#d8576b"
             ],
             [
              0.6666666666666666,
              "#ed7953"
             ],
             [
              0.7777777777777778,
              "#fb9f3a"
             ],
             [
              0.8888888888888888,
              "#fdca26"
             ],
             [
              1,
              "#f0f921"
             ]
            ],
            "type": "contour"
           }
          ],
          "contourcarpet": [
           {
            "colorbar": {
             "outlinewidth": 0,
             "ticks": ""
            },
            "type": "contourcarpet"
           }
          ],
          "heatmap": [
           {
            "colorbar": {
             "outlinewidth": 0,
             "ticks": ""
            },
            "colorscale": [
             [
              0,
              "#0d0887"
             ],
             [
              0.1111111111111111,
              "#46039f"
             ],
             [
              0.2222222222222222,
              "#7201a8"
             ],
             [
              0.3333333333333333,
              "#9c179e"
             ],
             [
              0.4444444444444444,
              "#bd3786"
             ],
             [
              0.5555555555555556,
              "#d8576b"
             ],
             [
              0.6666666666666666,
              "#ed7953"
             ],
             [
              0.7777777777777778,
              "#fb9f3a"
             ],
             [
              0.8888888888888888,
              "#fdca26"
             ],
             [
              1,
              "#f0f921"
             ]
            ],
            "type": "heatmap"
           }
          ],
          "histogram": [
           {
            "marker": {
             "pattern": {
              "fillmode": "overlay",
              "size": 10,
              "solidity": 0.2
             }
            },
            "type": "histogram"
           }
          ],
          "histogram2d": [
           {
            "colorbar": {
             "outlinewidth": 0,
             "ticks": ""
            },
            "colorscale": [
             [
              0,
              "#0d0887"
             ],
             [
              0.1111111111111111,
              "#46039f"
             ],
             [
              0.2222222222222222,
              "#7201a8"
             ],
             [
              0.3333333333333333,
              "#9c179e"
             ],
             [
              0.4444444444444444,
              "#bd3786"
             ],
             [
              0.5555555555555556,
              "#d8576b"
             ],
             [
              0.6666666666666666,
              "#ed7953"
             ],
             [
              0.7777777777777778,
              "#fb9f3a"
             ],
             [
              0.8888888888888888,
              "#fdca26"
             ],
             [
              1,
              "#f0f921"
             ]
            ],
            "type": "histogram2d"
           }
          ],
          "histogram2dcontour": [
           {
            "colorbar": {
             "outlinewidth": 0,
             "ticks": ""
            },
            "colorscale": [
             [
              0,
              "#0d0887"
             ],
             [
              0.1111111111111111,
              "#46039f"
             ],
             [
              0.2222222222222222,
              "#7201a8"
             ],
             [
              0.3333333333333333,
              "#9c179e"
             ],
             [
              0.4444444444444444,
              "#bd3786"
             ],
             [
              0.5555555555555556,
              "#d8576b"
             ],
             [
              0.6666666666666666,
              "#ed7953"
             ],
             [
              0.7777777777777778,
              "#fb9f3a"
             ],
             [
              0.8888888888888888,
              "#fdca26"
             ],
             [
              1,
              "#f0f921"
             ]
            ],
            "type": "histogram2dcontour"
           }
          ],
          "mesh3d": [
           {
            "colorbar": {
             "outlinewidth": 0,
             "ticks": ""
            },
            "type": "mesh3d"
           }
          ],
          "parcoords": [
           {
            "line": {
             "colorbar": {
              "outlinewidth": 0,
              "ticks": ""
             }
            },
            "type": "parcoords"
           }
          ],
          "pie": [
           {
            "automargin": true,
            "type": "pie"
           }
          ],
          "scatter": [
           {
            "fillpattern": {
             "fillmode": "overlay",
             "size": 10,
             "solidity": 0.2
            },
            "type": "scatter"
           }
          ],
          "scatter3d": [
           {
            "line": {
             "colorbar": {
              "outlinewidth": 0,
              "ticks": ""
             }
            },
            "marker": {
             "colorbar": {
              "outlinewidth": 0,
              "ticks": ""
             }
            },
            "type": "scatter3d"
           }
          ],
          "scattercarpet": [
           {
            "marker": {
             "colorbar": {
              "outlinewidth": 0,
              "ticks": ""
             }
            },
            "type": "scattercarpet"
           }
          ],
          "scattergeo": [
           {
            "marker": {
             "colorbar": {
              "outlinewidth": 0,
              "ticks": ""
             }
            },
            "type": "scattergeo"
           }
          ],
          "scattergl": [
           {
            "marker": {
             "colorbar": {
              "outlinewidth": 0,
              "ticks": ""
             }
            },
            "type": "scattergl"
           }
          ],
          "scattermap": [
           {
            "marker": {
             "colorbar": {
              "outlinewidth": 0,
              "ticks": ""
             }
            },
            "type": "scattermap"
           }
          ],
          "scattermapbox": [
           {
            "marker": {
             "colorbar": {
              "outlinewidth": 0,
              "ticks": ""
             }
            },
            "type": "scattermapbox"
           }
          ],
          "scatterpolar": [
           {
            "marker": {
             "colorbar": {
              "outlinewidth": 0,
              "ticks": ""
             }
            },
            "type": "scatterpolar"
           }
          ],
          "scatterpolargl": [
           {
            "marker": {
             "colorbar": {
              "outlinewidth": 0,
              "ticks": ""
             }
            },
            "type": "scatterpolargl"
           }
          ],
          "scatterternary": [
           {
            "marker": {
             "colorbar": {
              "outlinewidth": 0,
              "ticks": ""
             }
            },
            "type": "scatterternary"
           }
          ],
          "surface": [
           {
            "colorbar": {
             "outlinewidth": 0,
             "ticks": ""
            },
            "colorscale": [
             [
              0,
              "#0d0887"
             ],
             [
              0.1111111111111111,
              "#46039f"
             ],
             [
              0.2222222222222222,
              "#7201a8"
             ],
             [
              0.3333333333333333,
              "#9c179e"
             ],
             [
              0.4444444444444444,
              "#bd3786"
             ],
             [
              0.5555555555555556,
              "#d8576b"
             ],
             [
              0.6666666666666666,
              "#ed7953"
             ],
             [
              0.7777777777777778,
              "#fb9f3a"
             ],
             [
              0.8888888888888888,
              "#fdca26"
             ],
             [
              1,
              "#f0f921"
             ]
            ],
            "type": "surface"
           }
          ],
          "table": [
           {
            "cells": {
             "fill": {
              "color": "#EBF0F8"
             },
             "line": {
              "color": "white"
             }
            },
            "header": {
             "fill": {
              "color": "#C8D4E3"
             },
             "line": {
              "color": "white"
             }
            },
            "type": "table"
           }
          ]
         },
         "layout": {
          "annotationdefaults": {
           "arrowcolor": "#2a3f5f",
           "arrowhead": 0,
           "arrowwidth": 1
          },
          "autotypenumbers": "strict",
          "coloraxis": {
           "colorbar": {
            "outlinewidth": 0,
            "ticks": ""
           }
          },
          "colorscale": {
           "diverging": [
            [
             0,
             "#8e0152"
            ],
            [
             0.1,
             "#c51b7d"
            ],
            [
             0.2,
             "#de77ae"
            ],
            [
             0.3,
             "#f1b6da"
            ],
            [
             0.4,
             "#fde0ef"
            ],
            [
             0.5,
             "#f7f7f7"
            ],
            [
             0.6,
             "#e6f5d0"
            ],
            [
             0.7,
             "#b8e186"
            ],
            [
             0.8,
             "#7fbc41"
            ],
            [
             0.9,
             "#4d9221"
            ],
            [
             1,
             "#276419"
            ]
           ],
           "sequential": [
            [
             0,
             "#0d0887"
            ],
            [
             0.1111111111111111,
             "#46039f"
            ],
            [
             0.2222222222222222,
             "#7201a8"
            ],
            [
             0.3333333333333333,
             "#9c179e"
            ],
            [
             0.4444444444444444,
             "#bd3786"
            ],
            [
             0.5555555555555556,
             "#d8576b"
            ],
            [
             0.6666666666666666,
             "#ed7953"
            ],
            [
             0.7777777777777778,
             "#fb9f3a"
            ],
            [
             0.8888888888888888,
             "#fdca26"
            ],
            [
             1,
             "#f0f921"
            ]
           ],
           "sequentialminus": [
            [
             0,
             "#0d0887"
            ],
            [
             0.1111111111111111,
             "#46039f"
            ],
            [
             0.2222222222222222,
             "#7201a8"
            ],
            [
             0.3333333333333333,
             "#9c179e"
            ],
            [
             0.4444444444444444,
             "#bd3786"
            ],
            [
             0.5555555555555556,
             "#d8576b"
            ],
            [
             0.6666666666666666,
             "#ed7953"
            ],
            [
             0.7777777777777778,
             "#fb9f3a"
            ],
            [
             0.8888888888888888,
             "#fdca26"
            ],
            [
             1,
             "#f0f921"
            ]
           ]
          },
          "colorway": [
           "#636efa",
           "#EF553B",
           "#00cc96",
           "#ab63fa",
           "#FFA15A",
           "#19d3f3",
           "#FF6692",
           "#B6E880",
           "#FF97FF",
           "#FECB52"
          ],
          "font": {
           "color": "#2a3f5f"
          },
          "geo": {
           "bgcolor": "white",
           "lakecolor": "white",
           "landcolor": "#E5ECF6",
           "showlakes": true,
           "showland": true,
           "subunitcolor": "white"
          },
          "hoverlabel": {
           "align": "left"
          },
          "hovermode": "closest",
          "mapbox": {
           "style": "light"
          },
          "paper_bgcolor": "white",
          "plot_bgcolor": "#E5ECF6",
          "polar": {
           "angularaxis": {
            "gridcolor": "white",
            "linecolor": "white",
            "ticks": ""
           },
           "bgcolor": "#E5ECF6",
           "radialaxis": {
            "gridcolor": "white",
            "linecolor": "white",
            "ticks": ""
           }
          },
          "scene": {
           "xaxis": {
            "backgroundcolor": "#E5ECF6",
            "gridcolor": "white",
            "gridwidth": 2,
            "linecolor": "white",
            "showbackground": true,
            "ticks": "",
            "zerolinecolor": "white"
           },
           "yaxis": {
            "backgroundcolor": "#E5ECF6",
            "gridcolor": "white",
            "gridwidth": 2,
            "linecolor": "white",
            "showbackground": true,
            "ticks": "",
            "zerolinecolor": "white"
           },
           "zaxis": {
            "backgroundcolor": "#E5ECF6",
            "gridcolor": "white",
            "gridwidth": 2,
            "linecolor": "white",
            "showbackground": true,
            "ticks": "",
            "zerolinecolor": "white"
           }
          },
          "shapedefaults": {
           "line": {
            "color": "#2a3f5f"
           }
          },
          "ternary": {
           "aaxis": {
            "gridcolor": "white",
            "linecolor": "white",
            "ticks": ""
           },
           "baxis": {
            "gridcolor": "white",
            "linecolor": "white",
            "ticks": ""
           },
           "bgcolor": "#E5ECF6",
           "caxis": {
            "gridcolor": "white",
            "linecolor": "white",
            "ticks": ""
           }
          },
          "title": {
           "x": 0.05
          },
          "xaxis": {
           "automargin": true,
           "gridcolor": "white",
           "linecolor": "white",
           "ticks": "",
           "title": {
            "standoff": 15
           },
           "zerolinecolor": "white",
           "zerolinewidth": 2
          },
          "yaxis": {
           "automargin": true,
           "gridcolor": "white",
           "linecolor": "white",
           "ticks": "",
           "title": {
            "standoff": 15
           },
           "zerolinecolor": "white",
           "zerolinewidth": 2
          }
         }
        },
        "title": {
         "text": "Distribución del total de servicios con la variable respuesta"
        },
        "xaxis": {
         "anchor": "y",
         "domain": [
          0,
          1
         ],
         "title": {
          "text": "Total_servicios"
         }
        },
        "yaxis": {
         "anchor": "x",
         "domain": [
          0,
          1
         ]
        }
       }
      }
     },
     "metadata": {},
     "output_type": "display_data"
    }
   ],
   "source": [
    "df_servicios_abandono = df[['Total_servicios', 'Abandono']]\n",
    "\n",
    "px.box(data_frame= df_servicios_abandono, x = 'Total_servicios', color= 'Abandono', title = 'Distribución del total de servicios con la variable respuesta')"
   ]
  },
  {
   "cell_type": "markdown",
   "id": "286e003d",
   "metadata": {},
   "source": [
    "Las variables númericas mostrarón tener una relación baja con la variable objetivo \"Abandono\", en particula la variable ``Total_servicios`` de igual forma esta variable mostro tener una alta relación con el resto de variables numéricas, por lo que se decidió eliminarla del análisis. Por otro lado las variables ``Cargo_mensual`` y ``Cargos_diarios`` mostarón tener una relación perfecta entre ellas, esto se debe a que la variable ``Cargos_diarios`` es el resultado de dividir la variable ``Cargo_mensual`` entre 30, por lo que se decidió eliminar la variable ``Cargos_diarios`` del análisis."
   ]
  },
  {
   "cell_type": "code",
   "execution_count": 17,
   "id": "2747ca24",
   "metadata": {},
   "outputs": [
    {
     "data": {
      "text/plain": [
       "Index(['Abandono', 'Genero', 'Es_mayor_de_edad', 'Pareja', 'Dependientes',\n",
       "       'Meses_contrato', 'Servicio_telefonico', 'Lineas_telefonicas_multiples',\n",
       "       'Tipo_servicio_internet', 'Seguridad_en_linea', 'Respaldo_en_linea',\n",
       "       'Proteccion_dispositivo', 'Soporte_tecnico', 'TV_en_streaming',\n",
       "       'Peliculas_en_streaming', 'Tipo_contrato', 'Factura_en_linea',\n",
       "       'Metodo_pago', 'Cargo_mensual', 'Cargos_totales'],\n",
       "      dtype='object')"
      ]
     },
     "execution_count": 17,
     "metadata": {},
     "output_type": "execute_result"
    }
   ],
   "source": [
    "df.drop(columns= ['Cargos_diarios', 'Total_servicios'], inplace= True)\n",
    "df.columns"
   ]
  },
  {
   "cell_type": "markdown",
   "id": "ce43b79e",
   "metadata": {},
   "source": [
    "## Distribución de las variable respuesta "
   ]
  },
  {
   "cell_type": "code",
   "execution_count": 18,
   "id": "73c563e4",
   "metadata": {},
   "outputs": [
    {
     "data": {
      "text/plain": [
       "Abandono\n",
       "0    73.0\n",
       "1    27.0\n",
       "Name: proportion, dtype: float64"
      ]
     },
     "execution_count": 18,
     "metadata": {},
     "output_type": "execute_result"
    }
   ],
   "source": [
    "df.value_counts('Abandono', normalize=True).round(2)*100"
   ]
  },
  {
   "cell_type": "code",
   "execution_count": 19,
   "id": "ce27ab2c",
   "metadata": {},
   "outputs": [
    {
     "name": "stderr",
     "output_type": "stream",
     "text": [
      "C:\\Users\\erik-\\AppData\\Local\\Temp\\ipykernel_1188\\1057276694.py:31: UserWarning:\n",
      "\n",
      "set_ticklabels() should only be used with a fixed number of ticks, i.e. after set_ticks() or using a FixedLocator.\n",
      "\n"
     ]
    },
    {
     "data": {
      "image/png": "[encoded data removed]",
      "text/plain": [
       "<Figure size 640x480 with 1 Axes>"
      ]
     },
     "metadata": {},
     "output_type": "display_data"
    }
   ],
   "source": [
    "colores = {0: \"#4CAF50\", 1: \"#F44336\"}  # Verde y rojo\n",
    "\n",
    "g = sns.countplot(\n",
    "    data=df,\n",
    "    x='Abandono',\n",
    "    hue='Abandono',\n",
    "    palette=colores\n",
    ")\n",
    "\n",
    "# Título y ejes\n",
    "g.set_title('Distribución de la variable respuesta', y=1.05, fontsize=14)\n",
    "g.set(xlabel='Abandono (0 = No, 1 = Sí)', ylabel='Cantidad')\n",
    "\n",
    "\n",
    "total = len(df)\n",
    "# Añadir etiquetas de datos sobre las barras\n",
    "for p in g.patches:\n",
    "    height = p.get_height()\n",
    "    if height > 0:\n",
    "        porcentaje = height / total * 100\n",
    "        g.annotate(\n",
    "            f'{int(round(porcentaje))}%',\n",
    "            (p.get_x() + p.get_width() / 2, height),\n",
    "            ha='center',\n",
    "            va='bottom',\n",
    "            fontsize=10\n",
    "        )\n",
    "\n",
    "# Mejorar la leyenda\n",
    "g.legend_.set_title(\"Abandono\")\n",
    "g.set_xticklabels(['No abandonó', 'Sí abandonó'])\n",
    "\n",
    "plt.tight_layout()\n",
    "plt.show()"
   ]
  },
  {
   "cell_type": "markdown",
   "id": "729cd89c",
   "metadata": {},
   "source": [
    "Podemos identificar que la variable respuesta ``Abandono`` tiene una distribución muy desbalanceada, ya que el 73% de los clientes no han abandonado la empresa, mientras que el 27% si lo ha hecho. Esto puede ser un problema para los modelos de clasificación, ya que pueden tener una tendencia a predecir más la clase mayoritaria. Por lo tanto se aplicará una técnica de balanceo de clases para mejorar el rendimiento del modelo. \n",
    "\n",
    "Particularmente, se utilizará la técnica de sobremuestreo, especificamente la técnica de SMOTE (Synthetic Minority Over-sampling Technique)."
   ]
  },
  {
   "cell_type": "markdown",
   "id": "0242de71",
   "metadata": {},
   "source": [
    "# Preparación de los datos "
   ]
  },
  {
   "cell_type": "code",
   "execution_count": 20,
   "id": "14e5d9b4",
   "metadata": {},
   "outputs": [
    {
     "data": {
      "text/plain": [
       "Index(['Abandono', 'Genero', 'Es_mayor_de_edad', 'Pareja', 'Dependientes',\n",
       "       'Meses_contrato', 'Servicio_telefonico', 'Lineas_telefonicas_multiples',\n",
       "       'Tipo_servicio_internet', 'Seguridad_en_linea', 'Respaldo_en_linea',\n",
       "       'Proteccion_dispositivo', 'Soporte_tecnico', 'TV_en_streaming',\n",
       "       'Peliculas_en_streaming', 'Tipo_contrato', 'Factura_en_linea',\n",
       "       'Metodo_pago', 'Cargo_mensual', 'Cargos_totales'],\n",
       "      dtype='object')"
      ]
     },
     "execution_count": 20,
     "metadata": {},
     "output_type": "execute_result"
    }
   ],
   "source": [
    "df.columns"
   ]
  },
  {
   "cell_type": "markdown",
   "id": "561f034f",
   "metadata": {},
   "source": [
    "## Normalización de las variables numéricas"
   ]
  },
  {
   "cell_type": "code",
   "execution_count": 21,
   "id": "e10f0915",
   "metadata": {},
   "outputs": [],
   "source": [
    "X = df.drop(columns= 'Abandono')\n",
    "y = df['Abandono']"
   ]
  },
  {
   "cell_type": "code",
   "execution_count": 22,
   "id": "f5afd52b",
   "metadata": {},
   "outputs": [],
   "source": [
    "normalizador = MinMaxScaler()\n",
    "columnas_a_normalizar = ['Cargo_mensual', 'Cargos_totales']\n",
    "X[columnas_a_normalizar] = normalizador.fit_transform(X[columnas_a_normalizar])\n"
   ]
  },
  {
   "cell_type": "code",
   "execution_count": 23,
   "id": "62b343ba",
   "metadata": {},
   "outputs": [
    {
     "name": "stdout",
     "output_type": "stream",
     "text": [
      "<class 'pandas.core.frame.DataFrame'>\n",
      "RangeIndex: 7032 entries, 0 to 7031\n",
      "Data columns (total 19 columns):\n",
      " #   Column                        Non-Null Count  Dtype  \n",
      "---  ------                        --------------  -----  \n",
      " 0   Genero                        7032 non-null   object \n",
      " 1   Es_mayor_de_edad              7032 non-null   int64  \n",
      " 2   Pareja                        7032 non-null   int64  \n",
      " 3   Dependientes                  7032 non-null   int64  \n",
      " 4   Meses_contrato                7032 non-null   int64  \n",
      " 5   Servicio_telefonico           7032 non-null   int64  \n",
      " 6   Lineas_telefonicas_multiples  7032 non-null   int64  \n",
      " 7   Tipo_servicio_internet        7032 non-null   object \n",
      " 8   Seguridad_en_linea            7032 non-null   int64  \n",
      " 9   Respaldo_en_linea             7032 non-null   int64  \n",
      " 10  Proteccion_dispositivo        7032 non-null   int64  \n",
      " 11  Soporte_tecnico               7032 non-null   int64  \n",
      " 12  TV_en_streaming               7032 non-null   int64  \n",
      " 13  Peliculas_en_streaming        7032 non-null   int64  \n",
      " 14  Tipo_contrato                 7032 non-null   object \n",
      " 15  Factura_en_linea              7032 non-null   int64  \n",
      " 16  Metodo_pago                   7032 non-null   object \n",
      " 17  Cargo_mensual                 7032 non-null   float64\n",
      " 18  Cargos_totales                7032 non-null   float64\n",
      "dtypes: float64(2), int64(13), object(4)\n",
      "memory usage: 1.0+ MB\n"
     ]
    }
   ],
   "source": [
    "X.info()"
   ]
  },
  {
   "cell_type": "markdown",
   "id": "05ade0c4",
   "metadata": {},
   "source": [
    "## Variables categóricas"
   ]
  },
  {
   "cell_type": "code",
   "execution_count": 24,
   "id": "c88aabe3",
   "metadata": {},
   "outputs": [],
   "source": [
    "columnas_cat = list(X.select_dtypes(include='object').columns)\n",
    "\n",
    "one_hot = make_column_transformer((OneHotEncoder(drop= 'if_binary', dtype= np.int64), columnas_cat),\n",
    "                                  remainder= 'passthrough', sparse_threshold=0)\n",
    "\n",
    "\n",
    "X_codificada = one_hot.fit_transform(X)\n",
    "X_df = pd.DataFrame(X_codificada,columns=one_hot.get_feature_names_out())"
   ]
  },
  {
   "cell_type": "code",
   "execution_count": 25,
   "id": "027e1216",
   "metadata": {},
   "outputs": [
    {
     "data": {
      "text/html": [
       "<div>\n",
       "<style scoped>\n",
       "    .dataframe tbody tr th:only-of-type {\n",
       "        vertical-align: middle;\n",
       "    }\n",
       "\n",
       "    .dataframe tbody tr th {\n",
       "        vertical-align: top;\n",
       "    }\n",
       "\n",
       "    .dataframe thead th {\n",
       "        text-align: right;\n",
       "    }\n",
       "</style>\n",
       "<table border=\"1\" class=\"dataframe\">\n",
       "  <thead>\n",
       "    <tr style=\"text-align: right;\">\n",
       "      <th></th>\n",
       "      <th>onehotencoder__Genero_Male</th>\n",
       "      <th>onehotencoder__Tipo_servicio_internet_DSL</th>\n",
       "      <th>onehotencoder__Tipo_servicio_internet_Fibra Optica</th>\n",
       "      <th>onehotencoder__Tipo_servicio_internet_Sin servicio</th>\n",
       "      <th>onehotencoder__Tipo_contrato_Dos años</th>\n",
       "      <th>onehotencoder__Tipo_contrato_Mes a mes</th>\n",
       "      <th>onehotencoder__Tipo_contrato_Un año</th>\n",
       "      <th>onehotencoder__Metodo_pago_Cheque electrónico</th>\n",
       "      <th>onehotencoder__Metodo_pago_Cheque por enviado por correo</th>\n",
       "      <th>onehotencoder__Metodo_pago_Tarjeta de crédito (automática)</th>\n",
       "      <th>...</th>\n",
       "      <th>remainder__Lineas_telefonicas_multiples</th>\n",
       "      <th>remainder__Seguridad_en_linea</th>\n",
       "      <th>remainder__Respaldo_en_linea</th>\n",
       "      <th>remainder__Proteccion_dispositivo</th>\n",
       "      <th>remainder__Soporte_tecnico</th>\n",
       "      <th>remainder__TV_en_streaming</th>\n",
       "      <th>remainder__Peliculas_en_streaming</th>\n",
       "      <th>remainder__Factura_en_linea</th>\n",
       "      <th>remainder__Cargo_mensual</th>\n",
       "      <th>remainder__Cargos_totales</th>\n",
       "    </tr>\n",
       "  </thead>\n",
       "  <tbody>\n",
       "    <tr>\n",
       "      <th>0</th>\n",
       "      <td>0.0</td>\n",
       "      <td>1.0</td>\n",
       "      <td>0.0</td>\n",
       "      <td>0.0</td>\n",
       "      <td>0.0</td>\n",
       "      <td>0.0</td>\n",
       "      <td>1.0</td>\n",
       "      <td>0.0</td>\n",
       "      <td>1.0</td>\n",
       "      <td>0.0</td>\n",
       "      <td>...</td>\n",
       "      <td>0.0</td>\n",
       "      <td>0.0</td>\n",
       "      <td>1.0</td>\n",
       "      <td>0.0</td>\n",
       "      <td>1.0</td>\n",
       "      <td>1.0</td>\n",
       "      <td>0.0</td>\n",
       "      <td>1.0</td>\n",
       "      <td>0.471144</td>\n",
       "      <td>0.066294</td>\n",
       "    </tr>\n",
       "    <tr>\n",
       "      <th>1</th>\n",
       "      <td>1.0</td>\n",
       "      <td>1.0</td>\n",
       "      <td>0.0</td>\n",
       "      <td>0.0</td>\n",
       "      <td>0.0</td>\n",
       "      <td>1.0</td>\n",
       "      <td>0.0</td>\n",
       "      <td>0.0</td>\n",
       "      <td>1.0</td>\n",
       "      <td>0.0</td>\n",
       "      <td>...</td>\n",
       "      <td>1.0</td>\n",
       "      <td>0.0</td>\n",
       "      <td>0.0</td>\n",
       "      <td>0.0</td>\n",
       "      <td>0.0</td>\n",
       "      <td>0.0</td>\n",
       "      <td>1.0</td>\n",
       "      <td>0.0</td>\n",
       "      <td>0.414428</td>\n",
       "      <td>0.060420</td>\n",
       "    </tr>\n",
       "    <tr>\n",
       "      <th>2</th>\n",
       "      <td>1.0</td>\n",
       "      <td>0.0</td>\n",
       "      <td>1.0</td>\n",
       "      <td>0.0</td>\n",
       "      <td>0.0</td>\n",
       "      <td>1.0</td>\n",
       "      <td>0.0</td>\n",
       "      <td>1.0</td>\n",
       "      <td>0.0</td>\n",
       "      <td>0.0</td>\n",
       "      <td>...</td>\n",
       "      <td>0.0</td>\n",
       "      <td>0.0</td>\n",
       "      <td>0.0</td>\n",
       "      <td>1.0</td>\n",
       "      <td>0.0</td>\n",
       "      <td>0.0</td>\n",
       "      <td>0.0</td>\n",
       "      <td>1.0</td>\n",
       "      <td>0.553731</td>\n",
       "      <td>0.030239</td>\n",
       "    </tr>\n",
       "    <tr>\n",
       "      <th>3</th>\n",
       "      <td>1.0</td>\n",
       "      <td>0.0</td>\n",
       "      <td>1.0</td>\n",
       "      <td>0.0</td>\n",
       "      <td>0.0</td>\n",
       "      <td>1.0</td>\n",
       "      <td>0.0</td>\n",
       "      <td>1.0</td>\n",
       "      <td>0.0</td>\n",
       "      <td>0.0</td>\n",
       "      <td>...</td>\n",
       "      <td>0.0</td>\n",
       "      <td>0.0</td>\n",
       "      <td>1.0</td>\n",
       "      <td>1.0</td>\n",
       "      <td>0.0</td>\n",
       "      <td>1.0</td>\n",
       "      <td>1.0</td>\n",
       "      <td>1.0</td>\n",
       "      <td>0.793532</td>\n",
       "      <td>0.140670</td>\n",
       "    </tr>\n",
       "    <tr>\n",
       "      <th>4</th>\n",
       "      <td>0.0</td>\n",
       "      <td>0.0</td>\n",
       "      <td>1.0</td>\n",
       "      <td>0.0</td>\n",
       "      <td>0.0</td>\n",
       "      <td>1.0</td>\n",
       "      <td>0.0</td>\n",
       "      <td>0.0</td>\n",
       "      <td>1.0</td>\n",
       "      <td>0.0</td>\n",
       "      <td>...</td>\n",
       "      <td>0.0</td>\n",
       "      <td>0.0</td>\n",
       "      <td>0.0</td>\n",
       "      <td>0.0</td>\n",
       "      <td>1.0</td>\n",
       "      <td>1.0</td>\n",
       "      <td>0.0</td>\n",
       "      <td>1.0</td>\n",
       "      <td>0.653234</td>\n",
       "      <td>0.028687</td>\n",
       "    </tr>\n",
       "    <tr>\n",
       "      <th>...</th>\n",
       "      <td>...</td>\n",
       "      <td>...</td>\n",
       "      <td>...</td>\n",
       "      <td>...</td>\n",
       "      <td>...</td>\n",
       "      <td>...</td>\n",
       "      <td>...</td>\n",
       "      <td>...</td>\n",
       "      <td>...</td>\n",
       "      <td>...</td>\n",
       "      <td>...</td>\n",
       "      <td>...</td>\n",
       "      <td>...</td>\n",
       "      <td>...</td>\n",
       "      <td>...</td>\n",
       "      <td>...</td>\n",
       "      <td>...</td>\n",
       "      <td>...</td>\n",
       "      <td>...</td>\n",
       "      <td>...</td>\n",
       "      <td>...</td>\n",
       "    </tr>\n",
       "    <tr>\n",
       "      <th>7027</th>\n",
       "      <td>0.0</td>\n",
       "      <td>1.0</td>\n",
       "      <td>0.0</td>\n",
       "      <td>0.0</td>\n",
       "      <td>0.0</td>\n",
       "      <td>0.0</td>\n",
       "      <td>1.0</td>\n",
       "      <td>0.0</td>\n",
       "      <td>1.0</td>\n",
       "      <td>0.0</td>\n",
       "      <td>...</td>\n",
       "      <td>0.0</td>\n",
       "      <td>1.0</td>\n",
       "      <td>0.0</td>\n",
       "      <td>0.0</td>\n",
       "      <td>1.0</td>\n",
       "      <td>0.0</td>\n",
       "      <td>0.0</td>\n",
       "      <td>0.0</td>\n",
       "      <td>0.367164</td>\n",
       "      <td>0.083556</td>\n",
       "    </tr>\n",
       "    <tr>\n",
       "      <th>7028</th>\n",
       "      <td>1.0</td>\n",
       "      <td>0.0</td>\n",
       "      <td>1.0</td>\n",
       "      <td>0.0</td>\n",
       "      <td>0.0</td>\n",
       "      <td>1.0</td>\n",
       "      <td>0.0</td>\n",
       "      <td>1.0</td>\n",
       "      <td>0.0</td>\n",
       "      <td>0.0</td>\n",
       "      <td>...</td>\n",
       "      <td>1.0</td>\n",
       "      <td>0.0</td>\n",
       "      <td>0.0</td>\n",
       "      <td>0.0</td>\n",
       "      <td>0.0</td>\n",
       "      <td>0.0</td>\n",
       "      <td>1.0</td>\n",
       "      <td>1.0</td>\n",
       "      <td>0.665174</td>\n",
       "      <td>0.214043</td>\n",
       "    </tr>\n",
       "    <tr>\n",
       "      <th>7029</th>\n",
       "      <td>1.0</td>\n",
       "      <td>1.0</td>\n",
       "      <td>0.0</td>\n",
       "      <td>0.0</td>\n",
       "      <td>0.0</td>\n",
       "      <td>1.0</td>\n",
       "      <td>0.0</td>\n",
       "      <td>0.0</td>\n",
       "      <td>1.0</td>\n",
       "      <td>0.0</td>\n",
       "      <td>...</td>\n",
       "      <td>0.0</td>\n",
       "      <td>0.0</td>\n",
       "      <td>1.0</td>\n",
       "      <td>0.0</td>\n",
       "      <td>0.0</td>\n",
       "      <td>0.0</td>\n",
       "      <td>0.0</td>\n",
       "      <td>1.0</td>\n",
       "      <td>0.318905</td>\n",
       "      <td>0.008533</td>\n",
       "    </tr>\n",
       "    <tr>\n",
       "      <th>7030</th>\n",
       "      <td>1.0</td>\n",
       "      <td>1.0</td>\n",
       "      <td>0.0</td>\n",
       "      <td>0.0</td>\n",
       "      <td>1.0</td>\n",
       "      <td>0.0</td>\n",
       "      <td>0.0</td>\n",
       "      <td>0.0</td>\n",
       "      <td>1.0</td>\n",
       "      <td>0.0</td>\n",
       "      <td>...</td>\n",
       "      <td>0.0</td>\n",
       "      <td>1.0</td>\n",
       "      <td>0.0</td>\n",
       "      <td>1.0</td>\n",
       "      <td>1.0</td>\n",
       "      <td>0.0</td>\n",
       "      <td>1.0</td>\n",
       "      <td>0.0</td>\n",
       "      <td>0.493532</td>\n",
       "      <td>0.531831</td>\n",
       "    </tr>\n",
       "    <tr>\n",
       "      <th>7031</th>\n",
       "      <td>1.0</td>\n",
       "      <td>1.0</td>\n",
       "      <td>0.0</td>\n",
       "      <td>0.0</td>\n",
       "      <td>1.0</td>\n",
       "      <td>0.0</td>\n",
       "      <td>0.0</td>\n",
       "      <td>1.0</td>\n",
       "      <td>0.0</td>\n",
       "      <td>0.0</td>\n",
       "      <td>...</td>\n",
       "      <td>0.0</td>\n",
       "      <td>1.0</td>\n",
       "      <td>1.0</td>\n",
       "      <td>1.0</td>\n",
       "      <td>0.0</td>\n",
       "      <td>1.0</td>\n",
       "      <td>1.0</td>\n",
       "      <td>0.0</td>\n",
       "      <td>0.405473</td>\n",
       "      <td>0.425664</td>\n",
       "    </tr>\n",
       "  </tbody>\n",
       "</table>\n",
       "<p>7032 rows × 26 columns</p>\n",
       "</div>"
      ],
      "text/plain": [
       "      onehotencoder__Genero_Male  onehotencoder__Tipo_servicio_internet_DSL  \\\n",
       "0                            0.0                                        1.0   \n",
       "1                            1.0                                        1.0   \n",
       "2                            1.0                                        0.0   \n",
       "3                            1.0                                        0.0   \n",
       "4                            0.0                                        0.0   \n",
       "...                          ...                                        ...   \n",
       "7027                         0.0                                        1.0   \n",
       "7028                         1.0                                        0.0   \n",
       "7029                         1.0                                        1.0   \n",
       "7030                         1.0                                        1.0   \n",
       "7031                         1.0                                        1.0   \n",
       "\n",
       "      onehotencoder__Tipo_servicio_internet_Fibra Optica  \\\n",
       "0                                                   0.0    \n",
       "1                                                   0.0    \n",
       "2                                                   1.0    \n",
       "3                                                   1.0    \n",
       "4                                                   1.0    \n",
       "...                                                 ...    \n",
       "7027                                                0.0    \n",
       "7028                                                1.0    \n",
       "7029                                                0.0    \n",
       "7030                                                0.0    \n",
       "7031                                                0.0    \n",
       "\n",
       "      onehotencoder__Tipo_servicio_internet_Sin servicio  \\\n",
       "0                                                   0.0    \n",
       "1                                                   0.0    \n",
       "2                                                   0.0    \n",
       "3                                                   0.0    \n",
       "4                                                   0.0    \n",
       "...                                                 ...    \n",
       "7027                                                0.0    \n",
       "7028                                                0.0    \n",
       "7029                                                0.0    \n",
       "7030                                                0.0    \n",
       "7031                                                0.0    \n",
       "\n",
       "      onehotencoder__Tipo_contrato_Dos años  \\\n",
       "0                                       0.0   \n",
       "1                                       0.0   \n",
       "2                                       0.0   \n",
       "3                                       0.0   \n",
       "4                                       0.0   \n",
       "...                                     ...   \n",
       "7027                                    0.0   \n",
       "7028                                    0.0   \n",
       "7029                                    0.0   \n",
       "7030                                    1.0   \n",
       "7031                                    1.0   \n",
       "\n",
       "      onehotencoder__Tipo_contrato_Mes a mes  \\\n",
       "0                                        0.0   \n",
       "1                                        1.0   \n",
       "2                                        1.0   \n",
       "3                                        1.0   \n",
       "4                                        1.0   \n",
       "...                                      ...   \n",
       "7027                                     0.0   \n",
       "7028                                     1.0   \n",
       "7029                                     1.0   \n",
       "7030                                     0.0   \n",
       "7031                                     0.0   \n",
       "\n",
       "      onehotencoder__Tipo_contrato_Un año  \\\n",
       "0                                     1.0   \n",
       "1                                     0.0   \n",
       "2                                     0.0   \n",
       "3                                     0.0   \n",
       "4                                     0.0   \n",
       "...                                   ...   \n",
       "7027                                  1.0   \n",
       "7028                                  0.0   \n",
       "7029                                  0.0   \n",
       "7030                                  0.0   \n",
       "7031                                  0.0   \n",
       "\n",
       "      onehotencoder__Metodo_pago_Cheque electrónico  \\\n",
       "0                                               0.0   \n",
       "1                                               0.0   \n",
       "2                                               1.0   \n",
       "3                                               1.0   \n",
       "4                                               0.0   \n",
       "...                                             ...   \n",
       "7027                                            0.0   \n",
       "7028                                            1.0   \n",
       "7029                                            0.0   \n",
       "7030                                            0.0   \n",
       "7031                                            1.0   \n",
       "\n",
       "      onehotencoder__Metodo_pago_Cheque por enviado por correo  \\\n",
       "0                                                   1.0          \n",
       "1                                                   1.0          \n",
       "2                                                   0.0          \n",
       "3                                                   0.0          \n",
       "4                                                   1.0          \n",
       "...                                                 ...          \n",
       "7027                                                1.0          \n",
       "7028                                                0.0          \n",
       "7029                                                1.0          \n",
       "7030                                                1.0          \n",
       "7031                                                0.0          \n",
       "\n",
       "      onehotencoder__Metodo_pago_Tarjeta de crédito (automática)  ...  \\\n",
       "0                                                   0.0           ...   \n",
       "1                                                   0.0           ...   \n",
       "2                                                   0.0           ...   \n",
       "3                                                   0.0           ...   \n",
       "4                                                   0.0           ...   \n",
       "...                                                 ...           ...   \n",
       "7027                                                0.0           ...   \n",
       "7028                                                0.0           ...   \n",
       "7029                                                0.0           ...   \n",
       "7030                                                0.0           ...   \n",
       "7031                                                0.0           ...   \n",
       "\n",
       "      remainder__Lineas_telefonicas_multiples  remainder__Seguridad_en_linea  \\\n",
       "0                                         0.0                            0.0   \n",
       "1                                         1.0                            0.0   \n",
       "2                                         0.0                            0.0   \n",
       "3                                         0.0                            0.0   \n",
       "4                                         0.0                            0.0   \n",
       "...                                       ...                            ...   \n",
       "7027                                      0.0                            1.0   \n",
       "7028                                      1.0                            0.0   \n",
       "7029                                      0.0                            0.0   \n",
       "7030                                      0.0                            1.0   \n",
       "7031                                      0.0                            1.0   \n",
       "\n",
       "      remainder__Respaldo_en_linea  remainder__Proteccion_dispositivo  \\\n",
       "0                              1.0                                0.0   \n",
       "1                              0.0                                0.0   \n",
       "2                              0.0                                1.0   \n",
       "3                              1.0                                1.0   \n",
       "4                              0.0                                0.0   \n",
       "...                            ...                                ...   \n",
       "7027                           0.0                                0.0   \n",
       "7028                           0.0                                0.0   \n",
       "7029                           1.0                                0.0   \n",
       "7030                           0.0                                1.0   \n",
       "7031                           1.0                                1.0   \n",
       "\n",
       "      remainder__Soporte_tecnico  remainder__TV_en_streaming  \\\n",
       "0                            1.0                         1.0   \n",
       "1                            0.0                         0.0   \n",
       "2                            0.0                         0.0   \n",
       "3                            0.0                         1.0   \n",
       "4                            1.0                         1.0   \n",
       "...                          ...                         ...   \n",
       "7027                         1.0                         0.0   \n",
       "7028                         0.0                         0.0   \n",
       "7029                         0.0                         0.0   \n",
       "7030                         1.0                         0.0   \n",
       "7031                         0.0                         1.0   \n",
       "\n",
       "      remainder__Peliculas_en_streaming  remainder__Factura_en_linea  \\\n",
       "0                                   0.0                          1.0   \n",
       "1                                   1.0                          0.0   \n",
       "2                                   0.0                          1.0   \n",
       "3                                   1.0                          1.0   \n",
       "4                                   0.0                          1.0   \n",
       "...                                 ...                          ...   \n",
       "7027                                0.0                          0.0   \n",
       "7028                                1.0                          1.0   \n",
       "7029                                0.0                          1.0   \n",
       "7030                                1.0                          0.0   \n",
       "7031                                1.0                          0.0   \n",
       "\n",
       "      remainder__Cargo_mensual  remainder__Cargos_totales  \n",
       "0                     0.471144                   0.066294  \n",
       "1                     0.414428                   0.060420  \n",
       "2                     0.553731                   0.030239  \n",
       "3                     0.793532                   0.140670  \n",
       "4                     0.653234                   0.028687  \n",
       "...                        ...                        ...  \n",
       "7027                  0.367164                   0.083556  \n",
       "7028                  0.665174                   0.214043  \n",
       "7029                  0.318905                   0.008533  \n",
       "7030                  0.493532                   0.531831  \n",
       "7031                  0.405473                   0.425664  \n",
       "\n",
       "[7032 rows x 26 columns]"
      ]
     },
     "execution_count": 25,
     "metadata": {},
     "output_type": "execute_result"
    }
   ],
   "source": [
    "X_df"
   ]
  },
  {
   "cell_type": "markdown",
   "id": "a3ddc7f4",
   "metadata": {},
   "source": [
    "## Selección de variables"
   ]
  },
  {
   "cell_type": "code",
   "execution_count": 26,
   "id": "2e94b88b",
   "metadata": {},
   "outputs": [
    {
     "name": "stderr",
     "output_type": "stream",
     "text": [
      "c:\\Users\\erik-\\AppData\\Local\\Programs\\Python\\Python312\\Lib\\site-packages\\statsmodels\\stats\\outliers_influence.py:197: RuntimeWarning:\n",
      "\n",
      "divide by zero encountered in scalar divide\n",
      "\n"
     ]
    },
    {
     "data": {
      "text/html": [
       "<div>\n",
       "<style scoped>\n",
       "    .dataframe tbody tr th:only-of-type {\n",
       "        vertical-align: middle;\n",
       "    }\n",
       "\n",
       "    .dataframe tbody tr th {\n",
       "        vertical-align: top;\n",
       "    }\n",
       "\n",
       "    .dataframe thead th {\n",
       "        text-align: right;\n",
       "    }\n",
       "</style>\n",
       "<table border=\"1\" class=\"dataframe\">\n",
       "  <thead>\n",
       "    <tr style=\"text-align: right;\">\n",
       "      <th></th>\n",
       "      <th>Variable</th>\n",
       "      <th>VIF</th>\n",
       "    </tr>\n",
       "  </thead>\n",
       "  <tbody>\n",
       "    <tr>\n",
       "      <th>1</th>\n",
       "      <td>onehotencoder__Tipo_servicio_internet_DSL</td>\n",
       "      <td>inf</td>\n",
       "    </tr>\n",
       "    <tr>\n",
       "      <th>2</th>\n",
       "      <td>onehotencoder__Tipo_servicio_internet_Fibra Op...</td>\n",
       "      <td>inf</td>\n",
       "    </tr>\n",
       "    <tr>\n",
       "      <th>6</th>\n",
       "      <td>onehotencoder__Tipo_contrato_Un año</td>\n",
       "      <td>inf</td>\n",
       "    </tr>\n",
       "    <tr>\n",
       "      <th>3</th>\n",
       "      <td>onehotencoder__Tipo_servicio_internet_Sin serv...</td>\n",
       "      <td>inf</td>\n",
       "    </tr>\n",
       "    <tr>\n",
       "      <th>4</th>\n",
       "      <td>onehotencoder__Tipo_contrato_Dos años</td>\n",
       "      <td>inf</td>\n",
       "    </tr>\n",
       "    <tr>\n",
       "      <th>5</th>\n",
       "      <td>onehotencoder__Tipo_contrato_Mes a mes</td>\n",
       "      <td>inf</td>\n",
       "    </tr>\n",
       "    <tr>\n",
       "      <th>8</th>\n",
       "      <td>onehotencoder__Metodo_pago_Cheque por enviado ...</td>\n",
       "      <td>inf</td>\n",
       "    </tr>\n",
       "    <tr>\n",
       "      <th>7</th>\n",
       "      <td>onehotencoder__Metodo_pago_Cheque electrónico</td>\n",
       "      <td>inf</td>\n",
       "    </tr>\n",
       "    <tr>\n",
       "      <th>9</th>\n",
       "      <td>onehotencoder__Metodo_pago_Tarjeta de crédito ...</td>\n",
       "      <td>inf</td>\n",
       "    </tr>\n",
       "    <tr>\n",
       "      <th>10</th>\n",
       "      <td>onehotencoder__Metodo_pago_Transferencia banca...</td>\n",
       "      <td>inf</td>\n",
       "    </tr>\n",
       "    <tr>\n",
       "      <th>24</th>\n",
       "      <td>remainder__Cargo_mensual</td>\n",
       "      <td>866.089640</td>\n",
       "    </tr>\n",
       "    <tr>\n",
       "      <th>15</th>\n",
       "      <td>remainder__Servicio_telefonico</td>\n",
       "      <td>34.893857</td>\n",
       "    </tr>\n",
       "    <tr>\n",
       "      <th>22</th>\n",
       "      <td>remainder__Peliculas_en_streaming</td>\n",
       "      <td>24.156394</td>\n",
       "    </tr>\n",
       "    <tr>\n",
       "      <th>21</th>\n",
       "      <td>remainder__TV_en_streaming</td>\n",
       "      <td>24.080019</td>\n",
       "    </tr>\n",
       "    <tr>\n",
       "      <th>25</th>\n",
       "      <td>remainder__Cargos_totales</td>\n",
       "      <td>10.811490</td>\n",
       "    </tr>\n",
       "    <tr>\n",
       "      <th>14</th>\n",
       "      <td>remainder__Meses_contrato</td>\n",
       "      <td>7.584400</td>\n",
       "    </tr>\n",
       "    <tr>\n",
       "      <th>16</th>\n",
       "      <td>remainder__Lineas_telefonicas_multiples</td>\n",
       "      <td>7.289761</td>\n",
       "    </tr>\n",
       "    <tr>\n",
       "      <th>19</th>\n",
       "      <td>remainder__Proteccion_dispositivo</td>\n",
       "      <td>6.924754</td>\n",
       "    </tr>\n",
       "    <tr>\n",
       "      <th>18</th>\n",
       "      <td>remainder__Respaldo_en_linea</td>\n",
       "      <td>6.796678</td>\n",
       "    </tr>\n",
       "    <tr>\n",
       "      <th>20</th>\n",
       "      <td>remainder__Soporte_tecnico</td>\n",
       "      <td>6.476508</td>\n",
       "    </tr>\n",
       "    <tr>\n",
       "      <th>17</th>\n",
       "      <td>remainder__Seguridad_en_linea</td>\n",
       "      <td>6.338349</td>\n",
       "    </tr>\n",
       "  </tbody>\n",
       "</table>\n",
       "</div>"
      ],
      "text/plain": [
       "                                             Variable         VIF\n",
       "1           onehotencoder__Tipo_servicio_internet_DSL         inf\n",
       "2   onehotencoder__Tipo_servicio_internet_Fibra Op...         inf\n",
       "6                 onehotencoder__Tipo_contrato_Un año         inf\n",
       "3   onehotencoder__Tipo_servicio_internet_Sin serv...         inf\n",
       "4               onehotencoder__Tipo_contrato_Dos años         inf\n",
       "5              onehotencoder__Tipo_contrato_Mes a mes         inf\n",
       "8   onehotencoder__Metodo_pago_Cheque por enviado ...         inf\n",
       "7       onehotencoder__Metodo_pago_Cheque electrónico         inf\n",
       "9   onehotencoder__Metodo_pago_Tarjeta de crédito ...         inf\n",
       "10  onehotencoder__Metodo_pago_Transferencia banca...         inf\n",
       "24                           remainder__Cargo_mensual  866.089640\n",
       "15                     remainder__Servicio_telefonico   34.893857\n",
       "22                  remainder__Peliculas_en_streaming   24.156394\n",
       "21                         remainder__TV_en_streaming   24.080019\n",
       "25                          remainder__Cargos_totales   10.811490\n",
       "14                          remainder__Meses_contrato    7.584400\n",
       "16            remainder__Lineas_telefonicas_multiples    7.289761\n",
       "19                  remainder__Proteccion_dispositivo    6.924754\n",
       "18                       remainder__Respaldo_en_linea    6.796678\n",
       "20                         remainder__Soporte_tecnico    6.476508\n",
       "17                      remainder__Seguridad_en_linea    6.338349"
      ]
     },
     "metadata": {},
     "output_type": "display_data"
    }
   ],
   "source": [
    "def calcular_vif(X):\n",
    "    vif_data = pd.DataFrame()\n",
    "    vif_data[\"Variable\"] = X.columns\n",
    "    vif_data[\"VIF\"] = [variance_inflation_factor(X.values, i) for i in range(X.shape[1])]\n",
    "    return vif_data.sort_values(by=\"VIF\", ascending=False)\n",
    "\n",
    "vif_resultados = calcular_vif(X_df)\n",
    "display(vif_resultados[vif_resultados['VIF'] > 5]) "
   ]
  },
  {
   "cell_type": "code",
   "execution_count": 27,
   "id": "f0f72077",
   "metadata": {},
   "outputs": [
    {
     "data": {
      "text/plain": [
       "Index(['onehotencoder__Genero_Male',\n",
       "       'onehotencoder__Tipo_servicio_internet_DSL',\n",
       "       'onehotencoder__Tipo_servicio_internet_Fibra Optica',\n",
       "       'onehotencoder__Tipo_servicio_internet_Sin servicio',\n",
       "       'onehotencoder__Tipo_contrato_Dos años',\n",
       "       'onehotencoder__Tipo_contrato_Mes a mes',\n",
       "       'onehotencoder__Tipo_contrato_Un año',\n",
       "       'onehotencoder__Metodo_pago_Cheque electrónico',\n",
       "       'onehotencoder__Metodo_pago_Cheque por enviado por correo',\n",
       "       'onehotencoder__Metodo_pago_Tarjeta de crédito (automática)',\n",
       "       'onehotencoder__Metodo_pago_Transferencia bancaria (automática)',\n",
       "       'remainder__Es_mayor_de_edad', 'remainder__Pareja',\n",
       "       'remainder__Dependientes', 'remainder__Meses_contrato',\n",
       "       'remainder__Servicio_telefonico',\n",
       "       'remainder__Lineas_telefonicas_multiples',\n",
       "       'remainder__Seguridad_en_linea', 'remainder__Respaldo_en_linea',\n",
       "       'remainder__Proteccion_dispositivo', 'remainder__Soporte_tecnico',\n",
       "       'remainder__TV_en_streaming', 'remainder__Peliculas_en_streaming',\n",
       "       'remainder__Factura_en_linea', 'remainder__Cargo_mensual',\n",
       "       'remainder__Cargos_totales'],\n",
       "      dtype='object')"
      ]
     },
     "execution_count": 27,
     "metadata": {},
     "output_type": "execute_result"
    }
   ],
   "source": [
    "X_df.columns"
   ]
  },
  {
   "cell_type": "code",
   "execution_count": 28,
   "id": "d7b9838b",
   "metadata": {},
   "outputs": [],
   "source": [
    "X_df.drop(columns = ['onehotencoder__Tipo_servicio_internet_Sin servicio', 'remainder__Cargo_mensual', 'onehotencoder__Tipo_contrato_Mes a mes', 'onehotencoder__Metodo_pago_Cheque por enviado por correo', 'remainder__Cargos_totales'], inplace= True)"
   ]
  },
  {
   "cell_type": "code",
   "execution_count": 29,
   "id": "6bed338c",
   "metadata": {},
   "outputs": [
    {
     "data": {
      "text/html": [
       "<div>\n",
       "<style scoped>\n",
       "    .dataframe tbody tr th:only-of-type {\n",
       "        vertical-align: middle;\n",
       "    }\n",
       "\n",
       "    .dataframe tbody tr th {\n",
       "        vertical-align: top;\n",
       "    }\n",
       "\n",
       "    .dataframe thead th {\n",
       "        text-align: right;\n",
       "    }\n",
       "</style>\n",
       "<table border=\"1\" class=\"dataframe\">\n",
       "  <thead>\n",
       "    <tr style=\"text-align: right;\">\n",
       "      <th></th>\n",
       "      <th>Variable</th>\n",
       "      <th>VIF</th>\n",
       "    </tr>\n",
       "  </thead>\n",
       "  <tbody>\n",
       "    <tr>\n",
       "      <th>11</th>\n",
       "      <td>remainder__Meses_contrato</td>\n",
       "      <td>7.650966</td>\n",
       "    </tr>\n",
       "    <tr>\n",
       "      <th>2</th>\n",
       "      <td>onehotencoder__Tipo_servicio_internet_Fibra Op...</td>\n",
       "      <td>6.605005</td>\n",
       "    </tr>\n",
       "    <tr>\n",
       "      <th>12</th>\n",
       "      <td>remainder__Servicio_telefonico</td>\n",
       "      <td>5.886907</td>\n",
       "    </tr>\n",
       "  </tbody>\n",
       "</table>\n",
       "</div>"
      ],
      "text/plain": [
       "                                             Variable       VIF\n",
       "11                          remainder__Meses_contrato  7.650966\n",
       "2   onehotencoder__Tipo_servicio_internet_Fibra Op...  6.605005\n",
       "12                     remainder__Servicio_telefonico  5.886907"
      ]
     },
     "metadata": {},
     "output_type": "display_data"
    }
   ],
   "source": [
    "vif_resultados = calcular_vif(X_df)\n",
    "display(vif_resultados[vif_resultados['VIF'] > 5]) "
   ]
  },
  {
   "cell_type": "markdown",
   "id": "5b6bdaf6",
   "metadata": {},
   "source": [
    "# Modelado predictivo"
   ]
  },
  {
   "cell_type": "markdown",
   "id": "8dc144f4",
   "metadata": {},
   "source": [
    "### Separación de variables explicativas y variable respuesta"
   ]
  },
  {
   "cell_type": "code",
   "execution_count": 30,
   "id": "33edc0d3",
   "metadata": {},
   "outputs": [],
   "source": [
    "# 70% entrenamiento, 15% test y 15% validación\n",
    "X_train, X_temp, y_train, y_temp = train_test_split(X_df, y, test_size=0.30, stratify=y, random_state=5)\n",
    "X_val, X_test, y_val, y_test = train_test_split(X_temp, y_temp, test_size=0.50, stratify=y_temp, random_state=5)"
   ]
  },
  {
   "cell_type": "markdown",
   "id": "76d39b58",
   "metadata": {},
   "source": [
    "## Normalizacion de variable respuesta"
   ]
  },
  {
   "cell_type": "code",
   "execution_count": 31,
   "id": "dbee9292",
   "metadata": {},
   "outputs": [],
   "source": [
    "oversampling = SMOTE(random_state= 5)\n",
    "X_train_balanceada, y_train_balanceada = oversampling.fit_resample(X_train,y_train)"
   ]
  },
  {
   "cell_type": "code",
   "execution_count": 32,
   "id": "827e6f60",
   "metadata": {},
   "outputs": [],
   "source": [
    "def evaluacion_modelos(y_real, y_pred):\n",
    "    print(f'Exactitud: {round(accuracy_score(y_real, y_pred), 3)}')\n",
    "    print(f'Precisión: {round(precision_score(y_real, y_pred, zero_division=0), 3)}')\n",
    "    print(f'Recall: {round(recall_score(y_real, y_pred, zero_division=0), 3)}')\n",
    "    print(f'F1 Score: {round(f1_score(y_real, y_pred, zero_division=0), 3)}')\n",
    "    matriz_confusion_modelo = confusion_matrix(y_real, y_pred)\n",
    "    visualizacion_matriz_confusion = ConfusionMatrixDisplay(matriz_confusion_modelo, display_labels=['No Abandono', 'Abandono'])\n",
    "    visualizacion_matriz_confusion.plot();\n"
   ]
  },
  {
   "cell_type": "code",
   "execution_count": 33,
   "id": "a4dfab5c",
   "metadata": {},
   "outputs": [
    {
     "name": "stdout",
     "output_type": "stream",
     "text": [
      "Exactitud: 0.5\n",
      "Precisión: 0.5\n",
      "Recall: 0.2\n",
      "F1 Score: 0.285\n"
     ]
    },
    {
     "data": {
      "image/png": "[encoded data removed]",
      "text/plain": [
       "<Figure size 640x480 with 2 Axes>"
      ]
     },
     "metadata": {},
     "output_type": "display_data"
    }
   ],
   "source": [
    "modelo_dummy = DummyClassifier()\n",
    "skf = StratifiedKFold(n_splits=5, shuffle=True, random_state=5)\n",
    "y_predict_cv_dummy = cross_val_predict(modelo_dummy, X_train_balanceada, y_train_balanceada, cv = skf)\n",
    "evaluacion_modelos(y_train_balanceada,y_predict_cv_dummy)"
   ]
  },
  {
   "cell_type": "code",
   "execution_count": 34,
   "id": "c6ea248e",
   "metadata": {},
   "outputs": [
    {
     "name": "stdout",
     "output_type": "stream",
     "text": [
      "Exactitud: 0.8\n",
      "Precisión: 0.793\n",
      "Recall: 0.811\n",
      "F1 Score: 0.802\n"
     ]
    },
    {
     "data": {
      "image/png": "[encoded data removed]",
      "text/plain": [
       "<Figure size 640x480 with 2 Axes>"
      ]
     },
     "metadata": {},
     "output_type": "display_data"
    }
   ],
   "source": [
    "modelo_arbol = DecisionTreeClassifier(random_state= 5)\n",
    "y_pred_cv_arbol = cross_val_predict(modelo_arbol,X_train_balanceada,y_train_balanceada, cv = skf)\n",
    "resultados_arbol = evaluacion_modelos(y_train_balanceada,y_pred_cv_arbol)\n"
   ]
  },
  {
   "cell_type": "code",
   "execution_count": 35,
   "id": "07ac557d",
   "metadata": {},
   "outputs": [
    {
     "name": "stdout",
     "output_type": "stream",
     "text": [
      "Exactitud: 0.856\n",
      "Precisión: 0.863\n",
      "Recall: 0.845\n",
      "F1 Score: 0.854\n"
     ]
    },
    {
     "data": {
      "image/png": "[encoded data removed]",
      "text/plain": [
       "<Figure size 640x480 with 2 Axes>"
      ]
     },
     "metadata": {},
     "output_type": "display_data"
    }
   ],
   "source": [
    "modelo_rf = RandomForestClassifier(random_state= 5)\n",
    "y_pred_cv_rf = cross_val_predict(modelo_rf, X_train_balanceada, y_train_balanceada, cv = skf)\n",
    "\n",
    "resultados_random = evaluacion_modelos(y_train_balanceada,y_pred_cv_rf)\n"
   ]
  },
  {
   "cell_type": "code",
   "execution_count": 36,
   "id": "842d0ba1",
   "metadata": {},
   "outputs": [
    {
     "name": "stdout",
     "output_type": "stream",
     "text": [
      "Exactitud: 0.793\n",
      "Precisión: 0.732\n",
      "Recall: 0.925\n",
      "F1 Score: 0.817\n"
     ]
    },
    {
     "data": {
      "image/png": "[encoded data removed]",
      "text/plain": [
       "<Figure size 640x480 with 2 Axes>"
      ]
     },
     "metadata": {},
     "output_type": "display_data"
    }
   ],
   "source": [
    "modelo_knn = KNeighborsClassifier()\n",
    "y_pred_cv_knn = cross_val_predict(modelo_knn, X_train_balanceada, y_train_balanceada, cv = skf)\n",
    "\n",
    "resultados_knn = evaluacion_modelos(y_train_balanceada,y_pred_cv_knn)"
   ]
  },
  {
   "cell_type": "code",
   "execution_count": 37,
   "id": "18160ccf",
   "metadata": {},
   "outputs": [
    {
     "data": {
      "text/html": [
       "<div>\n",
       "<style scoped>\n",
       "    .dataframe tbody tr th:only-of-type {\n",
       "        vertical-align: middle;\n",
       "    }\n",
       "\n",
       "    .dataframe tbody tr th {\n",
       "        vertical-align: top;\n",
       "    }\n",
       "\n",
       "    .dataframe thead th {\n",
       "        text-align: right;\n",
       "    }\n",
       "</style>\n",
       "<table border=\"1\" class=\"dataframe\">\n",
       "  <thead>\n",
       "    <tr style=\"text-align: right;\">\n",
       "      <th></th>\n",
       "      <th>Modelo</th>\n",
       "      <th>Exactitud</th>\n",
       "      <th>Precisión</th>\n",
       "      <th>Recall</th>\n",
       "      <th>F1 Score</th>\n",
       "    </tr>\n",
       "  </thead>\n",
       "  <tbody>\n",
       "    <tr>\n",
       "      <th>2</th>\n",
       "      <td>KNN</td>\n",
       "      <td>0.673</td>\n",
       "      <td>0.429</td>\n",
       "      <td>0.696</td>\n",
       "      <td>0.531</td>\n",
       "    </tr>\n",
       "    <tr>\n",
       "      <th>0</th>\n",
       "      <td>Árbol de Decisión</td>\n",
       "      <td>0.730</td>\n",
       "      <td>0.491</td>\n",
       "      <td>0.500</td>\n",
       "      <td>0.496</td>\n",
       "    </tr>\n",
       "    <tr>\n",
       "      <th>1</th>\n",
       "      <td>Random Forest</td>\n",
       "      <td>0.764</td>\n",
       "      <td>0.563</td>\n",
       "      <td>0.493</td>\n",
       "      <td>0.526</td>\n",
       "    </tr>\n",
       "  </tbody>\n",
       "</table>\n",
       "</div>"
      ],
      "text/plain": [
       "              Modelo  Exactitud  Precisión  Recall  F1 Score\n",
       "2                KNN      0.673      0.429   0.696     0.531\n",
       "0  Árbol de Decisión      0.730      0.491   0.500     0.496\n",
       "1      Random Forest      0.764      0.563   0.493     0.526"
      ]
     },
     "metadata": {},
     "output_type": "display_data"
    }
   ],
   "source": [
    "modelo_arbol.fit(X_train_balanceada,y_train_balanceada)\n",
    "y_pred_arbol = modelo_arbol.predict(X_val)\n",
    "\n",
    "modelo_rf.fit(X_train_balanceada,y_train_balanceada)\n",
    "y_pred_rf = modelo_rf.predict(X_val)\n",
    "\n",
    "modelo_knn.fit(X_train_balanceada,y_train_balanceada)\n",
    "y_pred_knn = modelo_knn.predict(X_val)\n",
    "\n",
    "modelos = {\n",
    "    'Árbol de Decisión': y_pred_arbol,\n",
    "    'Random Forest': y_pred_rf,\n",
    "    'KNN': y_pred_knn,\n",
    "}\n",
    "\n",
    "# Creamos la tabla\n",
    "resultados = []\n",
    "\n",
    "for nombre, pred in modelos.items():\n",
    "    acc = accuracy_score(y_val, pred)\n",
    "    prec = precision_score(y_val, pred)\n",
    "    rec = recall_score(y_val, pred)\n",
    "    f1 = f1_score(y_val, pred)\n",
    "    \n",
    "    resultados.append({\n",
    "        'Modelo': nombre,\n",
    "        'Exactitud': round(acc, 3),\n",
    "        'Precisión': round(prec, 3),\n",
    "        'Recall': round(rec, 3),\n",
    "        'F1 Score': round(f1, 3)\n",
    "    })\n",
    "\n",
    "tabla_resultados = pd.DataFrame(resultados)\n",
    "\n",
    "# Mostrar la tabla ordenada por F1 Score\n",
    "tabla_resultados.sort_values(by='Recall', ascending=False, inplace=True)\n",
    "display(tabla_resultados)"
   ]
  },
  {
   "cell_type": "markdown",
   "id": "d1725740",
   "metadata": {},
   "source": [
    "## Optimización de hiperparámetros\n",
    "En este caso se decidió optimizar los hiperparámetros de los modelos utilizando la métrica de ``Recall``, ya que el objetivo principal es identificar correctamente a los clientes que abandonan la empresa, minimizando los falsos negativos."
   ]
  },
  {
   "cell_type": "code",
   "execution_count": 38,
   "id": "dfd97bb4",
   "metadata": {},
   "outputs": [
    {
     "name": "stdout",
     "output_type": "stream",
     "text": [
      "Fitting 5 folds for each of 72 candidates, totalling 360 fits\n",
      "Mejores hiperparámetros: {'criterion': 'entropy', 'max_depth': 3, 'min_samples_leaf': 1, 'min_samples_split': 2}\n",
      "Exactitud: 0.636\n",
      "Precisión: 0.412\n",
      "Recall: 0.875\n",
      "F1 Score: 0.561\n"
     ]
    },
    {
     "data": {
      "image/png": "[encoded data removed]",
      "text/plain": [
       "<Figure size 640x480 with 2 Axes>"
      ]
     },
     "metadata": {},
     "output_type": "display_data"
    }
   ],
   "source": [
    "param_grid = {\n",
    "    'max_depth': [3, 5, 10, None],\n",
    "    'min_samples_split': [2, 5, 10],\n",
    "    'min_samples_leaf': [1, 2, 4],\n",
    "    'criterion': ['gini', 'entropy']\n",
    "}\n",
    "\n",
    "arbol = DecisionTreeClassifier(random_state=5)\n",
    "\n",
    "grid_search = GridSearchCV(\n",
    "    estimator=arbol,\n",
    "    param_grid=param_grid,\n",
    "    cv=skf,\n",
    "    scoring='recall',\n",
    "    n_jobs=-1,\n",
    "    verbose=1\n",
    ")\n",
    "\n",
    "grid_search.fit(X_train_balanceada, y_train_balanceada)\n",
    "\n",
    "best_tree = grid_search.best_estimator_\n",
    "print(\"Mejores hiperparámetros:\", grid_search.best_params_)\n",
    "\n",
    "y_pred_best_tree = best_tree.predict(X_val)\n",
    "resultados_best_tree = evaluacion_modelos(y_val, y_pred_best_tree)"
   ]
  },
  {
   "cell_type": "code",
   "execution_count": 39,
   "id": "92557349",
   "metadata": {},
   "outputs": [
    {
     "name": "stdout",
     "output_type": "stream",
     "text": [
      "Fitting 5 folds for each of 108 candidates, totalling 540 fits\n",
      "Mejores hiperparámetros: {'criterion': 'entropy', 'max_depth': 5, 'min_samples_leaf': 2, 'min_samples_split': 2, 'n_estimators': 100}\n",
      "Exactitud: 0.747\n",
      "Precisión: 0.517\n",
      "Recall: 0.721\n",
      "F1 Score: 0.602\n"
     ]
    },
    {
     "data": {
      "image/png": "[encoded data removed]",
      "text/plain": [
       "<Figure size 640x480 with 2 Axes>"
      ]
     },
     "metadata": {},
     "output_type": "display_data"
    }
   ],
   "source": [
    "param_grid_rf = {\n",
    "    'n_estimators': [100, 200],\n",
    "    'max_depth': [5, 10, None],\n",
    "    'min_samples_split': [2, 5, 10],\n",
    "    'min_samples_leaf': [1, 2, 4],\n",
    "    'criterion': ['gini', 'entropy']\n",
    "}\n",
    "\n",
    "grid_search_rf = GridSearchCV(\n",
    "    estimator=RandomForestClassifier(random_state=5),\n",
    "    param_grid=param_grid_rf,\n",
    "    cv=skf,\n",
    "    scoring='recall',\n",
    "    n_jobs=-1,\n",
    "    verbose=1\n",
    ")\n",
    "\n",
    "grid_search_rf.fit(X_train_balanceada, y_train_balanceada)\n",
    "\n",
    "best_rf = grid_search_rf.best_estimator_\n",
    "print(\"Mejores hiperparámetros:\", grid_search_rf.best_params_)\n",
    "\n",
    "y_pred_best_rf = best_rf.predict(X_val)\n",
    "evaluacion_modelos(y_val, y_pred_best_rf)\n"
   ]
  },
  {
   "cell_type": "code",
   "execution_count": 40,
   "id": "95a0f4d2",
   "metadata": {},
   "outputs": [
    {
     "name": "stdout",
     "output_type": "stream",
     "text": [
      "Fitting 5 folds for each of 20 candidates, totalling 100 fits\n",
      "Mejores hiperparámetros: {'metric': 'euclidean', 'n_neighbors': 5, 'weights': 'distance'}\n",
      "Exactitud: 0.674\n",
      "Precisión: 0.428\n",
      "Recall: 0.675\n",
      "F1 Score: 0.524\n"
     ]
    },
    {
     "data": {
      "image/png": "[encoded data removed]",
      "text/plain": [
       "<Figure size 640x480 with 2 Axes>"
      ]
     },
     "metadata": {},
     "output_type": "display_data"
    }
   ],
   "source": [
    "param_grid_knn = {\n",
    "    'n_neighbors': [3, 5, 7, 9, 11],\n",
    "    'weights': ['uniform', 'distance'],\n",
    "    'metric': ['euclidean', 'manhattan']\n",
    "}\n",
    "\n",
    "grid_search_knn = GridSearchCV(\n",
    "    estimator=KNeighborsClassifier(),\n",
    "    param_grid=param_grid_knn,\n",
    "    cv=skf,\n",
    "    scoring='recall',\n",
    "    n_jobs=-1,\n",
    "    verbose=1\n",
    ")\n",
    "\n",
    "grid_search_knn.fit(X_train_balanceada, y_train_balanceada)\n",
    "\n",
    "best_knn = grid_search_knn.best_estimator_\n",
    "print(\"Mejores hiperparámetros:\", grid_search_knn.best_params_)\n",
    "\n",
    "y_pred_best_knn = best_knn.predict(X_val)\n",
    "evaluacion_modelos(y_val, y_pred_best_knn)"
   ]
  },
  {
   "cell_type": "markdown",
   "id": "2586bb49",
   "metadata": {},
   "source": [
    "# Resultados con datos de prueba y modelos con hiperparámetros"
   ]
  },
  {
   "cell_type": "code",
   "execution_count": 41,
   "id": "b49acc22",
   "metadata": {},
   "outputs": [
    {
     "data": {
      "text/html": [
       "<div>\n",
       "<style scoped>\n",
       "    .dataframe tbody tr th:only-of-type {\n",
       "        vertical-align: middle;\n",
       "    }\n",
       "\n",
       "    .dataframe tbody tr th {\n",
       "        vertical-align: top;\n",
       "    }\n",
       "\n",
       "    .dataframe thead th {\n",
       "        text-align: right;\n",
       "    }\n",
       "</style>\n",
       "<table border=\"1\" class=\"dataframe\">\n",
       "  <thead>\n",
       "    <tr style=\"text-align: right;\">\n",
       "      <th></th>\n",
       "      <th>Modelo</th>\n",
       "      <th>Exactitud</th>\n",
       "      <th>Precisión</th>\n",
       "      <th>Recall</th>\n",
       "      <th>F1 Score</th>\n",
       "    </tr>\n",
       "  </thead>\n",
       "  <tbody>\n",
       "    <tr>\n",
       "      <th>0</th>\n",
       "      <td>Árbol de decisiones con hiperparámetros</td>\n",
       "      <td>0.661</td>\n",
       "      <td>0.433</td>\n",
       "      <td>0.879</td>\n",
       "      <td>0.580</td>\n",
       "    </tr>\n",
       "    <tr>\n",
       "      <th>2</th>\n",
       "      <td>KNN con hiperparámetros</td>\n",
       "      <td>0.734</td>\n",
       "      <td>0.500</td>\n",
       "      <td>0.769</td>\n",
       "      <td>0.606</td>\n",
       "    </tr>\n",
       "    <tr>\n",
       "      <th>1</th>\n",
       "      <td>Random Forest con hiperparámetros</td>\n",
       "      <td>0.778</td>\n",
       "      <td>0.563</td>\n",
       "      <td>0.747</td>\n",
       "      <td>0.642</td>\n",
       "    </tr>\n",
       "  </tbody>\n",
       "</table>\n",
       "</div>"
      ],
      "text/plain": [
       "                                    Modelo  Exactitud  Precisión  Recall  \\\n",
       "0  Árbol de decisiones con hiperparámetros      0.661      0.433   0.879   \n",
       "2                  KNN con hiperparámetros      0.734      0.500   0.769   \n",
       "1        Random Forest con hiperparámetros      0.778      0.563   0.747   \n",
       "\n",
       "   F1 Score  \n",
       "0     0.580  \n",
       "2     0.606  \n",
       "1     0.642  "
      ]
     },
     "metadata": {},
     "output_type": "display_data"
    }
   ],
   "source": [
    "y_pred_best_tree_test = best_tree.predict(X_test)\n",
    "y_pred_best_rf_test = best_rf.predict(X_test)\n",
    "y_pred_best_knn_test = best_knn.predict(X_test)\n",
    "\n",
    "modelos = {\n",
    "    'Árbol de decisiones con hiperparámetros': y_pred_best_tree_test,\n",
    "    'Random Forest con hiperparámetros': y_pred_best_rf_test,\n",
    "    'KNN con hiperparámetros': y_pred_best_knn_test,\n",
    "}\n",
    "\n",
    "# Creamos la tabla\n",
    "resultados = []\n",
    "\n",
    "for nombre, pred in modelos.items():\n",
    "    acc = accuracy_score(y_test, pred)\n",
    "    prec = precision_score(y_test, pred)\n",
    "    rec = recall_score(y_test, pred)\n",
    "    f1 = f1_score(y_test, pred)\n",
    "    \n",
    "    resultados.append({\n",
    "        'Modelo': nombre,\n",
    "        'Exactitud': round(acc, 3),\n",
    "        'Precisión': round(prec, 3),\n",
    "        'Recall': round(rec, 3),\n",
    "        'F1 Score': round(f1, 3)\n",
    "    })\n",
    "\n",
    "tabla_resultados = pd.DataFrame(resultados)\n",
    "\n",
    "tabla_resultados.sort_values(by='Recall', ascending=False, inplace=True)\n",
    "display(tabla_resultados)"
   ]
  },
  {
   "cell_type": "markdown",
   "id": "2ccbda2f",
   "metadata": {},
   "source": [
    "Tomando en cuenta los resultados de los modelos podemos concluir que el mejor modelo es el de ***Random Forest***, debido a que tiene la mayor exactitud, precisión y F1-score, al probarlo con el conjunto de datos de prueba. Sin embargo el modelo de **KNN** mostró un buen rendimientoe e incluso un mejor nivel en el **Recall**, vamos a revisar detalladamente ambos modelos."
   ]
  },
  {
   "cell_type": "markdown",
   "id": "b46977f4",
   "metadata": {},
   "source": [
    "## Resultados detallados de los modelos Random Forest y Decision Tree"
   ]
  },
  {
   "cell_type": "code",
   "execution_count": 42,
   "id": "089ca976",
   "metadata": {},
   "outputs": [
    {
     "name": "stdout",
     "output_type": "stream",
     "text": [
      "              precision    recall  f1-score   support\n",
      "\n",
      "           0       0.90      0.79      0.84       774\n",
      "           1       0.56      0.75      0.64       281\n",
      "\n",
      "    accuracy                           0.78      1055\n",
      "   macro avg       0.73      0.77      0.74      1055\n",
      "weighted avg       0.81      0.78      0.79      1055\n",
      "\n"
     ]
    }
   ],
   "source": [
    "print(classification_report(y_test,y_pred_best_rf_test))"
   ]
  },
  {
   "cell_type": "code",
   "execution_count": 43,
   "id": "6e077af2",
   "metadata": {},
   "outputs": [
    {
     "name": "stdout",
     "output_type": "stream",
     "text": [
      "Exactitud: 0.778\n",
      "Precisión: 0.563\n",
      "Recall: 0.747\n",
      "F1 Score: 0.642\n"
     ]
    },
    {
     "data": {
      "image/png": "[encoded data removed]",
      "text/plain": [
       "<Figure size 640x480 with 2 Axes>"
      ]
     },
     "metadata": {},
     "output_type": "display_data"
    }
   ],
   "source": [
    "resultados_best_rf = evaluacion_modelos(y_test, y_pred_best_rf_test)"
   ]
  },
  {
   "cell_type": "code",
   "execution_count": 44,
   "id": "f777fc2f",
   "metadata": {},
   "outputs": [
    {
     "name": "stdout",
     "output_type": "stream",
     "text": [
      "              precision    recall  f1-score   support\n",
      "\n",
      "           0       0.93      0.58      0.72       774\n",
      "           1       0.43      0.88      0.58       281\n",
      "\n",
      "    accuracy                           0.66      1055\n",
      "   macro avg       0.68      0.73      0.65      1055\n",
      "weighted avg       0.80      0.66      0.68      1055\n",
      "\n"
     ]
    }
   ],
   "source": [
    "print(classification_report(y_test,y_pred_best_tree_test))"
   ]
  },
  {
   "cell_type": "code",
   "execution_count": 45,
   "id": "95e2f99e",
   "metadata": {},
   "outputs": [
    {
     "name": "stdout",
     "output_type": "stream",
     "text": [
      "Exactitud: 0.661\n",
      "Precisión: 0.433\n",
      "Recall: 0.879\n",
      "F1 Score: 0.58\n"
     ]
    },
    {
     "data": {
      "image/png": "[encoded data removed]",
      "text/plain": [
       "<Figure size 640x480 with 2 Axes>"
      ]
     },
     "metadata": {},
     "output_type": "display_data"
    }
   ],
   "source": [
    "resultados_best_arbol = evaluacion_modelos(y_test, y_pred_best_tree_test)"
   ]
  },
  {
   "cell_type": "markdown",
   "id": "92194211",
   "metadata": {},
   "source": [
    "Podemos observar que el modelo de **Random Forest** tiene un mejor rendimiento en prácticamente todas las métricas, excepto en el **Recall**, donde el modelo de **Decission Tree** tiene un mejor desempeño. Por lo tanto si el objetvo de la empresa es minimizar los falsos negativos, es decir, identificar correctamente a los clientes que van a abandonar la empresa, se podría considerar el modelo de **Decission Tree** como una opción viable. Sin embargo, si el objetivo es tener un modelo más equilibrado en todas las métricas, el modelo de **Random Forest** sería la mejor opción.\n",
    "\n",
    "Bajo nuestro punto de vista a la empresa le interesa conocer cuando un cliente va a abandonar la empresa, por lo que el modelo de **Decission Tree** podría ser una buena opción, ya que tiene un mejor **Recall**. "
   ]
  },
  {
   "cell_type": "markdown",
   "id": "367d327b",
   "metadata": {},
   "source": [
    "# Importancia de las variables"
   ]
  },
  {
   "cell_type": "code",
   "execution_count": 46,
   "id": "67ed8910",
   "metadata": {},
   "outputs": [],
   "source": [
    "importancia = best_tree.feature_importances_\n",
    "df_feature_importance = pd.DataFrame({'Variable': X_df.columns, 'Importancia':(importancia*100).round(2)}).sort_values('Importancia', ascending= False)\n",
    "df_feature_importance = df_feature_importance[df_feature_importance['Importancia'] > 0]\n"
   ]
  },
  {
   "cell_type": "code",
   "execution_count": 47,
   "id": "bef0c4e3",
   "metadata": {},
   "outputs": [
    {
     "data": {
      "text/html": [
       "<div>\n",
       "<style scoped>\n",
       "    .dataframe tbody tr th:only-of-type {\n",
       "        vertical-align: middle;\n",
       "    }\n",
       "\n",
       "    .dataframe tbody tr th {\n",
       "        vertical-align: top;\n",
       "    }\n",
       "\n",
       "    .dataframe thead th {\n",
       "        text-align: right;\n",
       "    }\n",
       "</style>\n",
       "<table border=\"1\" class=\"dataframe\">\n",
       "  <thead>\n",
       "    <tr style=\"text-align: right;\">\n",
       "      <th></th>\n",
       "      <th>Variable</th>\n",
       "      <th>Importancia</th>\n",
       "    </tr>\n",
       "  </thead>\n",
       "  <tbody>\n",
       "    <tr>\n",
       "      <th>3</th>\n",
       "      <td>onehotencoder__Tipo_contrato_Dos años</td>\n",
       "      <td>46.16</td>\n",
       "    </tr>\n",
       "    <tr>\n",
       "      <th>4</th>\n",
       "      <td>onehotencoder__Tipo_contrato_Un año</td>\n",
       "      <td>33.30</td>\n",
       "    </tr>\n",
       "    <tr>\n",
       "      <th>5</th>\n",
       "      <td>onehotencoder__Metodo_pago_Cheque electrónico</td>\n",
       "      <td>12.65</td>\n",
       "    </tr>\n",
       "    <tr>\n",
       "      <th>19</th>\n",
       "      <td>remainder__Peliculas_en_streaming</td>\n",
       "      <td>4.69</td>\n",
       "    </tr>\n",
       "    <tr>\n",
       "      <th>2</th>\n",
       "      <td>onehotencoder__Tipo_servicio_internet_Fibra Op...</td>\n",
       "      <td>2.68</td>\n",
       "    </tr>\n",
       "    <tr>\n",
       "      <th>8</th>\n",
       "      <td>remainder__Es_mayor_de_edad</td>\n",
       "      <td>0.51</td>\n",
       "    </tr>\n",
       "  </tbody>\n",
       "</table>\n",
       "</div>"
      ],
      "text/plain": [
       "                                             Variable  Importancia\n",
       "3               onehotencoder__Tipo_contrato_Dos años        46.16\n",
       "4                 onehotencoder__Tipo_contrato_Un año        33.30\n",
       "5       onehotencoder__Metodo_pago_Cheque electrónico        12.65\n",
       "19                  remainder__Peliculas_en_streaming         4.69\n",
       "2   onehotencoder__Tipo_servicio_internet_Fibra Op...         2.68\n",
       "8                         remainder__Es_mayor_de_edad         0.51"
      ]
     },
     "execution_count": 47,
     "metadata": {},
     "output_type": "execute_result"
    }
   ],
   "source": [
    "df_feature_importance"
   ]
  },
  {
   "cell_type": "code",
   "execution_count": 48,
   "id": "318db96c",
   "metadata": {},
   "outputs": [
    {
     "data": {
      "image/png": "[encoded data removed]",
      "text/plain": [
       "<Figure size 1200x800 with 1 Axes>"
      ]
     },
     "metadata": {},
     "output_type": "display_data"
    }
   ],
   "source": [
    "plt.figure(figsize=(12,8))\n",
    "bars = sns.barplot(\n",
    "    data=df_feature_importance,\n",
    "    y='Variable',\n",
    "    x='Importancia',\n",
    "    hue='Importancia',\n",
    "    palette='crest',\n",
    "    dodge=False, legend= False\n",
    ")\n",
    "bars.set(xlabel='Importancia (%)', ylabel='Variables')\n",
    "plt.title('Importancia de las variables - Árbol de decisiones')\n",
    "\n",
    "for i, v in enumerate(df_feature_importance['Importancia']):\n",
    "    bars.text(\n",
    "        v + 0.2,  \n",
    "        i,        \n",
    "        f'{int(round(v))}%', \n",
    "        color='black',\n",
    "        va='center',\n",
    "        fontsize=9\n",
    "    )\n",
    "\n",
    "plt.show()"
   ]
  },
  {
   "cell_type": "code",
   "execution_count": 49,
   "id": "c7516e03",
   "metadata": {},
   "outputs": [],
   "source": [
    "from imblearn.pipeline import Pipeline as imbpipeline"
   ]
  },
  {
   "cell_type": "code",
   "execution_count": 50,
   "id": "48726257",
   "metadata": {},
   "outputs": [],
   "source": [
    "columnas_cat = list(X.select_dtypes(include='object').columns)\n",
    "\n",
    "\n",
    "\n",
    "preprocesador = ColumnTransformer(transformers=[\n",
    "    ('cat', OneHotEncoder(drop= 'if_binary', dtype= np.int64), columnas_cat)\n",
    "], remainder= 'passthrough', sparse_threshold=0 )\n",
    "\n",
    "pipeline = imbpipeline(steps=[\n",
    "    ('Preprocesamiento', preprocesador),\n",
    "    ('Oversample', SMOTE(random_state=5)), \n",
    "    ('Modelo_Arbol_Hiperparámetros', best_tree)\n",
    "    ])"
   ]
  },
  {
   "cell_type": "markdown",
   "id": "38911be2",
   "metadata": {},
   "source": [
    "# Pipeline"
   ]
  },
  {
   "cell_type": "code",
   "execution_count": 51,
   "id": "785fe1da",
   "metadata": {},
   "outputs": [
    {
     "name": "stdout",
     "output_type": "stream",
     "text": [
      "Exactitud: 0.748\n",
      "Precisión: 0.521\n",
      "Recall: 0.665\n",
      "F1 Score: 0.584\n"
     ]
    },
    {
     "data": {
      "image/png": "[encoded data removed]",
      "text/plain": [
       "<Figure size 640x480 with 2 Axes>"
      ]
     },
     "metadata": {},
     "output_type": "display_data"
    }
   ],
   "source": [
    "pipeline.fit(X.loc[X_train.index], y_train)\n",
    "y_pred_pipeline = pipeline.predict(X.loc[X_test.index])\n",
    "evaluacion_modelos(y_test, y_pred_pipeline)"
   ]
  },
  {
   "cell_type": "markdown",
   "id": "c2c2b67d",
   "metadata": {},
   "source": [
    "# Guardar el modelo"
   ]
  },
  {
   "cell_type": "code",
   "execution_count": null,
   "id": "479f2188",
   "metadata": {},
   "outputs": [],
   "source": [
    "with open('best_tree_model.pkl', 'wb') as f:\n",
    "    pickle.dump(best_tree, f)"
   ]
  }
 ],
 "metadata": {
  "kernelspec": {
   "display_name": "Python 3",
   "language": "python",
   "name": "python3"
  },
  "language_info": {
   "codemirror_mode": {
    "name": "ipython",
    "version": 3
   },
   "file_extension": ".py",
   "mimetype": "text/x-python",
   "name": "python",
   "nbconvert_exporter": "python",
   "pygments_lexer": "ipython3",
   "version": "3.12.3"
  }
 },
 "nbformat": 4,
 "nbformat_minor": 5
}
