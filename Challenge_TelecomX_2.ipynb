{
 "cells": [
  {
   "cell_type": "markdown",
   "id": "91e4ab59",
   "metadata": {},
   "source": [
    "# Introducción "
   ]
  },
  {
   "cell_type": "markdown",
   "id": "014cd02c",
   "metadata": {},
   "source": [
    "La base de datos que se utilizará en este reto es la de Telecom X, que contiene información sobre clientes, suscripciones y servicios de telecomunicaciones. El objetivo es realizar un análisis exploratorio de los datos para identificar patrones y tendencias en el comportamiento de los clientes, así como para detectar posibles problemas o áreas de mejora en los servicios ofrecidos. \n",
    "\n",
    "Para ello, se utilizarán técnicas de limpieza y transformación de datos, así como herramientas de visualización y análisis estadístico. El análisis se centrará en aspectos como la distribución de los clientes por tipo de suscripción, el uso de servicios, la satisfacción del cliente y la retención de clientes.\n",
    "\n",
    "El propósito general de este reto es encontrar patrones de personas que han abandono la empresa y que han permanecido en la empresa, para así poder identificar las características de los clientes que abandonan la empresa y las que permanecen."
   ]
  },
  {
   "cell_type": "markdown",
   "id": "80773cde",
   "metadata": {},
   "source": [
    "## Diccionario de variables\n",
    "- customerID: número de identificación único de cada cliente\n",
    "- Churn: si el cliente dejó o no la empresa\n",
    "- gender: género (masculino y femenino)\n",
    "- SeniorCitizen: información sobre si un cliente tiene o no una edad igual o mayor a 65 años\n",
    "- Partner: si el cliente tiene o no una pareja\n",
    "- Dependents: si el cliente tiene o no dependientes\n",
    "- tenure: meses de contrato del cliente\n",
    "- PhoneService: suscripción al servicio telefónico \n",
    "- MultipleLines: suscripción a más de una línea telefónica\n",
    "- InternetService: suscripción a un proveedor de internet (tipo)\n",
    "- OnlineSecurity: suscripción adicional de seguridad en línea\n",
    "- OnlineBackup: suscripción adicional de respaldo en línea\n",
    "- DeviceProtection: suscripción adicional de protección del dispositivo\n",
    "- TechSupport: suscripción adicional de soporte técnico, menor tiempo de espera\n",
    "- StreamingTV: suscripción de televisión por cable\n",
    "- StreamingMovies: suscripción de streaming de películas\n",
    "- Contract: tipo de contrato\n",
    "- PaperlessBilling: si el cliente prefiere recibir la factura en línea\n",
    "- PaymentMethod: forma de pago\n",
    "- Charges.Monthly: total de todos los servicios del cliente por mes\n",
    "- Charges.Total: total gastado por el cliente"
   ]
  },
  {
   "cell_type": "code",
   "execution_count": 3,
   "id": "4508c2fc",
   "metadata": {},
   "outputs": [],
   "source": [
    "import pandas as pd \n",
    "import matplotlib.pyplot as plt \n",
    "import matplotlib.patches as mpatches\n",
    "import numpy as np \n",
    "import seaborn as sns \n",
    "import requests\n",
    "import json"
   ]
  },
  {
   "cell_type": "code",
   "execution_count": 4,
   "id": "4d3aa5fb",
   "metadata": {},
   "outputs": [],
   "source": [
    "datos = requests.get('https://raw.githubusercontent.com/ingridcristh/challenge2-data-science-LATAM/main/TelecomX_Data.json')\n",
    "resultado = json.loads(datos.text)\n",
    "df = pd.DataFrame(resultado)"
   ]
  },
  {
   "cell_type": "code",
   "execution_count": 5,
   "id": "e33ccafb",
   "metadata": {},
   "outputs": [],
   "source": [
    "customer_df = pd.json_normalize(df['customer'])\n",
    "phone_df    = pd.json_normalize(df['phone'])\n",
    "internet_df = pd.json_normalize(df['internet'])\n",
    "account_df  = pd.json_normalize(df['account'])\n",
    "\n",
    "# Ahora concatenamos todo con las columnas originales que ya estaban planas\n",
    "df = pd.concat(\n",
    "    [df[['customerID', 'Churn']], customer_df, phone_df, internet_df, account_df],\n",
    "    axis=1\n",
    ")"
   ]
  },
  {
   "cell_type": "code",
   "execution_count": 6,
   "id": "5f926415",
   "metadata": {},
   "outputs": [
    {
     "name": "stdout",
     "output_type": "stream",
     "text": [
      "<class 'pandas.core.frame.DataFrame'>\n",
      "RangeIndex: 7267 entries, 0 to 7266\n",
      "Data columns (total 21 columns):\n",
      " #   Column            Non-Null Count  Dtype  \n",
      "---  ------            --------------  -----  \n",
      " 0   customerID        7267 non-null   object \n",
      " 1   Churn             7267 non-null   object \n",
      " 2   gender            7267 non-null   object \n",
      " 3   SeniorCitizen     7267 non-null   int64  \n",
      " 4   Partner           7267 non-null   object \n",
      " 5   Dependents        7267 non-null   object \n",
      " 6   tenure            7267 non-null   int64  \n",
      " 7   PhoneService      7267 non-null   object \n",
      " 8   MultipleLines     7267 non-null   object \n",
      " 9   InternetService   7267 non-null   object \n",
      " 10  OnlineSecurity    7267 non-null   object \n",
      " 11  OnlineBackup      7267 non-null   object \n",
      " 12  DeviceProtection  7267 non-null   object \n",
      " 13  TechSupport       7267 non-null   object \n",
      " 14  StreamingTV       7267 non-null   object \n",
      " 15  StreamingMovies   7267 non-null   object \n",
      " 16  Contract          7267 non-null   object \n",
      " 17  PaperlessBilling  7267 non-null   object \n",
      " 18  PaymentMethod     7267 non-null   object \n",
      " 19  Charges.Monthly   7267 non-null   float64\n",
      " 20  Charges.Total     7267 non-null   object \n",
      "dtypes: float64(1), int64(2), object(18)\n",
      "memory usage: 1.2+ MB\n"
     ]
    }
   ],
   "source": [
    "df.info()"
   ]
  },
  {
   "cell_type": "code",
   "execution_count": 7,
   "id": "e2d7373f",
   "metadata": {},
   "outputs": [
    {
     "data": {
      "text/plain": [
       "customerID          0\n",
       "Churn               0\n",
       "gender              0\n",
       "SeniorCitizen       0\n",
       "Partner             0\n",
       "Dependents          0\n",
       "tenure              0\n",
       "PhoneService        0\n",
       "MultipleLines       0\n",
       "InternetService     0\n",
       "OnlineSecurity      0\n",
       "OnlineBackup        0\n",
       "DeviceProtection    0\n",
       "TechSupport         0\n",
       "StreamingTV         0\n",
       "StreamingMovies     0\n",
       "Contract            0\n",
       "PaperlessBilling    0\n",
       "PaymentMethod       0\n",
       "Charges.Monthly     0\n",
       "Charges.Total       0\n",
       "dtype: int64"
      ]
     },
     "execution_count": 7,
     "metadata": {},
     "output_type": "execute_result"
    }
   ],
   "source": [
    "df.isna().sum()"
   ]
  }
 ],
 "metadata": {
  "kernelspec": {
   "display_name": "Python 3",
   "language": "python",
   "name": "python3"
  },
  "language_info": {
   "codemirror_mode": {
    "name": "ipython",
    "version": 3
   },
   "file_extension": ".py",
   "mimetype": "text/x-python",
   "name": "python",
   "nbconvert_exporter": "python",
   "pygments_lexer": "ipython3",
   "version": "3.12.3"
  }
 },
 "nbformat": 4,
 "nbformat_minor": 5
}
