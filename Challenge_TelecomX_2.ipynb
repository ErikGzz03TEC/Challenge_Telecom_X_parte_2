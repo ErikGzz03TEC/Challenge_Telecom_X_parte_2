{
 "cells": [
  {
   "cell_type": "markdown",
   "id": "91e4ab59",
   "metadata": {},
   "source": [
    "# Introducción "
   ]
  },
  {
   "cell_type": "markdown",
   "id": "014cd02c",
   "metadata": {},
   "source": [
    "La base de datos que se utilizará en este reto es la de Telecom X, que contiene información sobre clientes, suscripciones y servicios de telecomunicaciones. El objetivo es realizar un análisis exploratorio de los datos para identificar patrones y tendencias en el comportamiento de los clientes, así como para detectar posibles problemas o áreas de mejora en los servicios ofrecidos. \n",
    "\n",
    "Para ello, se utilizarán técnicas de limpieza y transformación de datos, así como herramientas de visualización y análisis estadístico. El análisis se centrará en aspectos como la distribución de los clientes por tipo de suscripción, el uso de servicios, la satisfacción del cliente y la retención de clientes.\n",
    "\n",
    "El propósito general de este reto es encontrar patrones de personas que han abandono la empresa y que han permanecido en la empresa, para así poder identificar las características de los clientes que abandonan la empresa y las que permanecen."
   ]
  },
  {
   "cell_type": "markdown",
   "id": "80773cde",
   "metadata": {},
   "source": [
    "## Diccionario de variables\n",
    "- customerID: número de identificación único de cada cliente\n",
    "- Churn: si el cliente dejó o no la empresa\n",
    "- gender: género (masculino y femenino)\n",
    "- SeniorCitizen: información sobre si un cliente tiene o no una edad igual o mayor a 65 años\n",
    "- Partner: si el cliente tiene o no una pareja\n",
    "- Dependents: si el cliente tiene o no dependientes\n",
    "- tenure: meses de contrato del cliente\n",
    "- PhoneService: suscripción al servicio telefónico \n",
    "- MultipleLines: suscripción a más de una línea telefónica\n",
    "- InternetService: suscripción a un proveedor de internet (tipo)\n",
    "- OnlineSecurity: suscripción adicional de seguridad en línea\n",
    "- OnlineBackup: suscripción adicional de respaldo en línea\n",
    "- DeviceProtection: suscripción adicional de protección del dispositivo\n",
    "- TechSupport: suscripción adicional de soporte técnico, menor tiempo de espera\n",
    "- StreamingTV: suscripción de televisión por cable\n",
    "- StreamingMovies: suscripción de streaming de películas\n",
    "- Contract: tipo de contrato\n",
    "- PaperlessBilling: si el cliente prefiere recibir la factura en línea\n",
    "- PaymentMethod: forma de pago\n",
    "- Charges.Monthly: total de todos los servicios del cliente por mes\n",
    "- Charges.Total: total gastado por el cliente"
   ]
  },
  {
   "cell_type": "code",
   "execution_count": 107,
   "id": "4508c2fc",
   "metadata": {},
   "outputs": [],
   "source": [
    "import pandas as pd \n",
    "import matplotlib.pyplot as plt \n",
    "import matplotlib.patches as mpatches\n",
    "import numpy as np \n",
    "import seaborn as sns \n",
    "import requests\n",
    "import json\n",
    "import plotly.express as px "
   ]
  },
  {
   "cell_type": "code",
   "execution_count": 108,
   "id": "4d3aa5fb",
   "metadata": {},
   "outputs": [],
   "source": [
    "datos = requests.get('https://raw.githubusercontent.com/ingridcristh/challenge2-data-science-LATAM/main/TelecomX_Data.json')\n",
    "resultado = json.loads(datos.text)\n",
    "df = pd.DataFrame(resultado)"
   ]
  },
  {
   "cell_type": "code",
   "execution_count": 109,
   "id": "e33ccafb",
   "metadata": {},
   "outputs": [],
   "source": [
    "customer_df = pd.json_normalize(df['customer'])\n",
    "phone_df    = pd.json_normalize(df['phone'])\n",
    "internet_df = pd.json_normalize(df['internet'])\n",
    "account_df  = pd.json_normalize(df['account'])\n",
    "\n",
    "# Ahora concatenamos todo con las columnas originales que ya estaban planas\n",
    "df = pd.concat(\n",
    "    [df[['customerID', 'Churn']], customer_df, phone_df, internet_df, account_df],\n",
    "    axis=1\n",
    ")"
   ]
  },
  {
   "cell_type": "code",
   "execution_count": 110,
   "id": "5f926415",
   "metadata": {},
   "outputs": [
    {
     "name": "stdout",
     "output_type": "stream",
     "text": [
      "<class 'pandas.core.frame.DataFrame'>\n",
      "RangeIndex: 7267 entries, 0 to 7266\n",
      "Data columns (total 21 columns):\n",
      " #   Column            Non-Null Count  Dtype  \n",
      "---  ------            --------------  -----  \n",
      " 0   customerID        7267 non-null   object \n",
      " 1   Churn             7267 non-null   object \n",
      " 2   gender            7267 non-null   object \n",
      " 3   SeniorCitizen     7267 non-null   int64  \n",
      " 4   Partner           7267 non-null   object \n",
      " 5   Dependents        7267 non-null   object \n",
      " 6   tenure            7267 non-null   int64  \n",
      " 7   PhoneService      7267 non-null   object \n",
      " 8   MultipleLines     7267 non-null   object \n",
      " 9   InternetService   7267 non-null   object \n",
      " 10  OnlineSecurity    7267 non-null   object \n",
      " 11  OnlineBackup      7267 non-null   object \n",
      " 12  DeviceProtection  7267 non-null   object \n",
      " 13  TechSupport       7267 non-null   object \n",
      " 14  StreamingTV       7267 non-null   object \n",
      " 15  StreamingMovies   7267 non-null   object \n",
      " 16  Contract          7267 non-null   object \n",
      " 17  PaperlessBilling  7267 non-null   object \n",
      " 18  PaymentMethod     7267 non-null   object \n",
      " 19  Charges.Monthly   7267 non-null   float64\n",
      " 20  Charges.Total     7267 non-null   object \n",
      "dtypes: float64(1), int64(2), object(18)\n",
      "memory usage: 1.2+ MB\n"
     ]
    }
   ],
   "source": [
    "df.info()"
   ]
  },
  {
   "cell_type": "code",
   "execution_count": 111,
   "id": "e2d7373f",
   "metadata": {},
   "outputs": [
    {
     "data": {
      "text/plain": [
       "customerID          0\n",
       "Churn               0\n",
       "gender              0\n",
       "SeniorCitizen       0\n",
       "Partner             0\n",
       "Dependents          0\n",
       "tenure              0\n",
       "PhoneService        0\n",
       "MultipleLines       0\n",
       "InternetService     0\n",
       "OnlineSecurity      0\n",
       "OnlineBackup        0\n",
       "DeviceProtection    0\n",
       "TechSupport         0\n",
       "StreamingTV         0\n",
       "StreamingMovies     0\n",
       "Contract            0\n",
       "PaperlessBilling    0\n",
       "PaymentMethod       0\n",
       "Charges.Monthly     0\n",
       "Charges.Total       0\n",
       "dtype: int64"
      ]
     },
     "execution_count": 111,
     "metadata": {},
     "output_type": "execute_result"
    }
   ],
   "source": [
    "df.isna().sum()"
   ]
  },
  {
   "cell_type": "markdown",
   "id": "4fa1984d",
   "metadata": {},
   "source": [
    "# Preparación de datos"
   ]
  },
  {
   "cell_type": "markdown",
   "id": "04421fee",
   "metadata": {},
   "source": [
    "## Eliminar columnas innecesarias\n"
   ]
  },
  {
   "cell_type": "code",
   "execution_count": 112,
   "id": "c4c10126",
   "metadata": {},
   "outputs": [],
   "source": [
    "df.drop(columns= 'customerID', inplace=True)"
   ]
  },
  {
   "cell_type": "code",
   "execution_count": 113,
   "id": "db6cf435",
   "metadata": {},
   "outputs": [
    {
     "data": {
      "text/plain": [
       "Index(['Churn', 'gender', 'SeniorCitizen', 'Partner', 'Dependents', 'tenure',\n",
       "       'PhoneService', 'MultipleLines', 'InternetService', 'OnlineSecurity',\n",
       "       'OnlineBackup', 'DeviceProtection', 'TechSupport', 'StreamingTV',\n",
       "       'StreamingMovies', 'Contract', 'PaperlessBilling', 'PaymentMethod',\n",
       "       'Charges.Monthly', 'Charges.Total'],\n",
       "      dtype='object')"
      ]
     },
     "execution_count": 113,
     "metadata": {},
     "output_type": "execute_result"
    }
   ],
   "source": [
    "df.columns = df.columns.str.strip()\n",
    "df.columns"
   ]
  },
  {
   "cell_type": "markdown",
   "id": "4f0d0ba6",
   "metadata": {},
   "source": [
    "## Limpiar valores nulos"
   ]
  },
  {
   "cell_type": "code",
   "execution_count": 114,
   "id": "116e6189",
   "metadata": {},
   "outputs": [
    {
     "data": {
      "text/plain": [
       "Churn               0\n",
       "gender              0\n",
       "SeniorCitizen       0\n",
       "Partner             0\n",
       "Dependents          0\n",
       "tenure              0\n",
       "PhoneService        0\n",
       "MultipleLines       0\n",
       "InternetService     0\n",
       "OnlineSecurity      0\n",
       "OnlineBackup        0\n",
       "DeviceProtection    0\n",
       "TechSupport         0\n",
       "StreamingTV         0\n",
       "StreamingMovies     0\n",
       "Contract            0\n",
       "PaperlessBilling    0\n",
       "PaymentMethod       0\n",
       "Charges.Monthly     0\n",
       "Charges.Total       0\n",
       "dtype: int64"
      ]
     },
     "execution_count": 114,
     "metadata": {},
     "output_type": "execute_result"
    }
   ],
   "source": [
    "df.isna().sum()"
   ]
  },
  {
   "cell_type": "code",
   "execution_count": 115,
   "id": "2e62852e",
   "metadata": {},
   "outputs": [
    {
     "name": "stdout",
     "output_type": "stream",
     "text": [
      "\n",
      "--- Churn ---\n",
      "Churn\n",
      "No     5174\n",
      "Yes    1869\n",
      "NaN     224\n",
      "Name: count, dtype: int64\n",
      "\n",
      "--- Partner ---\n",
      "Partner\n",
      "No     3749\n",
      "Yes    3518\n",
      "Name: count, dtype: int64\n",
      "\n",
      "--- Dependents ---\n",
      "Dependents\n",
      "No     5086\n",
      "Yes    2181\n",
      "Name: count, dtype: int64\n",
      "\n",
      "--- PhoneService ---\n",
      "PhoneService\n",
      "Yes    6560\n",
      "No      707\n",
      "Name: count, dtype: int64\n",
      "\n",
      "--- MultipleLines ---\n",
      "MultipleLines\n",
      "No                  3495\n",
      "Yes                 3065\n",
      "No phone service     707\n",
      "Name: count, dtype: int64\n",
      "\n",
      "--- OnlineBackup ---\n",
      "OnlineBackup\n",
      "No                     3182\n",
      "Yes                    2504\n",
      "No internet service    1581\n",
      "Name: count, dtype: int64\n",
      "\n",
      "--- OnlineSecurity ---\n",
      "OnlineSecurity\n",
      "No                     3608\n",
      "Yes                    2078\n",
      "No internet service    1581\n",
      "Name: count, dtype: int64\n",
      "\n",
      "--- DeviceProtection ---\n",
      "DeviceProtection\n",
      "No                     3195\n",
      "Yes                    2491\n",
      "No internet service    1581\n",
      "Name: count, dtype: int64\n",
      "\n",
      "--- TechSupport ---\n",
      "TechSupport\n",
      "No                     3582\n",
      "Yes                    2104\n",
      "No internet service    1581\n",
      "Name: count, dtype: int64\n",
      "\n",
      "--- StreamingTV ---\n",
      "StreamingTV\n",
      "No                     2896\n",
      "Yes                    2790\n",
      "No internet service    1581\n",
      "Name: count, dtype: int64\n",
      "\n",
      "--- StreamingMovies ---\n",
      "StreamingMovies\n",
      "No                     2870\n",
      "Yes                    2816\n",
      "No internet service    1581\n",
      "Name: count, dtype: int64\n",
      "\n",
      "--- PaperlessBilling ---\n",
      "PaperlessBilling\n",
      "Yes    4311\n",
      "No     2956\n",
      "Name: count, dtype: int64\n"
     ]
    }
   ],
   "source": [
    "for col in df.select_dtypes(include='object').columns:\n",
    "    df[col] = df[col].str.strip()\n",
    "    df[col] = df[col].replace('', np.nan)\n",
    "\n",
    "col_yes_no = ['Churn', 'Partner', 'Dependents', 'PhoneService', 'MultipleLines', \n",
    "              'OnlineBackup','OnlineSecurity', 'DeviceProtection','TechSupport', 'StreamingTV',\n",
    "              'StreamingMovies', 'PaperlessBilling']\n",
    "\n",
    "for col in col_yes_no:\n",
    "    print(f\"\\n--- {col} ---\")\n",
    "    print(df[col].value_counts(dropna=False))"
   ]
  },
  {
   "cell_type": "code",
   "execution_count": 116,
   "id": "eb948e8d",
   "metadata": {},
   "outputs": [
    {
     "data": {
      "text/plain": [
       "7267"
      ]
     },
     "execution_count": 116,
     "metadata": {},
     "output_type": "execute_result"
    }
   ],
   "source": [
    "df.shape[0]"
   ]
  },
  {
   "cell_type": "code",
   "execution_count": 117,
   "id": "2ff3aa0e",
   "metadata": {},
   "outputs": [
    {
     "data": {
      "text/plain": [
       "Churn               224\n",
       "gender                0\n",
       "SeniorCitizen         0\n",
       "Partner               0\n",
       "Dependents            0\n",
       "tenure                0\n",
       "PhoneService          0\n",
       "MultipleLines         0\n",
       "InternetService       0\n",
       "OnlineSecurity        0\n",
       "OnlineBackup          0\n",
       "DeviceProtection      0\n",
       "TechSupport           0\n",
       "StreamingTV           0\n",
       "StreamingMovies       0\n",
       "Contract              0\n",
       "PaperlessBilling      0\n",
       "PaymentMethod         0\n",
       "Charges.Monthly       0\n",
       "Charges.Total        11\n",
       "dtype: int64"
      ]
     },
     "execution_count": 117,
     "metadata": {},
     "output_type": "execute_result"
    }
   ],
   "source": [
    "df.isna().sum()"
   ]
  },
  {
   "cell_type": "code",
   "execution_count": 118,
   "id": "073ba7c3",
   "metadata": {},
   "outputs": [],
   "source": [
    "df.dropna(inplace=True)"
   ]
  },
  {
   "cell_type": "code",
   "execution_count": 119,
   "id": "b13c93f9",
   "metadata": {},
   "outputs": [
    {
     "name": "stdout",
     "output_type": "stream",
     "text": [
      "<class 'pandas.core.frame.DataFrame'>\n",
      "Index: 7032 entries, 0 to 7266\n",
      "Data columns (total 20 columns):\n",
      " #   Column            Non-Null Count  Dtype  \n",
      "---  ------            --------------  -----  \n",
      " 0   Churn             7032 non-null   object \n",
      " 1   gender            7032 non-null   object \n",
      " 2   SeniorCitizen     7032 non-null   int64  \n",
      " 3   Partner           7032 non-null   object \n",
      " 4   Dependents        7032 non-null   object \n",
      " 5   tenure            7032 non-null   int64  \n",
      " 6   PhoneService      7032 non-null   object \n",
      " 7   MultipleLines     7032 non-null   object \n",
      " 8   InternetService   7032 non-null   object \n",
      " 9   OnlineSecurity    7032 non-null   object \n",
      " 10  OnlineBackup      7032 non-null   object \n",
      " 11  DeviceProtection  7032 non-null   object \n",
      " 12  TechSupport       7032 non-null   object \n",
      " 13  StreamingTV       7032 non-null   object \n",
      " 14  StreamingMovies   7032 non-null   object \n",
      " 15  Contract          7032 non-null   object \n",
      " 16  PaperlessBilling  7032 non-null   object \n",
      " 17  PaymentMethod     7032 non-null   object \n",
      " 18  Charges.Monthly   7032 non-null   float64\n",
      " 19  Charges.Total     7032 non-null   object \n",
      "dtypes: float64(1), int64(2), object(17)\n",
      "memory usage: 1.1+ MB\n"
     ]
    }
   ],
   "source": [
    "df.info()"
   ]
  },
  {
   "cell_type": "code",
   "execution_count": 120,
   "id": "38855b4d",
   "metadata": {},
   "outputs": [],
   "source": [
    "df['Charges.Total'] = df['Charges.Total'].astype('float64')"
   ]
  },
  {
   "cell_type": "code",
   "execution_count": 121,
   "id": "d72e8b10",
   "metadata": {},
   "outputs": [
    {
     "name": "stdout",
     "output_type": "stream",
     "text": [
      "<class 'pandas.core.frame.DataFrame'>\n",
      "Index: 7032 entries, 0 to 7266\n",
      "Data columns (total 20 columns):\n",
      " #   Column            Non-Null Count  Dtype  \n",
      "---  ------            --------------  -----  \n",
      " 0   Churn             7032 non-null   object \n",
      " 1   gender            7032 non-null   object \n",
      " 2   SeniorCitizen     7032 non-null   int64  \n",
      " 3   Partner           7032 non-null   object \n",
      " 4   Dependents        7032 non-null   object \n",
      " 5   tenure            7032 non-null   int64  \n",
      " 6   PhoneService      7032 non-null   object \n",
      " 7   MultipleLines     7032 non-null   object \n",
      " 8   InternetService   7032 non-null   object \n",
      " 9   OnlineSecurity    7032 non-null   object \n",
      " 10  OnlineBackup      7032 non-null   object \n",
      " 11  DeviceProtection  7032 non-null   object \n",
      " 12  TechSupport       7032 non-null   object \n",
      " 13  StreamingTV       7032 non-null   object \n",
      " 14  StreamingMovies   7032 non-null   object \n",
      " 15  Contract          7032 non-null   object \n",
      " 16  PaperlessBilling  7032 non-null   object \n",
      " 17  PaymentMethod     7032 non-null   object \n",
      " 18  Charges.Monthly   7032 non-null   float64\n",
      " 19  Charges.Total     7032 non-null   float64\n",
      "dtypes: float64(2), int64(2), object(16)\n",
      "memory usage: 1.1+ MB\n"
     ]
    }
   ],
   "source": [
    "df.info()"
   ]
  },
  {
   "cell_type": "markdown",
   "id": "f6277823",
   "metadata": {},
   "source": [
    "## Traducciones"
   ]
  },
  {
   "cell_type": "code",
   "execution_count": 122,
   "id": "b80191cd",
   "metadata": {},
   "outputs": [
    {
     "data": {
      "text/plain": [
       "Index(['Abandono', 'Genero', 'Es_mayor_de_edad', 'Pareja', 'Dependientes',\n",
       "       'Meses_contrato', 'Servicio_telefonico', 'Lineas_telefonicas_multiples',\n",
       "       'Tipo_servicio_internet', 'Seguridad_en_linea', 'Respaldo_en_linea',\n",
       "       'Proteccion_dispositivo', 'Soporte_tecnico', 'TV_en_streaming',\n",
       "       'Peliculas_en_streaming', 'Tipo_contrato', 'Factura_en_linea',\n",
       "       'Metodo_pago', 'Cargo_mensual', 'Cargos_totales'],\n",
       "      dtype='object')"
      ]
     },
     "execution_count": 122,
     "metadata": {},
     "output_type": "execute_result"
    }
   ],
   "source": [
    "# Renombrar columnas al español\n",
    "\n",
    "columnas_español = {\n",
    "    'Churn': 'Abandono',\n",
    "    'gender': 'Genero',\n",
    "    'SeniorCitizen': 'Es_mayor_de_edad',\n",
    "    'Partner': 'Pareja',\n",
    "    'Dependents': 'Dependientes',\n",
    "    'tenure': 'Meses_contrato',\n",
    "    'PhoneService': 'Servicio_telefonico',\n",
    "    'MultipleLines': 'Lineas_telefonicas_multiples',\n",
    "    'InternetService': 'Tipo_servicio_internet',\n",
    "    'OnlineSecurity': 'Seguridad_en_linea',\n",
    "    'OnlineBackup': 'Respaldo_en_linea',\n",
    "    'DeviceProtection': 'Proteccion_dispositivo',\n",
    "    'TechSupport': 'Soporte_tecnico',\n",
    "    'StreamingTV': 'TV_en_streaming',\n",
    "    'StreamingMovies': 'Peliculas_en_streaming',\n",
    "    'Contract': 'Tipo_contrato',\n",
    "    'PaperlessBilling': 'Factura_en_linea',\n",
    "    'PaymentMethod': 'Metodo_pago',\n",
    "    'Charges.Monthly': 'Cargo_mensual',\n",
    "    'Charges.Total': 'Cargos_totales'\n",
    "}\n",
    "\n",
    "\n",
    "df.rename(columns=columnas_español, inplace=True)\n",
    "df.columns"
   ]
  },
  {
   "cell_type": "code",
   "execution_count": 123,
   "id": "b92a134b",
   "metadata": {},
   "outputs": [
    {
     "data": {
      "text/plain": [
       "Tipo_servicio_internet\n",
       "Fiber optic    3096\n",
       "DSL            2416\n",
       "No             1520\n",
       "Name: count, dtype: int64"
      ]
     },
     "execution_count": 123,
     "metadata": {},
     "output_type": "execute_result"
    }
   ],
   "source": [
    "df['Tipo_servicio_internet'].value_counts()"
   ]
  },
  {
   "cell_type": "code",
   "execution_count": 124,
   "id": "84deafb0",
   "metadata": {},
   "outputs": [],
   "source": [
    "col_si_no = ['Abandono','Pareja', 'Dependientes','Servicio_telefonico', \n",
    "              'Lineas_telefonicas_multiples', 'Respaldo_en_linea', \n",
    "              'Seguridad_en_linea', 'Proteccion_dispositivo', 'Soporte_tecnico', \n",
    "              'TV_en_streaming', 'Peliculas_en_streaming', 'Factura_en_linea']\n",
    "    \n",
    "for col in df[col_si_no]:\n",
    "    df[col] = df[col].map({'Yes': 1, 'No': 0})\n",
    "    df[col] = df[col].fillna(0).astype(int)\n",
    "\n",
    "df['Tipo_servicio_internet'] = df['Tipo_servicio_internet'].map({'Fiber optic': 'Fibra Optica', 'DSL': 'DSL', 'No': 'Sin servicio'})\n",
    "df['Tipo_contrato'] = df['Tipo_contrato'].map({'Month-to-month':'Mes a mes','Two year':'Dos años','One year':'Un año'})\n",
    "df['Metodo_pago'] = df['Metodo_pago'].map({'Electronic check':'Cheque electrónico', 'Mailed check':'Cheque por enviado por correo', 'Bank transfer (automatic)':'Transferencia bancaria (automática)', 'Credit card (automatic)':'Tarjeta de crédito (automática)'})\n"
   ]
  },
  {
   "cell_type": "code",
   "execution_count": 125,
   "id": "f1a0150a",
   "metadata": {},
   "outputs": [
    {
     "data": {
      "text/html": [
       "<div>\n",
       "<style scoped>\n",
       "    .dataframe tbody tr th:only-of-type {\n",
       "        vertical-align: middle;\n",
       "    }\n",
       "\n",
       "    .dataframe tbody tr th {\n",
       "        vertical-align: top;\n",
       "    }\n",
       "\n",
       "    .dataframe thead th {\n",
       "        text-align: right;\n",
       "    }\n",
       "</style>\n",
       "<table border=\"1\" class=\"dataframe\">\n",
       "  <thead>\n",
       "    <tr style=\"text-align: right;\">\n",
       "      <th></th>\n",
       "      <th>Abandono</th>\n",
       "      <th>Genero</th>\n",
       "      <th>Es_mayor_de_edad</th>\n",
       "      <th>Pareja</th>\n",
       "      <th>Dependientes</th>\n",
       "      <th>Meses_contrato</th>\n",
       "      <th>Servicio_telefonico</th>\n",
       "      <th>Lineas_telefonicas_multiples</th>\n",
       "      <th>Tipo_servicio_internet</th>\n",
       "      <th>Seguridad_en_linea</th>\n",
       "      <th>Respaldo_en_linea</th>\n",
       "      <th>Proteccion_dispositivo</th>\n",
       "      <th>Soporte_tecnico</th>\n",
       "      <th>TV_en_streaming</th>\n",
       "      <th>Peliculas_en_streaming</th>\n",
       "      <th>Tipo_contrato</th>\n",
       "      <th>Factura_en_linea</th>\n",
       "      <th>Metodo_pago</th>\n",
       "      <th>Cargo_mensual</th>\n",
       "      <th>Cargos_totales</th>\n",
       "    </tr>\n",
       "  </thead>\n",
       "  <tbody>\n",
       "    <tr>\n",
       "      <th>0</th>\n",
       "      <td>0</td>\n",
       "      <td>Female</td>\n",
       "      <td>0</td>\n",
       "      <td>1</td>\n",
       "      <td>1</td>\n",
       "      <td>9</td>\n",
       "      <td>1</td>\n",
       "      <td>0</td>\n",
       "      <td>DSL</td>\n",
       "      <td>0</td>\n",
       "      <td>1</td>\n",
       "      <td>0</td>\n",
       "      <td>1</td>\n",
       "      <td>1</td>\n",
       "      <td>0</td>\n",
       "      <td>Un año</td>\n",
       "      <td>1</td>\n",
       "      <td>Cheque por enviado por correo</td>\n",
       "      <td>65.6</td>\n",
       "      <td>593.30</td>\n",
       "    </tr>\n",
       "    <tr>\n",
       "      <th>1</th>\n",
       "      <td>0</td>\n",
       "      <td>Male</td>\n",
       "      <td>0</td>\n",
       "      <td>0</td>\n",
       "      <td>0</td>\n",
       "      <td>9</td>\n",
       "      <td>1</td>\n",
       "      <td>1</td>\n",
       "      <td>DSL</td>\n",
       "      <td>0</td>\n",
       "      <td>0</td>\n",
       "      <td>0</td>\n",
       "      <td>0</td>\n",
       "      <td>0</td>\n",
       "      <td>1</td>\n",
       "      <td>Mes a mes</td>\n",
       "      <td>0</td>\n",
       "      <td>Cheque por enviado por correo</td>\n",
       "      <td>59.9</td>\n",
       "      <td>542.40</td>\n",
       "    </tr>\n",
       "    <tr>\n",
       "      <th>2</th>\n",
       "      <td>1</td>\n",
       "      <td>Male</td>\n",
       "      <td>0</td>\n",
       "      <td>0</td>\n",
       "      <td>0</td>\n",
       "      <td>4</td>\n",
       "      <td>1</td>\n",
       "      <td>0</td>\n",
       "      <td>Fibra Optica</td>\n",
       "      <td>0</td>\n",
       "      <td>0</td>\n",
       "      <td>1</td>\n",
       "      <td>0</td>\n",
       "      <td>0</td>\n",
       "      <td>0</td>\n",
       "      <td>Mes a mes</td>\n",
       "      <td>1</td>\n",
       "      <td>Cheque electrónico</td>\n",
       "      <td>73.9</td>\n",
       "      <td>280.85</td>\n",
       "    </tr>\n",
       "    <tr>\n",
       "      <th>3</th>\n",
       "      <td>1</td>\n",
       "      <td>Male</td>\n",
       "      <td>1</td>\n",
       "      <td>1</td>\n",
       "      <td>0</td>\n",
       "      <td>13</td>\n",
       "      <td>1</td>\n",
       "      <td>0</td>\n",
       "      <td>Fibra Optica</td>\n",
       "      <td>0</td>\n",
       "      <td>1</td>\n",
       "      <td>1</td>\n",
       "      <td>0</td>\n",
       "      <td>1</td>\n",
       "      <td>1</td>\n",
       "      <td>Mes a mes</td>\n",
       "      <td>1</td>\n",
       "      <td>Cheque electrónico</td>\n",
       "      <td>98.0</td>\n",
       "      <td>1237.85</td>\n",
       "    </tr>\n",
       "    <tr>\n",
       "      <th>4</th>\n",
       "      <td>1</td>\n",
       "      <td>Female</td>\n",
       "      <td>1</td>\n",
       "      <td>1</td>\n",
       "      <td>0</td>\n",
       "      <td>3</td>\n",
       "      <td>1</td>\n",
       "      <td>0</td>\n",
       "      <td>Fibra Optica</td>\n",
       "      <td>0</td>\n",
       "      <td>0</td>\n",
       "      <td>0</td>\n",
       "      <td>1</td>\n",
       "      <td>1</td>\n",
       "      <td>0</td>\n",
       "      <td>Mes a mes</td>\n",
       "      <td>1</td>\n",
       "      <td>Cheque por enviado por correo</td>\n",
       "      <td>83.9</td>\n",
       "      <td>267.40</td>\n",
       "    </tr>\n",
       "  </tbody>\n",
       "</table>\n",
       "</div>"
      ],
      "text/plain": [
       "   Abandono  Genero  Es_mayor_de_edad  Pareja  Dependientes  Meses_contrato  \\\n",
       "0         0  Female                 0       1             1               9   \n",
       "1         0    Male                 0       0             0               9   \n",
       "2         1    Male                 0       0             0               4   \n",
       "3         1    Male                 1       1             0              13   \n",
       "4         1  Female                 1       1             0               3   \n",
       "\n",
       "   Servicio_telefonico  Lineas_telefonicas_multiples Tipo_servicio_internet  \\\n",
       "0                    1                             0                    DSL   \n",
       "1                    1                             1                    DSL   \n",
       "2                    1                             0           Fibra Optica   \n",
       "3                    1                             0           Fibra Optica   \n",
       "4                    1                             0           Fibra Optica   \n",
       "\n",
       "   Seguridad_en_linea  Respaldo_en_linea  Proteccion_dispositivo  \\\n",
       "0                   0                  1                       0   \n",
       "1                   0                  0                       0   \n",
       "2                   0                  0                       1   \n",
       "3                   0                  1                       1   \n",
       "4                   0                  0                       0   \n",
       "\n",
       "   Soporte_tecnico  TV_en_streaming  Peliculas_en_streaming Tipo_contrato  \\\n",
       "0                1                1                       0        Un año   \n",
       "1                0                0                       1     Mes a mes   \n",
       "2                0                0                       0     Mes a mes   \n",
       "3                0                1                       1     Mes a mes   \n",
       "4                1                1                       0     Mes a mes   \n",
       "\n",
       "   Factura_en_linea                    Metodo_pago  Cargo_mensual  \\\n",
       "0                 1  Cheque por enviado por correo           65.6   \n",
       "1                 0  Cheque por enviado por correo           59.9   \n",
       "2                 1             Cheque electrónico           73.9   \n",
       "3                 1             Cheque electrónico           98.0   \n",
       "4                 1  Cheque por enviado por correo           83.9   \n",
       "\n",
       "   Cargos_totales  \n",
       "0          593.30  \n",
       "1          542.40  \n",
       "2          280.85  \n",
       "3         1237.85  \n",
       "4          267.40  "
      ]
     },
     "execution_count": 125,
     "metadata": {},
     "output_type": "execute_result"
    }
   ],
   "source": [
    "df.head()"
   ]
  },
  {
   "cell_type": "code",
   "execution_count": 126,
   "id": "832d7f7f",
   "metadata": {},
   "outputs": [],
   "source": [
    "df['Cargos_diarios'] = df['Cargo_mensual']/30"
   ]
  },
  {
   "cell_type": "code",
   "execution_count": 127,
   "id": "6b133f1e",
   "metadata": {},
   "outputs": [
    {
     "name": "stdout",
     "output_type": "stream",
     "text": [
      "<class 'pandas.core.frame.DataFrame'>\n",
      "Index: 7032 entries, 0 to 7266\n",
      "Data columns (total 21 columns):\n",
      " #   Column                        Non-Null Count  Dtype  \n",
      "---  ------                        --------------  -----  \n",
      " 0   Abandono                      7032 non-null   int64  \n",
      " 1   Genero                        7032 non-null   object \n",
      " 2   Es_mayor_de_edad              7032 non-null   int64  \n",
      " 3   Pareja                        7032 non-null   int64  \n",
      " 4   Dependientes                  7032 non-null   int64  \n",
      " 5   Meses_contrato                7032 non-null   int64  \n",
      " 6   Servicio_telefonico           7032 non-null   int64  \n",
      " 7   Lineas_telefonicas_multiples  7032 non-null   int64  \n",
      " 8   Tipo_servicio_internet        7032 non-null   object \n",
      " 9   Seguridad_en_linea            7032 non-null   int64  \n",
      " 10  Respaldo_en_linea             7032 non-null   int64  \n",
      " 11  Proteccion_dispositivo        7032 non-null   int64  \n",
      " 12  Soporte_tecnico               7032 non-null   int64  \n",
      " 13  TV_en_streaming               7032 non-null   int64  \n",
      " 14  Peliculas_en_streaming        7032 non-null   int64  \n",
      " 15  Tipo_contrato                 7032 non-null   object \n",
      " 16  Factura_en_linea              7032 non-null   int64  \n",
      " 17  Metodo_pago                   7032 non-null   object \n",
      " 18  Cargo_mensual                 7032 non-null   float64\n",
      " 19  Cargos_totales                7032 non-null   float64\n",
      " 20  Cargos_diarios                7032 non-null   float64\n",
      "dtypes: float64(3), int64(14), object(4)\n",
      "memory usage: 1.2+ MB\n"
     ]
    }
   ],
   "source": [
    "df.info()"
   ]
  },
  {
   "cell_type": "markdown",
   "id": "e6002b34",
   "metadata": {},
   "source": [
    "## Codificaciones de variables explicativas"
   ]
  },
  {
   "cell_type": "markdown",
   "id": "d66e6290",
   "metadata": {},
   "source": [
    "### Variables Numericas"
   ]
  },
  {
   "cell_type": "code",
   "execution_count": 128,
   "id": "680f6b8c",
   "metadata": {},
   "outputs": [],
   "source": [
    "from sklearn.preprocessing import MinMaxScaler"
   ]
  },
  {
   "cell_type": "code",
   "execution_count": 129,
   "id": "721843e5",
   "metadata": {},
   "outputs": [],
   "source": [
    "X = df.drop(columns='Abandono')\n",
    "y = df['Abandono']"
   ]
  },
  {
   "cell_type": "code",
   "execution_count": 130,
   "id": "32982979",
   "metadata": {},
   "outputs": [],
   "source": [
    "def ancho_bin(df,columna):\n",
    "    q75,q25 = np.percentile(df[columna],[75,25])\n",
    "    iqr = q75-q25\n",
    "    ancho = 2*iqr*np.power(len(df[columna]),-1/3)\n",
    "    return ancho"
   ]
  },
  {
   "cell_type": "code",
   "execution_count": 131,
   "id": "a9796f18",
   "metadata": {},
   "outputs": [
    {
     "data": {
      "text/plain": [
       "Index(['Abandono', 'Genero', 'Es_mayor_de_edad', 'Pareja', 'Dependientes',\n",
       "       'Meses_contrato', 'Servicio_telefonico', 'Lineas_telefonicas_multiples',\n",
       "       'Tipo_servicio_internet', 'Seguridad_en_linea', 'Respaldo_en_linea',\n",
       "       'Proteccion_dispositivo', 'Soporte_tecnico', 'TV_en_streaming',\n",
       "       'Peliculas_en_streaming', 'Tipo_contrato', 'Factura_en_linea',\n",
       "       'Metodo_pago', 'Cargo_mensual', 'Cargos_totales', 'Cargos_diarios'],\n",
       "      dtype='object')"
      ]
     },
     "execution_count": 131,
     "metadata": {},
     "output_type": "execute_result"
    }
   ],
   "source": [
    "df.columns"
   ]
  },
  {
   "cell_type": "code",
   "execution_count": 132,
   "id": "f07bf80a",
   "metadata": {},
   "outputs": [
    {
     "data": {
      "image/png": "[encoded data removed]",
      "text/plain": [
       "<Figure size 1600x1000 with 6 Axes>"
      ]
     },
     "metadata": {},
     "output_type": "display_data"
    }
   ],
   "source": [
    "fig, ax = plt.subplots(2,3, figsize = (16,10))\n",
    "fig.subplots_adjust(hspace= 0.5, wspace= 0.15)\n",
    "ax[0,0].boxplot(x = df['Cargo_mensual'])\n",
    "ax[0,0].set_title('Boxplot: Cargo mensual')\n",
    "\n",
    "ax[0,1].boxplot(x = df['Cargos_totales'])\n",
    "ax[0,1].set_title('Boxplot: Cargos totales')\n",
    "\n",
    "ax[0,2].boxplot(x = df['Cargos_diarios'])\n",
    "ax[0,2].set_title('Boxplot: Cargos diarios')\n",
    "\n",
    "\n",
    "\n",
    "sns.histplot(data=df, x='Cargo_mensual', kde=True, binwidth=ancho_bin(df, 'Cargo_mensual'), ax=ax[1, 0])\n",
    "ax[1,0].set_title('Diagrama de Densidad: Cargo Mensual')\n",
    "\n",
    "sns.histplot(data= df, x = 'Cargos_totales',kde= True, binwidth= ancho_bin(df,'Cargos_totales'), ax = ax[1,1])\n",
    "ax[1,1].set_title('Diagrama de Densidad: Cargos totales')\n",
    "\n",
    "sns.histplot(data= df, x = 'Cargos_diarios',kde= True, binwidth= ancho_bin(df,'Cargos_diarios'), ax = ax[1,2])\n",
    "ax[1,2].set_title('Diagrama de Densidad: Cargos diarios')\n",
    "\n",
    "\n",
    "plt.show()"
   ]
  },
  {
   "cell_type": "code",
   "execution_count": 133,
   "id": "f5afd52b",
   "metadata": {},
   "outputs": [],
   "source": [
    "normalizador = MinMaxScaler()\n",
    "columnas_a_normalizar = ['Cargo_mensual', 'Cargos_totales', 'Cargos_diarios']\n",
    "X[columnas_a_normalizar] = normalizador.fit_transform(X[columnas_a_normalizar])\n"
   ]
  },
  {
   "cell_type": "markdown",
   "id": "05ade0c4",
   "metadata": {},
   "source": [
    "### Variables categóricas"
   ]
  },
  {
   "cell_type": "code",
   "execution_count": 134,
   "id": "e6ca6e15",
   "metadata": {},
   "outputs": [],
   "source": [
    "from sklearn.compose import make_column_transformer\n",
    "from sklearn.preprocessing import OneHotEncoder"
   ]
  },
  {
   "cell_type": "code",
   "execution_count": 135,
   "id": "c88aabe3",
   "metadata": {},
   "outputs": [],
   "source": [
    "X = df.drop(columns='Abandono')\n",
    "y = df['Abandono']\n",
    "\n",
    "columnas_cat = list(X.select_dtypes(include='object').columns)\n",
    "\n",
    "one_hot = make_column_transformer((OneHotEncoder(drop= 'if_binary', dtype= np.int64), columnas_cat),\n",
    "                                  remainder= 'passthrough', sparse_threshold=0)\n",
    "\n",
    "\n",
    "X = one_hot.fit_transform(X)\n",
    "X_codificada = pd.DataFrame(X,columns=one_hot.get_feature_names_out())"
   ]
  },
  {
   "cell_type": "code",
   "execution_count": 136,
   "id": "027e1216",
   "metadata": {},
   "outputs": [
    {
     "data": {
      "text/html": [
       "<div>\n",
       "<style scoped>\n",
       "    .dataframe tbody tr th:only-of-type {\n",
       "        vertical-align: middle;\n",
       "    }\n",
       "\n",
       "    .dataframe tbody tr th {\n",
       "        vertical-align: top;\n",
       "    }\n",
       "\n",
       "    .dataframe thead th {\n",
       "        text-align: right;\n",
       "    }\n",
       "</style>\n",
       "<table border=\"1\" class=\"dataframe\">\n",
       "  <thead>\n",
       "    <tr style=\"text-align: right;\">\n",
       "      <th></th>\n",
       "      <th>onehotencoder__Genero_Male</th>\n",
       "      <th>onehotencoder__Tipo_servicio_internet_DSL</th>\n",
       "      <th>onehotencoder__Tipo_servicio_internet_Fibra Optica</th>\n",
       "      <th>onehotencoder__Tipo_servicio_internet_Sin servicio</th>\n",
       "      <th>onehotencoder__Tipo_contrato_Dos años</th>\n",
       "      <th>onehotencoder__Tipo_contrato_Mes a mes</th>\n",
       "      <th>onehotencoder__Tipo_contrato_Un año</th>\n",
       "      <th>onehotencoder__Metodo_pago_Cheque electrónico</th>\n",
       "      <th>onehotencoder__Metodo_pago_Cheque por enviado por correo</th>\n",
       "      <th>onehotencoder__Metodo_pago_Tarjeta de crédito (automática)</th>\n",
       "      <th>...</th>\n",
       "      <th>remainder__Seguridad_en_linea</th>\n",
       "      <th>remainder__Respaldo_en_linea</th>\n",
       "      <th>remainder__Proteccion_dispositivo</th>\n",
       "      <th>remainder__Soporte_tecnico</th>\n",
       "      <th>remainder__TV_en_streaming</th>\n",
       "      <th>remainder__Peliculas_en_streaming</th>\n",
       "      <th>remainder__Factura_en_linea</th>\n",
       "      <th>remainder__Cargo_mensual</th>\n",
       "      <th>remainder__Cargos_totales</th>\n",
       "      <th>remainder__Cargos_diarios</th>\n",
       "    </tr>\n",
       "  </thead>\n",
       "  <tbody>\n",
       "    <tr>\n",
       "      <th>0</th>\n",
       "      <td>0.0</td>\n",
       "      <td>1.0</td>\n",
       "      <td>0.0</td>\n",
       "      <td>0.0</td>\n",
       "      <td>0.0</td>\n",
       "      <td>0.0</td>\n",
       "      <td>1.0</td>\n",
       "      <td>0.0</td>\n",
       "      <td>1.0</td>\n",
       "      <td>0.0</td>\n",
       "      <td>...</td>\n",
       "      <td>0.0</td>\n",
       "      <td>1.0</td>\n",
       "      <td>0.0</td>\n",
       "      <td>1.0</td>\n",
       "      <td>1.0</td>\n",
       "      <td>0.0</td>\n",
       "      <td>1.0</td>\n",
       "      <td>65.60</td>\n",
       "      <td>593.30</td>\n",
       "      <td>2.186667</td>\n",
       "    </tr>\n",
       "    <tr>\n",
       "      <th>1</th>\n",
       "      <td>1.0</td>\n",
       "      <td>1.0</td>\n",
       "      <td>0.0</td>\n",
       "      <td>0.0</td>\n",
       "      <td>0.0</td>\n",
       "      <td>1.0</td>\n",
       "      <td>0.0</td>\n",
       "      <td>0.0</td>\n",
       "      <td>1.0</td>\n",
       "      <td>0.0</td>\n",
       "      <td>...</td>\n",
       "      <td>0.0</td>\n",
       "      <td>0.0</td>\n",
       "      <td>0.0</td>\n",
       "      <td>0.0</td>\n",
       "      <td>0.0</td>\n",
       "      <td>1.0</td>\n",
       "      <td>0.0</td>\n",
       "      <td>59.90</td>\n",
       "      <td>542.40</td>\n",
       "      <td>1.996667</td>\n",
       "    </tr>\n",
       "    <tr>\n",
       "      <th>2</th>\n",
       "      <td>1.0</td>\n",
       "      <td>0.0</td>\n",
       "      <td>1.0</td>\n",
       "      <td>0.0</td>\n",
       "      <td>0.0</td>\n",
       "      <td>1.0</td>\n",
       "      <td>0.0</td>\n",
       "      <td>1.0</td>\n",
       "      <td>0.0</td>\n",
       "      <td>0.0</td>\n",
       "      <td>...</td>\n",
       "      <td>0.0</td>\n",
       "      <td>0.0</td>\n",
       "      <td>1.0</td>\n",
       "      <td>0.0</td>\n",
       "      <td>0.0</td>\n",
       "      <td>0.0</td>\n",
       "      <td>1.0</td>\n",
       "      <td>73.90</td>\n",
       "      <td>280.85</td>\n",
       "      <td>2.463333</td>\n",
       "    </tr>\n",
       "    <tr>\n",
       "      <th>3</th>\n",
       "      <td>1.0</td>\n",
       "      <td>0.0</td>\n",
       "      <td>1.0</td>\n",
       "      <td>0.0</td>\n",
       "      <td>0.0</td>\n",
       "      <td>1.0</td>\n",
       "      <td>0.0</td>\n",
       "      <td>1.0</td>\n",
       "      <td>0.0</td>\n",
       "      <td>0.0</td>\n",
       "      <td>...</td>\n",
       "      <td>0.0</td>\n",
       "      <td>1.0</td>\n",
       "      <td>1.0</td>\n",
       "      <td>0.0</td>\n",
       "      <td>1.0</td>\n",
       "      <td>1.0</td>\n",
       "      <td>1.0</td>\n",
       "      <td>98.00</td>\n",
       "      <td>1237.85</td>\n",
       "      <td>3.266667</td>\n",
       "    </tr>\n",
       "    <tr>\n",
       "      <th>4</th>\n",
       "      <td>0.0</td>\n",
       "      <td>0.0</td>\n",
       "      <td>1.0</td>\n",
       "      <td>0.0</td>\n",
       "      <td>0.0</td>\n",
       "      <td>1.0</td>\n",
       "      <td>0.0</td>\n",
       "      <td>0.0</td>\n",
       "      <td>1.0</td>\n",
       "      <td>0.0</td>\n",
       "      <td>...</td>\n",
       "      <td>0.0</td>\n",
       "      <td>0.0</td>\n",
       "      <td>0.0</td>\n",
       "      <td>1.0</td>\n",
       "      <td>1.0</td>\n",
       "      <td>0.0</td>\n",
       "      <td>1.0</td>\n",
       "      <td>83.90</td>\n",
       "      <td>267.40</td>\n",
       "      <td>2.796667</td>\n",
       "    </tr>\n",
       "    <tr>\n",
       "      <th>...</th>\n",
       "      <td>...</td>\n",
       "      <td>...</td>\n",
       "      <td>...</td>\n",
       "      <td>...</td>\n",
       "      <td>...</td>\n",
       "      <td>...</td>\n",
       "      <td>...</td>\n",
       "      <td>...</td>\n",
       "      <td>...</td>\n",
       "      <td>...</td>\n",
       "      <td>...</td>\n",
       "      <td>...</td>\n",
       "      <td>...</td>\n",
       "      <td>...</td>\n",
       "      <td>...</td>\n",
       "      <td>...</td>\n",
       "      <td>...</td>\n",
       "      <td>...</td>\n",
       "      <td>...</td>\n",
       "      <td>...</td>\n",
       "      <td>...</td>\n",
       "    </tr>\n",
       "    <tr>\n",
       "      <th>7027</th>\n",
       "      <td>0.0</td>\n",
       "      <td>1.0</td>\n",
       "      <td>0.0</td>\n",
       "      <td>0.0</td>\n",
       "      <td>0.0</td>\n",
       "      <td>0.0</td>\n",
       "      <td>1.0</td>\n",
       "      <td>0.0</td>\n",
       "      <td>1.0</td>\n",
       "      <td>0.0</td>\n",
       "      <td>...</td>\n",
       "      <td>1.0</td>\n",
       "      <td>0.0</td>\n",
       "      <td>0.0</td>\n",
       "      <td>1.0</td>\n",
       "      <td>0.0</td>\n",
       "      <td>0.0</td>\n",
       "      <td>0.0</td>\n",
       "      <td>55.15</td>\n",
       "      <td>742.90</td>\n",
       "      <td>1.838333</td>\n",
       "    </tr>\n",
       "    <tr>\n",
       "      <th>7028</th>\n",
       "      <td>1.0</td>\n",
       "      <td>0.0</td>\n",
       "      <td>1.0</td>\n",
       "      <td>0.0</td>\n",
       "      <td>0.0</td>\n",
       "      <td>1.0</td>\n",
       "      <td>0.0</td>\n",
       "      <td>1.0</td>\n",
       "      <td>0.0</td>\n",
       "      <td>0.0</td>\n",
       "      <td>...</td>\n",
       "      <td>0.0</td>\n",
       "      <td>0.0</td>\n",
       "      <td>0.0</td>\n",
       "      <td>0.0</td>\n",
       "      <td>0.0</td>\n",
       "      <td>1.0</td>\n",
       "      <td>1.0</td>\n",
       "      <td>85.10</td>\n",
       "      <td>1873.70</td>\n",
       "      <td>2.836667</td>\n",
       "    </tr>\n",
       "    <tr>\n",
       "      <th>7029</th>\n",
       "      <td>1.0</td>\n",
       "      <td>1.0</td>\n",
       "      <td>0.0</td>\n",
       "      <td>0.0</td>\n",
       "      <td>0.0</td>\n",
       "      <td>1.0</td>\n",
       "      <td>0.0</td>\n",
       "      <td>0.0</td>\n",
       "      <td>1.0</td>\n",
       "      <td>0.0</td>\n",
       "      <td>...</td>\n",
       "      <td>0.0</td>\n",
       "      <td>1.0</td>\n",
       "      <td>0.0</td>\n",
       "      <td>0.0</td>\n",
       "      <td>0.0</td>\n",
       "      <td>0.0</td>\n",
       "      <td>1.0</td>\n",
       "      <td>50.30</td>\n",
       "      <td>92.75</td>\n",
       "      <td>1.676667</td>\n",
       "    </tr>\n",
       "    <tr>\n",
       "      <th>7030</th>\n",
       "      <td>1.0</td>\n",
       "      <td>1.0</td>\n",
       "      <td>0.0</td>\n",
       "      <td>0.0</td>\n",
       "      <td>1.0</td>\n",
       "      <td>0.0</td>\n",
       "      <td>0.0</td>\n",
       "      <td>0.0</td>\n",
       "      <td>1.0</td>\n",
       "      <td>0.0</td>\n",
       "      <td>...</td>\n",
       "      <td>1.0</td>\n",
       "      <td>0.0</td>\n",
       "      <td>1.0</td>\n",
       "      <td>1.0</td>\n",
       "      <td>0.0</td>\n",
       "      <td>1.0</td>\n",
       "      <td>0.0</td>\n",
       "      <td>67.85</td>\n",
       "      <td>4627.65</td>\n",
       "      <td>2.261667</td>\n",
       "    </tr>\n",
       "    <tr>\n",
       "      <th>7031</th>\n",
       "      <td>1.0</td>\n",
       "      <td>1.0</td>\n",
       "      <td>0.0</td>\n",
       "      <td>0.0</td>\n",
       "      <td>1.0</td>\n",
       "      <td>0.0</td>\n",
       "      <td>0.0</td>\n",
       "      <td>1.0</td>\n",
       "      <td>0.0</td>\n",
       "      <td>0.0</td>\n",
       "      <td>...</td>\n",
       "      <td>1.0</td>\n",
       "      <td>1.0</td>\n",
       "      <td>1.0</td>\n",
       "      <td>0.0</td>\n",
       "      <td>1.0</td>\n",
       "      <td>1.0</td>\n",
       "      <td>0.0</td>\n",
       "      <td>59.00</td>\n",
       "      <td>3707.60</td>\n",
       "      <td>1.966667</td>\n",
       "    </tr>\n",
       "  </tbody>\n",
       "</table>\n",
       "<p>7032 rows × 27 columns</p>\n",
       "</div>"
      ],
      "text/plain": [
       "      onehotencoder__Genero_Male  onehotencoder__Tipo_servicio_internet_DSL  \\\n",
       "0                            0.0                                        1.0   \n",
       "1                            1.0                                        1.0   \n",
       "2                            1.0                                        0.0   \n",
       "3                            1.0                                        0.0   \n",
       "4                            0.0                                        0.0   \n",
       "...                          ...                                        ...   \n",
       "7027                         0.0                                        1.0   \n",
       "7028                         1.0                                        0.0   \n",
       "7029                         1.0                                        1.0   \n",
       "7030                         1.0                                        1.0   \n",
       "7031                         1.0                                        1.0   \n",
       "\n",
       "      onehotencoder__Tipo_servicio_internet_Fibra Optica  \\\n",
       "0                                                   0.0    \n",
       "1                                                   0.0    \n",
       "2                                                   1.0    \n",
       "3                                                   1.0    \n",
       "4                                                   1.0    \n",
       "...                                                 ...    \n",
       "7027                                                0.0    \n",
       "7028                                                1.0    \n",
       "7029                                                0.0    \n",
       "7030                                                0.0    \n",
       "7031                                                0.0    \n",
       "\n",
       "      onehotencoder__Tipo_servicio_internet_Sin servicio  \\\n",
       "0                                                   0.0    \n",
       "1                                                   0.0    \n",
       "2                                                   0.0    \n",
       "3                                                   0.0    \n",
       "4                                                   0.0    \n",
       "...                                                 ...    \n",
       "7027                                                0.0    \n",
       "7028                                                0.0    \n",
       "7029                                                0.0    \n",
       "7030                                                0.0    \n",
       "7031                                                0.0    \n",
       "\n",
       "      onehotencoder__Tipo_contrato_Dos años  \\\n",
       "0                                       0.0   \n",
       "1                                       0.0   \n",
       "2                                       0.0   \n",
       "3                                       0.0   \n",
       "4                                       0.0   \n",
       "...                                     ...   \n",
       "7027                                    0.0   \n",
       "7028                                    0.0   \n",
       "7029                                    0.0   \n",
       "7030                                    1.0   \n",
       "7031                                    1.0   \n",
       "\n",
       "      onehotencoder__Tipo_contrato_Mes a mes  \\\n",
       "0                                        0.0   \n",
       "1                                        1.0   \n",
       "2                                        1.0   \n",
       "3                                        1.0   \n",
       "4                                        1.0   \n",
       "...                                      ...   \n",
       "7027                                     0.0   \n",
       "7028                                     1.0   \n",
       "7029                                     1.0   \n",
       "7030                                     0.0   \n",
       "7031                                     0.0   \n",
       "\n",
       "      onehotencoder__Tipo_contrato_Un año  \\\n",
       "0                                     1.0   \n",
       "1                                     0.0   \n",
       "2                                     0.0   \n",
       "3                                     0.0   \n",
       "4                                     0.0   \n",
       "...                                   ...   \n",
       "7027                                  1.0   \n",
       "7028                                  0.0   \n",
       "7029                                  0.0   \n",
       "7030                                  0.0   \n",
       "7031                                  0.0   \n",
       "\n",
       "      onehotencoder__Metodo_pago_Cheque electrónico  \\\n",
       "0                                               0.0   \n",
       "1                                               0.0   \n",
       "2                                               1.0   \n",
       "3                                               1.0   \n",
       "4                                               0.0   \n",
       "...                                             ...   \n",
       "7027                                            0.0   \n",
       "7028                                            1.0   \n",
       "7029                                            0.0   \n",
       "7030                                            0.0   \n",
       "7031                                            1.0   \n",
       "\n",
       "      onehotencoder__Metodo_pago_Cheque por enviado por correo  \\\n",
       "0                                                   1.0          \n",
       "1                                                   1.0          \n",
       "2                                                   0.0          \n",
       "3                                                   0.0          \n",
       "4                                                   1.0          \n",
       "...                                                 ...          \n",
       "7027                                                1.0          \n",
       "7028                                                0.0          \n",
       "7029                                                1.0          \n",
       "7030                                                1.0          \n",
       "7031                                                0.0          \n",
       "\n",
       "      onehotencoder__Metodo_pago_Tarjeta de crédito (automática)  ...  \\\n",
       "0                                                   0.0           ...   \n",
       "1                                                   0.0           ...   \n",
       "2                                                   0.0           ...   \n",
       "3                                                   0.0           ...   \n",
       "4                                                   0.0           ...   \n",
       "...                                                 ...           ...   \n",
       "7027                                                0.0           ...   \n",
       "7028                                                0.0           ...   \n",
       "7029                                                0.0           ...   \n",
       "7030                                                0.0           ...   \n",
       "7031                                                0.0           ...   \n",
       "\n",
       "      remainder__Seguridad_en_linea  remainder__Respaldo_en_linea  \\\n",
       "0                               0.0                           1.0   \n",
       "1                               0.0                           0.0   \n",
       "2                               0.0                           0.0   \n",
       "3                               0.0                           1.0   \n",
       "4                               0.0                           0.0   \n",
       "...                             ...                           ...   \n",
       "7027                            1.0                           0.0   \n",
       "7028                            0.0                           0.0   \n",
       "7029                            0.0                           1.0   \n",
       "7030                            1.0                           0.0   \n",
       "7031                            1.0                           1.0   \n",
       "\n",
       "      remainder__Proteccion_dispositivo  remainder__Soporte_tecnico  \\\n",
       "0                                   0.0                         1.0   \n",
       "1                                   0.0                         0.0   \n",
       "2                                   1.0                         0.0   \n",
       "3                                   1.0                         0.0   \n",
       "4                                   0.0                         1.0   \n",
       "...                                 ...                         ...   \n",
       "7027                                0.0                         1.0   \n",
       "7028                                0.0                         0.0   \n",
       "7029                                0.0                         0.0   \n",
       "7030                                1.0                         1.0   \n",
       "7031                                1.0                         0.0   \n",
       "\n",
       "      remainder__TV_en_streaming  remainder__Peliculas_en_streaming  \\\n",
       "0                            1.0                                0.0   \n",
       "1                            0.0                                1.0   \n",
       "2                            0.0                                0.0   \n",
       "3                            1.0                                1.0   \n",
       "4                            1.0                                0.0   \n",
       "...                          ...                                ...   \n",
       "7027                         0.0                                0.0   \n",
       "7028                         0.0                                1.0   \n",
       "7029                         0.0                                0.0   \n",
       "7030                         0.0                                1.0   \n",
       "7031                         1.0                                1.0   \n",
       "\n",
       "      remainder__Factura_en_linea  remainder__Cargo_mensual  \\\n",
       "0                             1.0                     65.60   \n",
       "1                             0.0                     59.90   \n",
       "2                             1.0                     73.90   \n",
       "3                             1.0                     98.00   \n",
       "4                             1.0                     83.90   \n",
       "...                           ...                       ...   \n",
       "7027                          0.0                     55.15   \n",
       "7028                          1.0                     85.10   \n",
       "7029                          1.0                     50.30   \n",
       "7030                          0.0                     67.85   \n",
       "7031                          0.0                     59.00   \n",
       "\n",
       "      remainder__Cargos_totales  remainder__Cargos_diarios  \n",
       "0                        593.30                   2.186667  \n",
       "1                        542.40                   1.996667  \n",
       "2                        280.85                   2.463333  \n",
       "3                       1237.85                   3.266667  \n",
       "4                        267.40                   2.796667  \n",
       "...                         ...                        ...  \n",
       "7027                     742.90                   1.838333  \n",
       "7028                    1873.70                   2.836667  \n",
       "7029                      92.75                   1.676667  \n",
       "7030                    4627.65                   2.261667  \n",
       "7031                    3707.60                   1.966667  \n",
       "\n",
       "[7032 rows x 27 columns]"
      ]
     },
     "execution_count": 136,
     "metadata": {},
     "output_type": "execute_result"
    }
   ],
   "source": [
    "X_codificada"
   ]
  },
  {
   "cell_type": "markdown",
   "id": "06f1e832",
   "metadata": {},
   "source": [
    "### Variables numéricas"
   ]
  },
  {
   "cell_type": "code",
   "execution_count": 137,
   "id": "3e0f67e6",
   "metadata": {},
   "outputs": [],
   "source": [
    "from sklearn.preprocessing import MinMaxScaler"
   ]
  },
  {
   "cell_type": "code",
   "execution_count": 138,
   "id": "c13b4c37",
   "metadata": {},
   "outputs": [],
   "source": [
    "def ancho_bin(df,columna):\n",
    "    q75,q25 = np.percentile(df[columna],[75,25])\n",
    "    iqr = q75-q25\n",
    "    ancho = 2*iqr*np.power(len(df[columna]),-1/3)\n",
    "    return ancho"
   ]
  },
  {
   "cell_type": "code",
   "execution_count": 139,
   "id": "984c52f5",
   "metadata": {},
   "outputs": [
    {
     "data": {
      "text/plain": [
       "Index(['onehotencoder__Genero_Male',\n",
       "       'onehotencoder__Tipo_servicio_internet_DSL',\n",
       "       'onehotencoder__Tipo_servicio_internet_Fibra Optica',\n",
       "       'onehotencoder__Tipo_servicio_internet_Sin servicio',\n",
       "       'onehotencoder__Tipo_contrato_Dos años',\n",
       "       'onehotencoder__Tipo_contrato_Mes a mes',\n",
       "       'onehotencoder__Tipo_contrato_Un año',\n",
       "       'onehotencoder__Metodo_pago_Cheque electrónico',\n",
       "       'onehotencoder__Metodo_pago_Cheque por enviado por correo',\n",
       "       'onehotencoder__Metodo_pago_Tarjeta de crédito (automática)',\n",
       "       'onehotencoder__Metodo_pago_Transferencia bancaria (automática)',\n",
       "       'remainder__Es_mayor_de_edad', 'remainder__Pareja',\n",
       "       'remainder__Dependientes', 'remainder__Meses_contrato',\n",
       "       'remainder__Servicio_telefonico',\n",
       "       'remainder__Lineas_telefonicas_multiples',\n",
       "       'remainder__Seguridad_en_linea', 'remainder__Respaldo_en_linea',\n",
       "       'remainder__Proteccion_dispositivo', 'remainder__Soporte_tecnico',\n",
       "       'remainder__TV_en_streaming', 'remainder__Peliculas_en_streaming',\n",
       "       'remainder__Factura_en_linea', 'remainder__Cargo_mensual',\n",
       "       'remainder__Cargos_totales', 'remainder__Cargos_diarios'],\n",
       "      dtype='object')"
      ]
     },
     "execution_count": 139,
     "metadata": {},
     "output_type": "execute_result"
    }
   ],
   "source": [
    "X_codificada.columns"
   ]
  },
  {
   "cell_type": "code",
   "execution_count": 140,
   "id": "dc18d0fe",
   "metadata": {},
   "outputs": [],
   "source": [
    "normalizador = MinMaxScaler()\n",
    "columnas_a_normalizar = ['remainder__Cargo_mensual', 'remainder__Cargos_totales','remainder__Cargos_diarios']\n",
    "X_codificada[columnas_a_normalizar] = normalizador.fit_transform(X_codificada[columnas_a_normalizar])\n"
   ]
  },
  {
   "cell_type": "code",
   "execution_count": 141,
   "id": "f8e15b1a",
   "metadata": {},
   "outputs": [
    {
     "data": {
      "text/html": [
       "<div>\n",
       "<style scoped>\n",
       "    .dataframe tbody tr th:only-of-type {\n",
       "        vertical-align: middle;\n",
       "    }\n",
       "\n",
       "    .dataframe tbody tr th {\n",
       "        vertical-align: top;\n",
       "    }\n",
       "\n",
       "    .dataframe thead th {\n",
       "        text-align: right;\n",
       "    }\n",
       "</style>\n",
       "<table border=\"1\" class=\"dataframe\">\n",
       "  <thead>\n",
       "    <tr style=\"text-align: right;\">\n",
       "      <th></th>\n",
       "      <th>onehotencoder__Genero_Male</th>\n",
       "      <th>onehotencoder__Tipo_servicio_internet_DSL</th>\n",
       "      <th>onehotencoder__Tipo_servicio_internet_Fibra Optica</th>\n",
       "      <th>onehotencoder__Tipo_servicio_internet_Sin servicio</th>\n",
       "      <th>onehotencoder__Tipo_contrato_Dos años</th>\n",
       "      <th>onehotencoder__Tipo_contrato_Mes a mes</th>\n",
       "      <th>onehotencoder__Tipo_contrato_Un año</th>\n",
       "      <th>onehotencoder__Metodo_pago_Cheque electrónico</th>\n",
       "      <th>onehotencoder__Metodo_pago_Cheque por enviado por correo</th>\n",
       "      <th>onehotencoder__Metodo_pago_Tarjeta de crédito (automática)</th>\n",
       "      <th>...</th>\n",
       "      <th>remainder__Seguridad_en_linea</th>\n",
       "      <th>remainder__Respaldo_en_linea</th>\n",
       "      <th>remainder__Proteccion_dispositivo</th>\n",
       "      <th>remainder__Soporte_tecnico</th>\n",
       "      <th>remainder__TV_en_streaming</th>\n",
       "      <th>remainder__Peliculas_en_streaming</th>\n",
       "      <th>remainder__Factura_en_linea</th>\n",
       "      <th>remainder__Cargo_mensual</th>\n",
       "      <th>remainder__Cargos_totales</th>\n",
       "      <th>remainder__Cargos_diarios</th>\n",
       "    </tr>\n",
       "  </thead>\n",
       "  <tbody>\n",
       "    <tr>\n",
       "      <th>0</th>\n",
       "      <td>0.0</td>\n",
       "      <td>1.0</td>\n",
       "      <td>0.0</td>\n",
       "      <td>0.0</td>\n",
       "      <td>0.0</td>\n",
       "      <td>0.0</td>\n",
       "      <td>1.0</td>\n",
       "      <td>0.0</td>\n",
       "      <td>1.0</td>\n",
       "      <td>0.0</td>\n",
       "      <td>...</td>\n",
       "      <td>0.0</td>\n",
       "      <td>1.0</td>\n",
       "      <td>0.0</td>\n",
       "      <td>1.0</td>\n",
       "      <td>1.0</td>\n",
       "      <td>0.0</td>\n",
       "      <td>1.0</td>\n",
       "      <td>0.471144</td>\n",
       "      <td>0.066294</td>\n",
       "      <td>0.471144</td>\n",
       "    </tr>\n",
       "    <tr>\n",
       "      <th>1</th>\n",
       "      <td>1.0</td>\n",
       "      <td>1.0</td>\n",
       "      <td>0.0</td>\n",
       "      <td>0.0</td>\n",
       "      <td>0.0</td>\n",
       "      <td>1.0</td>\n",
       "      <td>0.0</td>\n",
       "      <td>0.0</td>\n",
       "      <td>1.0</td>\n",
       "      <td>0.0</td>\n",
       "      <td>...</td>\n",
       "      <td>0.0</td>\n",
       "      <td>0.0</td>\n",
       "      <td>0.0</td>\n",
       "      <td>0.0</td>\n",
       "      <td>0.0</td>\n",
       "      <td>1.0</td>\n",
       "      <td>0.0</td>\n",
       "      <td>0.414428</td>\n",
       "      <td>0.060420</td>\n",
       "      <td>0.414428</td>\n",
       "    </tr>\n",
       "    <tr>\n",
       "      <th>2</th>\n",
       "      <td>1.0</td>\n",
       "      <td>0.0</td>\n",
       "      <td>1.0</td>\n",
       "      <td>0.0</td>\n",
       "      <td>0.0</td>\n",
       "      <td>1.0</td>\n",
       "      <td>0.0</td>\n",
       "      <td>1.0</td>\n",
       "      <td>0.0</td>\n",
       "      <td>0.0</td>\n",
       "      <td>...</td>\n",
       "      <td>0.0</td>\n",
       "      <td>0.0</td>\n",
       "      <td>1.0</td>\n",
       "      <td>0.0</td>\n",
       "      <td>0.0</td>\n",
       "      <td>0.0</td>\n",
       "      <td>1.0</td>\n",
       "      <td>0.553731</td>\n",
       "      <td>0.030239</td>\n",
       "      <td>0.553731</td>\n",
       "    </tr>\n",
       "    <tr>\n",
       "      <th>3</th>\n",
       "      <td>1.0</td>\n",
       "      <td>0.0</td>\n",
       "      <td>1.0</td>\n",
       "      <td>0.0</td>\n",
       "      <td>0.0</td>\n",
       "      <td>1.0</td>\n",
       "      <td>0.0</td>\n",
       "      <td>1.0</td>\n",
       "      <td>0.0</td>\n",
       "      <td>0.0</td>\n",
       "      <td>...</td>\n",
       "      <td>0.0</td>\n",
       "      <td>1.0</td>\n",
       "      <td>1.0</td>\n",
       "      <td>0.0</td>\n",
       "      <td>1.0</td>\n",
       "      <td>1.0</td>\n",
       "      <td>1.0</td>\n",
       "      <td>0.793532</td>\n",
       "      <td>0.140670</td>\n",
       "      <td>0.793532</td>\n",
       "    </tr>\n",
       "    <tr>\n",
       "      <th>4</th>\n",
       "      <td>0.0</td>\n",
       "      <td>0.0</td>\n",
       "      <td>1.0</td>\n",
       "      <td>0.0</td>\n",
       "      <td>0.0</td>\n",
       "      <td>1.0</td>\n",
       "      <td>0.0</td>\n",
       "      <td>0.0</td>\n",
       "      <td>1.0</td>\n",
       "      <td>0.0</td>\n",
       "      <td>...</td>\n",
       "      <td>0.0</td>\n",
       "      <td>0.0</td>\n",
       "      <td>0.0</td>\n",
       "      <td>1.0</td>\n",
       "      <td>1.0</td>\n",
       "      <td>0.0</td>\n",
       "      <td>1.0</td>\n",
       "      <td>0.653234</td>\n",
       "      <td>0.028687</td>\n",
       "      <td>0.653234</td>\n",
       "    </tr>\n",
       "    <tr>\n",
       "      <th>...</th>\n",
       "      <td>...</td>\n",
       "      <td>...</td>\n",
       "      <td>...</td>\n",
       "      <td>...</td>\n",
       "      <td>...</td>\n",
       "      <td>...</td>\n",
       "      <td>...</td>\n",
       "      <td>...</td>\n",
       "      <td>...</td>\n",
       "      <td>...</td>\n",
       "      <td>...</td>\n",
       "      <td>...</td>\n",
       "      <td>...</td>\n",
       "      <td>...</td>\n",
       "      <td>...</td>\n",
       "      <td>...</td>\n",
       "      <td>...</td>\n",
       "      <td>...</td>\n",
       "      <td>...</td>\n",
       "      <td>...</td>\n",
       "      <td>...</td>\n",
       "    </tr>\n",
       "    <tr>\n",
       "      <th>7027</th>\n",
       "      <td>0.0</td>\n",
       "      <td>1.0</td>\n",
       "      <td>0.0</td>\n",
       "      <td>0.0</td>\n",
       "      <td>0.0</td>\n",
       "      <td>0.0</td>\n",
       "      <td>1.0</td>\n",
       "      <td>0.0</td>\n",
       "      <td>1.0</td>\n",
       "      <td>0.0</td>\n",
       "      <td>...</td>\n",
       "      <td>1.0</td>\n",
       "      <td>0.0</td>\n",
       "      <td>0.0</td>\n",
       "      <td>1.0</td>\n",
       "      <td>0.0</td>\n",
       "      <td>0.0</td>\n",
       "      <td>0.0</td>\n",
       "      <td>0.367164</td>\n",
       "      <td>0.083556</td>\n",
       "      <td>0.367164</td>\n",
       "    </tr>\n",
       "    <tr>\n",
       "      <th>7028</th>\n",
       "      <td>1.0</td>\n",
       "      <td>0.0</td>\n",
       "      <td>1.0</td>\n",
       "      <td>0.0</td>\n",
       "      <td>0.0</td>\n",
       "      <td>1.0</td>\n",
       "      <td>0.0</td>\n",
       "      <td>1.0</td>\n",
       "      <td>0.0</td>\n",
       "      <td>0.0</td>\n",
       "      <td>...</td>\n",
       "      <td>0.0</td>\n",
       "      <td>0.0</td>\n",
       "      <td>0.0</td>\n",
       "      <td>0.0</td>\n",
       "      <td>0.0</td>\n",
       "      <td>1.0</td>\n",
       "      <td>1.0</td>\n",
       "      <td>0.665174</td>\n",
       "      <td>0.214043</td>\n",
       "      <td>0.665174</td>\n",
       "    </tr>\n",
       "    <tr>\n",
       "      <th>7029</th>\n",
       "      <td>1.0</td>\n",
       "      <td>1.0</td>\n",
       "      <td>0.0</td>\n",
       "      <td>0.0</td>\n",
       "      <td>0.0</td>\n",
       "      <td>1.0</td>\n",
       "      <td>0.0</td>\n",
       "      <td>0.0</td>\n",
       "      <td>1.0</td>\n",
       "      <td>0.0</td>\n",
       "      <td>...</td>\n",
       "      <td>0.0</td>\n",
       "      <td>1.0</td>\n",
       "      <td>0.0</td>\n",
       "      <td>0.0</td>\n",
       "      <td>0.0</td>\n",
       "      <td>0.0</td>\n",
       "      <td>1.0</td>\n",
       "      <td>0.318905</td>\n",
       "      <td>0.008533</td>\n",
       "      <td>0.318905</td>\n",
       "    </tr>\n",
       "    <tr>\n",
       "      <th>7030</th>\n",
       "      <td>1.0</td>\n",
       "      <td>1.0</td>\n",
       "      <td>0.0</td>\n",
       "      <td>0.0</td>\n",
       "      <td>1.0</td>\n",
       "      <td>0.0</td>\n",
       "      <td>0.0</td>\n",
       "      <td>0.0</td>\n",
       "      <td>1.0</td>\n",
       "      <td>0.0</td>\n",
       "      <td>...</td>\n",
       "      <td>1.0</td>\n",
       "      <td>0.0</td>\n",
       "      <td>1.0</td>\n",
       "      <td>1.0</td>\n",
       "      <td>0.0</td>\n",
       "      <td>1.0</td>\n",
       "      <td>0.0</td>\n",
       "      <td>0.493532</td>\n",
       "      <td>0.531831</td>\n",
       "      <td>0.493532</td>\n",
       "    </tr>\n",
       "    <tr>\n",
       "      <th>7031</th>\n",
       "      <td>1.0</td>\n",
       "      <td>1.0</td>\n",
       "      <td>0.0</td>\n",
       "      <td>0.0</td>\n",
       "      <td>1.0</td>\n",
       "      <td>0.0</td>\n",
       "      <td>0.0</td>\n",
       "      <td>1.0</td>\n",
       "      <td>0.0</td>\n",
       "      <td>0.0</td>\n",
       "      <td>...</td>\n",
       "      <td>1.0</td>\n",
       "      <td>1.0</td>\n",
       "      <td>1.0</td>\n",
       "      <td>0.0</td>\n",
       "      <td>1.0</td>\n",
       "      <td>1.0</td>\n",
       "      <td>0.0</td>\n",
       "      <td>0.405473</td>\n",
       "      <td>0.425664</td>\n",
       "      <td>0.405473</td>\n",
       "    </tr>\n",
       "  </tbody>\n",
       "</table>\n",
       "<p>7032 rows × 27 columns</p>\n",
       "</div>"
      ],
      "text/plain": [
       "      onehotencoder__Genero_Male  onehotencoder__Tipo_servicio_internet_DSL  \\\n",
       "0                            0.0                                        1.0   \n",
       "1                            1.0                                        1.0   \n",
       "2                            1.0                                        0.0   \n",
       "3                            1.0                                        0.0   \n",
       "4                            0.0                                        0.0   \n",
       "...                          ...                                        ...   \n",
       "7027                         0.0                                        1.0   \n",
       "7028                         1.0                                        0.0   \n",
       "7029                         1.0                                        1.0   \n",
       "7030                         1.0                                        1.0   \n",
       "7031                         1.0                                        1.0   \n",
       "\n",
       "      onehotencoder__Tipo_servicio_internet_Fibra Optica  \\\n",
       "0                                                   0.0    \n",
       "1                                                   0.0    \n",
       "2                                                   1.0    \n",
       "3                                                   1.0    \n",
       "4                                                   1.0    \n",
       "...                                                 ...    \n",
       "7027                                                0.0    \n",
       "7028                                                1.0    \n",
       "7029                                                0.0    \n",
       "7030                                                0.0    \n",
       "7031                                                0.0    \n",
       "\n",
       "      onehotencoder__Tipo_servicio_internet_Sin servicio  \\\n",
       "0                                                   0.0    \n",
       "1                                                   0.0    \n",
       "2                                                   0.0    \n",
       "3                                                   0.0    \n",
       "4                                                   0.0    \n",
       "...                                                 ...    \n",
       "7027                                                0.0    \n",
       "7028                                                0.0    \n",
       "7029                                                0.0    \n",
       "7030                                                0.0    \n",
       "7031                                                0.0    \n",
       "\n",
       "      onehotencoder__Tipo_contrato_Dos años  \\\n",
       "0                                       0.0   \n",
       "1                                       0.0   \n",
       "2                                       0.0   \n",
       "3                                       0.0   \n",
       "4                                       0.0   \n",
       "...                                     ...   \n",
       "7027                                    0.0   \n",
       "7028                                    0.0   \n",
       "7029                                    0.0   \n",
       "7030                                    1.0   \n",
       "7031                                    1.0   \n",
       "\n",
       "      onehotencoder__Tipo_contrato_Mes a mes  \\\n",
       "0                                        0.0   \n",
       "1                                        1.0   \n",
       "2                                        1.0   \n",
       "3                                        1.0   \n",
       "4                                        1.0   \n",
       "...                                      ...   \n",
       "7027                                     0.0   \n",
       "7028                                     1.0   \n",
       "7029                                     1.0   \n",
       "7030                                     0.0   \n",
       "7031                                     0.0   \n",
       "\n",
       "      onehotencoder__Tipo_contrato_Un año  \\\n",
       "0                                     1.0   \n",
       "1                                     0.0   \n",
       "2                                     0.0   \n",
       "3                                     0.0   \n",
       "4                                     0.0   \n",
       "...                                   ...   \n",
       "7027                                  1.0   \n",
       "7028                                  0.0   \n",
       "7029                                  0.0   \n",
       "7030                                  0.0   \n",
       "7031                                  0.0   \n",
       "\n",
       "      onehotencoder__Metodo_pago_Cheque electrónico  \\\n",
       "0                                               0.0   \n",
       "1                                               0.0   \n",
       "2                                               1.0   \n",
       "3                                               1.0   \n",
       "4                                               0.0   \n",
       "...                                             ...   \n",
       "7027                                            0.0   \n",
       "7028                                            1.0   \n",
       "7029                                            0.0   \n",
       "7030                                            0.0   \n",
       "7031                                            1.0   \n",
       "\n",
       "      onehotencoder__Metodo_pago_Cheque por enviado por correo  \\\n",
       "0                                                   1.0          \n",
       "1                                                   1.0          \n",
       "2                                                   0.0          \n",
       "3                                                   0.0          \n",
       "4                                                   1.0          \n",
       "...                                                 ...          \n",
       "7027                                                1.0          \n",
       "7028                                                0.0          \n",
       "7029                                                1.0          \n",
       "7030                                                1.0          \n",
       "7031                                                0.0          \n",
       "\n",
       "      onehotencoder__Metodo_pago_Tarjeta de crédito (automática)  ...  \\\n",
       "0                                                   0.0           ...   \n",
       "1                                                   0.0           ...   \n",
       "2                                                   0.0           ...   \n",
       "3                                                   0.0           ...   \n",
       "4                                                   0.0           ...   \n",
       "...                                                 ...           ...   \n",
       "7027                                                0.0           ...   \n",
       "7028                                                0.0           ...   \n",
       "7029                                                0.0           ...   \n",
       "7030                                                0.0           ...   \n",
       "7031                                                0.0           ...   \n",
       "\n",
       "      remainder__Seguridad_en_linea  remainder__Respaldo_en_linea  \\\n",
       "0                               0.0                           1.0   \n",
       "1                               0.0                           0.0   \n",
       "2                               0.0                           0.0   \n",
       "3                               0.0                           1.0   \n",
       "4                               0.0                           0.0   \n",
       "...                             ...                           ...   \n",
       "7027                            1.0                           0.0   \n",
       "7028                            0.0                           0.0   \n",
       "7029                            0.0                           1.0   \n",
       "7030                            1.0                           0.0   \n",
       "7031                            1.0                           1.0   \n",
       "\n",
       "      remainder__Proteccion_dispositivo  remainder__Soporte_tecnico  \\\n",
       "0                                   0.0                         1.0   \n",
       "1                                   0.0                         0.0   \n",
       "2                                   1.0                         0.0   \n",
       "3                                   1.0                         0.0   \n",
       "4                                   0.0                         1.0   \n",
       "...                                 ...                         ...   \n",
       "7027                                0.0                         1.0   \n",
       "7028                                0.0                         0.0   \n",
       "7029                                0.0                         0.0   \n",
       "7030                                1.0                         1.0   \n",
       "7031                                1.0                         0.0   \n",
       "\n",
       "      remainder__TV_en_streaming  remainder__Peliculas_en_streaming  \\\n",
       "0                            1.0                                0.0   \n",
       "1                            0.0                                1.0   \n",
       "2                            0.0                                0.0   \n",
       "3                            1.0                                1.0   \n",
       "4                            1.0                                0.0   \n",
       "...                          ...                                ...   \n",
       "7027                         0.0                                0.0   \n",
       "7028                         0.0                                1.0   \n",
       "7029                         0.0                                0.0   \n",
       "7030                         0.0                                1.0   \n",
       "7031                         1.0                                1.0   \n",
       "\n",
       "      remainder__Factura_en_linea  remainder__Cargo_mensual  \\\n",
       "0                             1.0                  0.471144   \n",
       "1                             0.0                  0.414428   \n",
       "2                             1.0                  0.553731   \n",
       "3                             1.0                  0.793532   \n",
       "4                             1.0                  0.653234   \n",
       "...                           ...                       ...   \n",
       "7027                          0.0                  0.367164   \n",
       "7028                          1.0                  0.665174   \n",
       "7029                          1.0                  0.318905   \n",
       "7030                          0.0                  0.493532   \n",
       "7031                          0.0                  0.405473   \n",
       "\n",
       "      remainder__Cargos_totales  remainder__Cargos_diarios  \n",
       "0                      0.066294                   0.471144  \n",
       "1                      0.060420                   0.414428  \n",
       "2                      0.030239                   0.553731  \n",
       "3                      0.140670                   0.793532  \n",
       "4                      0.028687                   0.653234  \n",
       "...                         ...                        ...  \n",
       "7027                   0.083556                   0.367164  \n",
       "7028                   0.214043                   0.665174  \n",
       "7029                   0.008533                   0.318905  \n",
       "7030                   0.531831                   0.493532  \n",
       "7031                   0.425664                   0.405473  \n",
       "\n",
       "[7032 rows x 27 columns]"
      ]
     },
     "execution_count": 141,
     "metadata": {},
     "output_type": "execute_result"
    }
   ],
   "source": [
    "X_codificada"
   ]
  },
  {
   "cell_type": "markdown",
   "id": "7d775431",
   "metadata": {},
   "source": [
    "## Normalizacion de variable respuesta"
   ]
  },
  {
   "cell_type": "code",
   "execution_count": 142,
   "id": "165b46d7",
   "metadata": {},
   "outputs": [
    {
     "data": {
      "text/plain": [
       "Abandono\n",
       "0    5163\n",
       "1    1869\n",
       "Name: count, dtype: int64"
      ]
     },
     "execution_count": 142,
     "metadata": {},
     "output_type": "execute_result"
    }
   ],
   "source": [
    "y.value_counts()"
   ]
  },
  {
   "cell_type": "code",
   "execution_count": 143,
   "id": "d0e55485",
   "metadata": {},
   "outputs": [],
   "source": [
    "from imblearn.over_sampling import SMOTE"
   ]
  },
  {
   "cell_type": "code",
   "execution_count": 144,
   "id": "b5ac4b99",
   "metadata": {},
   "outputs": [
    {
     "data": {
      "text/plain": [
       "7032"
      ]
     },
     "execution_count": 144,
     "metadata": {},
     "output_type": "execute_result"
    }
   ],
   "source": [
    "X_codificada.shape[0]"
   ]
  },
  {
   "cell_type": "code",
   "execution_count": 145,
   "id": "9acab6c5",
   "metadata": {},
   "outputs": [],
   "source": [
    "oversampling = SMOTE()\n",
    "X_balanceada, y_balanceada = oversampling.fit_resample(X_codificada,y)"
   ]
  },
  {
   "cell_type": "code",
   "execution_count": 146,
   "id": "b6a1a584",
   "metadata": {},
   "outputs": [
    {
     "name": "stdout",
     "output_type": "stream",
     "text": [
      "10326\n",
      "Abandono\n",
      "0    5163\n",
      "1    5163\n",
      "Name: count, dtype: int64\n"
     ]
    }
   ],
   "source": [
    "print(X_balanceada.shape[0])\n",
    "print(y_balanceada.value_counts())"
   ]
  },
  {
   "cell_type": "markdown",
   "id": "e8a4b1ee",
   "metadata": {},
   "source": [
    "# Correlación y selección de variables"
   ]
  },
  {
   "cell_type": "code",
   "execution_count": 147,
   "id": "0df69ab9",
   "metadata": {},
   "outputs": [
    {
     "data": {
      "image/png": "[encoded data removed]",
      "text/plain": [
       "<Figure size 2000x1600 with 2 Axes>"
      ]
     },
     "metadata": {},
     "output_type": "display_data"
    }
   ],
   "source": [
    "correlation_matrix = X_balanceada.corr()\n",
    "\n",
    "mask = np.abs(correlation_matrix) < 0.3\n",
    "correlation_filtered = correlation_matrix.mask(mask)\n",
    "\n",
    "# Gráfico de calor con números visibles\n",
    "plt.figure(figsize=(20, 16))\n",
    "sns.heatmap(correlation_filtered,\n",
    "            cmap='coolwarm',\n",
    "            annot=True,             # Mostrar valores\n",
    "            fmt=\".2f\",              # Dos decimales\n",
    "            center=0, \n",
    "            linewidths=0.5,         # Separadores entre celdas\n",
    "            cbar_kws={\"shrink\": 0.75})  # Barra de color más compacta\n",
    "\n",
    "plt.title('Mapa de calor de correlaciones mayores a 0.3 (positivas o negativas)', fontsize=16)\n",
    "plt.xticks(rotation=45, ha='right')\n",
    "plt.yticks(rotation=0)\n",
    "plt.tight_layout()\n",
    "plt.show()"
   ]
  },
  {
   "cell_type": "markdown",
   "id": "c0141092",
   "metadata": {},
   "source": [
    "### Eliminar variables por multicolinealidad\n",
    "\n",
    "Algunas variables como `Genero_Male` y `Internet Fibra Optica`, `Meses_contrato` tienen una alta correlación con la variable `Cargo_mensual`, por lo que se necesita revisar si es necesario eliminarlas. La que si se eliminará es `Cargos_diarios` ya que es una variable con una correlación de 1 con `Cargo_mensual`, lo que indica que es redundante."
   ]
  },
  {
   "cell_type": "code",
   "execution_count": 148,
   "id": "357b09e7",
   "metadata": {},
   "outputs": [],
   "source": [
    "X_codificada.drop(columns='remainder__Cargos_diarios', inplace = True)"
   ]
  },
  {
   "cell_type": "code",
   "execution_count": 149,
   "id": "a8eef7a5",
   "metadata": {},
   "outputs": [
    {
     "data": {
      "text/plain": [
       "remainder__Meses_contrato    0.004673\n",
       "remainder__Cargo_mensual    -0.019108\n",
       "remainder__Cargos_totales   -0.006625\n",
       "Abandono                     1.000000\n",
       "Name: Abandono, dtype: float64"
      ]
     },
     "execution_count": 149,
     "metadata": {},
     "output_type": "execute_result"
    }
   ],
   "source": [
    "df_num = pd.concat([X_codificada[['remainder__Meses_contrato',\n",
    "                                  'remainder__Cargo_mensual', \n",
    "                                  'remainder__Cargos_totales']], y], axis=1)\n",
    "\n",
    "\n",
    "corr = df_num.corr()\n",
    "\n",
    "corr['Abandono']"
   ]
  },
  {
   "cell_type": "code",
   "execution_count": 150,
   "id": "2d9deef7",
   "metadata": {},
   "outputs": [
    {
     "data": {
      "image/png": "[encoded data removed]",
      "text/plain": [
       "<Figure size 1100x900 with 2 Axes>"
      ]
     },
     "metadata": {},
     "output_type": "display_data"
    }
   ],
   "source": [
    "df_num = pd.concat([X_codificada[['remainder__Meses_contrato',\n",
    "                                  'remainder__Cargo_mensual', \n",
    "                                  'remainder__Cargos_totales']], y], axis=1)\n",
    "\n",
    "\n",
    "corr = df_num.corr()\n",
    "\n",
    "mascara = np.zeros_like(corr, dtype=bool)\n",
    "mascara[np.triu_indices_from(mascara)] = True\n",
    "\n",
    "# Configurar la figura de matplotlib\n",
    "f, ax = plt.subplots(figsize=(11, 9))\n",
    "\n",
    "# Generar el mapa de calor (heatmap)\n",
    "cmap = sns.diverging_palette(220, 10, as_cmap=True)\n",
    "\n",
    "sns.heatmap(corr, mask=mascara, cmap=cmap, vmax=1, vmin=-1, center=0,\n",
    "            square=True, linewidths=.5, annot=True, cbar_kws={\"shrink\": .5})\n",
    "\n",
    "\n",
    "\n",
    "\n",
    "# Mostrar el mapa de calor (heatmap)\n",
    "plt.show()"
   ]
  },
  {
   "cell_type": "code",
   "execution_count": 151,
   "id": "d1948714",
   "metadata": {},
   "outputs": [
    {
     "data": {
      "application/vnd.plotly.v1+json": {
       "config": {
        "plotlyServerURL": "https://plot.ly"
       },
       "data": [
        {
         "alignmentgroup": "True",
         "hovertemplate": "Abandono=0.0<br>remainder__Meses_contrato=%{x}<extra></extra>",
         "legendgroup": "0.0",
         "marker": {
          "color": "#636efa"
         },
         "name": "0.0",
         "notched": false,
         "offsetgroup": "0.0",
         "orientation": "h",
         "showlegend": true,
         "type": "box",
         "x": {
          "bdata": "AAAAAAAAIkAAAAAAAAAiQAAAAAAAACJAAAAAAADAUUAAAAAAAIBPQAAAAAAAABxAAAAAAABAUEAAAAAAAABLQAAAAAAAAFJAAAAAAAAAFEAAAAAAAABSQAAAAAAAAExAAAAAAADAUUAAAAAAAABBQAAAAAAAAPA/AAAAAAAASUAAAAAAAAA3QAAAAAAAAAhAAAAAAACAS0AAAAAAAABLQAAAAAAAADpAAAAAAABAUUAAAAAAAIBIQAAAAAAAgFBAAAAAAADAUEAAAAAAAAA0QAAAAAAAgEVAAAAAAACAS0AAAAAAAIBNQAAAAAAAAChAAAAAAAAAO0AAAAAAAAAAQAAAAAAAADlAAAAAAAAAOUAAAAAAAAA9QAAAAAAAAFJAAAAAAAAALEAAAAAAAIBBQAAAAAAAAPA/AAAAAAAAPUAAAAAAAABQQAAAAAAAgENAAAAAAAAAREAAAAAAAABEQAAAAAAAAD5AAAAAAAAAO0AAAAAAAIBRQAAAAAAAgExAAAAAAAAATUAAAAAAAAAwQAAAAAAAQFFAAAAAAAAA8D8AAAAAAAAwQAAAAAAAgEhAAAAAAACAQEAAAAAAAAAkQAAAAAAAADVAAAAAAAAASUAAAAAAAIBOQAAAAAAAADpAAAAAAAAARkAAAAAAAIBQQAAAAAAAAABAAAAAAAAARkAAAAAAAEBRQAAAAAAAAAhAAAAAAAAAOkAAAAAAAIBDQAAAAAAAADlAAAAAAAAA8D8AAAAAAIBAQAAAAAAAAAhAAAAAAACAR0AAAAAAAABPQAAAAAAAwFFAAAAAAAAAHEAAAAAAAAA7QAAAAAAAAABAAAAAAAAAOUAAAAAAAAA+QAAAAAAAAE1AAAAAAAAAJEAAAAAAAAAiQAAAAAAAABhAAAAAAACAUUAAAAAAAABHQAAAAAAAAEtAAAAAAAAANkAAAAAAAIBRQAAAAAAAwFFAAAAAAAAAPkAAAAAAAAAQQAAAAAAAAABAAAAAAAAAJEAAAAAAAAAQQAAAAAAAACBAAAAAAAAAAEAAAAAAAAAIQAAAAAAAAFJAAAAAAACAT0AAAAAAAIBQQAAAAAAAAPA/AAAAAAAATkAAAAAAAABIQAAAAAAAAPA/AAAAAAAASUAAAAAAAABSQAAAAAAAAPA/AAAAAAAA8D8AAAAAAMBQQAAAAAAAAEhAAAAAAAAAUkAAAAAAAABKQAAAAAAAwFBAAAAAAAAAPEAAAAAAAABAQAAAAAAAADtAAAAAAAAACEAAAAAAAAAiQAAAAAAAwFFAAAAAAADAUEAAAAAAAABSQAAAAAAAADdAAAAAAAAAUkAAAAAAAAAcQAAAAAAAgFBAAAAAAAAAFEAAAAAAAIBIQAAAAAAAAChAAAAAAAAAO0AAAAAAAADwPwAAAAAAABRAAAAAAAAAM0AAAAAAAABKQAAAAAAAAFJAAAAAAAAAIEAAAAAAAIBEQAAAAAAAABRAAAAAAAAAJkAAAAAAAAAUQAAAAAAAwFFAAAAAAAAAJkAAAAAAAIBOQAAAAAAAACJAAAAAAAAAGEAAAAAAAAA6QAAAAAAAACZAAAAAAAAA8D8AAAAAAIBIQAAAAAAAgEpAAAAAAAAAN0AAAAAAAADwPwAAAAAAAAhAAAAAAAAAUUAAAAAAAADwPwAAAAAAABRAAAAAAAAACEAAAAAAAIBEQAAAAAAAAEdAAAAAAAAALkAAAAAAAABNQAAAAAAAAD9AAAAAAAAATEAAAAAAAAA5QAAAAAAAAERAAAAAAAAAQEAAAAAAAMBRQAAAAAAAADFAAAAAAAAAMkAAAAAAAIBCQAAAAAAAACJAAAAAAAAA8D8AAAAAAEBQQAAAAAAAAAhAAAAAAAAA8D8AAAAAAABCQAAAAAAAADdAAAAAAAAANkAAAAAAAABSQAAAAAAAADFAAAAAAAAATUAAAAAAAABBQAAAAAAAACRAAAAAAAAAR0AAAAAAAAAAQAAAAAAAAPA/AAAAAAAAUkAAAAAAAIBRQAAAAAAAAABAAAAAAAAAN0AAAAAAAMBQQAAAAAAAAFJAAAAAAACAQkAAAAAAAABSQAAAAAAAAFJAAAAAAAAAS0AAAAAAAABOQAAAAAAAAD9AAAAAAAAACEAAAAAAAAAgQAAAAAAAgENAAAAAAACAUEAAAAAAAAAuQAAAAAAAACJAAAAAAAAAOUAAAAAAAAA2QAAAAAAAAC5AAAAAAAAAPEAAAAAAAAAIQAAAAAAAwFBAAAAAAAAAMkAAAAAAAABPQAAAAAAAAEZAAAAAAACASkAAAAAAAABIQAAAAAAAAEtAAAAAAAAASEAAAAAAAAA4QAAAAAAAgEBAAAAAAACAUEAAAAAAAAAIQAAAAAAAACpAAAAAAAAAN0AAAAAAAAAIQAAAAAAAACRAAAAAAAAAUkAAAAAAAAA9QAAAAAAAAE9AAAAAAACARUAAAAAAAAA6QAAAAAAAADNAAAAAAAAAUkAAAAAAAIBGQAAAAAAAAEBAAAAAAACAS0AAAAAAAAAmQAAAAAAAgEhAAAAAAACATkAAAAAAAAA5QAAAAAAAAPA/AAAAAAAAN0AAAAAAAADwPwAAAAAAABRAAAAAAAAAOEAAAAAAAAA7QAAAAAAAABRAAAAAAAAAR0AAAAAAAADwPwAAAAAAgEJAAAAAAAAAPEAAAAAAAAA4QAAAAAAAAE9AAAAAAAAANEAAAAAAAADwPwAAAAAAAEpAAAAAAAAAPkAAAAAAAABSQAAAAAAAgFBAAAAAAACATEAAAAAAAAA8QAAAAAAAAABAAAAAAAAAKEAAAAAAAIBJQAAAAAAAAE1AAAAAAAAAPUAAAAAAAABSQAAAAAAAwFFAAAAAAACAUUAAAAAAAAAiQAAAAAAAQFFAAAAAAAAAHEAAAAAAAEBRQAAAAAAAABRAAAAAAAAAIkAAAAAAAABHQAAAAAAAAE5AAAAAAAAAO0AAAAAAAAAwQAAAAAAAgERAAAAAAAAAOEAAAAAAAAA5QAAAAAAAAERAAAAAAAAAKkAAAAAAAABQQAAAAAAAAE9AAAAAAAAALEAAAAAAAAAoQAAAAAAAgE1AAAAAAACATUAAAAAAAIBKQAAAAAAAgEZAAAAAAAAASUAAAAAAAADwPwAAAAAAgFFAAAAAAAAAUEAAAAAAAAA8QAAAAAAAAFJAAAAAAAAAKkAAAAAAAAAQQAAAAAAAgE9AAAAAAAAAJEAAAAAAAEBQQAAAAAAAADZAAAAAAAAAN0AAAAAAAABEQAAAAAAAAABAAAAAAAAAKkAAAAAAAAAwQAAAAAAAwFBAAAAAAACAR0AAAAAAAAAQQAAAAAAAADVAAAAAAAAAT0AAAAAAAABIQAAAAAAAAEFAAAAAAAAASEAAAAAAAMBRQAAAAAAAAPA/AAAAAAAAQEAAAAAAAIBPQAAAAAAAAFJAAAAAAACASkAAAAAAAADwPwAAAAAAAElAAAAAAAAANUAAAAAAAADwPwAAAAAAAABAAAAAAABAUEAAAAAAAABKQAAAAAAAACpAAAAAAAAAEEAAAAAAAABHQAAAAAAAgEpAAAAAAAAAREAAAAAAAAA3QAAAAAAAABBAAAAAAACASEAAAAAAAAAQQAAAAAAAAEFAAAAAAACATEAAAAAAAAAQQAAAAAAAAPA/AAAAAACARkAAAAAAAIBLQAAAAAAAQFFAAAAAAADAUUAAAAAAAAA+QAAAAAAAAEpAAAAAAAAASkAAAAAAAAAIQAAAAAAAAFJAAAAAAACASUAAAAAAAIBJQAAAAAAAAFJAAAAAAAAAAEAAAAAAAAAqQAAAAAAAAEpAAAAAAAAAHEAAAAAAAAAQQAAAAAAAAEdAAAAAAAAAS0AAAAAAAADwPwAAAAAAADBAAAAAAAAACEAAAAAAAAAmQAAAAAAAwFFAAAAAAAAAIkAAAAAAAABPQAAAAAAAAFJAAAAAAACAUEAAAAAAAAAwQAAAAAAAAE1AAAAAAAAAUkAAAAAAAMBRQAAAAAAAAFJAAAAAAAAAJkAAAAAAAIBFQAAAAAAAADhAAAAAAAAAKkAAAAAAAADwPwAAAAAAgEtAAAAAAAAAAEAAAAAAAADwPwAAAAAAADtAAAAAAAAAMUAAAAAAAAAAQAAAAAAAADtAAAAAAAAASkAAAAAAAIBGQAAAAAAAwFFAAAAAAAAAQkAAAAAAAAA0QAAAAAAAwFFAAAAAAAAAOEAAAAAAAAAiQAAAAAAAgFBAAAAAAAAAPkAAAAAAAIBHQAAAAAAAAPA/AAAAAACASkAAAAAAAIBRQAAAAAAAADBAAAAAAAAALkAAAAAAAIBGQAAAAAAAAFJAAAAAAAAAKkAAAAAAAAAYQAAAAAAAADJAAAAAAAAAUEAAAAAAAABBQAAAAAAAABRAAAAAAAAANEAAAAAAAAAUQAAAAAAAACpAAAAAAACATUAAAAAAAAAxQAAAAAAAACJAAAAAAAAAJEAAAAAAAAAUQAAAAAAAAEtAAAAAAAAATEAAAAAAAAAQQAAAAAAAAABAAAAAAAAAT0AAAAAAAADwPwAAAAAAAEtAAAAAAAAAN0AAAAAAAAAgQAAAAAAAgE5AAAAAAAAAQUAAAAAAAIBRQAAAAAAAgEtAAAAAAAAAUkAAAAAAAAAIQAAAAAAAAE5AAAAAAAAACEAAAAAAAAAcQAAAAAAAABBAAAAAAAAAKkAAAAAAAAAIQAAAAAAAgE9AAAAAAAAAQkAAAAAAAABLQAAAAAAAgEdAAAAAAACAREAAAAAAAIBBQAAAAAAAACRAAAAAAAAAPkAAAAAAAIBHQAAAAAAAAEpAAAAAAAAANEAAAAAAAAAoQAAAAAAAAEtAAAAAAAAAKkAAAAAAAAAcQAAAAAAAAEVAAAAAAABAUEAAAAAAAIBIQAAAAAAAAE9AAAAAAAAAQEAAAAAAAIBCQAAAAAAAAPA/AAAAAAAA8D8AAAAAAABSQAAAAAAAADpAAAAAAAAAREAAAAAAAIBAQAAAAAAAAFJAAAAAAAAACEAAAAAAAAAyQAAAAAAAAFFAAAAAAAAAM0AAAAAAAADwPwAAAAAAABRAAAAAAAAAHEAAAAAAAADwPwAAAAAAACBAAAAAAAAAT0AAAAAAAABMQAAAAAAAgERAAAAAAAAA8D8AAAAAAABDQAAAAAAAACZAAAAAAAAAOkAAAAAAAABSQAAAAAAAAPA/AAAAAAAA8D8AAAAAAABRQAAAAAAAAE5AAAAAAACAREAAAAAAAAA5QAAAAAAAwFFAAAAAAAAATEAAAAAAAAAgQAAAAAAAADRAAAAAAACARUAAAAAAAAAxQAAAAAAAAABAAAAAAAAAUkAAAAAAAAAyQAAAAAAAwFBAAAAAAABAUUAAAAAAAADwPwAAAAAAAPA/AAAAAAAAOUAAAAAAAIBKQAAAAAAAgE1AAAAAAAAAHEAAAAAAAAAIQAAAAAAAAFBAAAAAAACASUAAAAAAAADwPwAAAAAAQFFAAAAAAAAA8D8AAAAAAABDQAAAAAAAAAhAAAAAAACAT0AAAAAAAAAmQAAAAAAAAFJAAAAAAABAUUAAAAAAAAAxQAAAAAAAACZAAAAAAACARkAAAAAAAIBHQAAAAAAAgFBAAAAAAAAARUAAAAAAAIBLQAAAAAAAAPA/AAAAAAAA8D8AAAAAAAAuQAAAAAAAADxAAAAAAAAAREAAAAAAAIBPQAAAAAAAAC5AAAAAAAAALEAAAAAAAABLQAAAAAAAgENAAAAAAAAAMEAAAAAAAABGQAAAAAAAAPA/AAAAAACASEAAAAAAAAA4QAAAAAAAwFFAAAAAAACATkAAAAAAAAAyQAAAAAAAADtAAAAAAAAAUEAAAAAAAADwPwAAAAAAAElAAAAAAAAAPkAAAAAAAIBMQAAAAAAAADFAAAAAAACASUAAAAAAAMBQQAAAAAAAgEBAAAAAAAAA8D8AAAAAAABSQAAAAAAAgERAAAAAAABAUEAAAAAAAABSQAAAAAAAwFBAAAAAAACASEAAAAAAAAAzQAAAAAAAQFFAAAAAAACAR0AAAAAAAIBKQAAAAAAAADtAAAAAAAAAJkAAAAAAAAA8QAAAAAAAgEpAAAAAAAAAN0AAAAAAAIBPQAAAAAAAAENAAAAAAACATkAAAAAAAADwPwAAAAAAACpAAAAAAAAAHEAAAAAAAAAQQAAAAAAAACBAAAAAAAAAKEAAAAAAAAAcQAAAAAAAAExAAAAAAAAASkAAAAAAAAA3QAAAAAAAADRAAAAAAAAAUUAAAAAAAAAIQAAAAAAAABhAAAAAAAAASUAAAAAAAABOQAAAAAAAABBAAAAAAACARkAAAAAAAIBFQAAAAAAAACJAAAAAAAAAT0AAAAAAAABEQAAAAAAAACBAAAAAAAAAAEAAAAAAAABSQAAAAAAAADVAAAAAAAAAUEAAAAAAAABNQAAAAAAAACxAAAAAAAAAMkAAAAAAAADwPwAAAAAAgE5AAAAAAAAASkAAAAAAAAAsQAAAAAAAgEVAAAAAAAAASkAAAAAAAAAQQAAAAAAAAD9AAAAAAAAAFEAAAAAAAAA7QAAAAAAAABBAAAAAAAAAN0AAAAAAAAAiQAAAAAAAgEhAAAAAAACATUAAAAAAAABRQAAAAAAAAFBAAAAAAAAAUkAAAAAAAAAoQAAAAAAAgENAAAAAAAAAEEAAAAAAAIBRQAAAAAAAAPA/AAAAAAAAUkAAAAAAAABSQAAAAAAAAFFAAAAAAACAUUAAAAAAAAA9QAAAAAAAADRAAAAAAAAAAEAAAAAAAABSQAAAAAAAgEhAAAAAAAAARUAAAAAAAAA1QAAAAAAAAChAAAAAAAAAUkAAAAAAAABKQAAAAAAAAEdAAAAAAAAALkAAAAAAAAAcQAAAAAAAAEtAAAAAAAAA8D8AAAAAAABRQAAAAAAAAFJAAAAAAACAS0AAAAAAAAAiQAAAAAAAABBAAAAAAAAAMkAAAAAAAIBEQAAAAAAAACRAAAAAAAAAGEAAAAAAAAAsQAAAAAAAgE5AAAAAAAAAKkAAAAAAAADwPwAAAAAAAFJAAAAAAAAANkAAAAAAAAAmQAAAAAAAABxAAAAAAAAAS0AAAAAAAAA3QAAAAAAAwFBAAAAAAAAA8D8AAAAAAABIQAAAAAAAAERAAAAAAAAAJkAAAAAAAAAQQAAAAAAAAD5AAAAAAAAALkAAAAAAAAAcQAAAAAAAABxAAAAAAAAACEAAAAAAAAA0QAAAAAAAACZAAAAAAAAA8D8AAAAAAIBFQAAAAAAAADhAAAAAAAAANUAAAAAAAAAcQAAAAAAAgExAAAAAAAAAJkAAAAAAAAAIQAAAAAAAgExAAAAAAAAAN0AAAAAAAAAyQAAAAAAAgFFAAAAAAACAQEAAAAAAAABLQAAAAAAAgFFAAAAAAAAA8D8AAAAAAADwPwAAAAAAAExAAAAAAAAASkAAAAAAAAAoQAAAAAAAAD1AAAAAAAAANkAAAAAAAAA9QAAAAAAAACRAAAAAAAAAOkAAAAAAAAAqQAAAAAAAgFFAAAAAAACATEAAAAAAAABNQAAAAAAAAPA/AAAAAAAAJEAAAAAAAABMQAAAAAAAADZAAAAAAAAAUkAAAAAAAADwPwAAAAAAgENAAAAAAAAA8D8AAAAAAADwPwAAAAAAAEpAAAAAAAAAJEAAAAAAAIBRQAAAAAAAAE5AAAAAAAAAIEAAAAAAAAAIQAAAAAAAgFBAAAAAAAAA8D8AAAAAAABCQAAAAAAAAE1AAAAAAAAAHEAAAAAAAABSQAAAAAAAgEFAAAAAAAAAPEAAAAAAAAA+QAAAAAAAgFFAAAAAAAAAPUAAAAAAAIBNQAAAAAAAAABAAAAAAAAATUAAAAAAAIBGQAAAAAAAAChAAAAAAAAAIkAAAAAAAAAcQAAAAAAAgFBAAAAAAAAASkAAAAAAAIBOQAAAAAAAADhAAAAAAAAA8D8AAAAAAAAxQAAAAAAAAChAAAAAAAAA8D8AAAAAAIBOQAAAAAAAADtAAAAAAAAASEAAAAAAAMBRQAAAAAAAABBAAAAAAAAAP0AAAAAAAABAQAAAAAAAAD5AAAAAAACAS0AAAAAAAABFQAAAAAAAgFFAAAAAAACARUAAAAAAAAAzQAAAAAAAAChAAAAAAAAAEEAAAAAAAAAgQAAAAAAAAFFAAAAAAACATEAAAAAAAAAQQAAAAAAAgFFAAAAAAAAAPkAAAAAAAAAcQAAAAAAAADNAAAAAAAAA8D8AAAAAAAAxQAAAAAAAgFBAAAAAAAAACEAAAAAAAIBJQAAAAAAAgElAAAAAAADAUUAAAAAAAIBBQAAAAAAAAABAAAAAAAAAOkAAAAAAAABOQAAAAAAAAChAAAAAAAAAEEAAAAAAAIBGQAAAAAAAAPA/AAAAAAAAIEAAAAAAAAAAQAAAAAAAAEVAAAAAAAAAFEAAAAAAAAA0QAAAAAAAAD1AAAAAAAAA8D8AAAAAAAAsQAAAAAAAwFFAAAAAAACAQEAAAAAAAIBKQAAAAAAAABhAAAAAAAAASEAAAAAAAADwPwAAAAAAgEJAAAAAAAAALEAAAAAAAAAIQAAAAAAAAChAAAAAAAAAN0AAAAAAAAA3QAAAAAAAwFFAAAAAAACAQ0AAAAAAAABNQAAAAAAAgE5AAAAAAAAAM0AAAAAAAIBOQAAAAAAAAChAAAAAAAAAMEAAAAAAAABOQAAAAAAAAEpAAAAAAAAAMUAAAAAAAABHQAAAAAAAAEVAAAAAAACASUAAAAAAAIBGQAAAAAAAAEVAAAAAAAAAFEAAAAAAAADwPwAAAAAAAEtAAAAAAAAAUEAAAAAAAABBQAAAAAAAAEBAAAAAAAAAEEAAAAAAAABLQAAAAAAAgEdAAAAAAAAAJkAAAAAAAAAgQAAAAAAAAExAAAAAAAAAQUAAAAAAAADwPwAAAAAAACJAAAAAAAAAR0AAAAAAAABOQAAAAAAAADZAAAAAAAAAAEAAAAAAAIBBQAAAAAAAADlAAAAAAAAA8D8AAAAAAAAIQAAAAAAAgFBAAAAAAAAAPUAAAAAAAIBQQAAAAAAAACBAAAAAAACARkAAAAAAAADwPwAAAAAAAFJAAAAAAAAAUkAAAAAAAAAkQAAAAAAAgElAAAAAAAAAPEAAAAAAAAAqQAAAAAAAADFAAAAAAAAALkAAAAAAAAAAQAAAAAAAgElAAAAAAAAAPkAAAAAAAABQQAAAAAAAABRAAAAAAAAAUkAAAAAAAADwPwAAAAAAADtAAAAAAAAAUkAAAAAAAADwPwAAAAAAAD5AAAAAAACATkAAAAAAAABPQAAAAAAAgEZAAAAAAAAA8D8AAAAAAAA4QAAAAAAAgFFAAAAAAACAQ0AAAAAAAAA0QAAAAAAAAElAAAAAAAAAKkAAAAAAAAA2QAAAAAAAAPA/AAAAAAAA8D8AAAAAAAAcQAAAAAAAACBAAAAAAAAAIEAAAAAAAABQQAAAAAAAAPA/AAAAAAAAP0AAAAAAAAAQQAAAAAAAAERAAAAAAADAUUAAAAAAAABCQAAAAAAAAPA/AAAAAACAREAAAAAAAAA1QAAAAAAAACZAAAAAAAAATUAAAAAAAAAoQAAAAAAAAABAAAAAAAAAJkAAAAAAAEBRQAAAAAAAAFBAAAAAAAAANEAAAAAAAADwPwAAAAAAAFBAAAAAAACAQ0AAAAAAAIBDQAAAAAAAAEhAAAAAAAAANkAAAAAAAAA4QAAAAAAAACRAAAAAAAAAIEAAAAAAAABCQAAAAAAAADBAAAAAAAAAKkAAAAAAAAAcQAAAAAAAgERAAAAAAAAAFEAAAAAAAIBLQAAAAAAAAFJAAAAAAAAAUkAAAAAAAADwPwAAAAAAADVAAAAAAAAAUUAAAAAAAABNQAAAAAAAgEBAAAAAAACASEAAAAAAAABSQAAAAAAAAPA/AAAAAACARkAAAAAAAIBNQAAAAAAAADZAAAAAAAAAPkAAAAAAAABKQAAAAAAAAPA/AAAAAAAANEAAAAAAAAAwQAAAAAAAgEFAAAAAAABAUEAAAAAAAADwPwAAAAAAAPA/AAAAAAAACEAAAAAAAAAAQAAAAAAAgFFAAAAAAAAAPUAAAAAAAIBFQAAAAAAAADJAAAAAAADAUUAAAAAAAAA7QAAAAAAAACJAAAAAAAAASEAAAAAAAAA7QAAAAAAAAE1AAAAAAAAATkAAAAAAAABHQAAAAAAAAPA/AAAAAACAUEAAAAAAAADwPwAAAAAAACBAAAAAAAAAUUAAAAAAAAAyQAAAAAAAACZAAAAAAAAA8D8AAAAAAABHQAAAAAAAACBAAAAAAAAAIkAAAAAAAADwPwAAAAAAAPA/AAAAAAAAMkAAAAAAAIBCQAAAAAAAgEVAAAAAAAAAGEAAAAAAAABIQAAAAAAAAD1AAAAAAAAAO0AAAAAAAEBQQAAAAAAAAD9AAAAAAAAAUkAAAAAAAAAUQAAAAAAAAPA/AAAAAACAQEAAAAAAAADwPwAAAAAAQFBAAAAAAAAATkAAAAAAAABRQAAAAAAAAFJAAAAAAAAAPUAAAAAAAABQQAAAAAAAAEdAAAAAAAAAHEAAAAAAAAA3QAAAAAAAAFFAAAAAAACAS0AAAAAAAAAUQAAAAAAAABhAAAAAAACAREAAAAAAAADwPwAAAAAAAD1AAAAAAAAAMUAAAAAAAIBCQAAAAAAAADZAAAAAAAAAUUAAAAAAAABSQAAAAAAAAD5AAAAAAAAAP0AAAAAAAAAwQAAAAAAAQFBAAAAAAAAAFEAAAAAAAIBLQAAAAAAAAPA/AAAAAACAQEAAAAAAAAA5QAAAAAAAAAhAAAAAAAAAEEAAAAAAAAA5QAAAAAAAADlAAAAAAAAAUkAAAAAAAABGQAAAAAAAABxAAAAAAACATUAAAAAAAIBRQAAAAAAAAEFAAAAAAAAAFEAAAAAAAADwPwAAAAAAAFFAAAAAAAAALEAAAAAAAAAQQAAAAAAAwFBAAAAAAAAASUAAAAAAAIBFQAAAAAAAgE1AAAAAAAAAREAAAAAAAIBCQAAAAAAAAC5AAAAAAAAAPEAAAAAAAAAqQAAAAAAAgE9AAAAAAAAANEAAAAAAAABSQAAAAAAAwFFAAAAAAAAAQEAAAAAAAMBRQAAAAAAAwFFAAAAAAAAAKEAAAAAAAAA9QAAAAAAAABxAAAAAAAAAKEAAAAAAAABBQAAAAAAAADZAAAAAAAAALkAAAAAAAABEQAAAAAAAAFJAAAAAAAAAUkAAAAAAAIBGQAAAAAAAwFFAAAAAAAAAMkAAAAAAAIBHQAAAAAAAAFFAAAAAAAAA8D8AAAAAAABBQAAAAAAAADhAAAAAAAAATUAAAAAAAADwPwAAAAAAAEpAAAAAAACARUAAAAAAAAA6QAAAAAAAAExAAAAAAAAA8D8AAAAAAAA7QAAAAAAAACJAAAAAAAAAIEAAAAAAAADwPwAAAAAAwFFAAAAAAAAALkAAAAAAAIBRQAAAAAAAADVAAAAAAAAAS0AAAAAAAAA4QAAAAAAAAPA/AAAAAAAAFEAAAAAAAABSQAAAAAAAABhAAAAAAAAAUkAAAAAAAAAQQAAAAAAAAE9AAAAAAACAQ0AAAAAAAADwPwAAAAAAAE1AAAAAAAAAQ0AAAAAAAAA0QAAAAAAAAD9AAAAAAAAANEAAAAAAAIBOQAAAAAAAAEpAAAAAAABAUUAAAAAAAADwPwAAAAAAAFFAAAAAAAAALEAAAAAAAAAcQAAAAAAAAABAAAAAAAAA8D8AAAAAAIBJQAAAAAAAAC5AAAAAAAAAUkAAAAAAAABGQAAAAAAAAE9AAAAAAAAALEAAAAAAAAAcQAAAAAAAAFJAAAAAAAAA8D8AAAAAAADwPwAAAAAAAAhAAAAAAAAAQEAAAAAAAMBRQAAAAAAAAE5AAAAAAAAAEEAAAAAAAAA9QAAAAAAAAERAAAAAAACATEAAAAAAAAA3QAAAAAAAQFBAAAAAAAAAQ0AAAAAAAABIQAAAAAAAAABAAAAAAAAAPEAAAAAAAEBQQAAAAAAAAABAAAAAAAAAJEAAAAAAAAAwQAAAAAAAAFJAAAAAAAAAKEAAAAAAAADwPwAAAAAAADpAAAAAAAAAHEAAAAAAAABDQAAAAAAAwFBAAAAAAAAASEAAAAAAAABQQAAAAAAAAAhAAAAAAAAAQEAAAAAAAIBMQAAAAAAAADBAAAAAAAAASEAAAAAAAAAyQAAAAAAAADdAAAAAAACAS0AAAAAAAAAiQAAAAAAAADtAAAAAAACAQUAAAAAAAABNQAAAAAAAAEVAAAAAAAAARkAAAAAAAIBFQAAAAAAAABxAAAAAAAAAPEAAAAAAAIBEQAAAAAAAADhAAAAAAACAQ0AAAAAAAEBQQAAAAAAAAEdAAAAAAAAAQkAAAAAAAABPQAAAAAAAAD5AAAAAAACAUUAAAAAAAAA4QAAAAAAAACZAAAAAAAAAAEAAAAAAAAAgQAAAAAAAgEFAAAAAAAAAUUAAAAAAAAAYQAAAAAAAAEdAAAAAAAAAUkAAAAAAAABPQAAAAAAAAENAAAAAAAAATUAAAAAAAABSQAAAAAAAAElAAAAAAAAAEEAAAAAAAAAIQAAAAAAAACBAAAAAAACAS0AAAAAAAMBRQAAAAAAAgEJAAAAAAACAREAAAAAAAIBLQAAAAAAAgE5AAAAAAAAARkAAAAAAAAAAQAAAAAAAAPA/AAAAAAAARkAAAAAAAAAkQAAAAAAAgFBAAAAAAAAAOEAAAAAAAAAyQAAAAAAAADZAAAAAAAAANkAAAAAAAABDQAAAAAAAABRAAAAAAAAA8D8AAAAAAAAyQAAAAAAAACZAAAAAAADAUEAAAAAAAABSQAAAAAAAgEdAAAAAAAAAKEAAAAAAAAAmQAAAAAAAAERAAAAAAAAAJkAAAAAAAAAUQAAAAAAAADRAAAAAAAAAUkAAAAAAAAAYQAAAAAAAAERAAAAAAAAAPkAAAAAAAAA9QAAAAAAAgE1AAAAAAAAA8D8AAAAAAAAQQAAAAAAAgE5AAAAAAACAQ0AAAAAAAAA/QAAAAAAAAABAAAAAAAAAP0AAAAAAAAAQQAAAAAAAABBAAAAAAAAAUkAAAAAAAAAmQAAAAAAAADdAAAAAAAAAGEAAAAAAAABSQAAAAAAAgEFAAAAAAAAASUAAAAAAAADwPwAAAAAAAABAAAAAAACAREAAAAAAAIBAQAAAAAAAAE5AAAAAAAAAOUAAAAAAAABOQAAAAAAAADtAAAAAAAAATkAAAAAAAAAxQAAAAAAAwFFAAAAAAAAATEAAAAAAAIBRQAAAAAAAAPA/AAAAAAAARUAAAAAAAADwPwAAAAAAAFJAAAAAAAAASkAAAAAAAIBMQAAAAAAAABxAAAAAAABAUEAAAAAAAADwPwAAAAAAgEJAAAAAAAAAUkAAAAAAAABIQAAAAAAAABxAAAAAAAAA8D8AAAAAAIBBQAAAAAAAQFBAAAAAAAAANkAAAAAAAADwPwAAAAAAAEtAAAAAAAAASUAAAAAAAAAqQAAAAAAAAPA/AAAAAAAAO0AAAAAAAAAsQAAAAAAAAD9AAAAAAAAANEAAAAAAAAAoQAAAAAAAAERAAAAAAAAA8D8AAAAAAADwPwAAAAAAAFBAAAAAAAAAKEAAAAAAAAAQQAAAAAAAwFFAAAAAAAAAUEAAAAAAAIBAQAAAAAAAAPA/AAAAAAAACEAAAAAAAIBRQAAAAAAAABBAAAAAAADAUEAAAAAAAABRQAAAAAAAAE9AAAAAAAAAEEAAAAAAAABQQAAAAAAAAABAAAAAAAAAO0AAAAAAAAAiQAAAAAAAAEJAAAAAAAAAHEAAAAAAAEBQQAAAAAAAgEBAAAAAAAAAS0AAAAAAAADwPwAAAAAAAC5AAAAAAAAAEEAAAAAAAAA6QAAAAAAAACRAAAAAAAAAJEAAAAAAAABOQAAAAAAAQFBAAAAAAAAAUkAAAAAAAAAgQAAAAAAAAPA/AAAAAAAASEAAAAAAAIBEQAAAAAAAABhAAAAAAAAA8D8AAAAAAAAcQAAAAAAAAE1AAAAAAACASkAAAAAAAAA/QAAAAAAAABhAAAAAAACASEAAAAAAAAAgQAAAAAAAAD1AAAAAAACATkAAAAAAAAA+QAAAAAAAQFBAAAAAAAAAPUAAAAAAAADwPwAAAAAAAChAAAAAAAAAUUAAAAAAAABCQAAAAAAAAC5AAAAAAAAAJEAAAAAAAAAIQAAAAAAAABBAAAAAAAAAGEAAAAAAAAAAQAAAAAAAAPA/AAAAAAAAUEAAAAAAAABHQAAAAAAAAPA/AAAAAAAAUkAAAAAAAAAUQAAAAAAAAABAAAAAAAAAMUAAAAAAAAAUQAAAAAAAACRAAAAAAAAA8D8AAAAAAIBEQAAAAAAAgE9AAAAAAAAANkAAAAAAAIBHQAAAAAAAQFBAAAAAAAAAIEAAAAAAAAAkQAAAAAAAACJAAAAAAAAAAEAAAAAAAABCQAAAAAAAwFBAAAAAAAAA8D8AAAAAAAA4QAAAAAAAADVAAAAAAAAAJkAAAAAAAABJQAAAAAAAAFBAAAAAAAAACEAAAAAAAMBRQAAAAAAAACJAAAAAAAAA8D8AAAAAAAAIQAAAAAAAgEpAAAAAAAAAR0AAAAAAAIBPQAAAAAAAwFFAAAAAAABAUEAAAAAAAAAIQAAAAAAAAExAAAAAAAAASkAAAAAAAAA5QAAAAAAAAEBAAAAAAAAAMEAAAAAAAAA3QAAAAAAAAPA/AAAAAAAAFEAAAAAAAABJQAAAAAAAACpAAAAAAAAAPEAAAAAAAAAyQAAAAAAAAFJAAAAAAACAQkAAAAAAAAAcQAAAAAAAAD1AAAAAAAAAEEAAAAAAAABDQAAAAAAAAABAAAAAAAAA8D8AAAAAAAA4QAAAAAAAgEVAAAAAAAAAAEAAAAAAAAA4QAAAAAAAgERAAAAAAAAALEAAAAAAAABQQAAAAAAAAFJAAAAAAAAAO0AAAAAAAIBBQAAAAAAAAPA/AAAAAACARUAAAAAAAIBKQAAAAAAAADFAAAAAAAAANEAAAAAAAAAYQAAAAAAAAPA/AAAAAACATkAAAAAAAAAQQAAAAAAAAPA/AAAAAAAA8D8AAAAAAABRQAAAAAAAAPA/AAAAAAAAAEAAAAAAAIBGQAAAAAAAAEFAAAAAAAAAKkAAAAAAAADwPwAAAAAAgEFAAAAAAAAAUkAAAAAAAAAoQAAAAAAAQFFAAAAAAACATEAAAAAAAIBBQAAAAAAAQFFAAAAAAACAT0AAAAAAAIBEQAAAAAAAgEdAAAAAAAAAUkAAAAAAAIBNQAAAAAAAADJAAAAAAAAAOUAAAAAAAABEQAAAAAAAADVAAAAAAAAAAEAAAAAAAABMQAAAAAAAgENAAAAAAAAAMkAAAAAAAAAzQAAAAAAAABBAAAAAAAAA8D8AAAAAAABSQAAAAAAAAEdAAAAAAAAAGEAAAAAAAAAgQAAAAAAAAD9AAAAAAAAAREAAAAAAAAAyQAAAAAAAgEFAAAAAAAAAEEAAAAAAAAAUQAAAAAAAQFFAAAAAAAAAMUAAAAAAAADwPwAAAAAAADhAAAAAAAAAT0AAAAAAAAA3QAAAAAAAACJAAAAAAAAAEEAAAAAAAMBRQAAAAAAAAABAAAAAAAAAJEAAAAAAAAAAQAAAAAAAABxAAAAAAAAAKkAAAAAAAIBMQAAAAAAAAEJAAAAAAACAUEAAAAAAAAA2QAAAAAAAADFAAAAAAAAA8D8AAAAAAAAmQAAAAAAAAAhAAAAAAAAAEEAAAAAAAABSQAAAAAAAADdAAAAAAACAUUAAAAAAAIBRQAAAAAAAAAhAAAAAAABAUUAAAAAAAAAYQAAAAAAAAFJAAAAAAADAUEAAAAAAAAA1QAAAAAAAAEBAAAAAAAAAPUAAAAAAAAA9QAAAAAAAgEtAAAAAAACAS0AAAAAAAAAAQAAAAAAAABxAAAAAAADAUEAAAAAAAIBCQAAAAAAAAFBAAAAAAAAA8D8AAAAAAAAiQAAAAAAAAPA/AAAAAAAAQ0AAAAAAAABAQAAAAAAAAAhAAAAAAAAAJEAAAAAAAADwPwAAAAAAAAhAAAAAAAAACEAAAAAAAABMQAAAAAAAACJAAAAAAAAAKkAAAAAAAAAsQAAAAAAAgElAAAAAAAAA8D8AAAAAAADwPwAAAAAAAFFAAAAAAAAA8D8AAAAAAADwPwAAAAAAAE5AAAAAAAAAN0AAAAAAAABSQAAAAAAAABhAAAAAAAAAKkAAAAAAAIBHQAAAAAAAACxAAAAAAAAAN0AAAAAAAABSQAAAAAAAgFBAAAAAAAAAJkAAAAAAAADwPwAAAAAAwFBAAAAAAAAAMkAAAAAAAAAyQAAAAAAAgE5AAAAAAABAUEAAAAAAAAAzQAAAAAAAAABAAAAAAAAAEEAAAAAAAABOQAAAAAAAAFJAAAAAAAAAFEAAAAAAAIBNQAAAAAAAAFFAAAAAAACASUAAAAAAAAAzQAAAAAAAAABAAAAAAAAALEAAAAAAAIBMQAAAAAAAAFJAAAAAAAAAEEAAAAAAAAAxQAAAAAAAABhAAAAAAAAATEAAAAAAAMBRQAAAAAAAAFJAAAAAAABAUUAAAAAAAIBHQAAAAAAAAE5AAAAAAAAAAEAAAAAAAIBKQAAAAAAAAE5AAAAAAACAS0AAAAAAAIBKQAAAAAAAABRAAAAAAACATEAAAAAAAADwPwAAAAAAAENAAAAAAAAATkAAAAAAAABJQAAAAAAAwFFAAAAAAAAAR0AAAAAAAAA3QAAAAAAAAPA/AAAAAACAUUAAAAAAAIBQQAAAAAAAAPA/AAAAAAAALEAAAAAAAAAIQAAAAAAAAEFAAAAAAAAACEAAAAAAAAA5QAAAAAAAQFBAAAAAAAAACEAAAAAAAMBQQAAAAAAAACBAAAAAAADAUEAAAAAAAAA6QAAAAAAAgExAAAAAAACAQ0AAAAAAAIBHQAAAAAAAADFAAAAAAAAASkAAAAAAAAAgQAAAAAAAAFJAAAAAAABAUEAAAAAAAABBQAAAAAAAgEZAAAAAAADAUUAAAAAAAAAAQAAAAAAAACBAAAAAAAAACEAAAAAAAAAwQAAAAAAAAFJAAAAAAAAA8D8AAAAAAAAkQAAAAAAAAE9AAAAAAACASkAAAAAAAAAzQAAAAAAAADJAAAAAAACASUAAAAAAAAAYQAAAAAAAAFJAAAAAAAAAUkAAAAAAAMBRQAAAAAAAgExAAAAAAADAUUAAAAAAAAAxQAAAAAAAgENAAAAAAAAAIEAAAAAAAABRQAAAAAAAAPA/AAAAAAAAAEAAAAAAAAA+QAAAAAAAAEFAAAAAAACARkAAAAAAAIBCQAAAAAAAACZAAAAAAAAAAEAAAAAAAAA3QAAAAAAAAD1AAAAAAAAAUUAAAAAAAAAxQAAAAAAAAPA/AAAAAAAAQEAAAAAAAIBNQAAAAAAAAC5AAAAAAAAAFEAAAAAAAAAsQAAAAAAAADRAAAAAAACAQUAAAAAAAAAYQAAAAAAAACxAAAAAAAAAN0AAAAAAAMBRQAAAAAAAAFBAAAAAAAAA8D8AAAAAAIBAQAAAAAAAAChAAAAAAAAAQkAAAAAAAAAgQAAAAAAAAD1AAAAAAAAAPEAAAAAAAAAwQAAAAAAAwFBAAAAAAAAAREAAAAAAAAAiQAAAAAAAACBAAAAAAADAUUAAAAAAAAAUQAAAAAAAADFAAAAAAAAAPkAAAAAAAAAIQAAAAAAAADBAAAAAAAAAPkAAAAAAAADwPwAAAAAAAEFAAAAAAAAASkAAAAAAAAAQQAAAAAAAAEZAAAAAAACAR0AAAAAAAAAqQAAAAAAAABRAAAAAAAAAIEAAAAAAAABEQAAAAAAAADlAAAAAAACAUUAAAAAAAIBFQAAAAAAAAChAAAAAAAAAUkAAAAAAAAA1QAAAAAAAgElAAAAAAACAS0AAAAAAAIBJQAAAAAAAgElAAAAAAAAACEAAAAAAAAA/QAAAAAAAAAhAAAAAAAAA8D8AAAAAAAAAQAAAAAAAAD1AAAAAAABAUEAAAAAAAAAUQAAAAAAAAC5AAAAAAAAAM0AAAAAAAABOQAAAAAAAwFFAAAAAAAAA8D8AAAAAAIBFQAAAAAAAAE1AAAAAAAAAEEAAAAAAAIBBQAAAAAAAgEdAAAAAAAAAOUAAAAAAAAAzQAAAAAAAgEhAAAAAAAAAGEAAAAAAAABRQAAAAAAAAE1AAAAAAAAAOUAAAAAAAAA4QAAAAAAAAC5AAAAAAAAAOkAAAAAAAAAkQAAAAAAAADVAAAAAAAAAM0AAAAAAAABEQAAAAAAAADBAAAAAAACAREAAAAAAAIBRQAAAAAAAADVAAAAAAAAAIEAAAAAAAAAAQAAAAAAAAPA/AAAAAACAT0AAAAAAAAAuQAAAAAAAgEVAAAAAAAAA8D8AAAAAAIBBQAAAAAAAAE5AAAAAAADAUUAAAAAAAMBRQAAAAAAAADhAAAAAAAAAN0AAAAAAAABSQAAAAAAAgFFAAAAAAAAA8D8AAAAAAABSQAAAAAAAAEFAAAAAAAAAOEAAAAAAAABAQAAAAAAAADpAAAAAAAAAMUAAAAAAAMBRQAAAAAAAADZAAAAAAAAAUUAAAAAAAIBLQAAAAAAAgEdAAAAAAACAS0AAAAAAAABSQAAAAAAAgEhAAAAAAAAAHEAAAAAAAIBHQAAAAAAAAChAAAAAAACAQEAAAAAAAABBQAAAAAAAAPA/AAAAAACAT0AAAAAAAAA0QAAAAAAAgEdAAAAAAAAAUUAAAAAAAAA9QAAAAAAAAFBAAAAAAAAA8D8AAAAAAAAoQAAAAAAAgEpAAAAAAAAAOEAAAAAAAABSQAAAAAAAgFBAAAAAAAAATUAAAAAAAEBQQAAAAAAAAEdAAAAAAAAA8D8AAAAAAIBOQAAAAAAAAFJAAAAAAAAAJEAAAAAAAAAyQAAAAAAAgElAAAAAAACATEAAAAAAAAAkQAAAAAAAgEFAAAAAAAAA8D8AAAAAAAAAQAAAAAAAAAhAAAAAAACAQUAAAAAAAAA7QAAAAAAAgFFAAAAAAAAAJEAAAAAAAIBLQAAAAAAAACpAAAAAAAAAUEAAAAAAAIBQQAAAAAAAAEpAAAAAAAAAAEAAAAAAAIBMQAAAAAAAADVAAAAAAAAA8D8AAAAAAAAgQAAAAAAAADFAAAAAAAAAMUAAAAAAAAAuQAAAAAAAAE9AAAAAAAAAUUAAAAAAAABNQAAAAAAAAD9AAAAAAADAUUAAAAAAAIBOQAAAAAAAABxAAAAAAAAAKkAAAAAAAADwPwAAAAAAADZAAAAAAAAAUkAAAAAAAIBFQAAAAAAAgE5AAAAAAABAUUAAAAAAAABKQAAAAAAAAPA/AAAAAAAAT0AAAAAAAABLQAAAAAAAAC5AAAAAAAAAM0AAAAAAAAAAQAAAAAAAABRAAAAAAAAA8D8AAAAAAAAQQAAAAAAAAEJAAAAAAAAAFEAAAAAAAAAkQAAAAAAAAABAAAAAAAAA8D8AAAAAAABOQAAAAAAAABhAAAAAAAAATUAAAAAAAAAwQAAAAAAAAD1AAAAAAAAAEEAAAAAAAAAUQAAAAAAAAFFAAAAAAAAASUAAAAAAAAAwQAAAAAAAADVAAAAAAAAAUkAAAAAAAIBGQAAAAAAAQFFAAAAAAAAAQEAAAAAAAAA6QAAAAAAAgE5AAAAAAAAARUAAAAAAAIBIQAAAAAAAAPA/AAAAAAAATkAAAAAAAABDQAAAAAAAAABAAAAAAAAA8D8AAAAAAABLQAAAAAAAgElAAAAAAAAAAEAAAAAAAAAuQAAAAAAAADtAAAAAAAAA8D8AAAAAAAA4QAAAAAAAABhAAAAAAADAUUAAAAAAAIBBQAAAAAAAABhAAAAAAABAUEAAAAAAAIBOQAAAAAAAADZAAAAAAAAAPEAAAAAAAAAmQAAAAAAAADhAAAAAAADAUEAAAAAAAAA1QAAAAAAAAPA/AAAAAAAAAEAAAAAAAAAqQAAAAAAAADBAAAAAAABAUEAAAAAAAEBQQAAAAAAAgFBAAAAAAAAAR0AAAAAAAABRQAAAAAAAgEBAAAAAAAAANEAAAAAAAABQQAAAAAAAAPA/AAAAAAAATUAAAAAAAAA4QAAAAAAAwFFAAAAAAACAQUAAAAAAAAAgQAAAAAAAgEpAAAAAAAAAUkAAAAAAAABMQAAAAAAAgFFAAAAAAACAT0AAAAAAAAAmQAAAAAAAAPA/AAAAAAAAHEAAAAAAAAAsQAAAAAAAAPA/AAAAAAAA8D8AAAAAAABJQAAAAAAAABBAAAAAAAAACEAAAAAAAIBLQAAAAAAAADRAAAAAAAAAUkAAAAAAAAAcQAAAAAAAADtAAAAAAADAUEAAAAAAAAA/QAAAAAAAAAhAAAAAAAAAKEAAAAAAAAAxQAAAAAAAwFFAAAAAAACAUEAAAAAAAADwPwAAAAAAwFFAAAAAAACAQUAAAAAAAAAAQAAAAAAAADBAAAAAAAAAJEAAAAAAAMBRQAAAAAAAABBAAAAAAAAAREAAAAAAAAAoQAAAAAAAgE1AAAAAAAAAUkAAAAAAAABLQAAAAAAAAPA/AAAAAAAALEAAAAAAAAAcQAAAAAAAAPA/AAAAAAAAMUAAAAAAAMBQQAAAAAAAAFJAAAAAAACARkAAAAAAAIBCQAAAAAAAAPA/AAAAAAAAUkAAAAAAAABRQAAAAAAAwFBAAAAAAAAAJEAAAAAAAIBGQAAAAAAAAPA/AAAAAAAAKEAAAAAAAAAYQAAAAAAAAFFAAAAAAAAAUkAAAAAAAMBRQAAAAAAAAFJAAAAAAAAAIkAAAAAAAAAIQAAAAAAAAPA/AAAAAAAAEEAAAAAAAIBGQAAAAAAAAElAAAAAAAAAN0AAAAAAAABGQAAAAAAAAFJAAAAAAAAARUAAAAAAAIBHQAAAAAAAAPA/AAAAAAAAIkAAAAAAAAA4QAAAAAAAAEVAAAAAAAAANEAAAAAAAAA8QAAAAAAAgFFAAAAAAAAAPEAAAAAAAABBQAAAAAAAAPA/AAAAAAAAUkAAAAAAAAAIQAAAAAAAwFBAAAAAAAAAT0AAAAAAAMBRQAAAAAAAAD5AAAAAAAAAUkAAAAAAAADwPwAAAAAAACBAAAAAAAAAQkAAAAAAAABFQAAAAAAAAPA/AAAAAACAQkAAAAAAAAAAQAAAAAAAACBAAAAAAAAATkAAAAAAAABDQAAAAAAAAE1AAAAAAAAAM0AAAAAAAAA/QAAAAAAAgE9AAAAAAAAATEAAAAAAAAA5QAAAAAAAAExAAAAAAAAANUAAAAAAAADwPwAAAAAAABxAAAAAAAAAOUAAAAAAAAA2QAAAAAAAgE5AAAAAAAAAGEAAAAAAAAA9QAAAAAAAAD9AAAAAAAAAUkAAAAAAAAAIQAAAAAAAgERAAAAAAACASEAAAAAAAABQQAAAAAAAADJAAAAAAAAATUAAAAAAAAAcQAAAAAAAABxAAAAAAAAACEAAAAAAAADwPwAAAAAAAEpAAAAAAAAAQkAAAAAAAIBJQAAAAAAAAD9AAAAAAAAAUkAAAAAAAAAmQAAAAAAAADBAAAAAAAAAPkAAAAAAAAAqQAAAAAAAACBAAAAAAAAAM0AAAAAAAABDQAAAAAAAACJAAAAAAAAAQUAAAAAAAMBRQAAAAAAAAAhAAAAAAACAS0AAAAAAAAAIQAAAAAAAADRAAAAAAAAANUAAAAAAAABBQAAAAAAAAFFAAAAAAADAUEAAAAAAAADwPwAAAAAAADhAAAAAAAAAPUAAAAAAAADwPwAAAAAAABxAAAAAAABAUUAAAAAAAAAiQAAAAAAAgEFAAAAAAADAUUAAAAAAAABNQAAAAAAAACJAAAAAAAAAKEAAAAAAAAA2QAAAAAAAgEdAAAAAAAAAFEAAAAAAAAAQQAAAAAAAAEpAAAAAAAAAPEAAAAAAAIBLQAAAAAAAgElAAAAAAAAAUkAAAAAAAIBJQAAAAAAAAD9AAAAAAAAAFEAAAAAAAABKQAAAAAAAABRAAAAAAAAAIEAAAAAAAAAqQAAAAAAAACBAAAAAAACASUAAAAAAAABHQAAAAAAAgERAAAAAAAAAS0AAAAAAAMBQQAAAAAAAAChAAAAAAAAAJEAAAAAAAAA1QAAAAAAAAD9AAAAAAAAACEAAAAAAAIBPQAAAAAAAAEJAAAAAAAAAR0AAAAAAAIBMQAAAAAAAADpAAAAAAAAAFEAAAAAAAADwPwAAAAAAAEtAAAAAAACATUAAAAAAAADwPwAAAAAAAChAAAAAAAAA8D8AAAAAAAA8QAAAAAAAgEBAAAAAAACATkAAAAAAAAA1QAAAAAAAACBAAAAAAAAAUUAAAAAAAAAYQAAAAAAAAPA/AAAAAAAAAEAAAAAAAAAAQAAAAAAAgE5AAAAAAACAQUAAAAAAAAA+QAAAAAAAADFAAAAAAAAAGEAAAAAAAABRQAAAAAAAAEpAAAAAAAAA8D8AAAAAAAAUQAAAAAAAABhAAAAAAAAA8D8AAAAAAABSQAAAAAAAACBAAAAAAAAAOEAAAAAAAAAgQAAAAAAAAENAAAAAAAAAUUAAAAAAAAAiQAAAAAAAADNAAAAAAAAAIkAAAAAAAAAcQAAAAAAAAERAAAAAAAAATEAAAAAAAABMQAAAAAAAADBAAAAAAABAUUAAAAAAAABRQAAAAAAAgEpAAAAAAAAAJEAAAAAAAAA6QAAAAAAAADBAAAAAAACAUUAAAAAAAABSQAAAAAAAAPA/AAAAAAAAJEAAAAAAAABRQAAAAAAAACpAAAAAAACAUUAAAAAAAAAUQAAAAAAAADNAAAAAAAAANEAAAAAAAAA0QAAAAAAAAFJAAAAAAAAAT0AAAAAAAAA1QAAAAAAAAABAAAAAAAAAHEAAAAAAAAA7QAAAAAAAAExAAAAAAADAUEAAAAAAAAAxQAAAAAAAADJAAAAAAACAQkAAAAAAAADwPwAAAAAAACBAAAAAAAAASUAAAAAAAADwPwAAAAAAAExAAAAAAAAA8D8AAAAAAABBQAAAAAAAgEdAAAAAAAAARkAAAAAAAAAIQAAAAAAAADZAAAAAAACAUUAAAAAAAAAIQAAAAAAAABRAAAAAAAAAEEAAAAAAAAAIQAAAAAAAAEtAAAAAAAAALEAAAAAAAADwPwAAAAAAAFBAAAAAAAAANUAAAAAAAAAAQAAAAAAAADRAAAAAAAAAOkAAAAAAAAAIQAAAAAAAABBAAAAAAAAAHEAAAAAAAAAAQAAAAAAAAEdAAAAAAAAAFEAAAAAAAAAkQAAAAAAAACpAAAAAAADAUUAAAAAAAAAiQAAAAAAAgE5AAAAAAAAAAEAAAAAAAABOQAAAAAAAgENAAAAAAAAAHEAAAAAAAIBOQAAAAAAAADNAAAAAAAAAPkAAAAAAAABPQAAAAAAAADJAAAAAAAAANEAAAAAAAABFQAAAAAAAAEpAAAAAAACARkAAAAAAAEBRQAAAAAAAAEJAAAAAAAAAIEAAAAAAAAAAQAAAAAAAAAhAAAAAAAAASkAAAAAAAABDQAAAAAAAADBAAAAAAACAQUAAAAAAAAA3QAAAAAAAAPA/AAAAAAAAR0AAAAAAAAAmQAAAAAAAABhAAAAAAAAAP0AAAAAAAADwPwAAAAAAwFFAAAAAAAAARUAAAAAAAABMQAAAAAAAADJAAAAAAAAAKkAAAAAAAABFQAAAAAAAgE1AAAAAAAAAOkAAAAAAAABEQAAAAAAAACBAAAAAAAAAAEAAAAAAAIBJQAAAAAAAAE1AAAAAAAAAKEAAAAAAAAAiQAAAAAAAAABAAAAAAAAAR0AAAAAAAAAgQAAAAAAAADBAAAAAAAAAFEAAAAAAAABKQAAAAAAAAPA/AAAAAACAUUAAAAAAAABPQAAAAAAAADFAAAAAAAAALEAAAAAAAIBHQAAAAAAAwFFAAAAAAAAASkAAAAAAAAAiQAAAAAAAACRAAAAAAAAAKEAAAAAAAABKQAAAAAAAgEVAAAAAAAAAKkAAAAAAAAAIQAAAAAAAADBAAAAAAACARkAAAAAAAAAQQAAAAAAAAAhAAAAAAAAAGEAAAAAAAADwPwAAAAAAgFFAAAAAAAAATEAAAAAAAAA4QAAAAAAAgEpAAAAAAAAAO0AAAAAAAABOQAAAAAAAADRAAAAAAAAA8D8AAAAAAABFQAAAAAAAADBAAAAAAABAUEAAAAAAAAA2QAAAAAAAACBAAAAAAAAARkAAAAAAAIBJQAAAAAAAgExAAAAAAAAAAEAAAAAAAAAuQAAAAAAAgEpAAAAAAAAA8D8AAAAAAAAYQAAAAAAAACpAAAAAAAAAPkAAAAAAAIBLQAAAAAAAADFAAAAAAAAAHEAAAAAAAAAYQAAAAAAAgEpAAAAAAAAAMEAAAAAAAIBGQAAAAAAAAFBAAAAAAACAUUAAAAAAAEBRQAAAAAAAAERAAAAAAAAAM0AAAAAAAAAyQAAAAAAAAPA/AAAAAAAAAEAAAAAAAADwPwAAAAAAAE5AAAAAAAAAUkAAAAAAAAA/QAAAAAAAAEtAAAAAAAAARkAAAAAAAIBMQAAAAAAAADJAAAAAAACAUUAAAAAAAAA1QAAAAAAAAEVAAAAAAAAACEAAAAAAAAAgQAAAAAAAADJAAAAAAAAAAEAAAAAAAIBJQAAAAAAAgEtAAAAAAAAAP0AAAAAAAADwPwAAAAAAADVAAAAAAAAAPUAAAAAAAAAAQAAAAAAAAElAAAAAAAAAJkAAAAAAAAAYQAAAAAAAAEZAAAAAAAAASUAAAAAAAADwPwAAAAAAAPA/AAAAAAAAQkAAAAAAAAAcQAAAAAAAADpAAAAAAAAAUkAAAAAAAIBPQAAAAAAAgEdAAAAAAAAA8D8AAAAAAAAQQAAAAAAAAFJAAAAAAADAUEAAAAAAAIBNQAAAAAAAAPA/AAAAAACARUAAAAAAAADwPwAAAAAAACJAAAAAAAAAKkAAAAAAAAAAQAAAAAAAAD5AAAAAAAAAKEAAAAAAAIBPQAAAAAAAAEhAAAAAAAAA8D8AAAAAAIBOQAAAAAAAABRAAAAAAAAAR0AAAAAAAADwPwAAAAAAgEdAAAAAAACATUAAAAAAAABEQAAAAAAAAPA/AAAAAAAASEAAAAAAAAAmQAAAAAAAACBAAAAAAAAAQUAAAAAAAAAzQAAAAAAAgFFAAAAAAAAA8D8AAAAAAIBJQAAAAAAAgEFAAAAAAAAAIEAAAAAAAAAQQAAAAAAAACRAAAAAAAAAUkAAAAAAAAAAQAAAAAAAADdAAAAAAAAASUAAAAAAAAAkQAAAAAAAAD1AAAAAAAAANEAAAAAAAAAyQAAAAAAAAFJAAAAAAAAAKkAAAAAAAAAgQAAAAAAAADZAAAAAAACATkAAAAAAAABEQAAAAAAAgFBAAAAAAAAANEAAAAAAAAAwQAAAAAAAAEdAAAAAAAAAM0AAAAAAAAA9QAAAAAAAQFBAAAAAAACAQ0AAAAAAAABSQAAAAAAAgEdAAAAAAABAUEAAAAAAAABMQAAAAAAAAPA/AAAAAACAQkAAAAAAAAAYQAAAAAAAAExAAAAAAAAAREAAAAAAAAAUQAAAAAAAAAhAAAAAAAAAAEAAAAAAAABNQAAAAAAAACpAAAAAAAAAJEAAAAAAAIBQQAAAAAAAAExAAAAAAAAA8D8AAAAAAABMQAAAAAAAADhAAAAAAACAS0AAAAAAAABFQAAAAAAAACxAAAAAAAAAJEAAAAAAAABAQAAAAAAAgE5AAAAAAAAA8D8AAAAAAABJQAAAAAAAACZAAAAAAACAQUAAAAAAAADwPwAAAAAAAFJAAAAAAAAAPUAAAAAAAAA9QAAAAAAAABRAAAAAAAAAJkAAAAAAAAA/QAAAAAAAAPA/AAAAAACAUUAAAAAAAAAUQAAAAAAAAAhAAAAAAAAAOUAAAAAAAAAuQAAAAAAAAABAAAAAAAAAAEAAAAAAAAAqQAAAAAAAAERAAAAAAAAAMUAAAAAAAAAkQAAAAAAAgE5AAAAAAAAAO0AAAAAAAAA8QAAAAAAAACZAAAAAAAAAEEAAAAAAAAAQQAAAAAAAgEVAAAAAAACAUUAAAAAAAIBBQAAAAAAAAABAAAAAAAAAPUAAAAAAAABSQAAAAAAAADtAAAAAAAAAPkAAAAAAAAAzQAAAAAAAAExAAAAAAAAAQkAAAAAAAAAIQAAAAAAAAEpAAAAAAAAAMUAAAAAAAADwPwAAAAAAAFFAAAAAAACATEAAAAAAAABSQAAAAAAAADpAAAAAAAAALEAAAAAAAAAuQAAAAAAAwFFAAAAAAACAQ0AAAAAAAMBQQAAAAAAAAElAAAAAAAAAKkAAAAAAAAAkQAAAAAAAADdAAAAAAACATEAAAAAAAABMQAAAAAAAACRAAAAAAACARUAAAAAAAABLQAAAAAAAADRAAAAAAAAAHEAAAAAAAIBJQAAAAAAAAABAAAAAAAAA8D8AAAAAAADwPwAAAAAAACZAAAAAAAAATEAAAAAAAABSQAAAAAAAACpAAAAAAAAA8D8AAAAAAIBJQAAAAAAAAPA/AAAAAAAAOkAAAAAAAADwPwAAAAAAgEVAAAAAAACAQ0AAAAAAAAAiQAAAAAAAACpAAAAAAAAAAEAAAAAAAMBQQAAAAAAAAE5AAAAAAAAAUEAAAAAAAIBJQAAAAAAAAPA/AAAAAAAAMUAAAAAAAAAyQAAAAAAAAPA/AAAAAAAATUAAAAAAAIBNQAAAAAAAAABAAAAAAAAAOEAAAAAAAIBHQAAAAAAAAAhAAAAAAACAS0AAAAAAAIBFQAAAAAAAAE5AAAAAAAAAUkAAAAAAAEBRQAAAAAAAAD1AAAAAAAAAQkAAAAAAAAAAQAAAAAAAAElAAAAAAAAACEAAAAAAAABMQAAAAAAAgEVAAAAAAAAAOUAAAAAAAABPQAAAAAAAgEhAAAAAAAAA8D8AAAAAAAAgQAAAAAAAAPA/AAAAAAAAUkAAAAAAAIBPQAAAAAAAAEtAAAAAAACAQEAAAAAAAAAiQAAAAAAAACRAAAAAAAAA8D8AAAAAAAAQQAAAAAAAAENAAAAAAAAAMEAAAAAAAMBQQAAAAAAAADRAAAAAAAAAUEAAAAAAAAA8QAAAAAAAwFFAAAAAAAAANUAAAAAAAAAIQAAAAAAAgEJAAAAAAAAAUUAAAAAAAAAiQAAAAAAAADxAAAAAAAAACEAAAAAAAAAmQAAAAAAAAABAAAAAAAAAMUAAAAAAAIBCQAAAAAAAABBAAAAAAAAA8D8AAAAAAIBIQAAAAAAAAFJAAAAAAAAAAEAAAAAAAAAAQAAAAAAAwFBAAAAAAAAAIkAAAAAAAAAQQAAAAAAAADZAAAAAAAAASEAAAAAAAIBHQAAAAAAAgFBAAAAAAAAANkAAAAAAAAAkQAAAAAAAACJAAAAAAACAQUAAAAAAAABLQAAAAAAAAPA/AAAAAACAT0AAAAAAAIBKQAAAAAAAAPA/AAAAAADAUEAAAAAAAMBRQAAAAAAAAEVAAAAAAAAAKEAAAAAAAIBMQAAAAAAAgEFAAAAAAAAAT0AAAAAAAAA5QAAAAAAAADpAAAAAAAAAQUAAAAAAAAAzQAAAAAAAgEpAAAAAAACAUUAAAAAAAAAAQAAAAAAAADxAAAAAAAAAO0AAAAAAAAAcQAAAAAAAAEBAAAAAAAAAEEAAAAAAAABQQAAAAAAAADpAAAAAAADAUUAAAAAAAAAqQAAAAAAAgERAAAAAAAAAIEAAAAAAAIBEQAAAAAAAgEdAAAAAAAAAPUAAAAAAAAAgQAAAAAAAgExAAAAAAAAARUAAAAAAAIBMQAAAAAAAAPA/AAAAAAAAS0AAAAAAAIBAQAAAAAAAAEpAAAAAAADAUUAAAAAAAABEQAAAAAAAAFBAAAAAAAAAOkAAAAAAAABKQAAAAAAAAEVAAAAAAAAAJkAAAAAAAABSQAAAAAAAAPA/AAAAAAAAAEAAAAAAAAAAQAAAAAAAgEhAAAAAAAAAQkAAAAAAAABMQAAAAAAAAFJAAAAAAADAUUAAAAAAAAAmQAAAAAAAACZAAAAAAACASUAAAAAAAAA9QAAAAAAAgEpAAAAAAAAAR0AAAAAAAABSQAAAAAAAgE9AAAAAAAAAJEAAAAAAAAAIQAAAAAAAAEBAAAAAAAAASEAAAAAAAABAQAAAAAAAgEpAAAAAAAAAHEAAAAAAAABHQAAAAAAAAChAAAAAAAAAUEAAAAAAAAAuQAAAAAAAgERAAAAAAACAUEAAAAAAAAAAQAAAAAAAgEVAAAAAAAAATUAAAAAAAIBQQAAAAAAAwFFAAAAAAAAAP0AAAAAAAABIQAAAAAAAAFJAAAAAAAAAUkAAAAAAAABSQAAAAAAAQFBAAAAAAAAAQUAAAAAAAAAQQAAAAAAAAE9AAAAAAAAASkAAAAAAAAAgQAAAAAAAQFFAAAAAAAAAKEAAAAAAAAAUQAAAAAAAAABAAAAAAAAA8D8AAAAAAAA8QAAAAAAAAE1AAAAAAAAA8D8AAAAAAMBRQAAAAAAAAFJAAAAAAACASUAAAAAAAAAAQAAAAAAAADJAAAAAAACAQkAAAAAAAABJQAAAAAAAADVAAAAAAAAAQkAAAAAAAADwPwAAAAAAAFJAAAAAAADAUUAAAAAAAADwPwAAAAAAABRAAAAAAAAAQUAAAAAAAAA2QAAAAAAAACBAAAAAAAAALkAAAAAAAABKQAAAAAAAAChAAAAAAAAAQEAAAAAAAABOQAAAAAAAACJAAAAAAABAUEAAAAAAAAAUQAAAAAAAADBAAAAAAAAAFEAAAAAAAAAgQAAAAAAAwFFAAAAAAACATEAAAAAAAADwPwAAAAAAADlAAAAAAAAAQEAAAAAAAAAkQAAAAAAAACxAAAAAAAAAM0AAAAAAAAAAQAAAAAAAAChAAAAAAAAAJkAAAAAAAAA2QAAAAAAAgE5AAAAAAAAAO0AAAAAAAAAzQAAAAAAAADNAAAAAAAAATEAAAAAAAABSQAAAAAAAQFFAAAAAAABAUEAAAAAAAIBFQAAAAAAAAEdAAAAAAACATkAAAAAAAAAzQAAAAAAAAFFAAAAAAAAASkAAAAAAAAA4QAAAAAAAgEBAAAAAAAAACEAAAAAAAAA4QAAAAAAAAD9AAAAAAAAAEEAAAAAAAAAAQAAAAAAAADZAAAAAAACAUEAAAAAAAAAAQAAAAAAAAABAAAAAAAAA8D8AAAAAAMBRQAAAAAAAADRAAAAAAACAUEAAAAAAAABBQAAAAAAAAPA/AAAAAABAUUAAAAAAAIBRQAAAAAAAADFAAAAAAAAA8D8AAAAAAABHQAAAAAAAgERAAAAAAAAAS0AAAAAAAADwPwAAAAAAACBAAAAAAAAAKEAAAAAAAIBAQAAAAAAAAChAAAAAAAAA8D8AAAAAAAA5QAAAAAAAgEBAAAAAAAAAHEAAAAAAAIBIQAAAAAAAADxAAAAAAAAAEEAAAAAAAABFQAAAAAAAAPA/AAAAAAAAEEAAAAAAAAAqQAAAAAAAAPA/AAAAAAAA8D8AAAAAAADwPwAAAAAAAABAAAAAAAAA8D8AAAAAAAA7QAAAAAAAAAhAAAAAAAAAIEAAAAAAAAAiQAAAAAAAADxAAAAAAAAANkAAAAAAAABBQAAAAAAAAEdAAAAAAAAALkAAAAAAAABNQAAAAAAAAEZAAAAAAAAA8D8AAAAAAAA2QAAAAAAAADRAAAAAAAAAIEAAAAAAAADwPwAAAAAAAABAAAAAAAAAGEAAAAAAAAAcQAAAAAAAAFJAAAAAAAAAJEAAAAAAAAA0QAAAAAAAAE1AAAAAAAAANEAAAAAAAABHQAAAAAAAABBAAAAAAAAAIkAAAAAAAAA0QAAAAAAAgEhAAAAAAAAACEAAAAAAAIBHQAAAAAAAACpAAAAAAAAATUAAAAAAAIBKQAAAAAAAAABAAAAAAAAATkAAAAAAAAAgQAAAAAAAAABAAAAAAAAAO0AAAAAAAAAoQAAAAAAAABBAAAAAAAAAJEAAAAAAAIBEQAAAAAAAADJAAAAAAAAAQEAAAAAAAAAkQAAAAAAAAEVAAAAAAAAAUkAAAAAAAABSQAAAAAAAABRAAAAAAAAAAEAAAAAAAMBRQAAAAAAAwFFAAAAAAACARUAAAAAAAAAUQAAAAAAAABBAAAAAAAAALkAAAAAAAAA/QAAAAAAAgERAAAAAAAAASEAAAAAAAAA8QAAAAAAAADpAAAAAAAAA8D8AAAAAAAAmQAAAAAAAACpAAAAAAADAUUAAAAAAAAAQQAAAAAAAACJAAAAAAACARUAAAAAAAAAAQAAAAAAAQFBAAAAAAAAAKkAAAAAAAIBIQAAAAAAAACBAAAAAAAAAUkAAAAAAAAAQQAAAAAAAgFBAAAAAAACATkAAAAAAAEBRQAAAAAAAwFFAAAAAAAAAJEAAAAAAAAA8QAAAAAAAACZAAAAAAAAACEAAAAAAAAAYQAAAAAAAAPA/AAAAAAAASUAAAAAAAAAcQAAAAAAAAChAAAAAAAAAIkAAAAAAAABBQAAAAAAAADhAAAAAAAAASkAAAAAAAIBLQAAAAAAAQFFAAAAAAAAAUUAAAAAAAADwPwAAAAAAgE9AAAAAAAAASUAAAAAAAABSQAAAAAAAgENAAAAAAAAAAEAAAAAAAABKQAAAAAAAgEBAAAAAAAAANEAAAAAAAIBCQAAAAAAAABxAAAAAAAAATEAAAAAAAIBMQAAAAAAAAEhAAAAAAAAATEAAAAAAAAAzQAAAAAAAAE9AAAAAAAAAN0AAAAAAAAA9QAAAAAAAAD1AAAAAAAAA8D8AAAAAAAAIQAAAAAAAADBAAAAAAACAQEAAAAAAAIBBQAAAAAAAwFFAAAAAAADAUUAAAAAAAIBAQAAAAAAAADZAAAAAAAAAGEAAAAAAAIBRQAAAAAAAgEhAAAAAAAAARkAAAAAAAAAAQAAAAAAAAPA/AAAAAAAAR0AAAAAAAAAkQAAAAAAAABhAAAAAAAAAQEAAAAAAAABOQAAAAAAAAPA/AAAAAAAAGEAAAAAAAABSQAAAAAAAAFJAAAAAAAAA8D8AAAAAAIBBQAAAAAAAAE1AAAAAAAAASUAAAAAAAABSQAAAAAAAACJAAAAAAAAACEAAAAAAAMBQQAAAAAAAAD9AAAAAAAAAKkAAAAAAAAA/QAAAAAAAgFFAAAAAAACARkAAAAAAAADwPwAAAAAAADJAAAAAAAAAQEAAAAAAAABSQAAAAAAAgFFAAAAAAACASEAAAAAAAAAAQAAAAAAAAEBAAAAAAAAAQEAAAAAAAADwPwAAAAAAAABAAAAAAAAAUEAAAAAAAAAzQAAAAAAAACRAAAAAAAAAIkAAAAAAAEBRQAAAAAAAABxAAAAAAAAANkAAAAAAAAAxQAAAAAAAAC5AAAAAAAAASEAAAAAAAADwPwAAAAAAADNAAAAAAAAAAEAAAAAAAAAQQAAAAAAAADpAAAAAAAAAIEAAAAAAAAAyQAAAAAAAgEBAAAAAAAAAUkAAAAAAAAAYQAAAAAAAADJAAAAAAAAAFEAAAAAAAAA1QAAAAAAAAEBAAAAAAAAACEAAAAAAAADwPwAAAAAAAChAAAAAAAAAUkAAAAAAAIBHQAAAAAAAAABAAAAAAAAAUkAAAAAAAABHQAAAAAAAgElAAAAAAAAAJEAAAAAAAIBFQAAAAAAAAEZAAAAAAAAAREAAAAAAAIBBQAAAAAAAgEJAAAAAAAAAN0AAAAAAAEBQQAAAAAAAAFJAAAAAAAAAQEAAAAAAAABRQAAAAAAAADhAAAAAAAAAMEAAAAAAAAAoQAAAAAAAADdAAAAAAACAQkAAAAAAAADwPwAAAAAAAERAAAAAAAAAUkAAAAAAAIBOQAAAAAAAADpAAAAAAAAA8D8AAAAAAAAiQAAAAAAAgERAAAAAAAAAOkAAAAAAAABSQAAAAAAAAEtAAAAAAACAUUAAAAAAAIBOQAAAAAAAABRAAAAAAAAAQUAAAAAAAIBBQAAAAAAAADRAAAAAAAAAAEAAAAAAAABAQAAAAAAAAAhAAAAAAAAAMUAAAAAAAIBCQAAAAAAAAD5AAAAAAAAAFEAAAAAAAABSQAAAAAAAAEBAAAAAAAAAMEAAAAAAAAAuQAAAAAAAgENAAAAAAABAUUAAAAAAAEBRQAAAAAAAgFFAAAAAAAAAFEAAAAAAAIBRQAAAAAAAADlAAAAAAAAAN0AAAAAAAAA7QAAAAAAAADZAAAAAAAAACEAAAAAAAIBJQAAAAAAAAERAAAAAAAAAMkAAAAAAAAA3QAAAAAAAAPA/AAAAAAAAMEAAAAAAAABSQAAAAAAAAEBAAAAAAAAAUUAAAAAAAABQQAAAAAAAADFAAAAAAAAAGEAAAAAAAAA6QAAAAAAAgE1AAAAAAAAAEEAAAAAAAAAIQAAAAAAAACpAAAAAAAAAPUAAAAAAAABSQAAAAAAAAEFAAAAAAAAA8D8AAAAAAAA4QAAAAAAAgFFAAAAAAAAA8D8AAAAAAADwPwAAAAAAAPA/AAAAAAAATEAAAAAAAIBBQAAAAAAAADNAAAAAAAAAT0AAAAAAAABIQAAAAAAAAFBAAAAAAAAA8D8AAAAAAADwPwAAAAAAAPA/AAAAAAAAJEAAAAAAAADwPwAAAAAAgEBAAAAAAAAAUUAAAAAAAAA6QAAAAAAAAPA/AAAAAADAUUAAAAAAAAAYQAAAAAAAAABAAAAAAAAAUkAAAAAAAAAIQAAAAAAAgE1AAAAAAACATEAAAAAAAIBBQAAAAAAAgEVAAAAAAACASEAAAAAAAMBQQAAAAAAAgEdAAAAAAAAAR0AAAAAAAAAUQAAAAAAAAEhAAAAAAAAAKEAAAAAAAIBFQAAAAAAAABRAAAAAAAAAUkAAAAAAAAAIQAAAAAAAAPA/AAAAAACASUAAAAAAAEBQQAAAAAAAADFAAAAAAAAAFEAAAAAAAAA9QAAAAAAAAEdAAAAAAAAASkAAAAAAAAAIQAAAAAAAAFBAAAAAAAAANkAAAAAAAIBMQAAAAAAAADFAAAAAAAAAAEAAAAAAAAAuQAAAAAAAAExAAAAAAAAA8D8AAAAAAAAQQAAAAAAAABRAAAAAAAAAMkAAAAAAAAA3QAAAAAAAAE9AAAAAAAAAN0AAAAAAAEBRQAAAAAAAgE5AAAAAAACAUUAAAAAAAIBCQAAAAAAAwFFAAAAAAAAAKkAAAAAAAMBRQAAAAAAAABBAAAAAAAAAHEAAAAAAAABRQAAAAAAAAPA/AAAAAAAAEEAAAAAAAAA6QAAAAAAAAEVAAAAAAAAAP0AAAAAAAEBRQAAAAAAAQFBAAAAAAAAAPkAAAAAAAAAiQAAAAAAAAEZAAAAAAADAUUAAAAAAAAA2QAAAAAAAAExAAAAAAAAA8D8AAAAAAAA3QAAAAAAAgEBAAAAAAAAASUAAAAAAAIBRQAAAAAAAADZAAAAAAACATUAAAAAAAAA/QAAAAAAAAD1AAAAAAAAACEAAAAAAAEBRQAAAAAAAAD1AAAAAAACASkAAAAAAAADwPwAAAAAAACZAAAAAAACASEAAAAAAAIBNQAAAAAAAACBAAAAAAAAAJkAAAAAAAAAmQAAAAAAAADRAAAAAAAAAJEAAAAAAAMBQQAAAAAAAQFBAAAAAAAAACEAAAAAAAAAqQAAAAAAAAElAAAAAAAAAT0AAAAAAAAA/QAAAAAAAADRAAAAAAABAUUAAAAAAAABGQAAAAAAAACRAAAAAAACASkAAAAAAAAAQQAAAAAAAwFBAAAAAAAAA8D8AAAAAAAAIQAAAAAAAAPA/AAAAAAAAP0AAAAAAAMBRQAAAAAAAACpAAAAAAAAA8D8AAAAAAABDQAAAAAAAABBAAAAAAAAAMEAAAAAAAADwPwAAAAAAAEdAAAAAAAAAUkAAAAAAAAAQQAAAAAAAABRAAAAAAAAATkAAAAAAAAAkQAAAAAAAAPA/AAAAAACAQ0AAAAAAAABSQAAAAAAAgEhAAAAAAAAAT0AAAAAAAADwPwAAAAAAAEFAAAAAAAAACEAAAAAAAAAQQAAAAAAAADlAAAAAAAAAOUAAAAAAAAAAQAAAAAAAgFBAAAAAAAAAUkAAAAAAAAAiQAAAAAAAAEdAAAAAAAAAJkAAAAAAAABPQAAAAAAAADdAAAAAAAAACEAAAAAAAABIQAAAAAAAgFBAAAAAAAAAOEAAAAAAAAAkQAAAAAAAABRAAAAAAABAUEAAAAAAAABSQAAAAAAAABxAAAAAAACARkAAAAAAAAAiQAAAAAAAgFFAAAAAAAAAPkAAAAAAAABRQAAAAAAAAD9AAAAAAAAAP0AAAAAAAADwPwAAAAAAAPA/AAAAAAAAFEAAAAAAAIBBQAAAAAAAwFFAAAAAAADAUUAAAAAAAIBMQAAAAAAAwFBAAAAAAACAR0AAAAAAAADwPwAAAAAAABBAAAAAAAAALkAAAAAAAABAQAAAAAAAADlAAAAAAAAAUkAAAAAAAIBGQAAAAAAAAD1AAAAAAAAATEAAAAAAAMBQQAAAAAAAACBAAAAAAAAAT0AAAAAAAAA/QAAAAAAAABhAAAAAAAAAIEAAAAAAAAAcQAAAAAAAACxAAAAAAAAAGEAAAAAAAIBCQAAAAAAAAPA/AAAAAAAAQ0AAAAAAAEBRQAAAAAAAgEFAAAAAAACASkAAAAAAAAAuQAAAAAAAADBAAAAAAACAQEAAAAAAAAAIQAAAAAAAACJAAAAAAAAAN0AAAAAAAAA+QAAAAAAAgElAAAAAAAAATkAAAAAAAAAsQAAAAAAAAEFAAAAAAACAQEAAAAAAAMBRQAAAAAAAADBAAAAAAAAAOkAAAAAAAIBGQAAAAAAAAPA/AAAAAACARkAAAAAAAADwPwAAAAAAgEBAAAAAAAAAMUAAAAAAAABAQAAAAAAAAPA/AAAAAAAAMEAAAAAAAADwPwAAAAAAAC5AAAAAAAAASUAAAAAAAAA7QAAAAAAAAFJAAAAAAAAALkAAAAAAAADwPwAAAAAAADlAAAAAAAAAQUAAAAAAAAAYQAAAAAAAAD5AAAAAAAAAUkAAAAAAAMBRQAAAAAAAgE5AAAAAAAAALEAAAAAAAADwPwAAAAAAAPA/AAAAAAAAOEAAAAAAAAAyQAAAAAAAgE9AAAAAAAAAFEAAAAAAAAAYQAAAAAAAwFBAAAAAAACATUAAAAAAAADwPwAAAAAAABBAAAAAAAAAUkAAAAAAAAAUQAAAAAAAADdAAAAAAAAAFEAAAAAAAABBQAAAAAAAAABAAAAAAAAALEAAAAAAAABPQAAAAAAAgEpAAAAAAAAAUkAAAAAAAADwPwAAAAAAgEhAAAAAAAAAJkAAAAAAAADwPwAAAAAAAPA/AAAAAAAASUAAAAAAAADwPwAAAAAAAEhAAAAAAAAARUAAAAAAAABMQAAAAAAAADNAAAAAAABAUUAAAAAAAAAcQAAAAAAAACZAAAAAAACARUAAAAAAAAAIQAAAAAAAAExAAAAAAAAAREAAAAAAAIBFQAAAAAAAgE9AAAAAAAAATkAAAAAAAIBHQAAAAAAAACZAAAAAAAAA8D8AAAAAAAAUQAAAAAAAAE9AAAAAAAAALEAAAAAAAIBBQAAAAAAAgFFAAAAAAADAUEAAAAAAAAAwQAAAAAAAACZAAAAAAAAAUkAAAAAAAADwPwAAAAAAADRAAAAAAAAAFEAAAAAAAAAcQAAAAAAAAEJAAAAAAAAAJEAAAAAAAAAUQAAAAAAAAFJAAAAAAABAUEAAAAAAAIBQQAAAAAAAAEZAAAAAAAAALEAAAAAAAAAuQAAAAAAAAFJAAAAAAACAT0AAAAAAAMBQQAAAAAAAgEdAAAAAAACAQUAAAAAAAAAIQAAAAAAAwFBAAAAAAAAAFEAAAAAAAEBQQAAAAAAAAFJAAAAAAAAARkAAAAAAAAA+QAAAAAAAAEVAAAAAAACAQUAAAAAAAAAzQAAAAAAAAFJAAAAAAACATkAAAAAAAAA+QAAAAAAAAEdAAAAAAAAATUAAAAAAAAA6QAAAAAAAAExAAAAAAAAASkAAAAAAAABHQAAAAAAAAPA/AAAAAACATEAAAAAAAADwPwAAAAAAAD1AAAAAAAAACEAAAAAAAIBKQAAAAAAAADhAAAAAAAAAOEAAAAAAAAAAQAAAAAAAAChAAAAAAACAUUAAAAAAAIBOQAAAAAAAABhAAAAAAAAAQ0AAAAAAAIBGQAAAAAAAgElAAAAAAAAATEAAAAAAAAAAQAAAAAAAACRAAAAAAAAASEAAAAAAAAA8QAAAAAAAADtAAAAAAAAAKEAAAAAAAAAuQAAAAAAAACpAAAAAAAAACEAAAAAAAEBRQAAAAAAAAChAAAAAAAAAS0AAAAAAAAA6QAAAAAAAADhAAAAAAACAR0AAAAAAAABNQAAAAAAAAFBAAAAAAAAAM0AAAAAAAADwPwAAAAAAACBAAAAAAAAAAEAAAAAAAMBQQAAAAAAAACZAAAAAAAAAIkAAAAAAAAAcQAAAAAAAgEJAAAAAAAAAOEAAAAAAAABRQAAAAAAAgFFAAAAAAAAAUEAAAAAAAABEQAAAAAAAAD5AAAAAAAAA8D8AAAAAAADwPwAAAAAAwFFAAAAAAAAA8D8AAAAAAAAyQAAAAAAAAEhAAAAAAAAAOEAAAAAAAADwPwAAAAAAgE5AAAAAAAAAPUAAAAAAAABKQAAAAAAAAE5AAAAAAAAA8D8AAAAAAAAuQAAAAAAAAERAAAAAAAAAPUAAAAAAAADwPwAAAAAAAEJAAAAAAABAUEAAAAAAAADwPwAAAAAAQFBAAAAAAAAA8D8AAAAAAIBNQAAAAAAAABRAAAAAAAAAUkAAAAAAAAAQQAAAAAAAACZAAAAAAACASkAAAAAAAAA0QAAAAAAAAFJAAAAAAAAAOkAAAAAAAAAzQAAAAAAAAEhAAAAAAAAAFEAAAAAAAAAAQAAAAAAAADlAAAAAAAAAS0AAAAAAAABRQAAAAAAAgFFAAAAAAAAAMkAAAAAAAAAIQAAAAAAAgEZAAAAAAAAA8D8AAAAAAADwPwAAAAAAgEdAAAAAAAAAR0AAAAAAAIBRQAAAAAAAgFFAAAAAAACAQkAAAAAAAAAuQAAAAAAAAE1AAAAAAACARUAAAAAAAAAiQAAAAAAAABhAAAAAAACAS0AAAAAAAABSQAAAAAAAACBAAAAAAADAUEAAAAAAAEBRQAAAAAAAAEZAAAAAAAAA8D8AAAAAAADwPwAAAAAAADpAAAAAAACAQ0AAAAAAAIBIQAAAAAAAAE5AAAAAAABAUUAAAAAAAAAsQAAAAAAAAPA/AAAAAADAUUAAAAAAAABRQAAAAAAAADRAAAAAAAAAGEAAAAAAAMBRQAAAAAAAgFBAAAAAAACAS0AAAAAAAAAyQAAAAAAAAERAAAAAAADAUUAAAAAAAAA9QAAAAAAAAD1AAAAAAACATkAAAAAAAAAAQAAAAAAAAExAAAAAAAAAAEAAAAAAAIBEQAAAAAAAAD5AAAAAAACAQUAAAAAAAAAxQAAAAAAAADhAAAAAAACAQkAAAAAAAABIQAAAAAAAQFFAAAAAAAAAQ0AAAAAAAAAQQAAAAAAAADVAAAAAAACAQ0AAAAAAAAAxQAAAAAAAAPA/AAAAAAAACEAAAAAAAIBRQAAAAAAAAEtAAAAAAACASkAAAAAAAABIQAAAAAAAAE9AAAAAAAAA8D8AAAAAAIBQQAAAAAAAAAhAAAAAAACAQ0AAAAAAAAAQQAAAAAAAAChAAAAAAAAAQEAAAAAAAAA4QAAAAAAAgFFAAAAAAAAAUkAAAAAAAAAgQAAAAAAAADlAAAAAAAAAJEAAAAAAAADwPwAAAAAAAFJAAAAAAACARUAAAAAAAABJQAAAAAAAADpAAAAAAACAQUAAAAAAAAA1QAAAAAAAAEpAAAAAAAAAOkAAAAAAAIBQQAAAAAAAAE5AAAAAAAAAUkAAAAAAAIBOQAAAAAAAADFAAAAAAAAAR0AAAAAAAABBQAAAAAAAADBAAAAAAAAAIEAAAAAAAABIQAAAAAAAAE5AAAAAAAAAOUAAAAAAAABSQAAAAAAAgFBAAAAAAAAAREAAAAAAAIBRQAAAAAAAgEJAAAAAAAAASUAAAAAAAABOQAAAAAAAgEVAAAAAAAAAJEAAAAAAAAAoQAAAAAAAgEJAAAAAAACAS0AAAAAAAADwPwAAAAAAgEVAAAAAAACATkAAAAAAAAAIQAAAAAAAwFBAAAAAAAAATUAAAAAAAMBQQAAAAAAAAFJAAAAAAAAAUkAAAAAAAAA5QAAAAAAAAChAAAAAAACAUUAAAAAAAADwPwAAAAAAAPA/AAAAAAAANUAAAAAAAABPQAAAAAAAADZAAAAAAABAUEAAAAAAAABDQAAAAAAAABhAAAAAAADAUEAAAAAAAAAAQAAAAAAAAPA/AAAAAABAUEAAAAAAAAAkQAAAAAAAgERAAAAAAAAAAEAAAAAAAAAQQAAAAAAAADFAAAAAAAAAUUAAAAAAAAAQQAAAAAAAgE9AAAAAAACARUAAAAAAAAAQQAAAAAAAAABAAAAAAAAA8D8AAAAAAAAiQAAAAAAAADJAAAAAAAAAQEAAAAAAAABGQAAAAAAAAPA/AAAAAAAA8D8AAAAAAABJQAAAAAAAgElAAAAAAAAACEAAAAAAAADwPwAAAAAAgEpAAAAAAACAR0AAAAAAAAAkQAAAAAAAAERAAAAAAACATkAAAAAAAABHQAAAAAAAAFJAAAAAAAAAOUAAAAAAAAAyQAAAAAAAAE9AAAAAAACAS0AAAAAAAAA2QAAAAAAAgEtAAAAAAAAAPEAAAAAAAAAIQAAAAAAAAE9AAAAAAAAA8D8AAAAAAAAqQAAAAAAAADZAAAAAAAAAOEAAAAAAAIBEQAAAAAAAADFAAAAAAACARkAAAAAAAAAoQAAAAAAAAPA/AAAAAAAAEEAAAAAAAAAsQAAAAAAAAFJAAAAAAAAA8D8AAAAAAEBRQAAAAAAAAPA/AAAAAAAAFEAAAAAAAADwPwAAAAAAACpAAAAAAADAUUAAAAAAAAAcQAAAAAAAAEBAAAAAAAAAJkAAAAAAAAAAQAAAAAAAACpAAAAAAAAAUkAAAAAAAIBDQAAAAAAAABhAAAAAAAAAP0AAAAAAAIBNQAAAAAAAABRAAAAAAAAAO0AAAAAAAAAgQAAAAAAAgENAAAAAAAAAEEAAAAAAAIBJQAAAAAAAABBAAAAAAAAACEAAAAAAAIBCQAAAAAAAABxAAAAAAAAAGEAAAAAAAABHQAAAAAAAAFBAAAAAAAAAUkAAAAAAAAA8QAAAAAAAACJAAAAAAAAA8D8AAAAAAAAzQAAAAAAAAABAAAAAAAAAAEAAAAAAAAAIQAAAAAAAAABAAAAAAAAANkAAAAAAAAAAQAAAAAAAADRAAAAAAAAAEEAAAAAAAMBRQAAAAAAAAAhAAAAAAAAAUkAAAAAAAABLQAAAAAAAADJAAAAAAAAAOkAAAAAAAAA5QAAAAAAAAFJAAAAAAACASkAAAAAAAADwPwAAAAAAADJAAAAAAAAAJEAAAAAAAAAcQAAAAAAAgExAAAAAAACAQEAAAAAAAABQQAAAAAAAACJAAAAAAAAATkAAAAAAAABLQAAAAAAAAEdAAAAAAAAA8D8AAAAAAADwPwAAAAAAAEhAAAAAAACARkAAAAAAAIBCQAAAAAAAACZAAAAAAACAS0AAAAAAAAAoQAAAAAAAgENAAAAAAAAALkAAAAAAAIBGQAAAAAAAAPA/AAAAAACASkAAAAAAAABOQAAAAAAAwFFAAAAAAAAAHEAAAAAAAABJQAAAAAAAQFFAAAAAAACAQkAAAAAAAIBFQAAAAAAAABBAAAAAAAAAHEAAAAAAAADwPwAAAAAAAFBAAAAAAAAAUkAAAAAAAADwPwAAAAAAADlAAAAAAAAAUEAAAAAAAAA4QAAAAAAAACxAAAAAAAAALkAAAAAAAAAiQAAAAAAAADNAAAAAAABAUUAAAAAAAIBQQAAAAAAAQFFAAAAAAAAAKEAAAAAAAAAIQAAAAAAAADFAAAAAAACATEAAAAAAAABDQAAAAAAAADhAAAAAAACAT0AAAAAAAAAAQAAAAAAAADJAAAAAAAAATUAAAAAAAABFQAAAAAAAAElAAAAAAAAAGEAAAAAAAADwPwAAAAAAADtAAAAAAAAAGEAAAAAAAAAkQAAAAAAAADBAAAAAAAAAKkAAAAAAAAAUQAAAAAAAAFJAAAAAAAAAUkAAAAAAAAA4QAAAAAAAAFJAAAAAAAAAUUAAAAAAAAAAQAAAAAAAAE9AAAAAAACAREAAAAAAAAAIQAAAAAAAwFFAAAAAAAAAAEAAAAAAAAAAQAAAAAAAAE5AAAAAAAAAO0AAAAAAAAAIQAAAAAAAAPA/AAAAAAAAGEAAAAAAAADwPwAAAAAAAEFAAAAAAAAA8D8AAAAAAADwPwAAAAAAADtAAAAAAAAAKEAAAAAAAEBQQAAAAAAAAEVAAAAAAAAASEAAAAAAAIBBQAAAAAAAAPA/AAAAAADAUUAAAAAAAABSQAAAAAAAAChAAAAAAAAAP0AAAAAAAIBGQAAAAAAAAFJAAAAAAAAAMUAAAAAAAABLQAAAAAAAAC5AAAAAAAAANkAAAAAAAAAoQAAAAAAAAABAAAAAAAAAOEAAAAAAAABFQAAAAAAAADxAAAAAAAAAGEAAAAAAAAAmQAAAAAAAAExAAAAAAAAAHEAAAAAAAIBQQAAAAAAAADlAAAAAAACATEAAAAAAAIBHQAAAAAAAACBAAAAAAAAAKEAAAAAAAABNQAAAAAAAAABAAAAAAAAAHEAAAAAAAABKQAAAAAAAgFFAAAAAAAAANkAAAAAAAIBPQAAAAAAAACZAAAAAAADAUUAAAAAAAIBFQAAAAAAAAENAAAAAAAAANUAAAAAAAADwPwAAAAAAADNAAAAAAACATUAAAAAAAAA9QAAAAAAAAEJAAAAAAAAA8D8AAAAAAAAkQAAAAAAAgENAAAAAAAAAMUAAAAAAAAAoQAAAAAAAAE1AAAAAAABAUUAAAAAAAIBAQAAAAAAAACBAAAAAAAAAQUAAAAAAAAAsQAAAAAAAAFJAAAAAAADAUUAAAAAAAIBKQAAAAAAAAFFAAAAAAAAAFEAAAAAAAABKQAAAAAAAgEhAAAAAAAAA8D8AAAAAAABEQAAAAAAAQFFAAAAAAAAAOkAAAAAAAABIQAAAAAAAAE5AAAAAAAAALkAAAAAAAEBRQAAAAAAAAEtAAAAAAAAAUkAAAAAAAAAiQAAAAAAAgFBAAAAAAACARUAAAAAAAIBMQAAAAAAAAPA/AAAAAACAS0AAAAAAAIBJQAAAAAAAABhAAAAAAAAAIEAAAAAAAAA8QAAAAAAAAD5AAAAAAAAAKEAAAAAAAABOQAAAAAAAAPA/AAAAAAAALkAAAAAAAAAAQAAAAAAAAAhAAAAAAAAAUkAAAAAAAAA2QAAAAAAAAD5AAAAAAAAAKEAAAAAAAAAkQAAAAAAAgEZAAAAAAAAAMkAAAAAAAIBRQAAAAAAAAChAAAAAAAAAEEAAAAAAAAAYQAAAAAAAgE5AAAAAAAAA8D8AAAAAAIBGQAAAAAAAACxAAAAAAAAAMkAAAAAAAIBFQAAAAAAAADJAAAAAAAAAFEAAAAAAAAA3QAAAAAAAADRAAAAAAAAAP0AAAAAAAIBBQAAAAAAAACxAAAAAAAAAUUAAAAAAAABNQAAAAAAAADNAAAAAAAAA8D8AAAAAAIBJQAAAAAAAgEZAAAAAAACATkAAAAAAAADwPwAAAAAAgEBAAAAAAAAAAEAAAAAAAAA6QAAAAAAAADdAAAAAAAAA8D8AAAAAAAAqQAAAAAAAAPA/AAAAAAAAEEAAAAAAAADwPwAAAAAAADZAAAAAAAAAAEAAAAAAAAAoQAAAAAAAgE9AAAAAAAAALkAAAAAAAIBFQAAAAAAAAE5AAAAAAAAAP0AAAAAAAAAQQAAAAAAAgElAAAAAAABAUUAAAAAAAAAQQAAAAAAAAPA/AAAAAACAS0AAAAAAAAAQQAAAAAAAAABAAAAAAACARkAAAAAAAAA8QAAAAAAAADdAAAAAAADAUUAAAAAAAAAsQAAAAAAAAExAAAAAAAAA8D8AAAAAAAAcQAAAAAAAABRAAAAAAAAAM0AAAAAAAAAwQAAAAAAAAFJAAAAAAADAUEAAAAAAAAA5QAAAAAAAgEZAAAAAAAAAPkAAAAAAAAA0QAAAAAAAgFFAAAAAAAAAQ0AAAAAAAADwPwAAAAAAAAhAAAAAAAAAUEAAAAAAAEBQQAAAAAAAAE5AAAAAAACAQUAAAAAAAIBAQAAAAAAAAEJAAAAAAAAACEAAAAAAAAA/QAAAAAAAADtAAAAAAAAACEAAAAAAAAA1QAAAAAAAADhAAAAAAADAUEAAAAAAAAAkQAAAAAAAABhAAAAAAAAANUAAAAAAAEBQQAAAAAAAgFBAAAAAAACAUEAAAAAAAIBHQAAAAAAAABBAAAAAAAAAOUAAAAAAAAA4QAAAAAAAAFJAAAAAAAAAQkAAAAAAAADwPwAAAAAAADJAAAAAAAAALkAAAAAAAAAgQAAAAAAAACBAAAAAAAAAS0AAAAAAAAAqQAAAAAAAwFFAAAAAAAAALkAAAAAAAADwPwAAAAAAAABAAAAAAAAALkAAAAAAAIBKQAAAAAAAACxAAAAAAAAALkAAAAAAAIBFQAAAAAAAAFJAAAAAAAAAN0AAAAAAAABFQAAAAAAAAC5AAAAAAAAANkAAAAAAAABPQAAAAAAAwFFAAAAAAAAASUAAAAAAAABEQAAAAAAAAFJAAAAAAAAA8D8AAAAAAIBPQAAAAAAAgFBAAAAAAAAAKEAAAAAAAABPQAAAAAAAAPA/AAAAAAAAJEAAAAAAAIBIQAAAAAAAADZAAAAAAAAAT0AAAAAAAADwPwAAAAAAABhAAAAAAAAAS0AAAAAAAADwPwAAAAAAgEBAAAAAAAAAUEAAAAAAAAA7QAAAAAAAAPA/AAAAAABAUEAAAAAAAMBRQAAAAAAAACRAAAAAAAAAKkAAAAAAAMBQQAAAAAAAACxAAAAAAAAAOEAAAAAAAIBRQAAAAAAAAPA/AAAAAABAUEAAAAAAAAA+QAAAAAAAACpAAAAAAAAAEEAAAAAAAABPQAAAAAAAAE1AAAAAAAAAUkAAAAAAAIBNQAAAAAAAABBAAAAAAAAARUAAAAAAAAAoQAAAAAAAAENAAAAAAAAALEAAAAAAAABSQAAAAAAAACZAAAAAAAAAJEAAAAAAAAAQQAAAAAAAgENAAAAAAAAAN0AAAAAAAAAiQAAAAAAAABBAAAAAAAAAQkAAAAAAAAAYQAAAAAAAAFJAAAAAAAAAHEAAAAAAAABMQAAAAAAAABhAAAAAAACASEAAAAAAAAAuQAAAAAAAwFFAAAAAAAAAIEAAAAAAAADwPwAAAAAAAABAAAAAAAAASUAAAAAAAABSQAAAAAAAADhAAAAAAAAAHEAAAAAAAAAcQAAAAAAAgFBAAAAAAACAQEAAAAAAAIBQQAAAAAAAAAhAAAAAAAAAJkAAAAAAAEBRQAAAAAAAADhAAAAAAAAAP0AAAAAAAIBRQAAAAAAAAPA/AAAAAAAAUUAAAAAAAAA8QAAAAAAAABhAAAAAAAAAEEAAAAAAAABAQAAAAAAAgERAAAAAAAAASkAAAAAAAABSQAAAAAAAACxAAAAAAADAUEAAAAAAAAA1QAAAAAAAAPA/AAAAAAAAN0AAAAAAAABSQAAAAAAAAChAAAAAAAAANkAAAAAAAIBRQAAAAAAAgFFAAAAAAAAANkAAAAAAAAAUQAAAAAAAQFFAAAAAAAAARUAAAAAAAABFQAAAAAAAABRAAAAAAAAAUkAAAAAAAIBDQAAAAAAAgEFAAAAAAAAAKEAAAAAAAAA7QAAAAAAAAE1AAAAAAAAAJEAAAAAAAMBRQAAAAAAAACRAAAAAAAAAEEAAAAAAAMBRQAAAAAAAgFBAAAAAAABAUUAAAAAAAIBFQAAAAAAAAFJAAAAAAAAAHEAAAAAAAIBRQAAAAAAAABRAAAAAAAAAMEAAAAAAAIBJQAAAAAAAACxAAAAAAAAACEAAAAAAAABQQAAAAAAAABxAAAAAAAAATkAAAAAAAAA0QAAAAAAAAFJAAAAAAAAAUkAAAAAAAAAQQAAAAAAAgEBAAAAAAAAATEAAAAAAAAAiQAAAAAAAAChAAAAAAACAQEAAAAAAAADwPwAAAAAAgFFAAAAAAAAA8D8AAAAAAABAQAAAAAAAgEZAAAAAAAAAM0AAAAAAAAA+QAAAAAAAABxAAAAAAACATUAAAAAAAADwPwAAAAAAAPA/AAAAAAAAUkAAAAAAAMBQQAAAAAAAADhAAAAAAABAUEAAAAAAAAAsQAAAAAAAgEVAAAAAAACAQkAAAAAAAAA3QAAAAAAAADtAAAAAAAAATUAAAAAAAAAoQAAAAAAAAFJAAAAAAAAALEAAAAAAAABSQAAAAAAAACJAAAAAAAAAAEAAAAAAAABQQAAAAAAAAPA/AAAAAAAAHEAAAAAAAAAQQAAAAAAAAAhAAAAAAAAA8D8AAAAAAABSQAAAAAAAgEVAAAAAAAAA8D8AAAAAAABRQAAAAAAAAENAAAAAAAAA8D8AAAAAAAAgQAAAAAAAgEBAAAAAAACATEAAAAAAAABFQAAAAAAAAC5AAAAAAAAAIEAAAAAAAAAQQAAAAAAAAE9AAAAAAAAAOUAAAAAAAADwPwAAAAAAADVAAAAAAACAS0AAAAAAAABFQAAAAAAAwFBAAAAAAACAREAAAAAAAAAQQAAAAAAAgFBAAAAAAAAALkAAAAAAAIBPQAAAAAAAgE1AAAAAAAAAOUAAAAAAAAAQQAAAAAAAAABAAAAAAABAUUAAAAAAAAAUQAAAAAAAgFBAAAAAAAAAPEAAAAAAAIBMQAAAAAAAADZAAAAAAABAUEAAAAAAAAAAQAAAAAAAAEVAAAAAAACATkAAAAAAAAA6QAAAAAAAACRAAAAAAADAUEAAAAAAAAAQQAAAAAAAAPA/AAAAAAAAAEAAAAAAAIBCQAAAAAAAgEFAAAAAAAAAIEAAAAAAAAAzQAAAAAAAAENAAAAAAAAANkAAAAAAAIBMQAAAAAAAAFJAAAAAAACAUUAAAAAAAADwPwAAAAAAACpAAAAAAAAAT0AAAAAAAAAUQAAAAAAAAD9AAAAAAAAAMkAAAAAAAABQQAAAAAAAAEVAAAAAAAAAPkAAAAAAAAAzQAAAAAAAQFBAAAAAAAAAKkAAAAAAAIBEQAAAAAAAAEtAAAAAAAAAQEAAAAAAAABSQAAAAAAAgE1AAAAAAAAALkAAAAAAAAAsQAAAAAAAAEpAAAAAAACATkAAAAAAAABLQAAAAAAAACBAAAAAAAAACEAAAAAAAAAsQAAAAAAAAFJAAAAAAACAQUAAAAAAAIBQQAAAAAAAAEhAAAAAAAAASEAAAAAAAADwPwAAAAAAwFBAAAAAAAAA8D8AAAAAAAAxQAAAAAAAAERAAAAAAAAAOEAAAAAAAEBRQAAAAAAAAFJAAAAAAAAA8D8AAAAAAABCQAAAAAAAgEdAAAAAAAAAMEAAAAAAAABDQAAAAAAAAPA/AAAAAAAAUkAAAAAAAIBRQAAAAAAAgERAAAAAAAAAUEAAAAAAAAAIQAAAAAAAgFFAAAAAAACARUAAAAAAAAAUQAAAAAAAAPA/AAAAAAAA8D8AAAAAAAAyQAAAAAAAAENAAAAAAACASEAAAAAAAAAoQAAAAAAAAAhAAAAAAADAUUAAAAAAAAAYQAAAAAAAgElAAAAAAACASEAAAAAAAAA4QAAAAAAAQFFAAAAAAAAARkAAAAAAAIBHQAAAAAAAAFJAAAAAAAAAMkAAAAAAAIBJQAAAAAAAgFBAAAAAAAAAR0AAAAAAAAAiQAAAAAAAQFFAAAAAAACAR0AAAAAAAAAoQAAAAAAAAFJAAAAAAAAAEEAAAAAAAADwPwAAAAAAAEVAAAAAAABAUUAAAAAAAIBQQAAAAAAAgExAAAAAAAAALEAAAAAAAAAQQAAAAAAAAABAAAAAAAAAUEAAAAAAAMBRQAAAAAAAAAhAAAAAAAAAOkAAAAAAAADwPwAAAAAAAFJAAAAAAAAAR0AAAAAAAABMQAAAAAAAAD1AAAAAAAAAPUAAAAAAAAA2QAAAAAAAAFFAAAAAAAAAQUAAAAAAAAAcQAAAAAAAgElAAAAAAAAASkAAAAAAAADwPwAAAAAAgFFAAAAAAABAUUAAAAAAAIBAQAAAAAAAgE1AAAAAAAAAAEAAAAAAAAAQQAAAAAAAAD9AAAAAAACATkAAAAAAAABFQAAAAAAAACpAAAAAAAAA8D8AAAAAAAAUQAAAAAAAwFFAAAAAAAAAO0AAAAAAAIBMQAAAAAAAgERAAAAAAAAAJEAAAAAAAAAkQAAAAAAAACxAAAAAAAAAUkAAAAAAAABFQAAAAAAAADlAAAAAAAAAFEAAAAAAAAAUQAAAAAAAAEdAAAAAAABAUEAAAAAAAADwPwAAAAAAgElAAAAAAAAAUkAAAAAAAIBRQAAAAAAAADxAAAAAAADAUUAAAAAAAAAUQAAAAAAAABBAAAAAAABAUUAAAAAAAIBMQAAAAAAAAFFAAAAAAAAA8D8AAAAAAMBRQAAAAAAAAEZAAAAAAADAUUAAAAAAAIBPQAAAAAAAACJAAAAAAAAA8D8AAAAAAADwPwAAAAAAQFBAAAAAAAAASkAAAAAAAADwPwAAAAAAADVAAAAAAAAAGEAAAAAAAAA5QAAAAAAAgFBAAAAAAAAARkAAAAAAAABOQAAAAAAAAChAAAAAAAAAIEAAAAAAAAA8QAAAAAAAAChAAAAAAAAAPkAAAAAAAAAoQAAAAAAAAABAAAAAAAAACEAAAAAAAIBEQAAAAAAAgEtAAAAAAAAAIEAAAAAAAABSQAAAAAAAAD5AAAAAAAAAOUAAAAAAAABHQAAAAAAAAEBAAAAAAAAAUUAAAAAAAABNQAAAAAAAgFFAAAAAAAAA8D8AAAAAAABIQAAAAAAAAFJAAAAAAAAACEAAAAAAAAAAQAAAAAAAgEFAAAAAAAAAKkAAAAAAAAA+QAAAAAAAAE5AAAAAAACAQEAAAAAAAABLQAAAAAAAwFBAAAAAAAAAOUAAAAAAAAAyQAAAAAAAgE9AAAAAAACAQ0AAAAAAAAAkQAAAAAAAACRAAAAAAACARkAAAAAAAAA8QAAAAAAAAEhAAAAAAAAAUUAAAAAAAAA9QAAAAAAAgENAAAAAAAAANEAAAAAAAABKQAAAAAAAgERAAAAAAAAANEAAAAAAAAAcQAAAAAAAADFAAAAAAAAA8D8AAAAAAAAcQAAAAAAAAE9AAAAAAAAARkAAAAAAAIBDQAAAAAAAAC5AAAAAAAAAUkAAAAAAAAA1QAAAAAAAAAhAAAAAAAAAR0AAAAAAAABBQAAAAAAAAD9AAAAAAAAARkAAAAAAAABPQAAAAAAAADlAAAAAAAAARUAAAAAAAAA5QAAAAAAAADJAAAAAAAAAIkAAAAAAAADwPwAAAAAAgEdAAAAAAAAAKEAAAAAAAAAAQAAAAAAAAC5AAAAAAAAA8D8AAAAAAIBPQAAAAAAAAD1AAAAAAAAA8D8AAAAAAIBEQAAAAAAAAExAAAAAAACATEAAAAAAAAAIQAAAAAAAADZAAAAAAAAAQkAAAAAAAAAsQAAAAAAAADJAAAAAAAAAN0AAAAAAAAAcQAAAAAAAAPA/AAAAAADAUUAAAAAAAABQQAAAAAAAgEFAAAAAAAAAJkAAAAAAAAA7QAAAAAAAAFBAAAAAAAAA8D8AAAAAAABBQAAAAAAAACJAAAAAAAAA8D8AAAAAAAA1QAAAAAAAACpAAAAAAAAAHEAAAAAAAAAIQAAAAAAAgExAAAAAAAAAM0AAAAAAAABSQAAAAAAAgEZAAAAAAAAATkAAAAAAAABFQAAAAAAAAEhAAAAAAACAS0AAAAAAAADwPwAAAAAAACJAAAAAAACARUAAAAAAAAAcQAAAAAAAwFFAAAAAAAAAQEAAAAAAAAAgQAAAAAAAAFJAAAAAAAAAKEAAAAAAAIBDQAAAAAAAAAhAAAAAAAAAOkAAAAAAAIBBQAAAAAAAADtAAAAAAAAAMkAAAAAAAAA6QAAAAAAAQFBAAAAAAACAREAAAAAAAMBQQAAAAAAAAFBAAAAAAAAAO0AAAAAAAAAIQAAAAAAAQFBAAAAAAAAAKkAAAAAAAABSQAAAAAAAQFFAAAAAAAAARkAAAAAAAABEQAAAAAAAgE5AAAAAAAAAUkAAAAAAAABPQAAAAAAAAElAAAAAAAAAUEAAAAAAAABLQAAAAAAAAE1AAAAAAAAAQUAAAAAAAABOQAAAAAAAAFFAAAAAAAAAUEAAAAAAAAA2QAAAAAAAAC5AAAAAAAAALEAAAAAAAAA3QAAAAAAAADFAAAAAAACATUAAAAAAAADwPwAAAAAAgE5AAAAAAAAAJEAAAAAAAEBRQAAAAAAAgEFAAAAAAAAASEAAAAAAAABPQAAAAAAAAERAAAAAAAAA8D8AAAAAAIBNQAAAAAAAADJAAAAAAAAAN0AAAAAAAIBJQAAAAAAAAFBAAAAAAABAUUAAAAAAAAAAQAAAAAAAgEFAAAAAAAAAOkAAAAAAAAA6QAAAAAAAAFFAAAAAAAAARkAAAAAAAAA4QAAAAAAAAExAAAAAAAAAGEAAAAAAAAAYQAAAAAAAwFFAAAAAAACARUAAAAAAAAAuQAAAAAAAADZAAAAAAAAARkAAAAAAAAAoQAAAAAAAAEpAAAAAAAAAMUAAAAAAAAAkQAAAAAAAADpAAAAAAACASkAAAAAAAADwPwAAAAAAAElAAAAAAAAAOEAAAAAAAABDQAAAAAAAACxAAAAAAAAAM0AAAAAAAAAcQAAAAAAAAEVAAAAAAACAT0AAAAAAAABMQAAAAAAAACpAAAAAAACAQkAAAAAAAAAyQAAAAAAAAEZAAAAAAAAAHEAAAAAAAADwPwAAAAAAgEtAAAAAAAAALEAAAAAAAADwPwAAAAAAAFJAAAAAAABAUEAAAAAAAAAyQAAAAAAAABBAAAAAAAAANUAAAAAAAADwPwAAAAAAABRAAAAAAAAAPUAAAAAAAEBQQAAAAAAAACZAAAAAAAAASkAAAAAAAABBQAAAAAAAAAhAAAAAAAAACEAAAAAAAAAkQAAAAAAAABBAAAAAAAAALkAAAAAAAAAIQAAAAAAAAEpAAAAAAAAANUAAAAAAAABRQAAAAAAAgENAAAAAAAAA8D8AAAAAAAAqQAAAAAAAAFBAAAAAAAAAKkAAAAAAAAAUQAAAAAAAAFJAAAAAAACATEAAAAAAAABSQAAAAAAAAPA/AAAAAAAAIEAAAAAAAAAIQAAAAAAAgEdAAAAAAAAAQ0AAAAAAAAA6QAAAAAAAACxAAAAAAAAAAEAAAAAAAAA7QAAAAAAAACBAAAAAAAAAN0AAAAAAAAAqQAAAAAAAAE5AAAAAAAAAGEAAAAAAAAAcQAAAAAAAADdAAAAAAAAAEEAAAAAAAMBQQAAAAAAAABBAAAAAAAAAUkAAAAAAAABFQAAAAAAAADpAAAAAAAAAOEAAAAAAAMBQQAAAAAAAgEVAAAAAAAAAOEAAAAAAAABQQAAAAAAAAC5AAAAAAAAAO0AAAAAAAAAQQAAAAAAAAChAAAAAAACAQEAAAAAAAABKQAAAAAAAABhAAAAAAAAAS0AAAAAAAAA4QAAAAAAAgEVAAAAAAACARUAAAAAAAAAUQAAAAAAAAEZAAAAAAAAAKEAAAAAAAIBKQAAAAAAAADdAAAAAAAAAT0AAAAAAAAA7QAAAAAAAAC5AAAAAAABAUUAAAAAAAADwPwAAAAAAAC5AAAAAAADAUEAAAAAAAABQQAAAAAAAgEZAAAAAAAAAEEAAAAAAAABIQAAAAAAAAERAAAAAAAAAMkAAAAAAAAAgQAAAAAAAAENAAAAAAACASUAAAAAAAAAiQAAAAAAAABBAAAAAAAAAUkAAAAAAAAAxQAAAAAAAwFFAAAAAAAAALEAAAAAAAADwPwAAAAAAACZAAAAAAAAAUkAAAAAAAADwPwAAAAAAAEJAAAAAAAAAO0AAAAAAAADwPwAAAAAAgEFAAAAAAACASkAAAAAAAABSQAAAAAAAABBAAAAAAAAAQEAAAAAAAAA5QAAAAAAAADpAAAAAAACAQUAAAAAAAMBRQAAAAAAAAC5AAAAAAADAUUAAAAAAAIBRQAAAAAAAwFFAAAAAAAAAUkAAAAAAAAAsQAAAAAAAgFFAAAAAAAAAIkAAAAAAAABSQAAAAAAAgE9AAAAAAAAA8D8AAAAAAIBRQAAAAAAAAFJAAAAAAAAAIEAAAAAAAIBQQAAAAAAAACRAAAAAAAAAOUAAAAAAAIBGQAAAAAAAACZAAAAAAACAQUAAAAAAAIBNQAAAAAAAAEpAAAAAAACASkAAAAAAAABBQAAAAAAAgEFAAAAAAAAAJEAAAAAAAAA7QAAAAAAAAPA/AAAAAAAAP0AAAAAAAAAkQAAAAAAAACpAAAAAAAAAMkAAAAAAAAAuQAAAAAAAACZAAAAAAAAAQkAAAAAAAAA6QAAAAAAAAPA/AAAAAAAASkAAAAAAAABRQAAAAAAAAABAAAAAAAAAOEAAAAAAAABSQAAAAAAAAENAAAAAAADAUUAAAAAAAABCQAAAAAAAAEpAAAAAAAAAEEAAAAAAAEBQQAAAAAAAAFBAAAAAAACATUAAAAAAAABRQAAAAAAAAD5AAAAAAAAAGEAAAAAAAAAIQAAAAAAAgEJAAAAAAAAAUUAAAAAAAAAuQAAAAAAAADFAAAAAAAAAUEAAAAAAAAAAQAAAAAAAgEhAAAAAAABAUUAAAAAAAIBLQAAAAAAAgEJAAAAAAAAASUAAAAAAAADwPwAAAAAAAPA/AAAAAAAAQEAAAAAAAIBBQAAAAAAAwFBAAAAAAAAA8D8AAAAAAAA2QAAAAAAAABBAAAAAAAAAGEAAAAAAAIBHQAAAAAAAADlAAAAAAACAQkAAAAAAAABRQAAAAAAAACpAAAAAAACAT0AAAAAAAIBEQAAAAAAAABBAAAAAAAAA8D8AAAAAAIBBQAAAAAAAAAhAAAAAAACAR0AAAAAAAAAIQAAAAAAAAFJAAAAAAAAA8D8AAAAAAAAAQAAAAAAAgE9AAAAAAAAACEAAAAAAAAAiQAAAAAAAgFBAAAAAAACAR0AAAAAAAAA+QAAAAAAAADJAAAAAAACASkAAAAAAAAAxQAAAAAAAAEVAAAAAAAAA8D8AAAAAAAA+QAAAAAAAAABAAAAAAADAUUAAAAAAAABSQAAAAAAAgEpAAAAAAAAAUkAAAAAAAIBIQAAAAAAAABRAAAAAAAAALEAAAAAAAAAAQAAAAAAAgEtAAAAAAAAAMkAAAAAAAIBNQAAAAAAAABRAAAAAAACARUAAAAAAAAAkQAAAAAAAgElAAAAAAAAASUAAAAAAAIBOQAAAAAAAACpAAAAAAAAAFEAAAAAAAIBDQAAAAAAAACxAAAAAAADAUUAAAAAAAAA7QAAAAAAAAABAAAAAAAAAPUAAAAAAAADwPwAAAAAAAEBAAAAAAACASEAAAAAAAADwPwAAAAAAgEhAAAAAAAAAIkAAAAAAAIBDQAAAAAAAAFJAAAAAAAAACEAAAAAAAIBHQAAAAAAAAEpAAAAAAAAAQEAAAAAAAADwPwAAAAAAAEhAAAAAAAAAFEAAAAAAAIBDQAAAAAAAACpAAAAAAAAAEEAAAAAAAIBNQAAAAAAAAENAAAAAAACAUUAAAAAAAAAIQAAAAAAAACRAAAAAAAAAO0AAAAAAAIBJQAAAAAAAQFBAAAAAAAAAUEAAAAAAAAA/QAAAAAAAAFJAAAAAAAAAGEAAAAAAAIBIQAAAAAAAgEFAAAAAAAAAUkAAAAAAAAAcQAAAAAAAADdAAAAAAAAAUEAAAAAAAIBQQAAAAAAAACBAAAAAAAAAMUAAAAAAAABHQAAAAAAAAABAAAAAAAAANkAAAAAAAIBQQAAAAAAAgENAAAAAAAAAN0AAAAAAAABSQAAAAAAAwFFAAAAAAAAA8D8AAAAAAAA2QAAAAAAAAERAAAAAAACASkAAAAAAAAAoQAAAAAAAgEJAAAAAAACAUEAAAAAAAIBKQAAAAAAAAPA/AAAAAACAREAAAAAAAAA4QAAAAAAAgENAAAAAAAAARUAAAAAAAIBQQAAAAAAAAAhAAAAAAAAAKEAAAAAAAIBFQAAAAAAAABhAAAAAAAAA8D8AAAAAAIBRQAAAAAAAgE1AAAAAAAAALEAAAAAAAAAiQAAAAAAAADFAAAAAAAAAUkAAAAAAAAAIQAAAAAAAACRAAAAAAACAREAAAAAAAIBBQAAAAAAAAFJAAAAAAACAQUAAAAAAAAAzQAAAAAAAADZAAAAAAAAANUAAAAAAAAAmQAAAAAAAADFAAAAAAAAAUkAAAAAAAAA9QAAAAAAAAPA/AAAAAACAQUAAAAAAAAAgQAAAAAAAADxAAAAAAAAA8D8AAAAAAAA3QAAAAAAAAPA/AAAAAACAUEAAAAAAAAAIQAAAAAAAAERAAAAAAAAAMkAAAAAAAABAQAAAAAAAADRAAAAAAAAAOkAAAAAAAIBNQAAAAAAAgERAAAAAAAAAUkAAAAAAAIBAQAAAAAAAACxAAAAAAAAAUkAAAAAAAABSQAAAAAAAADZAAAAAAAAAKEAAAAAAAAAQQAAAAAAAADxAAAAAAAAAR0AAAAAAAABOQAAAAAAAAC5AAAAAAACAREAAAAAAAABRQAAAAAAAgEJAAAAAAAAAIkAAAAAAAADwPwAAAAAAwFBAAAAAAAAAQEAAAAAAAAA5QAAAAAAAAC5AAAAAAAAAPEAAAAAAAIBPQAAAAAAAQFFAAAAAAAAAGEAAAAAAAABSQAAAAAAAwFFAAAAAAADAUUAAAAAAAAAiQAAAAAAAABhAAAAAAADAUEAAAAAAAIBKQAAAAAAAAPA/AAAAAACAR0AAAAAAAAAcQAAAAAAAAPA/AAAAAAAAEEAAAAAAAAAqQAAAAAAAADZAAAAAAAAAAEAAAAAAAAD4fwAAAAAAAPh/AAAAAAAA+H8AAAAAAAD4fwAAAAAAAPh/AAAAAAAA+H8AAAAAAAD4fwAAAAAAAPh/AAAAAAAA+H8AAAAAAAD4fwAAAAAAAPh/AAAAAAAA+H8AAAAAAAD4fwAAAAAAAPh/AAAAAAAA+H8AAAAAAAD4fwAAAAAAAPh/AAAAAAAA+H8AAAAAAAD4fwAAAAAAAPh/AAAAAAAA+H8AAAAAAAD4fwAAAAAAAPh/AAAAAAAA+H8AAAAAAAD4fwAAAAAAAPh/AAAAAAAA+H8AAAAAAAD4fwAAAAAAAPh/AAAAAAAA+H8AAAAAAAD4fwAAAAAAAPh/AAAAAAAA+H8AAAAAAAD4fwAAAAAAAPh/AAAAAAAA+H8AAAAAAAD4fwAAAAAAAPh/AAAAAAAA+H8AAAAAAAD4fwAAAAAAAPh/AAAAAAAA+H8AAAAAAAD4fwAAAAAAAPh/AAAAAAAA+H8AAAAAAAD4fwAAAAAAAPh/AAAAAAAA+H8AAAAAAAD4fwAAAAAAAPh/AAAAAAAA+H8AAAAAAAD4fwAAAAAAAPh/AAAAAAAA+H8AAAAAAAD4fwAAAAAAAPh/AAAAAAAA+H8AAAAAAAD4fwAAAAAAAPh/AAAAAAAA+H8AAAAAAAD4fwAAAAAAAPh/AAAAAAAA+H8AAAAAAAD4fwAAAAAAAPh/AAAAAAAA+H8AAAAAAAD4fwAAAAAAAPh/AAAAAAAA+H8AAAAAAAD4fwAAAAAAAPh/AAAAAAAA+H8AAAAAAAD4fwAAAAAAAPh/AAAAAAAA+H8AAAAAAAD4fwAAAAAAAPh/AAAAAAAA+H8AAAAAAAD4fwAAAAAAAPh/AAAAAAAA+H8AAAAAAAD4fwAAAAAAAPh/AAAAAAAA+H8AAAAAAAD4fwAAAAAAAPh/AAAAAAAA+H8AAAAAAAD4fwAAAAAAAPh/AAAAAAAA+H8AAAAAAAD4fwAAAAAAAPh/AAAAAAAA+H8AAAAAAAD4fwAAAAAAAPh/AAAAAAAA+H8AAAAAAAD4fwAAAAAAAPh/AAAAAAAA+H8AAAAAAAD4fwAAAAAAAPh/AAAAAAAA+H8AAAAAAAD4fwAAAAAAAPh/AAAAAAAA+H8AAAAAAAD4fwAAAAAAAPh/AAAAAAAA+H8AAAAAAAD4fwAAAAAAAPh/AAAAAAAA+H8AAAAAAAD4fwAAAAAAAPh/AAAAAAAA+H8AAAAAAAD4fwAAAAAAAPh/AAAAAAAA+H8AAAAAAAD4fwAAAAAAAPh/AAAAAAAA+H8AAAAAAAD4fwAAAAAAAPh/AAAAAAAA+H8AAAAAAAD4fwAAAAAAAPh/AAAAAAAA+H8AAAAAAAD4fwAAAAAAAPh/AAAAAAAA+H8AAAAAAAD4fwAAAAAAAPh/AAAAAAAA+H8AAAAAAAD4fwAAAAAAAPh/AAAAAAAA+H8AAAAAAAD4fwAAAAAAAPh/AAAAAAAA+H8AAAAAAAD4fwAAAAAAAPh/AAAAAAAA+H8AAAAAAAD4fwAAAAAAAPh/AAAAAAAA+H8AAAAAAAD4fwAAAAAAAPh/AAAAAAAA+H8AAAAAAAD4fwAAAAAAAPh/AAAAAAAA+H8AAAAAAAD4fwAAAAAAAPh/AAAAAAAA+H8AAAAAAAD4fwAAAAAAAPh/AAAAAAAA+H8AAAAAAAD4fwAAAAAAAPh/AAAAAAAA+H8AAAAAAAD4fwAAAAAAAPh/AAAAAAAA+H8AAAAAAAD4fwAAAAAAAPh/AAAAAAAA+H8AAAAAAAD4fwAAAAAAAPh/AAAAAAAA+H8AAAAAAAD4fwAAAAAAAPh/AAAAAAAA+H8AAAAAAAD4fwAAAAAAAPh/",
          "dtype": "f8"
         },
         "x0": " ",
         "xaxis": "x",
         "y0": " ",
         "yaxis": "y"
        },
        {
         "alignmentgroup": "True",
         "hovertemplate": "Abandono=1.0<br>remainder__Meses_contrato=%{x}<extra></extra>",
         "legendgroup": "1.0",
         "marker": {
          "color": "#EF553B"
         },
         "name": "1.0",
         "notched": false,
         "offsetgroup": "1.0",
         "orientation": "h",
         "showlegend": true,
         "type": "box",
         "x": {
          "bdata": "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",
          "dtype": "f8"
         },
         "x0": " ",
         "xaxis": "x",
         "y0": " ",
         "yaxis": "y"
        }
       ],
       "layout": {
        "boxmode": "group",
        "legend": {
         "title": {
          "text": "Abandono"
         },
         "tracegroupgap": 0
        },
        "margin": {
         "t": 60
        },
        "template": {
         "data": {
          "bar": [
           {
            "error_x": {
             "color": "#2a3f5f"
            },
            "error_y": {
             "color": "#2a3f5f"
            },
            "marker": {
             "line": {
              "color": "#E5ECF6",
              "width": 0.5
             },
             "pattern": {
              "fillmode": "overlay",
              "size": 10,
              "solidity": 0.2
             }
            },
            "type": "bar"
           }
          ],
          "barpolar": [
           {
            "marker": {
             "line": {
              "color": "#E5ECF6",
              "width": 0.5
             },
             "pattern": {
              "fillmode": "overlay",
              "size": 10,
              "solidity": 0.2
             }
            },
            "type": "barpolar"
           }
          ],
          "carpet": [
           {
            "aaxis": {
             "endlinecolor": "#2a3f5f",
             "gridcolor": "white",
             "linecolor": "white",
             "minorgridcolor": "white",
             "startlinecolor": "#2a3f5f"
            },
            "baxis": {
             "endlinecolor": "#2a3f5f",
             "gridcolor": "white",
             "linecolor": "white",
             "minorgridcolor": "white",
             "startlinecolor": "#2a3f5f"
            },
            "type": "carpet"
           }
          ],
          "choropleth": [
           {
            "colorbar": {
             "outlinewidth": 0,
             "ticks": ""
            },
            "type": "choropleth"
           }
          ],
          "contour": [
           {
            "colorbar": {
             "outlinewidth": 0,
             "ticks": ""
            },
            "colorscale": [
             [
              0,
              "#0d0887"
             ],
             [
              0.1111111111111111,
              "#46039f"
             ],
             [
              0.2222222222222222,
              "#7201a8"
             ],
             [
              0.3333333333333333,
              "#9c179e"
             ],
             [
              0.4444444444444444,
              "#bd3786"
             ],
             [
              0.5555555555555556,
              "#d8576b"
             ],
             [
              0.6666666666666666,
              "#ed7953"
             ],
             [
              0.7777777777777778,
              "#fb9f3a"
             ],
             [
              0.8888888888888888,
              "#fdca26"
             ],
             [
              1,
              "#f0f921"
             ]
            ],
            "type": "contour"
           }
          ],
          "contourcarpet": [
           {
            "colorbar": {
             "outlinewidth": 0,
             "ticks": ""
            },
            "type": "contourcarpet"
           }
          ],
          "heatmap": [
           {
            "colorbar": {
             "outlinewidth": 0,
             "ticks": ""
            },
            "colorscale": [
             [
              0,
              "#0d0887"
             ],
             [
              0.1111111111111111,
              "#46039f"
             ],
             [
              0.2222222222222222,
              "#7201a8"
             ],
             [
              0.3333333333333333,
              "#9c179e"
             ],
             [
              0.4444444444444444,
              "#bd3786"
             ],
             [
              0.5555555555555556,
              "#d8576b"
             ],
             [
              0.6666666666666666,
              "#ed7953"
             ],
             [
              0.7777777777777778,
              "#fb9f3a"
             ],
             [
              0.8888888888888888,
              "#fdca26"
             ],
             [
              1,
              "#f0f921"
             ]
            ],
            "type": "heatmap"
           }
          ],
          "histogram": [
           {
            "marker": {
             "pattern": {
              "fillmode": "overlay",
              "size": 10,
              "solidity": 0.2
             }
            },
            "type": "histogram"
           }
          ],
          "histogram2d": [
           {
            "colorbar": {
             "outlinewidth": 0,
             "ticks": ""
            },
            "colorscale": [
             [
              0,
              "#0d0887"
             ],
             [
              0.1111111111111111,
              "#46039f"
             ],
             [
              0.2222222222222222,
              "#7201a8"
             ],
             [
              0.3333333333333333,
              "#9c179e"
             ],
             [
              0.4444444444444444,
              "#bd3786"
             ],
             [
              0.5555555555555556,
              "#d8576b"
             ],
             [
              0.6666666666666666,
              "#ed7953"
             ],
             [
              0.7777777777777778,
              "#fb9f3a"
             ],
             [
              0.8888888888888888,
              "#fdca26"
             ],
             [
              1,
              "#f0f921"
             ]
            ],
            "type": "histogram2d"
           }
          ],
          "histogram2dcontour": [
           {
            "colorbar": {
             "outlinewidth": 0,
             "ticks": ""
            },
            "colorscale": [
             [
              0,
              "#0d0887"
             ],
             [
              0.1111111111111111,
              "#46039f"
             ],
             [
              0.2222222222222222,
              "#7201a8"
             ],
             [
              0.3333333333333333,
              "#9c179e"
             ],
             [
              0.4444444444444444,
              "#bd3786"
             ],
             [
              0.5555555555555556,
              "#d8576b"
             ],
             [
              0.6666666666666666,
              "#ed7953"
             ],
             [
              0.7777777777777778,
              "#fb9f3a"
             ],
             [
              0.8888888888888888,
              "#fdca26"
             ],
             [
              1,
              "#f0f921"
             ]
            ],
            "type": "histogram2dcontour"
           }
          ],
          "mesh3d": [
           {
            "colorbar": {
             "outlinewidth": 0,
             "ticks": ""
            },
            "type": "mesh3d"
           }
          ],
          "parcoords": [
           {
            "line": {
             "colorbar": {
              "outlinewidth": 0,
              "ticks": ""
             }
            },
            "type": "parcoords"
           }
          ],
          "pie": [
           {
            "automargin": true,
            "type": "pie"
           }
          ],
          "scatter": [
           {
            "fillpattern": {
             "fillmode": "overlay",
             "size": 10,
             "solidity": 0.2
            },
            "type": "scatter"
           }
          ],
          "scatter3d": [
           {
            "line": {
             "colorbar": {
              "outlinewidth": 0,
              "ticks": ""
             }
            },
            "marker": {
             "colorbar": {
              "outlinewidth": 0,
              "ticks": ""
             }
            },
            "type": "scatter3d"
           }
          ],
          "scattercarpet": [
           {
            "marker": {
             "colorbar": {
              "outlinewidth": 0,
              "ticks": ""
             }
            },
            "type": "scattercarpet"
           }
          ],
          "scattergeo": [
           {
            "marker": {
             "colorbar": {
              "outlinewidth": 0,
              "ticks": ""
             }
            },
            "type": "scattergeo"
           }
          ],
          "scattergl": [
           {
            "marker": {
             "colorbar": {
              "outlinewidth": 0,
              "ticks": ""
             }
            },
            "type": "scattergl"
           }
          ],
          "scattermap": [
           {
            "marker": {
             "colorbar": {
              "outlinewidth": 0,
              "ticks": ""
             }
            },
            "type": "scattermap"
           }
          ],
          "scattermapbox": [
           {
            "marker": {
             "colorbar": {
              "outlinewidth": 0,
              "ticks": ""
             }
            },
            "type": "scattermapbox"
           }
          ],
          "scatterpolar": [
           {
            "marker": {
             "colorbar": {
              "outlinewidth": 0,
              "ticks": ""
             }
            },
            "type": "scatterpolar"
           }
          ],
          "scatterpolargl": [
           {
            "marker": {
             "colorbar": {
              "outlinewidth": 0,
              "ticks": ""
             }
            },
            "type": "scatterpolargl"
           }
          ],
          "scatterternary": [
           {
            "marker": {
             "colorbar": {
              "outlinewidth": 0,
              "ticks": ""
             }
            },
            "type": "scatterternary"
           }
          ],
          "surface": [
           {
            "colorbar": {
             "outlinewidth": 0,
             "ticks": ""
            },
            "colorscale": [
             [
              0,
              "#0d0887"
             ],
             [
              0.1111111111111111,
              "#46039f"
             ],
             [
              0.2222222222222222,
              "#7201a8"
             ],
             [
              0.3333333333333333,
              "#9c179e"
             ],
             [
              0.4444444444444444,
              "#bd3786"
             ],
             [
              0.5555555555555556,
              "#d8576b"
             ],
             [
              0.6666666666666666,
              "#ed7953"
             ],
             [
              0.7777777777777778,
              "#fb9f3a"
             ],
             [
              0.8888888888888888,
              "#fdca26"
             ],
             [
              1,
              "#f0f921"
             ]
            ],
            "type": "surface"
           }
          ],
          "table": [
           {
            "cells": {
             "fill": {
              "color": "#EBF0F8"
             },
             "line": {
              "color": "white"
             }
            },
            "header": {
             "fill": {
              "color": "#C8D4E3"
             },
             "line": {
              "color": "white"
             }
            },
            "type": "table"
           }
          ]
         },
         "layout": {
          "annotationdefaults": {
           "arrowcolor": "#2a3f5f",
           "arrowhead": 0,
           "arrowwidth": 1
          },
          "autotypenumbers": "strict",
          "coloraxis": {
           "colorbar": {
            "outlinewidth": 0,
            "ticks": ""
           }
          },
          "colorscale": {
           "diverging": [
            [
             0,
             "#8e0152"
            ],
            [
             0.1,
             "#c51b7d"
            ],
            [
             0.2,
             "#de77ae"
            ],
            [
             0.3,
             "#f1b6da"
            ],
            [
             0.4,
             "#fde0ef"
            ],
            [
             0.5,
             "#f7f7f7"
            ],
            [
             0.6,
             "#e6f5d0"
            ],
            [
             0.7,
             "#b8e186"
            ],
            [
             0.8,
             "#7fbc41"
            ],
            [
             0.9,
             "#4d9221"
            ],
            [
             1,
             "#276419"
            ]
           ],
           "sequential": [
            [
             0,
             "#0d0887"
            ],
            [
             0.1111111111111111,
             "#46039f"
            ],
            [
             0.2222222222222222,
             "#7201a8"
            ],
            [
             0.3333333333333333,
             "#9c179e"
            ],
            [
             0.4444444444444444,
             "#bd3786"
            ],
            [
             0.5555555555555556,
             "#d8576b"
            ],
            [
             0.6666666666666666,
             "#ed7953"
            ],
            [
             0.7777777777777778,
             "#fb9f3a"
            ],
            [
             0.8888888888888888,
             "#fdca26"
            ],
            [
             1,
             "#f0f921"
            ]
           ],
           "sequentialminus": [
            [
             0,
             "#0d0887"
            ],
            [
             0.1111111111111111,
             "#46039f"
            ],
            [
             0.2222222222222222,
             "#7201a8"
            ],
            [
             0.3333333333333333,
             "#9c179e"
            ],
            [
             0.4444444444444444,
             "#bd3786"
            ],
            [
             0.5555555555555556,
             "#d8576b"
            ],
            [
             0.6666666666666666,
             "#ed7953"
            ],
            [
             0.7777777777777778,
             "#fb9f3a"
            ],
            [
             0.8888888888888888,
             "#fdca26"
            ],
            [
             1,
             "#f0f921"
            ]
           ]
          },
          "colorway": [
           "#636efa",
           "#EF553B",
           "#00cc96",
           "#ab63fa",
           "#FFA15A",
           "#19d3f3",
           "#FF6692",
           "#B6E880",
           "#FF97FF",
           "#FECB52"
          ],
          "font": {
           "color": "#2a3f5f"
          },
          "geo": {
           "bgcolor": "white",
           "lakecolor": "white",
           "landcolor": "#E5ECF6",
           "showlakes": true,
           "showland": true,
           "subunitcolor": "white"
          },
          "hoverlabel": {
           "align": "left"
          },
          "hovermode": "closest",
          "mapbox": {
           "style": "light"
          },
          "paper_bgcolor": "white",
          "plot_bgcolor": "#E5ECF6",
          "polar": {
           "angularaxis": {
            "gridcolor": "white",
            "linecolor": "white",
            "ticks": ""
           },
           "bgcolor": "#E5ECF6",
           "radialaxis": {
            "gridcolor": "white",
            "linecolor": "white",
            "ticks": ""
           }
          },
          "scene": {
           "xaxis": {
            "backgroundcolor": "#E5ECF6",
            "gridcolor": "white",
            "gridwidth": 2,
            "linecolor": "white",
            "showbackground": true,
            "ticks": "",
            "zerolinecolor": "white"
           },
           "yaxis": {
            "backgroundcolor": "#E5ECF6",
            "gridcolor": "white",
            "gridwidth": 2,
            "linecolor": "white",
            "showbackground": true,
            "ticks": "",
            "zerolinecolor": "white"
           },
           "zaxis": {
            "backgroundcolor": "#E5ECF6",
            "gridcolor": "white",
            "gridwidth": 2,
            "linecolor": "white",
            "showbackground": true,
            "ticks": "",
            "zerolinecolor": "white"
           }
          },
          "shapedefaults": {
           "line": {
            "color": "#2a3f5f"
           }
          },
          "ternary": {
           "aaxis": {
            "gridcolor": "white",
            "linecolor": "white",
            "ticks": ""
           },
           "baxis": {
            "gridcolor": "white",
            "linecolor": "white",
            "ticks": ""
           },
           "bgcolor": "#E5ECF6",
           "caxis": {
            "gridcolor": "white",
            "linecolor": "white",
            "ticks": ""
           }
          },
          "title": {
           "x": 0.05
          },
          "xaxis": {
           "automargin": true,
           "gridcolor": "white",
           "linecolor": "white",
           "ticks": "",
           "title": {
            "standoff": 15
           },
           "zerolinecolor": "white",
           "zerolinewidth": 2
          },
          "yaxis": {
           "automargin": true,
           "gridcolor": "white",
           "linecolor": "white",
           "ticks": "",
           "title": {
            "standoff": 15
           },
           "zerolinecolor": "white",
           "zerolinewidth": 2
          }
         }
        },
        "xaxis": {
         "anchor": "y",
         "domain": [
          0,
          1
         ],
         "title": {
          "text": "remainder__Meses_contrato"
         }
        },
        "yaxis": {
         "anchor": "x",
         "domain": [
          0,
          1
         ]
        }
       }
      }
     },
     "metadata": {},
     "output_type": "display_data"
    }
   ],
   "source": [
    "df_contrato_abandono = pd.concat([X_codificada['remainder__Meses_contrato'], y], axis=1)\n",
    "\n",
    "px.box(data_frame= df_contrato_abandono, x = 'remainder__Meses_contrato', color= 'Abandono')"
   ]
  },
  {
   "cell_type": "markdown",
   "id": "a9f33716",
   "metadata": {},
   "source": [
    "### No hay relacion debido a que las distribuciones son muy similares"
   ]
  },
  {
   "cell_type": "code",
   "execution_count": 152,
   "id": "96164232",
   "metadata": {},
   "outputs": [
    {
     "data": {
      "application/vnd.plotly.v1+json": {
       "config": {
        "plotlyServerURL": "https://plot.ly"
       },
       "data": [
        {
         "alignmentgroup": "True",
         "hovertemplate": "Abandono=0.0<br>remainder__Cargo_mensual=%{x}<extra></extra>",
         "legendgroup": "0.0",
         "marker": {
          "color": "#636efa"
         },
         "name": "0.0",
         "notched": false,
         "offsetgroup": "0.0",
         "orientation": "h",
         "showlegend": true,
         "type": "box",
         "x": {
          "bdata": "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",
          "dtype": "f8"
         },
         "x0": " ",
         "xaxis": "x",
         "y0": " ",
         "yaxis": "y"
        },
        {
         "alignmentgroup": "True",
         "hovertemplate": "Abandono=1.0<br>remainder__Cargo_mensual=%{x}<extra></extra>",
         "legendgroup": "1.0",
         "marker": {
          "color": "#EF553B"
         },
         "name": "1.0",
         "notched": false,
         "offsetgroup": "1.0",
         "orientation": "h",
         "showlegend": true,
         "type": "box",
         "x": {
          "bdata": "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",
          "dtype": "f8"
         },
         "x0": " ",
         "xaxis": "x",
         "y0": " ",
         "yaxis": "y"
        }
       ],
       "layout": {
        "boxmode": "group",
        "legend": {
         "title": {
          "text": "Abandono"
         },
         "tracegroupgap": 0
        },
        "margin": {
         "t": 60
        },
        "template": {
         "data": {
          "bar": [
           {
            "error_x": {
             "color": "#2a3f5f"
            },
            "error_y": {
             "color": "#2a3f5f"
            },
            "marker": {
             "line": {
              "color": "#E5ECF6",
              "width": 0.5
             },
             "pattern": {
              "fillmode": "overlay",
              "size": 10,
              "solidity": 0.2
             }
            },
            "type": "bar"
           }
          ],
          "barpolar": [
           {
            "marker": {
             "line": {
              "color": "#E5ECF6",
              "width": 0.5
             },
             "pattern": {
              "fillmode": "overlay",
              "size": 10,
              "solidity": 0.2
             }
            },
            "type": "barpolar"
           }
          ],
          "carpet": [
           {
            "aaxis": {
             "endlinecolor": "#2a3f5f",
             "gridcolor": "white",
             "linecolor": "white",
             "minorgridcolor": "white",
             "startlinecolor": "#2a3f5f"
            },
            "baxis": {
             "endlinecolor": "#2a3f5f",
             "gridcolor": "white",
             "linecolor": "white",
             "minorgridcolor": "white",
             "startlinecolor": "#2a3f5f"
            },
            "type": "carpet"
           }
          ],
          "choropleth": [
           {
            "colorbar": {
             "outlinewidth": 0,
             "ticks": ""
            },
            "type": "choropleth"
           }
          ],
          "contour": [
           {
            "colorbar": {
             "outlinewidth": 0,
             "ticks": ""
            },
            "colorscale": [
             [
              0,
              "#0d0887"
             ],
             [
              0.1111111111111111,
              "#46039f"
             ],
             [
              0.2222222222222222,
              "#7201a8"
             ],
             [
              0.3333333333333333,
              "#9c179e"
             ],
             [
              0.4444444444444444,
              "#bd3786"
             ],
             [
              0.5555555555555556,
              "#d8576b"
             ],
             [
              0.6666666666666666,
              "#ed7953"
             ],
             [
              0.7777777777777778,
              "#fb9f3a"
             ],
             [
              0.8888888888888888,
              "#fdca26"
             ],
             [
              1,
              "#f0f921"
             ]
            ],
            "type": "contour"
           }
          ],
          "contourcarpet": [
           {
            "colorbar": {
             "outlinewidth": 0,
             "ticks": ""
            },
            "type": "contourcarpet"
           }
          ],
          "heatmap": [
           {
            "colorbar": {
             "outlinewidth": 0,
             "ticks": ""
            },
            "colorscale": [
             [
              0,
              "#0d0887"
             ],
             [
              0.1111111111111111,
              "#46039f"
             ],
             [
              0.2222222222222222,
              "#7201a8"
             ],
             [
              0.3333333333333333,
              "#9c179e"
             ],
             [
              0.4444444444444444,
              "#bd3786"
             ],
             [
              0.5555555555555556,
              "#d8576b"
             ],
             [
              0.6666666666666666,
              "#ed7953"
             ],
             [
              0.7777777777777778,
              "#fb9f3a"
             ],
             [
              0.8888888888888888,
              "#fdca26"
             ],
             [
              1,
              "#f0f921"
             ]
            ],
            "type": "heatmap"
           }
          ],
          "histogram": [
           {
            "marker": {
             "pattern": {
              "fillmode": "overlay",
              "size": 10,
              "solidity": 0.2
             }
            },
            "type": "histogram"
           }
          ],
          "histogram2d": [
           {
            "colorbar": {
             "outlinewidth": 0,
             "ticks": ""
            },
            "colorscale": [
             [
              0,
              "#0d0887"
             ],
             [
              0.1111111111111111,
              "#46039f"
             ],
             [
              0.2222222222222222,
              "#7201a8"
             ],
             [
              0.3333333333333333,
              "#9c179e"
             ],
             [
              0.4444444444444444,
              "#bd3786"
             ],
             [
              0.5555555555555556,
              "#d8576b"
             ],
             [
              0.6666666666666666,
              "#ed7953"
             ],
             [
              0.7777777777777778,
              "#fb9f3a"
             ],
             [
              0.8888888888888888,
              "#fdca26"
             ],
             [
              1,
              "#f0f921"
             ]
            ],
            "type": "histogram2d"
           }
          ],
          "histogram2dcontour": [
           {
            "colorbar": {
             "outlinewidth": 0,
             "ticks": ""
            },
            "colorscale": [
             [
              0,
              "#0d0887"
             ],
             [
              0.1111111111111111,
              "#46039f"
             ],
             [
              0.2222222222222222,
              "#7201a8"
             ],
             [
              0.3333333333333333,
              "#9c179e"
             ],
             [
              0.4444444444444444,
              "#bd3786"
             ],
             [
              0.5555555555555556,
              "#d8576b"
             ],
             [
              0.6666666666666666,
              "#ed7953"
             ],
             [
              0.7777777777777778,
              "#fb9f3a"
             ],
             [
              0.8888888888888888,
              "#fdca26"
             ],
             [
              1,
              "#f0f921"
             ]
            ],
            "type": "histogram2dcontour"
           }
          ],
          "mesh3d": [
           {
            "colorbar": {
             "outlinewidth": 0,
             "ticks": ""
            },
            "type": "mesh3d"
           }
          ],
          "parcoords": [
           {
            "line": {
             "colorbar": {
              "outlinewidth": 0,
              "ticks": ""
             }
            },
            "type": "parcoords"
           }
          ],
          "pie": [
           {
            "automargin": true,
            "type": "pie"
           }
          ],
          "scatter": [
           {
            "fillpattern": {
             "fillmode": "overlay",
             "size": 10,
             "solidity": 0.2
            },
            "type": "scatter"
           }
          ],
          "scatter3d": [
           {
            "line": {
             "colorbar": {
              "outlinewidth": 0,
              "ticks": ""
             }
            },
            "marker": {
             "colorbar": {
              "outlinewidth": 0,
              "ticks": ""
             }
            },
            "type": "scatter3d"
           }
          ],
          "scattercarpet": [
           {
            "marker": {
             "colorbar": {
              "outlinewidth": 0,
              "ticks": ""
             }
            },
            "type": "scattercarpet"
           }
          ],
          "scattergeo": [
           {
            "marker": {
             "colorbar": {
              "outlinewidth": 0,
              "ticks": ""
             }
            },
            "type": "scattergeo"
           }
          ],
          "scattergl": [
           {
            "marker": {
             "colorbar": {
              "outlinewidth": 0,
              "ticks": ""
             }
            },
            "type": "scattergl"
           }
          ],
          "scattermap": [
           {
            "marker": {
             "colorbar": {
              "outlinewidth": 0,
              "ticks": ""
             }
            },
            "type": "scattermap"
           }
          ],
          "scattermapbox": [
           {
            "marker": {
             "colorbar": {
              "outlinewidth": 0,
              "ticks": ""
             }
            },
            "type": "scattermapbox"
           }
          ],
          "scatterpolar": [
           {
            "marker": {
             "colorbar": {
              "outlinewidth": 0,
              "ticks": ""
             }
            },
            "type": "scatterpolar"
           }
          ],
          "scatterpolargl": [
           {
            "marker": {
             "colorbar": {
              "outlinewidth": 0,
              "ticks": ""
             }
            },
            "type": "scatterpolargl"
           }
          ],
          "scatterternary": [
           {
            "marker": {
             "colorbar": {
              "outlinewidth": 0,
              "ticks": ""
             }
            },
            "type": "scatterternary"
           }
          ],
          "surface": [
           {
            "colorbar": {
             "outlinewidth": 0,
             "ticks": ""
            },
            "colorscale": [
             [
              0,
              "#0d0887"
             ],
             [
              0.1111111111111111,
              "#46039f"
             ],
             [
              0.2222222222222222,
              "#7201a8"
             ],
             [
              0.3333333333333333,
              "#9c179e"
             ],
             [
              0.4444444444444444,
              "#bd3786"
             ],
             [
              0.5555555555555556,
              "#d8576b"
             ],
             [
              0.6666666666666666,
              "#ed7953"
             ],
             [
              0.7777777777777778,
              "#fb9f3a"
             ],
             [
              0.8888888888888888,
              "#fdca26"
             ],
             [
              1,
              "#f0f921"
             ]
            ],
            "type": "surface"
           }
          ],
          "table": [
           {
            "cells": {
             "fill": {
              "color": "#EBF0F8"
             },
             "line": {
              "color": "white"
             }
            },
            "header": {
             "fill": {
              "color": "#C8D4E3"
             },
             "line": {
              "color": "white"
             }
            },
            "type": "table"
           }
          ]
         },
         "layout": {
          "annotationdefaults": {
           "arrowcolor": "#2a3f5f",
           "arrowhead": 0,
           "arrowwidth": 1
          },
          "autotypenumbers": "strict",
          "coloraxis": {
           "colorbar": {
            "outlinewidth": 0,
            "ticks": ""
           }
          },
          "colorscale": {
           "diverging": [
            [
             0,
             "#8e0152"
            ],
            [
             0.1,
             "#c51b7d"
            ],
            [
             0.2,
             "#de77ae"
            ],
            [
             0.3,
             "#f1b6da"
            ],
            [
             0.4,
             "#fde0ef"
            ],
            [
             0.5,
             "#f7f7f7"
            ],
            [
             0.6,
             "#e6f5d0"
            ],
            [
             0.7,
             "#b8e186"
            ],
            [
             0.8,
             "#7fbc41"
            ],
            [
             0.9,
             "#4d9221"
            ],
            [
             1,
             "#276419"
            ]
           ],
           "sequential": [
            [
             0,
             "#0d0887"
            ],
            [
             0.1111111111111111,
             "#46039f"
            ],
            [
             0.2222222222222222,
             "#7201a8"
            ],
            [
             0.3333333333333333,
             "#9c179e"
            ],
            [
             0.4444444444444444,
             "#bd3786"
            ],
            [
             0.5555555555555556,
             "#d8576b"
            ],
            [
             0.6666666666666666,
             "#ed7953"
            ],
            [
             0.7777777777777778,
             "#fb9f3a"
            ],
            [
             0.8888888888888888,
             "#fdca26"
            ],
            [
             1,
             "#f0f921"
            ]
           ],
           "sequentialminus": [
            [
             0,
             "#0d0887"
            ],
            [
             0.1111111111111111,
             "#46039f"
            ],
            [
             0.2222222222222222,
             "#7201a8"
            ],
            [
             0.3333333333333333,
             "#9c179e"
            ],
            [
             0.4444444444444444,
             "#bd3786"
            ],
            [
             0.5555555555555556,
             "#d8576b"
            ],
            [
             0.6666666666666666,
             "#ed7953"
            ],
            [
             0.7777777777777778,
             "#fb9f3a"
            ],
            [
             0.8888888888888888,
             "#fdca26"
            ],
            [
             1,
             "#f0f921"
            ]
           ]
          },
          "colorway": [
           "#636efa",
           "#EF553B",
           "#00cc96",
           "#ab63fa",
           "#FFA15A",
           "#19d3f3",
           "#FF6692",
           "#B6E880",
           "#FF97FF",
           "#FECB52"
          ],
          "font": {
           "color": "#2a3f5f"
          },
          "geo": {
           "bgcolor": "white",
           "lakecolor": "white",
           "landcolor": "#E5ECF6",
           "showlakes": true,
           "showland": true,
           "subunitcolor": "white"
          },
          "hoverlabel": {
           "align": "left"
          },
          "hovermode": "closest",
          "mapbox": {
           "style": "light"
          },
          "paper_bgcolor": "white",
          "plot_bgcolor": "#E5ECF6",
          "polar": {
           "angularaxis": {
            "gridcolor": "white",
            "linecolor": "white",
            "ticks": ""
           },
           "bgcolor": "#E5ECF6",
           "radialaxis": {
            "gridcolor": "white",
            "linecolor": "white",
            "ticks": ""
           }
          },
          "scene": {
           "xaxis": {
            "backgroundcolor": "#E5ECF6",
            "gridcolor": "white",
            "gridwidth": 2,
            "linecolor": "white",
            "showbackground": true,
            "ticks": "",
            "zerolinecolor": "white"
           },
           "yaxis": {
            "backgroundcolor": "#E5ECF6",
            "gridcolor": "white",
            "gridwidth": 2,
            "linecolor": "white",
            "showbackground": true,
            "ticks": "",
            "zerolinecolor": "white"
           },
           "zaxis": {
            "backgroundcolor": "#E5ECF6",
            "gridcolor": "white",
            "gridwidth": 2,
            "linecolor": "white",
            "showbackground": true,
            "ticks": "",
            "zerolinecolor": "white"
           }
          },
          "shapedefaults": {
           "line": {
            "color": "#2a3f5f"
           }
          },
          "ternary": {
           "aaxis": {
            "gridcolor": "white",
            "linecolor": "white",
            "ticks": ""
           },
           "baxis": {
            "gridcolor": "white",
            "linecolor": "white",
            "ticks": ""
           },
           "bgcolor": "#E5ECF6",
           "caxis": {
            "gridcolor": "white",
            "linecolor": "white",
            "ticks": ""
           }
          },
          "title": {
           "x": 0.05
          },
          "xaxis": {
           "automargin": true,
           "gridcolor": "white",
           "linecolor": "white",
           "ticks": "",
           "title": {
            "standoff": 15
           },
           "zerolinecolor": "white",
           "zerolinewidth": 2
          },
          "yaxis": {
           "automargin": true,
           "gridcolor": "white",
           "linecolor": "white",
           "ticks": "",
           "title": {
            "standoff": 15
           },
           "zerolinecolor": "white",
           "zerolinewidth": 2
          }
         }
        },
        "xaxis": {
         "anchor": "y",
         "domain": [
          0,
          1
         ],
         "title": {
          "text": "remainder__Cargo_mensual"
         }
        },
        "yaxis": {
         "anchor": "x",
         "domain": [
          0,
          1
         ]
        }
       }
      }
     },
     "metadata": {},
     "output_type": "display_data"
    }
   ],
   "source": [
    "df_cargo_mesual_abandono = pd.concat([X_codificada['remainder__Cargo_mensual'], y], axis=1)\n",
    "\n",
    "px.box(data_frame= df_cargo_mesual_abandono, x = 'remainder__Cargo_mensual', color= 'Abandono')"
   ]
  },
  {
   "cell_type": "code",
   "execution_count": 153,
   "id": "8fea128a",
   "metadata": {},
   "outputs": [
    {
     "data": {
      "application/vnd.plotly.v1+json": {
       "config": {
        "plotlyServerURL": "https://plot.ly"
       },
       "data": [
        {
         "alignmentgroup": "True",
         "hovertemplate": "Abandono=0.0<br>remainder__Cargos_totales=%{x}<extra></extra>",
         "legendgroup": "0.0",
         "marker": {
          "color": "#636efa"
         },
         "name": "0.0",
         "notched": false,
         "offsetgroup": "0.0",
         "orientation": "h",
         "showlegend": true,
         "type": "box",
         "x": {
          "bdata": "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",
          "dtype": "f8"
         },
         "x0": " ",
         "xaxis": "x",
         "y0": " ",
         "yaxis": "y"
        },
        {
         "alignmentgroup": "True",
         "hovertemplate": "Abandono=1.0<br>remainder__Cargos_totales=%{x}<extra></extra>",
         "legendgroup": "1.0",
         "marker": {
          "color": "#EF553B"
         },
         "name": "1.0",
         "notched": false,
         "offsetgroup": "1.0",
         "orientation": "h",
         "showlegend": true,
         "type": "box",
         "x": {
          "bdata": "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",
          "dtype": "f8"
         },
         "x0": " ",
         "xaxis": "x",
         "y0": " ",
         "yaxis": "y"
        }
       ],
       "layout": {
        "boxmode": "group",
        "legend": {
         "title": {
          "text": "Abandono"
         },
         "tracegroupgap": 0
        },
        "margin": {
         "t": 60
        },
        "template": {
         "data": {
          "bar": [
           {
            "error_x": {
             "color": "#2a3f5f"
            },
            "error_y": {
             "color": "#2a3f5f"
            },
            "marker": {
             "line": {
              "color": "#E5ECF6",
              "width": 0.5
             },
             "pattern": {
              "fillmode": "overlay",
              "size": 10,
              "solidity": 0.2
             }
            },
            "type": "bar"
           }
          ],
          "barpolar": [
           {
            "marker": {
             "line": {
              "color": "#E5ECF6",
              "width": 0.5
             },
             "pattern": {
              "fillmode": "overlay",
              "size": 10,
              "solidity": 0.2
             }
            },
            "type": "barpolar"
           }
          ],
          "carpet": [
           {
            "aaxis": {
             "endlinecolor": "#2a3f5f",
             "gridcolor": "white",
             "linecolor": "white",
             "minorgridcolor": "white",
             "startlinecolor": "#2a3f5f"
            },
            "baxis": {
             "endlinecolor": "#2a3f5f",
             "gridcolor": "white",
             "linecolor": "white",
             "minorgridcolor": "white",
             "startlinecolor": "#2a3f5f"
            },
            "type": "carpet"
           }
          ],
          "choropleth": [
           {
            "colorbar": {
             "outlinewidth": 0,
             "ticks": ""
            },
            "type": "choropleth"
           }
          ],
          "contour": [
           {
            "colorbar": {
             "outlinewidth": 0,
             "ticks": ""
            },
            "colorscale": [
             [
              0,
              "#0d0887"
             ],
             [
              0.1111111111111111,
              "#46039f"
             ],
             [
              0.2222222222222222,
              "#7201a8"
             ],
             [
              0.3333333333333333,
              "#9c179e"
             ],
             [
              0.4444444444444444,
              "#bd3786"
             ],
             [
              0.5555555555555556,
              "#d8576b"
             ],
             [
              0.6666666666666666,
              "#ed7953"
             ],
             [
              0.7777777777777778,
              "#fb9f3a"
             ],
             [
              0.8888888888888888,
              "#fdca26"
             ],
             [
              1,
              "#f0f921"
             ]
            ],
            "type": "contour"
           }
          ],
          "contourcarpet": [
           {
            "colorbar": {
             "outlinewidth": 0,
             "ticks": ""
            },
            "type": "contourcarpet"
           }
          ],
          "heatmap": [
           {
            "colorbar": {
             "outlinewidth": 0,
             "ticks": ""
            },
            "colorscale": [
             [
              0,
              "#0d0887"
             ],
             [
              0.1111111111111111,
              "#46039f"
             ],
             [
              0.2222222222222222,
              "#7201a8"
             ],
             [
              0.3333333333333333,
              "#9c179e"
             ],
             [
              0.4444444444444444,
              "#bd3786"
             ],
             [
              0.5555555555555556,
              "#d8576b"
             ],
             [
              0.6666666666666666,
              "#ed7953"
             ],
             [
              0.7777777777777778,
              "#fb9f3a"
             ],
             [
              0.8888888888888888,
              "#fdca26"
             ],
             [
              1,
              "#f0f921"
             ]
            ],
            "type": "heatmap"
           }
          ],
          "histogram": [
           {
            "marker": {
             "pattern": {
              "fillmode": "overlay",
              "size": 10,
              "solidity": 0.2
             }
            },
            "type": "histogram"
           }
          ],
          "histogram2d": [
           {
            "colorbar": {
             "outlinewidth": 0,
             "ticks": ""
            },
            "colorscale": [
             [
              0,
              "#0d0887"
             ],
             [
              0.1111111111111111,
              "#46039f"
             ],
             [
              0.2222222222222222,
              "#7201a8"
             ],
             [
              0.3333333333333333,
              "#9c179e"
             ],
             [
              0.4444444444444444,
              "#bd3786"
             ],
             [
              0.5555555555555556,
              "#d8576b"
             ],
             [
              0.6666666666666666,
              "#ed7953"
             ],
             [
              0.7777777777777778,
              "#fb9f3a"
             ],
             [
              0.8888888888888888,
              "#fdca26"
             ],
             [
              1,
              "#f0f921"
             ]
            ],
            "type": "histogram2d"
           }
          ],
          "histogram2dcontour": [
           {
            "colorbar": {
             "outlinewidth": 0,
             "ticks": ""
            },
            "colorscale": [
             [
              0,
              "#0d0887"
             ],
             [
              0.1111111111111111,
              "#46039f"
             ],
             [
              0.2222222222222222,
              "#7201a8"
             ],
             [
              0.3333333333333333,
              "#9c179e"
             ],
             [
              0.4444444444444444,
              "#bd3786"
             ],
             [
              0.5555555555555556,
              "#d8576b"
             ],
             [
              0.6666666666666666,
              "#ed7953"
             ],
             [
              0.7777777777777778,
              "#fb9f3a"
             ],
             [
              0.8888888888888888,
              "#fdca26"
             ],
             [
              1,
              "#f0f921"
             ]
            ],
            "type": "histogram2dcontour"
           }
          ],
          "mesh3d": [
           {
            "colorbar": {
             "outlinewidth": 0,
             "ticks": ""
            },
            "type": "mesh3d"
           }
          ],
          "parcoords": [
           {
            "line": {
             "colorbar": {
              "outlinewidth": 0,
              "ticks": ""
             }
            },
            "type": "parcoords"
           }
          ],
          "pie": [
           {
            "automargin": true,
            "type": "pie"
           }
          ],
          "scatter": [
           {
            "fillpattern": {
             "fillmode": "overlay",
             "size": 10,
             "solidity": 0.2
            },
            "type": "scatter"
           }
          ],
          "scatter3d": [
           {
            "line": {
             "colorbar": {
              "outlinewidth": 0,
              "ticks": ""
             }
            },
            "marker": {
             "colorbar": {
              "outlinewidth": 0,
              "ticks": ""
             }
            },
            "type": "scatter3d"
           }
          ],
          "scattercarpet": [
           {
            "marker": {
             "colorbar": {
              "outlinewidth": 0,
              "ticks": ""
             }
            },
            "type": "scattercarpet"
           }
          ],
          "scattergeo": [
           {
            "marker": {
             "colorbar": {
              "outlinewidth": 0,
              "ticks": ""
             }
            },
            "type": "scattergeo"
           }
          ],
          "scattergl": [
           {
            "marker": {
             "colorbar": {
              "outlinewidth": 0,
              "ticks": ""
             }
            },
            "type": "scattergl"
           }
          ],
          "scattermap": [
           {
            "marker": {
             "colorbar": {
              "outlinewidth": 0,
              "ticks": ""
             }
            },
            "type": "scattermap"
           }
          ],
          "scattermapbox": [
           {
            "marker": {
             "colorbar": {
              "outlinewidth": 0,
              "ticks": ""
             }
            },
            "type": "scattermapbox"
           }
          ],
          "scatterpolar": [
           {
            "marker": {
             "colorbar": {
              "outlinewidth": 0,
              "ticks": ""
             }
            },
            "type": "scatterpolar"
           }
          ],
          "scatterpolargl": [
           {
            "marker": {
             "colorbar": {
              "outlinewidth": 0,
              "ticks": ""
             }
            },
            "type": "scatterpolargl"
           }
          ],
          "scatterternary": [
           {
            "marker": {
             "colorbar": {
              "outlinewidth": 0,
              "ticks": ""
             }
            },
            "type": "scatterternary"
           }
          ],
          "surface": [
           {
            "colorbar": {
             "outlinewidth": 0,
             "ticks": ""
            },
            "colorscale": [
             [
              0,
              "#0d0887"
             ],
             [
              0.1111111111111111,
              "#46039f"
             ],
             [
              0.2222222222222222,
              "#7201a8"
             ],
             [
              0.3333333333333333,
              "#9c179e"
             ],
             [
              0.4444444444444444,
              "#bd3786"
             ],
             [
              0.5555555555555556,
              "#d8576b"
             ],
             [
              0.6666666666666666,
              "#ed7953"
             ],
             [
              0.7777777777777778,
              "#fb9f3a"
             ],
             [
              0.8888888888888888,
              "#fdca26"
             ],
             [
              1,
              "#f0f921"
             ]
            ],
            "type": "surface"
           }
          ],
          "table": [
           {
            "cells": {
             "fill": {
              "color": "#EBF0F8"
             },
             "line": {
              "color": "white"
             }
            },
            "header": {
             "fill": {
              "color": "#C8D4E3"
             },
             "line": {
              "color": "white"
             }
            },
            "type": "table"
           }
          ]
         },
         "layout": {
          "annotationdefaults": {
           "arrowcolor": "#2a3f5f",
           "arrowhead": 0,
           "arrowwidth": 1
          },
          "autotypenumbers": "strict",
          "coloraxis": {
           "colorbar": {
            "outlinewidth": 0,
            "ticks": ""
           }
          },
          "colorscale": {
           "diverging": [
            [
             0,
             "#8e0152"
            ],
            [
             0.1,
             "#c51b7d"
            ],
            [
             0.2,
             "#de77ae"
            ],
            [
             0.3,
             "#f1b6da"
            ],
            [
             0.4,
             "#fde0ef"
            ],
            [
             0.5,
             "#f7f7f7"
            ],
            [
             0.6,
             "#e6f5d0"
            ],
            [
             0.7,
             "#b8e186"
            ],
            [
             0.8,
             "#7fbc41"
            ],
            [
             0.9,
             "#4d9221"
            ],
            [
             1,
             "#276419"
            ]
           ],
           "sequential": [
            [
             0,
             "#0d0887"
            ],
            [
             0.1111111111111111,
             "#46039f"
            ],
            [
             0.2222222222222222,
             "#7201a8"
            ],
            [
             0.3333333333333333,
             "#9c179e"
            ],
            [
             0.4444444444444444,
             "#bd3786"
            ],
            [
             0.5555555555555556,
             "#d8576b"
            ],
            [
             0.6666666666666666,
             "#ed7953"
            ],
            [
             0.7777777777777778,
             "#fb9f3a"
            ],
            [
             0.8888888888888888,
             "#fdca26"
            ],
            [
             1,
             "#f0f921"
            ]
           ],
           "sequentialminus": [
            [
             0,
             "#0d0887"
            ],
            [
             0.1111111111111111,
             "#46039f"
            ],
            [
             0.2222222222222222,
             "#7201a8"
            ],
            [
             0.3333333333333333,
             "#9c179e"
            ],
            [
             0.4444444444444444,
             "#bd3786"
            ],
            [
             0.5555555555555556,
             "#d8576b"
            ],
            [
             0.6666666666666666,
             "#ed7953"
            ],
            [
             0.7777777777777778,
             "#fb9f3a"
            ],
            [
             0.8888888888888888,
             "#fdca26"
            ],
            [
             1,
             "#f0f921"
            ]
           ]
          },
          "colorway": [
           "#636efa",
           "#EF553B",
           "#00cc96",
           "#ab63fa",
           "#FFA15A",
           "#19d3f3",
           "#FF6692",
           "#B6E880",
           "#FF97FF",
           "#FECB52"
          ],
          "font": {
           "color": "#2a3f5f"
          },
          "geo": {
           "bgcolor": "white",
           "lakecolor": "white",
           "landcolor": "#E5ECF6",
           "showlakes": true,
           "showland": true,
           "subunitcolor": "white"
          },
          "hoverlabel": {
           "align": "left"
          },
          "hovermode": "closest",
          "mapbox": {
           "style": "light"
          },
          "paper_bgcolor": "white",
          "plot_bgcolor": "#E5ECF6",
          "polar": {
           "angularaxis": {
            "gridcolor": "white",
            "linecolor": "white",
            "ticks": ""
           },
           "bgcolor": "#E5ECF6",
           "radialaxis": {
            "gridcolor": "white",
            "linecolor": "white",
            "ticks": ""
           }
          },
          "scene": {
           "xaxis": {
            "backgroundcolor": "#E5ECF6",
            "gridcolor": "white",
            "gridwidth": 2,
            "linecolor": "white",
            "showbackground": true,
            "ticks": "",
            "zerolinecolor": "white"
           },
           "yaxis": {
            "backgroundcolor": "#E5ECF6",
            "gridcolor": "white",
            "gridwidth": 2,
            "linecolor": "white",
            "showbackground": true,
            "ticks": "",
            "zerolinecolor": "white"
           },
           "zaxis": {
            "backgroundcolor": "#E5ECF6",
            "gridcolor": "white",
            "gridwidth": 2,
            "linecolor": "white",
            "showbackground": true,
            "ticks": "",
            "zerolinecolor": "white"
           }
          },
          "shapedefaults": {
           "line": {
            "color": "#2a3f5f"
           }
          },
          "ternary": {
           "aaxis": {
            "gridcolor": "white",
            "linecolor": "white",
            "ticks": ""
           },
           "baxis": {
            "gridcolor": "white",
            "linecolor": "white",
            "ticks": ""
           },
           "bgcolor": "#E5ECF6",
           "caxis": {
            "gridcolor": "white",
            "linecolor": "white",
            "ticks": ""
           }
          },
          "title": {
           "x": 0.05
          },
          "xaxis": {
           "automargin": true,
           "gridcolor": "white",
           "linecolor": "white",
           "ticks": "",
           "title": {
            "standoff": 15
           },
           "zerolinecolor": "white",
           "zerolinewidth": 2
          },
          "yaxis": {
           "automargin": true,
           "gridcolor": "white",
           "linecolor": "white",
           "ticks": "",
           "title": {
            "standoff": 15
           },
           "zerolinecolor": "white",
           "zerolinewidth": 2
          }
         }
        },
        "xaxis": {
         "anchor": "y",
         "domain": [
          0,
          1
         ],
         "title": {
          "text": "remainder__Cargos_totales"
         }
        },
        "yaxis": {
         "anchor": "x",
         "domain": [
          0,
          1
         ]
        }
       }
      }
     },
     "metadata": {},
     "output_type": "display_data"
    }
   ],
   "source": [
    "df_cargo_total_abandono = pd.concat([X_codificada['remainder__Cargos_totales'], y], axis=1)\n",
    "\n",
    "\n",
    "px.box(data_frame= df_cargo_total_abandono, x = 'remainder__Cargos_totales', color= 'Abandono')"
   ]
  },
  {
   "cell_type": "markdown",
   "id": "dea163e5",
   "metadata": {},
   "source": [
    "No hay una correlación significativa entre las variables `Cargo_mensual`,`Cargos_totales` y `Meses_contrato`, con la variable `Churn`, lo que indica que no hay una relación directa entre el monto de los cargos y la decisión de abandonar la empresa. Esto sugiere que otros factores, como la calidad del servicio o la atención al cliente, pueden ser más relevantes para la retención de clientes. Por lo tanto estas variables se eliminarán del análisis."
   ]
  },
  {
   "cell_type": "code",
   "execution_count": 154,
   "id": "9335d498",
   "metadata": {},
   "outputs": [],
   "source": [
    "X_codificada.drop(columns = ['remainder__Meses_contrato', 'remainder__Cargo_mensual', 'remainder__Cargos_totales'], inplace= True)"
   ]
  },
  {
   "cell_type": "code",
   "execution_count": 155,
   "id": "9df0a9d0",
   "metadata": {},
   "outputs": [
    {
     "name": "stdout",
     "output_type": "stream",
     "text": [
      "Las variables eligadas para el análisis fueron: \n",
      "Index(['onehotencoder__Genero_Male',\n",
      "       'onehotencoder__Tipo_servicio_internet_DSL',\n",
      "       'onehotencoder__Tipo_servicio_internet_Fibra Optica',\n",
      "       'onehotencoder__Tipo_servicio_internet_Sin servicio',\n",
      "       'onehotencoder__Tipo_contrato_Dos años',\n",
      "       'onehotencoder__Tipo_contrato_Mes a mes',\n",
      "       'onehotencoder__Tipo_contrato_Un año',\n",
      "       'onehotencoder__Metodo_pago_Cheque electrónico',\n",
      "       'onehotencoder__Metodo_pago_Cheque por enviado por correo',\n",
      "       'onehotencoder__Metodo_pago_Tarjeta de crédito (automática)',\n",
      "       'onehotencoder__Metodo_pago_Transferencia bancaria (automática)',\n",
      "       'remainder__Es_mayor_de_edad', 'remainder__Pareja',\n",
      "       'remainder__Dependientes', 'remainder__Servicio_telefonico',\n",
      "       'remainder__Lineas_telefonicas_multiples',\n",
      "       'remainder__Seguridad_en_linea', 'remainder__Respaldo_en_linea',\n",
      "       'remainder__Proteccion_dispositivo', 'remainder__Soporte_tecnico',\n",
      "       'remainder__TV_en_streaming', 'remainder__Peliculas_en_streaming',\n",
      "       'remainder__Factura_en_linea'],\n",
      "      dtype='object')\n"
     ]
    }
   ],
   "source": [
    "print(f'Las variables eligadas para el análisis fueron: \\n{X_codificada.columns}')"
   ]
  },
  {
   "cell_type": "markdown",
   "id": "5b6bdaf6",
   "metadata": {},
   "source": [
    "# Modelado predictivo"
   ]
  },
  {
   "cell_type": "markdown",
   "id": "8dc144f4",
   "metadata": {},
   "source": [
    "### Separación de variables explicativas y variable respuesta"
   ]
  },
  {
   "cell_type": "code",
   "execution_count": 156,
   "id": "3f71a152",
   "metadata": {},
   "outputs": [],
   "source": [
    "from sklearn.model_selection import train_test_split"
   ]
  },
  {
   "cell_type": "code",
   "execution_count": 158,
   "id": "33edc0d3",
   "metadata": {},
   "outputs": [],
   "source": [
    "X = X_balanceada\n",
    "y = y_balanceada\n",
    "\n",
    "# 70% entrenamiento, 15% test y 15% validación\n",
    "X_train, X_temp, y_train, y_temp = train_test_split(X, y, test_size=0.30, stratify=y, random_state=5)\n",
    "X_val, X_test, y_val, y_test = train_test_split(X_temp, y_temp, test_size=0.50, stratify=y_temp, random_state=5)"
   ]
  },
  {
   "cell_type": "code",
   "execution_count": 159,
   "id": "56379baf",
   "metadata": {},
   "outputs": [],
   "source": [
    "from sklearn.ensemble import RandomForestClassifier\n",
    "from sklearn.linear_model import LogisticRegression\n",
    "from sklearn.tree import DecisionTreeClassifier\n",
    "from sklearn.neighbors import KNeighborsClassifier\n",
    "from sklearn.dummy import DummyClassifier\n",
    "from sklearn.metrics import accuracy_score, precision_score,recall_score, f1_score, confusion_matrix, ConfusionMatrixDisplay\n"
   ]
  },
  {
   "cell_type": "code",
   "execution_count": 168,
   "id": "827e6f60",
   "metadata": {},
   "outputs": [],
   "source": [
    "def evaluacion_modelos(y_test,y_pred):\n",
    "    print(f'Exactitud: {accuracy_score(y_test, y_pred)}')\n",
    "    print(f'Precisión: {precision_score(y_test, y_pred)}')\n",
    "    print(f'Recall: {recall_score(y_test,y_pred)}')\n",
    "    print(f'F1 Score: {f1_score(y_test,y_pred)}')\n",
    "    matriz_confusion_modelo = confusion_matrix(y_test,y_pred)\n",
    "    visualizacion_matriz_confusion = ConfusionMatrixDisplay(matriz_confusion_modelo, display_labels=['No Abandono', 'Abadono'])\n",
    "    visualizacion_matriz_confusion.plot();\n"
   ]
  },
  {
   "cell_type": "code",
   "execution_count": 169,
   "id": "a4dfab5c",
   "metadata": {},
   "outputs": [
    {
     "name": "stdout",
     "output_type": "stream",
     "text": [
      "Exactitud: 0.500322788896062\n",
      "Precisión: 0.0\n",
      "Recall: 0.0\n",
      "F1 Score: 0.0\n"
     ]
    },
    {
     "name": "stderr",
     "output_type": "stream",
     "text": [
      "c:\\Users\\erik-\\AppData\\Local\\Programs\\Python\\Python312\\Lib\\site-packages\\sklearn\\metrics\\_classification.py:1531: UndefinedMetricWarning:\n",
      "\n",
      "Precision is ill-defined and being set to 0.0 due to no predicted samples. Use `zero_division` parameter to control this behavior.\n",
      "\n"
     ]
    },
    {
     "data": {
      "image/png": "[encoded data removed]",
      "text/plain": [
       "<Figure size 640x480 with 2 Axes>"
      ]
     },
     "metadata": {},
     "output_type": "display_data"
    }
   ],
   "source": [
    "modelo_dummy = DummyClassifier()\n",
    "\n",
    "modelo_dummy.fit(X_train,y_train)\n",
    "y_pred_dummy = modelo_dummy.predict(X_val)\n",
    "\n",
    "resultados_dummy = evaluacion_modelos(y_val,y_pred_dummy)"
   ]
  }
 ],
 "metadata": {
  "kernelspec": {
   "display_name": "Python 3",
   "language": "python",
   "name": "python3"
  },
  "language_info": {
   "codemirror_mode": {
    "name": "ipython",
    "version": 3
   },
   "file_extension": ".py",
   "mimetype": "text/x-python",
   "name": "python",
   "nbconvert_exporter": "python",
   "pygments_lexer": "ipython3",
   "version": "3.12.3"
  }
 },
 "nbformat": 4,
 "nbformat_minor": 5
}
